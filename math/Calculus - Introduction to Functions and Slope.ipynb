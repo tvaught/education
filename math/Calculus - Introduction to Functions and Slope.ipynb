{
 "cells": [
  {
   "cell_type": "markdown",
   "metadata": {},
   "source": [
    "# Introduction to Calculus"
   ]
  },
  {
   "cell_type": "markdown",
   "metadata": {},
   "source": [
    "##  Overview of Functions"
   ]
  },
  {
   "cell_type": "markdown",
   "metadata": {},
   "source": [
    "We will begin with a quick introduction to what a function is.  In its simplest form, a function is a relationship or expression involving one or more variables.  Said another way, it is a relationship or expression that evaluates to a *result* for a given *input*.\n",
    "\n",
    "For example, the function below yields a result for any input value of $x$."
   ]
  },
  {
   "cell_type": "markdown",
   "metadata": {},
   "source": [
    "$$f(x) = x^2 + 5$$"
   ]
  },
  {
   "cell_type": "markdown",
   "metadata": {},
   "source": [
    "The Python programming language has a similar notion of \"functions\", so if we were to write the above function as a Python function, it would look like this:\n"
   ]
  },
  {
   "cell_type": "code",
   "execution_count": 1,
   "metadata": {
    "collapsed": true
   },
   "outputs": [],
   "source": [
    "def f(x):\n",
    "    return x**2 + 5"
   ]
  },
  {
   "cell_type": "markdown",
   "metadata": {},
   "source": [
    "In software parlance, we've `def`ined a function (assigning it the symbol `f`).  This function `returns` the result of the expression.\n",
    "\n",
    "As you might expect, you can call the function (and print the result in this notebook) like this:"
   ]
  },
  {
   "cell_type": "code",
   "execution_count": 2,
   "metadata": {},
   "outputs": [
    {
     "data": {
      "text/plain": [
       "9"
      ]
     },
     "execution_count": 2,
     "metadata": {},
     "output_type": "execute_result"
    }
   ],
   "source": [
    "f(2)"
   ]
  },
  {
   "cell_type": "code",
   "execution_count": 3,
   "metadata": {},
   "outputs": [
    {
     "data": {
      "text/plain": [
       "14"
      ]
     },
     "execution_count": 3,
     "metadata": {},
     "output_type": "execute_result"
    }
   ],
   "source": [
    "f(-3)"
   ]
  },
  {
   "cell_type": "markdown",
   "metadata": {},
   "source": [
    "We can pick some (many) values for the *argument* that we pass to our function by using *arrays*.  First let's import the Python numeric library, **NumPy**, that we will use to help us work with arrays."
   ]
  },
  {
   "cell_type": "code",
   "execution_count": 4,
   "metadata": {
    "collapsed": true
   },
   "outputs": [],
   "source": [
    "import numpy as np  # we'll use the name 'np' to refer to the numpy library"
   ]
  },
  {
   "cell_type": "code",
   "execution_count": 5,
   "metadata": {
    "collapsed": true
   },
   "outputs": [],
   "source": [
    "x = np.arange(-10, 10, 0.01) # This creates an array with a range from -10 to 10 and steps of 0.01"
   ]
  },
  {
   "cell_type": "markdown",
   "metadata": {},
   "source": [
    "Now that we have an array, and we've assigned it the symbol `x`, Let's take a look a some things about our array.  I'll use the `print` function in Python to print some information on several lines (**note**: this also shows some ways that are available to `index` into our array, and some handy built-in Python functions like `type` and `len`):"
   ]
  },
  {
   "cell_type": "code",
   "execution_count": 6,
   "metadata": {},
   "outputs": [
    {
     "name": "stdout",
     "output_type": "stream",
     "text": [
      "Type of x: <class 'numpy.ndarray'>\n",
      "Length of x: 2000\n",
      "First 10 values of x: [-10.    -9.99  -9.98  -9.97  -9.96  -9.95  -9.94  -9.93  -9.92  -9.91]\n",
      "Last 10 values of x: [ 9.9   9.91  9.92  9.93  9.94  9.95  9.96  9.97  9.98  9.99]\n"
     ]
    }
   ],
   "source": [
    "print(\"Type of x:\", (type(x)))   # the type of python object\n",
    "print(\"Length of x:\", len(x))   # the length of the numpy array\n",
    "print(\"First 10 values of x:\", x[:10])   # print first 10 values by 'indexing' into those spots\n",
    "print(\"Last 10 values of x:\", x[-10:])   # print last 10 values"
   ]
  },
  {
   "cell_type": "markdown",
   "metadata": {},
   "source": [
    "As you can see above, there are a few *functions* we call to get information about our array, such as `type(x)` and `len(x)`.  These are functions that take an *object* (a generic term we use to describe constructs in Python) as an input -- the *argument* of the function -- and give its type and length as outputs, respectively.\n",
    "\n",
    "Now, let's evaluate our function for every value in our array.  Since our function is just doing simple math, we can provide our array as input and it gives us an array as output -- it just works."
   ]
  },
  {
   "cell_type": "code",
   "execution_count": 7,
   "metadata": {
    "collapsed": true
   },
   "outputs": [],
   "source": [
    "y = f(x)"
   ]
  },
  {
   "cell_type": "markdown",
   "metadata": {},
   "source": [
    "One can see the length of our newly created $y$ array is the same as the length of $x$"
   ]
  },
  {
   "cell_type": "code",
   "execution_count": 8,
   "metadata": {},
   "outputs": [
    {
     "data": {
      "text/plain": [
       "2000"
      ]
     },
     "execution_count": 8,
     "metadata": {},
     "output_type": "execute_result"
    }
   ],
   "source": [
    "len(y)"
   ]
  },
  {
   "cell_type": "markdown",
   "metadata": {},
   "source": [
    "Now I'll import some things to help us plot the results (you only have to do this once per notebook -- usually at the beginning, before anything else):"
   ]
  },
  {
   "cell_type": "code",
   "execution_count": 9,
   "metadata": {},
   "outputs": [
    {
     "data": {
      "text/html": [
       "\n",
       "    <div class=\"bk-root\">\n",
       "        <a href=\"https://bokeh.pydata.org\" target=\"_blank\" class=\"bk-logo bk-logo-small bk-logo-notebook\"></a>\n",
       "        <span id=\"6748543e-0e1a-45f4-897f-b93cb1178bad\">Loading BokehJS ...</span>\n",
       "    </div>"
      ]
     },
     "metadata": {},
     "output_type": "display_data"
    },
    {
     "data": {
      "application/javascript": [
       "\n",
       "(function(root) {\n",
       "  function now() {\n",
       "    return new Date();\n",
       "  }\n",
       "\n",
       "  var force = true;\n",
       "\n",
       "  if (typeof (root._bokeh_onload_callbacks) === \"undefined\" || force === true) {\n",
       "    root._bokeh_onload_callbacks = [];\n",
       "    root._bokeh_is_loading = undefined;\n",
       "  }\n",
       "\n",
       "\n",
       "  \n",
       "  if (typeof (root._bokeh_timeout) === \"undefined\" || force === true) {\n",
       "    root._bokeh_timeout = Date.now() + 5000;\n",
       "    root._bokeh_failed_load = false;\n",
       "  }\n",
       "\n",
       "  var NB_LOAD_WARNING = {'data': {'text/html':\n",
       "     \"<div style='background-color: #fdd'>\\n\"+\n",
       "     \"<p>\\n\"+\n",
       "     \"BokehJS does not appear to have successfully loaded. If loading BokehJS from CDN, this \\n\"+\n",
       "     \"may be due to a slow or bad network connection. Possible fixes:\\n\"+\n",
       "     \"</p>\\n\"+\n",
       "     \"<ul>\\n\"+\n",
       "     \"<li>re-rerun `output_notebook()` to attempt to load from CDN again, or</li>\\n\"+\n",
       "     \"<li>use INLINE resources instead, as so:</li>\\n\"+\n",
       "     \"</ul>\\n\"+\n",
       "     \"<code>\\n\"+\n",
       "     \"from bokeh.resources import INLINE\\n\"+\n",
       "     \"output_notebook(resources=INLINE)\\n\"+\n",
       "     \"</code>\\n\"+\n",
       "     \"</div>\"}};\n",
       "\n",
       "  function display_loaded() {\n",
       "    if (root.Bokeh !== undefined) {\n",
       "      var el = document.getElementById(\"6748543e-0e1a-45f4-897f-b93cb1178bad\");\n",
       "      if (el != null) {\n",
       "        el.textContent = \"BokehJS \" + Bokeh.version + \" successfully loaded.\";\n",
       "      }\n",
       "    } else if (Date.now() < root._bokeh_timeout) {\n",
       "      setTimeout(display_loaded, 100)\n",
       "    }\n",
       "  }\n",
       "\n",
       "\n",
       "  function run_callbacks() {\n",
       "    try {\n",
       "      root._bokeh_onload_callbacks.forEach(function(callback) { callback() });\n",
       "    }\n",
       "    finally {\n",
       "      delete root._bokeh_onload_callbacks\n",
       "    }\n",
       "    console.info(\"Bokeh: all callbacks have finished\");\n",
       "  }\n",
       "\n",
       "  function load_libs(js_urls, callback) {\n",
       "    root._bokeh_onload_callbacks.push(callback);\n",
       "    if (root._bokeh_is_loading > 0) {\n",
       "      console.log(\"Bokeh: BokehJS is being loaded, scheduling callback at\", now());\n",
       "      return null;\n",
       "    }\n",
       "    if (js_urls == null || js_urls.length === 0) {\n",
       "      run_callbacks();\n",
       "      return null;\n",
       "    }\n",
       "    console.log(\"Bokeh: BokehJS not loaded, scheduling load and callback at\", now());\n",
       "    root._bokeh_is_loading = js_urls.length;\n",
       "    for (var i = 0; i < js_urls.length; i++) {\n",
       "      var url = js_urls[i];\n",
       "      var s = document.createElement('script');\n",
       "      s.src = url;\n",
       "      s.async = false;\n",
       "      s.onreadystatechange = s.onload = function() {\n",
       "        root._bokeh_is_loading--;\n",
       "        if (root._bokeh_is_loading === 0) {\n",
       "          console.log(\"Bokeh: all BokehJS libraries loaded\");\n",
       "          run_callbacks()\n",
       "        }\n",
       "      };\n",
       "      s.onerror = function() {\n",
       "        console.warn(\"failed to load library \" + url);\n",
       "      };\n",
       "      console.log(\"Bokeh: injecting script tag for BokehJS library: \", url);\n",
       "      document.getElementsByTagName(\"head\")[0].appendChild(s);\n",
       "    }\n",
       "  };var element = document.getElementById(\"6748543e-0e1a-45f4-897f-b93cb1178bad\");\n",
       "  if (element == null) {\n",
       "    console.log(\"Bokeh: ERROR: autoload.js configured with elementid '6748543e-0e1a-45f4-897f-b93cb1178bad' but no matching script tag was found. \")\n",
       "    return false;\n",
       "  }\n",
       "\n",
       "  var js_urls = [\"https://cdn.pydata.org/bokeh/release/bokeh-0.12.7.min.js\", \"https://cdn.pydata.org/bokeh/release/bokeh-widgets-0.12.7.min.js\", \"https://cdn.pydata.org/bokeh/release/bokeh-tables-0.12.7.min.js\", \"https://cdn.pydata.org/bokeh/release/bokeh-gl-0.12.7.min.js\"];\n",
       "\n",
       "  var inline_js = [\n",
       "    function(Bokeh) {\n",
       "      Bokeh.set_log_level(\"info\");\n",
       "    },\n",
       "    \n",
       "    function(Bokeh) {\n",
       "      \n",
       "    },\n",
       "    \n",
       "    function(Bokeh) {\n",
       "      \n",
       "      document.getElementById(\"6748543e-0e1a-45f4-897f-b93cb1178bad\").textContent = \"BokehJS is loading...\";\n",
       "    },\n",
       "    function(Bokeh) {\n",
       "      console.log(\"Bokeh: injecting CSS: https://cdn.pydata.org/bokeh/release/bokeh-0.12.7.min.css\");\n",
       "      Bokeh.embed.inject_css(\"https://cdn.pydata.org/bokeh/release/bokeh-0.12.7.min.css\");\n",
       "      console.log(\"Bokeh: injecting CSS: https://cdn.pydata.org/bokeh/release/bokeh-widgets-0.12.7.min.css\");\n",
       "      Bokeh.embed.inject_css(\"https://cdn.pydata.org/bokeh/release/bokeh-widgets-0.12.7.min.css\");\n",
       "      console.log(\"Bokeh: injecting CSS: https://cdn.pydata.org/bokeh/release/bokeh-tables-0.12.7.min.css\");\n",
       "      Bokeh.embed.inject_css(\"https://cdn.pydata.org/bokeh/release/bokeh-tables-0.12.7.min.css\");\n",
       "    }\n",
       "  ];\n",
       "\n",
       "  function run_inline_js() {\n",
       "    \n",
       "    if ((root.Bokeh !== undefined) || (force === true)) {\n",
       "      for (var i = 0; i < inline_js.length; i++) {\n",
       "        inline_js[i].call(root, root.Bokeh);\n",
       "      }if (force === true) {\n",
       "        display_loaded();\n",
       "      }} else if (Date.now() < root._bokeh_timeout) {\n",
       "      setTimeout(run_inline_js, 100);\n",
       "    } else if (!root._bokeh_failed_load) {\n",
       "      console.log(\"Bokeh: BokehJS failed to load within specified timeout.\");\n",
       "      root._bokeh_failed_load = true;\n",
       "    } else if (force !== true) {\n",
       "      var cell = $(document.getElementById(\"6748543e-0e1a-45f4-897f-b93cb1178bad\")).parents('.cell').data().cell;\n",
       "      cell.output_area.append_execute_result(NB_LOAD_WARNING)\n",
       "    }\n",
       "\n",
       "  }\n",
       "\n",
       "  if (root._bokeh_is_loading === 0) {\n",
       "    console.log(\"Bokeh: BokehJS loaded, going straight to plotting\");\n",
       "    run_inline_js();\n",
       "  } else {\n",
       "    load_libs(js_urls, function() {\n",
       "      console.log(\"Bokeh: BokehJS plotting callback run at\", now());\n",
       "      run_inline_js();\n",
       "    });\n",
       "  }\n",
       "}(window));"
      ]
     },
     "metadata": {},
     "output_type": "display_data"
    }
   ],
   "source": [
    "from bokeh.plotting import figure, show, output_notebook\n",
    "output_notebook()"
   ]
  },
  {
   "cell_type": "code",
   "execution_count": 10,
   "metadata": {},
   "outputs": [
    {
     "data": {
      "text/html": [
       "\n",
       "\n",
       "    <div class=\"bk-root\">\n",
       "        <div class=\"bk-plotdiv\" id=\"4476af1c-ddc6-482b-8f35-1065bf3e9015\"></div>\n",
       "    </div>\n",
       "<script type=\"text/javascript\">\n",
       "  \n",
       "  (function(root) {\n",
       "    function now() {\n",
       "      return new Date();\n",
       "    }\n",
       "  \n",
       "    var force = false;\n",
       "  \n",
       "    if (typeof (root._bokeh_onload_callbacks) === \"undefined\" || force === true) {\n",
       "      root._bokeh_onload_callbacks = [];\n",
       "      root._bokeh_is_loading = undefined;\n",
       "    }\n",
       "  \n",
       "  \n",
       "    \n",
       "    if (typeof (root._bokeh_timeout) === \"undefined\" || force === true) {\n",
       "      root._bokeh_timeout = Date.now() + 0;\n",
       "      root._bokeh_failed_load = false;\n",
       "    }\n",
       "  \n",
       "    var NB_LOAD_WARNING = {'data': {'text/html':\n",
       "       \"<div style='background-color: #fdd'>\\n\"+\n",
       "       \"<p>\\n\"+\n",
       "       \"BokehJS does not appear to have successfully loaded. If loading BokehJS from CDN, this \\n\"+\n",
       "       \"may be due to a slow or bad network connection. Possible fixes:\\n\"+\n",
       "       \"</p>\\n\"+\n",
       "       \"<ul>\\n\"+\n",
       "       \"<li>re-rerun `output_notebook()` to attempt to load from CDN again, or</li>\\n\"+\n",
       "       \"<li>use INLINE resources instead, as so:</li>\\n\"+\n",
       "       \"</ul>\\n\"+\n",
       "       \"<code>\\n\"+\n",
       "       \"from bokeh.resources import INLINE\\n\"+\n",
       "       \"output_notebook(resources=INLINE)\\n\"+\n",
       "       \"</code>\\n\"+\n",
       "       \"</div>\"}};\n",
       "  \n",
       "    function display_loaded() {\n",
       "      if (root.Bokeh !== undefined) {\n",
       "        var el = document.getElementById(\"4476af1c-ddc6-482b-8f35-1065bf3e9015\");\n",
       "        if (el != null) {\n",
       "          el.textContent = \"BokehJS \" + Bokeh.version + \" successfully loaded.\";\n",
       "        }\n",
       "      } else if (Date.now() < root._bokeh_timeout) {\n",
       "        setTimeout(display_loaded, 100)\n",
       "      }\n",
       "    }\n",
       "  \n",
       "  \n",
       "    function run_callbacks() {\n",
       "      try {\n",
       "        root._bokeh_onload_callbacks.forEach(function(callback) { callback() });\n",
       "      }\n",
       "      finally {\n",
       "        delete root._bokeh_onload_callbacks\n",
       "      }\n",
       "      console.info(\"Bokeh: all callbacks have finished\");\n",
       "    }\n",
       "  \n",
       "    function load_libs(js_urls, callback) {\n",
       "      root._bokeh_onload_callbacks.push(callback);\n",
       "      if (root._bokeh_is_loading > 0) {\n",
       "        console.log(\"Bokeh: BokehJS is being loaded, scheduling callback at\", now());\n",
       "        return null;\n",
       "      }\n",
       "      if (js_urls == null || js_urls.length === 0) {\n",
       "        run_callbacks();\n",
       "        return null;\n",
       "      }\n",
       "      console.log(\"Bokeh: BokehJS not loaded, scheduling load and callback at\", now());\n",
       "      root._bokeh_is_loading = js_urls.length;\n",
       "      for (var i = 0; i < js_urls.length; i++) {\n",
       "        var url = js_urls[i];\n",
       "        var s = document.createElement('script');\n",
       "        s.src = url;\n",
       "        s.async = false;\n",
       "        s.onreadystatechange = s.onload = function() {\n",
       "          root._bokeh_is_loading--;\n",
       "          if (root._bokeh_is_loading === 0) {\n",
       "            console.log(\"Bokeh: all BokehJS libraries loaded\");\n",
       "            run_callbacks()\n",
       "          }\n",
       "        };\n",
       "        s.onerror = function() {\n",
       "          console.warn(\"failed to load library \" + url);\n",
       "        };\n",
       "        console.log(\"Bokeh: injecting script tag for BokehJS library: \", url);\n",
       "        document.getElementsByTagName(\"head\")[0].appendChild(s);\n",
       "      }\n",
       "    };var element = document.getElementById(\"4476af1c-ddc6-482b-8f35-1065bf3e9015\");\n",
       "    if (element == null) {\n",
       "      console.log(\"Bokeh: ERROR: autoload.js configured with elementid '4476af1c-ddc6-482b-8f35-1065bf3e9015' but no matching script tag was found. \")\n",
       "      return false;\n",
       "    }\n",
       "  \n",
       "    var js_urls = [];\n",
       "  \n",
       "    var inline_js = [\n",
       "      function(Bokeh) {\n",
       "        (function() {\n",
       "          var fn = function() {\n",
       "            var docs_json = {\"381302a2-7f0b-4227-a7d3-503376d06f05\":{\"roots\":{\"references\":[{\"attributes\":{},\"id\":\"f5b92fdc-9e10-4ef9-90f9-1a7095b35588\",\"type\":\"BasicTickFormatter\"},{\"attributes\":{\"callback\":null},\"id\":\"fbff4686-e44f-46fe-8ab3-747035520142\",\"type\":\"DataRange1d\"},{\"attributes\":{\"bottom_units\":\"screen\",\"fill_alpha\":{\"value\":0.5},\"fill_color\":{\"value\":\"lightgrey\"},\"left_units\":\"screen\",\"level\":\"overlay\",\"line_alpha\":{\"value\":1.0},\"line_color\":{\"value\":\"black\"},\"line_dash\":[4,4],\"line_width\":{\"value\":2},\"plot\":null,\"render_mode\":\"css\",\"right_units\":\"screen\",\"top_units\":\"screen\"},\"id\":\"c43c292b-e99d-43bc-b73b-d06ec7ae1c09\",\"type\":\"BoxAnnotation\"},{\"attributes\":{\"line_alpha\":{\"value\":0.1},\"line_color\":{\"value\":\"#1f77b4\"},\"x\":{\"field\":\"x\"},\"y\":{\"field\":\"y\"}},\"id\":\"3fa497d6-41ac-445e-a307-89aa6e1be4f3\",\"type\":\"Line\"},{\"attributes\":{\"below\":[{\"id\":\"2bf5f739-35d9-44de-9c1e-953a0d1d01dd\",\"type\":\"LinearAxis\"}],\"left\":[{\"id\":\"c2a7d7ad-2dad-47ac-8e5b-11749d1cbdc0\",\"type\":\"LinearAxis\"}],\"renderers\":[{\"id\":\"2bf5f739-35d9-44de-9c1e-953a0d1d01dd\",\"type\":\"LinearAxis\"},{\"id\":\"164b2bfb-730e-43e1-86e6-429c640a914a\",\"type\":\"Grid\"},{\"id\":\"c2a7d7ad-2dad-47ac-8e5b-11749d1cbdc0\",\"type\":\"LinearAxis\"},{\"id\":\"66e25768-cc43-4f7b-88d9-ccd719ef3dd8\",\"type\":\"Grid\"},{\"id\":\"c43c292b-e99d-43bc-b73b-d06ec7ae1c09\",\"type\":\"BoxAnnotation\"},{\"id\":\"5bf19994-dd07-416a-9207-58e4940963d2\",\"type\":\"GlyphRenderer\"}],\"title\":{\"id\":\"8927c997-035a-471a-aff6-16ff1ebe40ed\",\"type\":\"Title\"},\"toolbar\":{\"id\":\"6798ba40-5a63-4698-ab8d-f4c45d6a69f4\",\"type\":\"Toolbar\"},\"x_range\":{\"id\":\"fbff4686-e44f-46fe-8ab3-747035520142\",\"type\":\"DataRange1d\"},\"x_scale\":{\"id\":\"a2a3dc19-70e2-4eec-92f9-f7c4a32723c5\",\"type\":\"LinearScale\"},\"y_range\":{\"id\":\"0a53bdf9-3e6e-4b03-9d98-00826c3a8486\",\"type\":\"DataRange1d\"},\"y_scale\":{\"id\":\"037ff6d6-727b-4efb-a2d0-c7d01b6e88c6\",\"type\":\"LinearScale\"}},\"id\":\"7f97c8af-36b4-4853-8227-41ddf9082a73\",\"subtype\":\"Figure\",\"type\":\"Plot\"},{\"attributes\":{\"line_color\":{\"value\":\"#1f77b4\"},\"x\":{\"field\":\"x\"},\"y\":{\"field\":\"y\"}},\"id\":\"17485dd4-ec89-45ef-a267-572ce7f195ca\",\"type\":\"Line\"},{\"attributes\":{\"data_source\":{\"id\":\"12ce5bb2-7aa7-47c3-882b-f65243f29d2c\",\"type\":\"ColumnDataSource\"},\"glyph\":{\"id\":\"17485dd4-ec89-45ef-a267-572ce7f195ca\",\"type\":\"Line\"},\"hover_glyph\":null,\"muted_glyph\":null,\"nonselection_glyph\":{\"id\":\"3fa497d6-41ac-445e-a307-89aa6e1be4f3\",\"type\":\"Line\"},\"selection_glyph\":null,\"view\":{\"id\":\"209378c7-8ef8-45b7-809a-934e8a44eafd\",\"type\":\"CDSView\"}},\"id\":\"5bf19994-dd07-416a-9207-58e4940963d2\",\"type\":\"GlyphRenderer\"},{\"attributes\":{},\"id\":\"d0377bd3-dad4-4080-bfcc-88f0a444de6f\",\"type\":\"PanTool\"},{\"attributes\":{\"active_drag\":\"auto\",\"active_inspect\":\"auto\",\"active_scroll\":\"auto\",\"active_tap\":\"auto\",\"tools\":[{\"id\":\"d0377bd3-dad4-4080-bfcc-88f0a444de6f\",\"type\":\"PanTool\"},{\"id\":\"d87c6f6d-05ae-4e84-ab7a-5ce4d8393cb5\",\"type\":\"WheelZoomTool\"},{\"id\":\"a0485d49-fedb-4f1e-905c-57c230a35c0e\",\"type\":\"BoxZoomTool\"},{\"id\":\"e1faf5f0-b74f-42ef-b21f-9bd2061671e6\",\"type\":\"SaveTool\"},{\"id\":\"649944e8-5169-416b-acf2-f4e336de97e5\",\"type\":\"ResetTool\"},{\"id\":\"cfac3759-07b4-42fa-8382-6593e1b68081\",\"type\":\"HelpTool\"}]},\"id\":\"6798ba40-5a63-4698-ab8d-f4c45d6a69f4\",\"type\":\"Toolbar\"},{\"attributes\":{},\"id\":\"d87c6f6d-05ae-4e84-ab7a-5ce4d8393cb5\",\"type\":\"WheelZoomTool\"},{\"attributes\":{\"formatter\":{\"id\":\"f5b92fdc-9e10-4ef9-90f9-1a7095b35588\",\"type\":\"BasicTickFormatter\"},\"plot\":{\"id\":\"7f97c8af-36b4-4853-8227-41ddf9082a73\",\"subtype\":\"Figure\",\"type\":\"Plot\"},\"ticker\":{\"id\":\"d1d5b574-c0b7-4f60-af69-e64f1d07a93e\",\"type\":\"BasicTicker\"}},\"id\":\"2bf5f739-35d9-44de-9c1e-953a0d1d01dd\",\"type\":\"LinearAxis\"},{\"attributes\":{\"overlay\":{\"id\":\"c43c292b-e99d-43bc-b73b-d06ec7ae1c09\",\"type\":\"BoxAnnotation\"}},\"id\":\"a0485d49-fedb-4f1e-905c-57c230a35c0e\",\"type\":\"BoxZoomTool\"},{\"attributes\":{\"dimension\":1,\"plot\":{\"id\":\"7f97c8af-36b4-4853-8227-41ddf9082a73\",\"subtype\":\"Figure\",\"type\":\"Plot\"},\"ticker\":{\"id\":\"ba00c53f-45e5-4941-873b-9999742ad32d\",\"type\":\"BasicTicker\"}},\"id\":\"66e25768-cc43-4f7b-88d9-ccd719ef3dd8\",\"type\":\"Grid\"},{\"attributes\":{},\"id\":\"e1faf5f0-b74f-42ef-b21f-9bd2061671e6\",\"type\":\"SaveTool\"},{\"attributes\":{},\"id\":\"649944e8-5169-416b-acf2-f4e336de97e5\",\"type\":\"ResetTool\"},{\"attributes\":{\"callback\":null},\"id\":\"0a53bdf9-3e6e-4b03-9d98-00826c3a8486\",\"type\":\"DataRange1d\"},{\"attributes\":{},\"id\":\"cfac3759-07b4-42fa-8382-6593e1b68081\",\"type\":\"HelpTool\"},{\"attributes\":{\"source\":{\"id\":\"12ce5bb2-7aa7-47c3-882b-f65243f29d2c\",\"type\":\"ColumnDataSource\"}},\"id\":\"209378c7-8ef8-45b7-809a-934e8a44eafd\",\"type\":\"CDSView\"},{\"attributes\":{},\"id\":\"a2a3dc19-70e2-4eec-92f9-f7c4a32723c5\",\"type\":\"LinearScale\"},{\"attributes\":{},\"id\":\"a95876c1-63cb-4c08-86d0-3d825bc53134\",\"type\":\"BasicTickFormatter\"},{\"attributes\":{},\"id\":\"037ff6d6-727b-4efb-a2d0-c7d01b6e88c6\",\"type\":\"LinearScale\"},{\"attributes\":{\"callback\":null,\"column_names\":[\"x\",\"y\"],\"data\":{\"x\":{\"__ndarray__\":\"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\",\"dtype\":\"float64\",\"shape\":[2000]},\"y\":{\"__ndarray__\":\"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\",\"dtype\":\"float64\",\"shape\":[2000]}}},\"id\":\"12ce5bb2-7aa7-47c3-882b-f65243f29d2c\",\"type\":\"ColumnDataSource\"},{\"attributes\":{\"plot\":{\"id\":\"7f97c8af-36b4-4853-8227-41ddf9082a73\",\"subtype\":\"Figure\",\"type\":\"Plot\"},\"ticker\":{\"id\":\"d1d5b574-c0b7-4f60-af69-e64f1d07a93e\",\"type\":\"BasicTicker\"}},\"id\":\"164b2bfb-730e-43e1-86e6-429c640a914a\",\"type\":\"Grid\"},{\"attributes\":{},\"id\":\"d1d5b574-c0b7-4f60-af69-e64f1d07a93e\",\"type\":\"BasicTicker\"},{\"attributes\":{\"plot\":null,\"text\":\"\"},\"id\":\"8927c997-035a-471a-aff6-16ff1ebe40ed\",\"type\":\"Title\"},{\"attributes\":{\"formatter\":{\"id\":\"a95876c1-63cb-4c08-86d0-3d825bc53134\",\"type\":\"BasicTickFormatter\"},\"plot\":{\"id\":\"7f97c8af-36b4-4853-8227-41ddf9082a73\",\"subtype\":\"Figure\",\"type\":\"Plot\"},\"ticker\":{\"id\":\"ba00c53f-45e5-4941-873b-9999742ad32d\",\"type\":\"BasicTicker\"}},\"id\":\"c2a7d7ad-2dad-47ac-8e5b-11749d1cbdc0\",\"type\":\"LinearAxis\"},{\"attributes\":{},\"id\":\"ba00c53f-45e5-4941-873b-9999742ad32d\",\"type\":\"BasicTicker\"}],\"root_ids\":[\"7f97c8af-36b4-4853-8227-41ddf9082a73\"]},\"title\":\"Bokeh Application\",\"version\":\"0.12.7\"}};\n",
       "            var render_items = [{\"docid\":\"381302a2-7f0b-4227-a7d3-503376d06f05\",\"elementid\":\"4476af1c-ddc6-482b-8f35-1065bf3e9015\",\"modelid\":\"7f97c8af-36b4-4853-8227-41ddf9082a73\"}];\n",
       "            \n",
       "            Bokeh.embed.embed_items(docs_json, render_items);\n",
       "          };\n",
       "          if (document.readyState != \"loading\") fn();\n",
       "          else document.addEventListener(\"DOMContentLoaded\", fn);\n",
       "        })();\n",
       "      },\n",
       "      function(Bokeh) {\n",
       "      }\n",
       "    ];\n",
       "  \n",
       "    function run_inline_js() {\n",
       "      \n",
       "      if ((root.Bokeh !== undefined) || (force === true)) {\n",
       "        for (var i = 0; i < inline_js.length; i++) {\n",
       "          inline_js[i].call(root, root.Bokeh);\n",
       "        }if (force === true) {\n",
       "          display_loaded();\n",
       "        }} else if (Date.now() < root._bokeh_timeout) {\n",
       "        setTimeout(run_inline_js, 100);\n",
       "      } else if (!root._bokeh_failed_load) {\n",
       "        console.log(\"Bokeh: BokehJS failed to load within specified timeout.\");\n",
       "        root._bokeh_failed_load = true;\n",
       "      } else if (force !== true) {\n",
       "        var cell = $(document.getElementById(\"4476af1c-ddc6-482b-8f35-1065bf3e9015\")).parents('.cell').data().cell;\n",
       "        cell.output_area.append_execute_result(NB_LOAD_WARNING)\n",
       "      }\n",
       "  \n",
       "    }\n",
       "  \n",
       "    if (root._bokeh_is_loading === 0) {\n",
       "      console.log(\"Bokeh: BokehJS loaded, going straight to plotting\");\n",
       "      run_inline_js();\n",
       "    } else {\n",
       "      load_libs(js_urls, function() {\n",
       "        console.log(\"Bokeh: BokehJS plotting callback run at\", now());\n",
       "        run_inline_js();\n",
       "      });\n",
       "    }\n",
       "  }(window));\n",
       "</script>"
      ]
     },
     "metadata": {},
     "output_type": "display_data"
    }
   ],
   "source": [
    "p = figure()  # make a figure in which we will plot our data\n",
    "p.line(x, y)  # make a line chart in our figure\n",
    "show(p)       # show the figure in our browser"
   ]
  },
  {
   "cell_type": "markdown",
   "metadata": {},
   "source": [
    "What if we wanted to have a general form of a polynomial function, say: \n",
    "\n",
    "$f(x) = ax^2+bx+c$\n",
    "\n",
    "With a little effort, we can use some widgets to play with values of our coefficients, $a$, $b$, and $c$."
   ]
  },
  {
   "cell_type": "code",
   "execution_count": 11,
   "metadata": {
    "collapsed": true
   },
   "outputs": [],
   "source": [
    "# some useful imports for updating our plot in the browser\n",
    "from ipywidgets import interact\n",
    "from IPython.display import display, Math\n",
    "from bokeh.io import push_notebook, show"
   ]
  },
  {
   "cell_type": "code",
   "execution_count": 12,
   "metadata": {
    "collapsed": true
   },
   "outputs": [],
   "source": [
    "p = figure(title=\"Editing a polynomial of the form ax^2+bx+c\", plot_height=400, plot_width=400, y_range=(-10,10))\n",
    "r = p.line(x, y, line_width=3)"
   ]
  },
  {
   "cell_type": "code",
   "execution_count": 13,
   "metadata": {
    "collapsed": true
   },
   "outputs": [],
   "source": [
    "def update(a=1, b=-1, c=0):\n",
    "    r.data_source.data['y'] = a * x**2 + b * x + c\n",
    "    display( Math(r\"f(x) = %sx^2 + %sx + %s\" % (a, b, c))) # use some 'mathy' formatting of the function\n",
    "    push_notebook()\n",
    "    "
   ]
  },
  {
   "cell_type": "code",
   "execution_count": 14,
   "metadata": {},
   "outputs": [
    {
     "data": {
      "text/html": [
       "\n",
       "\n",
       "    <div class=\"bk-root\">\n",
       "        <div class=\"bk-plotdiv\" id=\"56b5a0b1-07c1-4388-b194-0f6aaf00c16c\"></div>\n",
       "    </div>\n",
       "<script type=\"text/javascript\">\n",
       "  \n",
       "  (function(root) {\n",
       "    function now() {\n",
       "      return new Date();\n",
       "    }\n",
       "  \n",
       "    var force = false;\n",
       "  \n",
       "    if (typeof (root._bokeh_onload_callbacks) === \"undefined\" || force === true) {\n",
       "      root._bokeh_onload_callbacks = [];\n",
       "      root._bokeh_is_loading = undefined;\n",
       "    }\n",
       "  \n",
       "  \n",
       "    \n",
       "    if (typeof (root._bokeh_timeout) === \"undefined\" || force === true) {\n",
       "      root._bokeh_timeout = Date.now() + 0;\n",
       "      root._bokeh_failed_load = false;\n",
       "    }\n",
       "  \n",
       "    var NB_LOAD_WARNING = {'data': {'text/html':\n",
       "       \"<div style='background-color: #fdd'>\\n\"+\n",
       "       \"<p>\\n\"+\n",
       "       \"BokehJS does not appear to have successfully loaded. If loading BokehJS from CDN, this \\n\"+\n",
       "       \"may be due to a slow or bad network connection. Possible fixes:\\n\"+\n",
       "       \"</p>\\n\"+\n",
       "       \"<ul>\\n\"+\n",
       "       \"<li>re-rerun `output_notebook()` to attempt to load from CDN again, or</li>\\n\"+\n",
       "       \"<li>use INLINE resources instead, as so:</li>\\n\"+\n",
       "       \"</ul>\\n\"+\n",
       "       \"<code>\\n\"+\n",
       "       \"from bokeh.resources import INLINE\\n\"+\n",
       "       \"output_notebook(resources=INLINE)\\n\"+\n",
       "       \"</code>\\n\"+\n",
       "       \"</div>\"}};\n",
       "  \n",
       "    function display_loaded() {\n",
       "      if (root.Bokeh !== undefined) {\n",
       "        var el = document.getElementById(\"56b5a0b1-07c1-4388-b194-0f6aaf00c16c\");\n",
       "        if (el != null) {\n",
       "          el.textContent = \"BokehJS \" + Bokeh.version + \" successfully loaded.\";\n",
       "        }\n",
       "      } else if (Date.now() < root._bokeh_timeout) {\n",
       "        setTimeout(display_loaded, 100)\n",
       "      }\n",
       "    }\n",
       "  \n",
       "  \n",
       "    function run_callbacks() {\n",
       "      try {\n",
       "        root._bokeh_onload_callbacks.forEach(function(callback) { callback() });\n",
       "      }\n",
       "      finally {\n",
       "        delete root._bokeh_onload_callbacks\n",
       "      }\n",
       "      console.info(\"Bokeh: all callbacks have finished\");\n",
       "    }\n",
       "  \n",
       "    function load_libs(js_urls, callback) {\n",
       "      root._bokeh_onload_callbacks.push(callback);\n",
       "      if (root._bokeh_is_loading > 0) {\n",
       "        console.log(\"Bokeh: BokehJS is being loaded, scheduling callback at\", now());\n",
       "        return null;\n",
       "      }\n",
       "      if (js_urls == null || js_urls.length === 0) {\n",
       "        run_callbacks();\n",
       "        return null;\n",
       "      }\n",
       "      console.log(\"Bokeh: BokehJS not loaded, scheduling load and callback at\", now());\n",
       "      root._bokeh_is_loading = js_urls.length;\n",
       "      for (var i = 0; i < js_urls.length; i++) {\n",
       "        var url = js_urls[i];\n",
       "        var s = document.createElement('script');\n",
       "        s.src = url;\n",
       "        s.async = false;\n",
       "        s.onreadystatechange = s.onload = function() {\n",
       "          root._bokeh_is_loading--;\n",
       "          if (root._bokeh_is_loading === 0) {\n",
       "            console.log(\"Bokeh: all BokehJS libraries loaded\");\n",
       "            run_callbacks()\n",
       "          }\n",
       "        };\n",
       "        s.onerror = function() {\n",
       "          console.warn(\"failed to load library \" + url);\n",
       "        };\n",
       "        console.log(\"Bokeh: injecting script tag for BokehJS library: \", url);\n",
       "        document.getElementsByTagName(\"head\")[0].appendChild(s);\n",
       "      }\n",
       "    };var element = document.getElementById(\"56b5a0b1-07c1-4388-b194-0f6aaf00c16c\");\n",
       "    if (element == null) {\n",
       "      console.log(\"Bokeh: ERROR: autoload.js configured with elementid '56b5a0b1-07c1-4388-b194-0f6aaf00c16c' but no matching script tag was found. \")\n",
       "      return false;\n",
       "    }\n",
       "  \n",
       "    var js_urls = [];\n",
       "  \n",
       "    var inline_js = [\n",
       "      function(Bokeh) {\n",
       "        (function() {\n",
       "          var fn = function() {\n",
       "            var docs_json = {\"02455530-4a3e-49b6-a48b-5df0003e314d\":{\"roots\":{\"references\":[{\"attributes\":{},\"id\":\"930c2891-45cf-4c46-9061-bbfdb856e195\",\"type\":\"HelpTool\"},{\"attributes\":{},\"id\":\"85641b45-c225-4b0e-be9e-8920542a82e8\",\"type\":\"LinearScale\"},{\"attributes\":{\"data_source\":{\"id\":\"f59bb403-60ad-47c8-970e-8381843e8143\",\"type\":\"ColumnDataSource\"},\"glyph\":{\"id\":\"38971083-90d1-4c1c-8797-ad8341ef0016\",\"type\":\"Line\"},\"hover_glyph\":null,\"muted_glyph\":null,\"nonselection_glyph\":{\"id\":\"a7b48282-8d87-44c2-ae1a-baa2048ea62a\",\"type\":\"Line\"},\"selection_glyph\":null,\"view\":{\"id\":\"ab58ab12-88b9-46df-876b-0f91d30afe84\",\"type\":\"CDSView\"}},\"id\":\"d4786015-a2a9-4bf3-8c2d-e6dec57df5a7\",\"type\":\"GlyphRenderer\"},{\"attributes\":{\"callback\":null,\"end\":10,\"start\":-10},\"id\":\"ed7be1bf-2ed5-4d57-9cb6-24be7a19ac01\",\"type\":\"Range1d\"},{\"attributes\":{\"below\":[{\"id\":\"5aa1a318-0727-4cca-b91d-7f2c9311952f\",\"type\":\"LinearAxis\"}],\"left\":[{\"id\":\"94632fe5-6b46-4d8e-97ea-721d1c98dbe7\",\"type\":\"LinearAxis\"}],\"plot_height\":400,\"plot_width\":400,\"renderers\":[{\"id\":\"5aa1a318-0727-4cca-b91d-7f2c9311952f\",\"type\":\"LinearAxis\"},{\"id\":\"54971881-9e9a-4553-92a1-da03424d96fc\",\"type\":\"Grid\"},{\"id\":\"94632fe5-6b46-4d8e-97ea-721d1c98dbe7\",\"type\":\"LinearAxis\"},{\"id\":\"7e3c1da4-567f-4ef7-a52e-8380cdb18b30\",\"type\":\"Grid\"},{\"id\":\"674f76ff-a517-45d8-9771-cf5ab8bafd78\",\"type\":\"BoxAnnotation\"},{\"id\":\"d4786015-a2a9-4bf3-8c2d-e6dec57df5a7\",\"type\":\"GlyphRenderer\"}],\"title\":{\"id\":\"09971706-5c51-4aa7-888d-dc45a7239e29\",\"type\":\"Title\"},\"toolbar\":{\"id\":\"d1afd4e7-b463-4c70-b597-5d0717d409a1\",\"type\":\"Toolbar\"},\"x_range\":{\"id\":\"974d2b89-0c3a-4bb4-92a5-f0012eb3bc22\",\"type\":\"DataRange1d\"},\"x_scale\":{\"id\":\"fc067756-8e0e-4a1e-81a1-c8c68ec13f23\",\"type\":\"LinearScale\"},\"y_range\":{\"id\":\"ed7be1bf-2ed5-4d57-9cb6-24be7a19ac01\",\"type\":\"Range1d\"},\"y_scale\":{\"id\":\"85641b45-c225-4b0e-be9e-8920542a82e8\",\"type\":\"LinearScale\"}},\"id\":\"bae13feb-35fc-4e89-a1a9-a0ea128abd78\",\"subtype\":\"Figure\",\"type\":\"Plot\"},{\"attributes\":{\"formatter\":{\"id\":\"0c2b3224-2ace-4c01-a45f-56d02c4fdd95\",\"type\":\"BasicTickFormatter\"},\"plot\":{\"id\":\"bae13feb-35fc-4e89-a1a9-a0ea128abd78\",\"subtype\":\"Figure\",\"type\":\"Plot\"},\"ticker\":{\"id\":\"96e8388b-798b-462c-8180-d5607ecf1b9e\",\"type\":\"BasicTicker\"}},\"id\":\"5aa1a318-0727-4cca-b91d-7f2c9311952f\",\"type\":\"LinearAxis\"},{\"attributes\":{\"callback\":null,\"column_names\":[\"x\",\"y\"],\"data\":{\"x\":{\"__ndarray__\":\"AAAAAAAAJMB7FK5H4fojwPYoXI/C9SPAcT0K16PwI8DsUbgehesjwGdmZmZm5iPA4noUrkfhI8Bdj8L1KNwjwNijcD0K1yPAU7gehevRI8DOzMzMzMwjwEnhehSuxyPAxPUoXI/CI8A/CtejcL0jwLoehetRuCPANTMzMzOzI8CwR+F6FK4jwCtcj8L1qCPApnA9CtejI8AhhetRuJ4jwJyZmZmZmSPAF65H4XqUI8CSwvUoXI8jwA3Xo3A9iiPAiOtRuB6FI8ADAAAAAIAjwH4UrkfheiPA+Shcj8J1I8B0PQrXo3AjwO9RuB6FayPAamZmZmZmI8DlehSuR2EjwGCPwvUoXCPA26NwPQpXI8BWuB6F61EjwNHMzMzMTCPATOF6FK5HI8DH9Shcj0IjwEIK16NwPSPAvR6F61E4I8A4MzMzMzMjwLNH4XoULiPALlyPwvUoI8CpcD0K1yMjwCSF61G4HiPAn5mZmZkZI8AarkfhehQjwJXC9ShcDyPAENejcD0KI8CL61G4HgUjwAYAAAAAACPAgRSuR+H6IsD8KFyPwvUiwHc9Ctej8CLA8lG4HoXrIsBtZmZmZuYiwOh6FK5H4SLAY4/C9SjcIsDeo3A9CtciwFm4HoXr0SLA1MzMzMzMIsBP4XoUrsciwMr1KFyPwiLARQrXo3C9IsDAHoXrUbgiwDszMzMzsyLAtkfhehSuIsAxXI/C9agiwKxwPQrXoyLAJ4XrUbieIsCimZmZmZkiwB2uR+F6lCLAmML1KFyPIsAT16NwPYoiwI7rUbgehSLACQAAAACAIsCEFK5H4XoiwP8oXI/CdSLAej0K16NwIsD1UbgehWsiwHBmZmZmZiLA63oUrkdhIsBmj8L1KFwiwOGjcD0KVyLAXLgehetRIsDXzMzMzEwiwFLhehSuRyLAzfUoXI9CIsBICtejcD0iwMMehetROCLAPjMzMzMzIsC5R+F6FC4iwDRcj8L1KCLAr3A9CtcjIsAqhetRuB4iwKWZmZmZGSLAIK5H4XoUIsCbwvUoXA8iwBbXo3A9CiLAketRuB4FIsAMAAAAAAAiwIcUrkfh+iHAAilcj8L1IcB9PQrXo/AhwPhRuB6F6yHAc2ZmZmbmIcDuehSuR+EhwGmPwvUo3CHA5KNwPQrXIcBfuB6F69EhwNrMzMzMzCHAVeF6FK7HIcDQ9Shcj8IhwEsK16NwvSHAxh6F61G4IcBBMzMzM7MhwLxH4XoUriHAN1yPwvWoIcCycD0K16MhwC2F61G4niHAqJmZmZmZIcAjrkfhepQhwJ7C9ShcjyHAGdejcD2KIcCU61G4HoUhwA8AAAAAgCHAihSuR+F6IcAFKVyPwnUhwIA9CtejcCHA+1G4HoVrIcB2ZmZmZmYhwPF6FK5HYSHAbI/C9ShcIcDno3A9ClchwGK4HoXrUSHA3czMzMxMIcBY4XoUrkchwNP1KFyPQiHATgrXo3A9IcDJHoXrUTghwEQzMzMzMyHAv0fhehQuIcA6XI/C9SghwLVwPQrXIyHAMIXrUbgeIcCrmZmZmRkhwCauR+F6FCHAocL1KFwPIcAc16NwPQohwJfrUbgeBSHAEgAAAAAAIcCNFK5H4fogwAgpXI/C9SDAgz0K16PwIMD+UbgehesgwHlmZmZm5iDA9HoUrkfhIMBvj8L1KNwgwOqjcD0K1yDAZbgehevRIMDgzMzMzMwgwFvhehSuxyDA1vUoXI/CIMBRCtejcL0gwMwehetRuCDARzMzMzOzIMDCR+F6FK4gwD1cj8L1qCDAuHA9CtejIMAzhetRuJ4gwK6ZmZmZmSDAKa5H4XqUIMCkwvUoXI8gwB/Xo3A9iiDAmutRuB6FIMAVAAAAAIAgwJAUrkfheiDACylcj8J1IMCGPQrXo3AgwAFSuB6FayDAfGZmZmZmIMD3ehSuR2EgwHKPwvUoXCDA7aNwPQpXIMBouB6F61EgwOPMzMzMTCDAXuF6FK5HIMDZ9Shcj0IgwFQK16NwPSDAzx6F61E4IMBKMzMzMzMgwMVH4XoULiDAQFyPwvUoIMC7cD0K1yMgwDaF61G4HiDAsZmZmZkZIMAsrkfhehQgwKfC9ShcDyDAItejcD0KIMCd61G4HgUgwBgAAAAAACDAJilcj8L1H8AcUrgehesfwBJ7FK5H4R/ACKRwPQrXH8D+zMzMzMwfwPT1KFyPwh/A6h6F61G4H8DgR+F6FK4fwNZwPQrXox/AzJmZmZmZH8DCwvUoXI8fwLjrUbgehR/ArhSuR+F6H8CkPQrXo3AfwJpmZmZmZh/AkI/C9ShcH8CGuB6F61EfwHzhehSuRx/AcgrXo3A9H8BoMzMzMzMfwF5cj8L1KB/AVIXrUbgeH8BKrkfhehQfwEDXo3A9Ch/ANgAAAAAAH8AsKVyPwvUewCJSuB6F6x7AGHsUrkfhHsAOpHA9CtcewATNzMzMzB7A+vUoXI/CHsDwHoXrUbgewOZH4XoUrh7A3HA9CtejHsDSmZmZmZkewMjC9Shcjx7AvutRuB6FHsC0FK5H4XoewKo9CtejcB7AoGZmZmZmHsCWj8L1KFwewIy4HoXrUR7AguF6FK5HHsB4CtejcD0ewG4zMzMzMx7AZFyPwvUoHsBahetRuB4ewFCuR+F6FB7ARtejcD0KHsA8AAAAAAAewDIpXI/C9R3AKFK4HoXrHcAeexSuR+EdwBSkcD0K1x3ACs3MzMzMHcAA9ihcj8IdwPYehetRuB3A7EfhehSuHcDicD0K16MdwNiZmZmZmR3AzsL1KFyPHcDE61G4HoUdwLoUrkfheh3AsD0K16NwHcCmZmZmZmYdwJyPwvUoXB3AkrgehetRHcCI4XoUrkcdwH4K16NwPR3AdDMzMzMzHcBqXI/C9SgdwGCF61G4Hh3AVq5H4XoUHcBM16NwPQodwEIAAAAAAB3AOClcj8L1HMAuUrgehescwCR7FK5H4RzAGqRwPQrXHMAQzczMzMwcwAb2KFyPwhzA/B6F61G4HMDyR+F6FK4cwOhwPQrXoxzA3pmZmZmZHMDUwvUoXI8cwMrrUbgehRzAwBSuR+F6HMC2PQrXo3AcwKxmZmZmZhzAoo/C9ShcHMCYuB6F61EcwI7hehSuRxzAhArXo3A9HMB6MzMzMzMcwHBcj8L1KBzAZoXrUbgeHMBcrkfhehQcwFLXo3A9ChzASAAAAAAAHMA+KVyPwvUbwDRSuB6F6xvAKnsUrkfhG8AgpHA9CtcbwBbNzMzMzBvADPYoXI/CG8ACH4XrUbgbwPhH4XoUrhvA7nA9CtejG8DkmZmZmZkbwNrC9ShcjxvA0OtRuB6FG8DGFK5H4XobwLw9CtejcBvAsmZmZmZmG8Coj8L1KFwbwJ64HoXrURvAlOF6FK5HG8CKCtejcD0bwIAzMzMzMxvAdlyPwvUoG8BshetRuB4bwGKuR+F6FBvAWNejcD0KG8BOAAAAAAAbwEQpXI/C9RrAOlK4HoXrGsAwexSuR+EawCakcD0K1xrAHM3MzMzMGsAS9ihcj8IawAgfhetRuBrA/kfhehSuGsD0cD0K16MawOqZmZmZmRrA4ML1KFyPGsDW61G4HoUawMwUrkfhehrAwj0K16NwGsC4ZmZmZmYawK6PwvUoXBrApLgehetRGsCa4XoUrkcawJAK16NwPRrAhjMzMzMzGsB8XI/C9SgawHKF61G4HhrAaK5H4XoUGsBe16NwPQoawFQAAAAAABrASilcj8L1GcBAUrgehesZwDZ7FK5H4RnALKRwPQrXGcAizczMzMwZwBj2KFyPwhnADh+F61G4GcAESOF6FK4ZwPpwPQrXoxnA8JmZmZmZGcDmwvUoXI8ZwNzrUbgehRnA0hSuR+F6GcDIPQrXo3AZwL5mZmZmZhnAtI/C9ShcGcCquB6F61EZwKDhehSuRxnAlgrXo3A9GcCMMzMzMzMZwIJcj8L1KBnAeIXrUbgeGcBurkfhehQZwGTXo3A9ChnAWgAAAAAAGcBQKVyPwvUYwEZSuB6F6xjAPHsUrkfhGMAypHA9CtcYwCjNzMzMzBjAHvYoXI/CGMAUH4XrUbgYwApI4XoUrhjAAHE9CtejGMD2mZmZmZkYwOzC9ShcjxjA4utRuB6FGMDYFK5H4XoYwM49CtejcBjAxGZmZmZmGMC6j8L1KFwYwLC4HoXrURjApuF6FK5HGMCcCtejcD0YwJIzMzMzMxjAiFyPwvUoGMB+hetRuB4YwHSuR+F6FBjAatejcD0KGMBgAAAAAAAYwFYpXI/C9RfATFK4HoXrF8BCexSuR+EXwDikcD0K1xfALs3MzMzMF8Ak9ihcj8IXwBofhetRuBfAEEjhehSuF8AGcT0K16MXwPyZmZmZmRfA8sL1KFyPF8Do61G4HoUXwN4UrkfhehfA1D0K16NwF8DKZmZmZmYXwMCPwvUoXBfAtrgehetRF8Cs4XoUrkcXwKIK16NwPRfAmDMzMzMzF8COXI/C9SgXwISF61G4HhfAeq5H4XoUF8Bw16NwPQoXwGYAAAAAABfAXClcj8L1FsBSUrgehesWwEh7FK5H4RbAPqRwPQrXFsA0zczMzMwWwCr2KFyPwhbAIB+F61G4FsAWSOF6FK4WwAxxPQrXoxbAApqZmZmZFsD4wvUoXI8WwO7rUbgehRbA5BSuR+F6FsDaPQrXo3AWwNBmZmZmZhbAxo/C9ShcFsC8uB6F61EWwLLhehSuRxbAqArXo3A9FsCeMzMzMzMWwJRcj8L1KBbAioXrUbgeFsCArkfhehQWwHbXo3A9ChbAbAAAAAAAFsBiKVyPwvUVwFhSuB6F6xXATnsUrkfhFcBEpHA9CtcVwDrNzMzMzBXAMPYoXI/CFcAmH4XrUbgVwBxI4XoUrhXAEnE9CtejFcAImpmZmZkVwP7C9ShcjxXA9OtRuB6FFcDqFK5H4XoVwOA9CtejcBXA1mZmZmZmFcDMj8L1KFwVwMK4HoXrURXAuOF6FK5HFcCuCtejcD0VwKQzMzMzMxXAmlyPwvUoFcCQhetRuB4VwIauR+F6FBXAfNejcD0KFcByAAAAAAAVwGgpXI/C9RTAXlK4HoXrFMBUexSuR+EUwEqkcD0K1xTAQM3MzMzMFMA29ihcj8IUwCwfhetRuBTAIkjhehSuFMAYcT0K16MUwA6amZmZmRTABMP1KFyPFMD661G4HoUUwPAUrkfhehTA5j0K16NwFMDcZmZmZmYUwNKPwvUoXBTAyLgehetRFMC+4XoUrkcUwLQK16NwPRTAqjMzMzMzFMCgXI/C9SgUwJaF61G4HhTAjK5H4XoUFMCC16NwPQoUwHgAAAAAABTAbilcj8L1E8BkUrgehesTwFp7FK5H4RPAUKRwPQrXE8BGzczMzMwTwDz2KFyPwhPAMh+F61G4E8AoSOF6FK4TwB5xPQrXoxPAFJqZmZmZE8AKw/UoXI8TwADsUbgehRPA9hSuR+F6E8DsPQrXo3ATwOJmZmZmZhPA2I/C9ShcE8DOuB6F61ETwMThehSuRxPAugrXo3A9E8CwMzMzMzMTwKZcj8L1KBPAnIXrUbgeE8CSrkfhehQTwIjXo3A9ChPAfgAAAAAAE8B0KVyPwvUSwGpSuB6F6xLAYHsUrkfhEsBWpHA9CtcSwEzNzMzMzBLAQvYoXI/CEsA4H4XrUbgSwC5I4XoUrhLAJHE9CtejEsAampmZmZkSwBDD9ShcjxLABuxRuB6FEsD8FK5H4XoSwPI9CtejcBLA6GZmZmZmEsDej8L1KFwSwNS4HoXrURLAyuF6FK5HEsDACtejcD0SwLYzMzMzMxLArFyPwvUoEsCihetRuB4SwJiuR+F6FBLAjtejcD0KEsCEAAAAAAASwHopXI/C9RHAcFK4HoXrEcBmexSuR+ERwFykcD0K1xHAUs3MzMzMEcBI9ihcj8IRwD4fhetRuBHANEjhehSuEcAqcT0K16MRwCCamZmZmRHAFsP1KFyPEcAM7FG4HoURwAIVrkfhehHA+D0K16NwEcDuZmZmZmYRwOSPwvUoXBHA2rgehetREcDQ4XoUrkcRwMYK16NwPRHAvDMzMzMzEcCyXI/C9SgRwKiF61G4HhHAnq5H4XoUEcCU16NwPQoRwIoAAAAAABHAgClcj8L1EMB2UrgehesQwGx7FK5H4RDAYqRwPQrXEMBYzczMzMwQwE72KFyPwhDARB+F61G4EMA6SOF6FK4QwDBxPQrXoxDAJpqZmZmZEMAcw/UoXI8QwBLsUbgehRDACBWuR+F6EMD+PQrXo3AQwPRmZmZmZhDA6o/C9ShcEMDguB6F61EQwNbhehSuRxDAzArXo3A9EMDCMzMzMzMQwLhcj8L1KBDAroXrUbgeEMCkrkfhehQQwJrXo3A9ChDAkAAAAAAAEMAMU7gehesPwPikcD0K1w/A5PYoXI/CD8DQSOF6FK4PwLyamZmZmQ/AqOxRuB6FD8CUPgrXo3APwICQwvUoXA/AbOJ6FK5HD8BYNDMzMzMPwESG61G4Hg/AMNijcD0KD8AcKlyPwvUOwAh8FK5H4Q7A9M3MzMzMDsDgH4XrUbgOwMxxPQrXow7AuMP1KFyPDsCkFa5H4XoOwJBnZmZmZg7AfLkehetRDsBoC9ejcD0OwFRdj8L1KA7AQK9H4XoUDsAsAQAAAAAOwBhTuB6F6w3ABKVwPQrXDcDw9ihcj8INwNxI4XoUrg3AyJqZmZmZDcC07FG4HoUNwKA+CtejcA3AjJDC9ShcDcB44noUrkcNwGQ0MzMzMw3AUIbrUbgeDcA82KNwPQoNwCgqXI/C9QzAFHwUrkfhDMAAzszMzMwMwOwfhetRuAzA2HE9CtejDMDEw/UoXI8MwLAVrkfhegzAnGdmZmZmDMCIuR6F61EMwHQL16NwPQzAYF2PwvUoDMBMr0fhehQMwDgBAAAAAAzAJFO4HoXrC8AQpXA9CtcLwPz2KFyPwgvA6EjhehSuC8DUmpmZmZkLwMDsUbgehQvArD4K16NwC8CYkML1KFwLwITiehSuRwvAcDQzMzMzC8BchutRuB4LwEjYo3A9CgvANCpcj8L1CsAgfBSuR+EKwAzOzMzMzArA+B+F61G4CsDkcT0K16MKwNDD9ShcjwrAvBWuR+F6CsCoZ2ZmZmYKwJS5HoXrUQrAgAvXo3A9CsBsXY/C9SgKwFivR+F6FArARAEAAAAACsAwU7gehesJwBylcD0K1wnACPcoXI/CCcD0SOF6FK4JwOCamZmZmQnAzOxRuB6FCcC4PgrXo3AJwKSQwvUoXAnAkOJ6FK5HCcB8NDMzMzMJwGiG61G4HgnAVNijcD0KCcBAKlyPwvUIwCx8FK5H4QjAGM7MzMzMCMAEIIXrUbgIwPBxPQrXowjA3MP1KFyPCMDIFa5H4XoIwLRnZmZmZgjAoLkehetRCMCMC9ejcD0IwHhdj8L1KAjAZK9H4XoUCMBQAQAAAAAIwDxTuB6F6wfAKKVwPQrXB8AU9yhcj8IHwABJ4XoUrgfA7JqZmZmZB8DY7FG4HoUHwMQ+CtejcAfAsJDC9ShcB8Cc4noUrkcHwIg0MzMzMwfAdIbrUbgeB8Bg2KNwPQoHwEwqXI/C9QbAOHwUrkfhBsAkzszMzMwGwBAghetRuAbA/HE9CtejBsDow/UoXI8GwNQVrkfhegbAwGdmZmZmBsCsuR6F61EGwJgL16NwPQbAhF2PwvUoBsBwr0fhehQGwFwBAAAAAAbASFO4HoXrBcA0pXA9CtcFwCD3KFyPwgXADEnhehSuBcD4mpmZmZkFwOTsUbgehQXA0D4K16NwBcC8kML1KFwFwKjiehSuRwXAlDQzMzMzBcCAhutRuB4FwGzYo3A9CgXAWCpcj8L1BMBEfBSuR+EEwDDOzMzMzATAHCCF61G4BMAIcj0K16MEwPTD9ShcjwTA4BWuR+F6BMDMZ2ZmZmYEwLi5HoXrUQTApAvXo3A9BMCQXY/C9SgEwHyvR+F6FATAaAEAAAAABMBUU7gehesDwEClcD0K1wPALPcoXI/CA8AYSeF6FK4DwASbmZmZmQPA8OxRuB6FA8DcPgrXo3ADwMiQwvUoXAPAtOJ6FK5HA8CgNDMzMzMDwIyG61G4HgPAeNijcD0KA8BkKlyPwvUCwFB8FK5H4QLAPM7MzMzMAsAoIIXrUbgCwBRyPQrXowLAAMT1KFyPAsDsFa5H4XoCwNhnZmZmZgLAxLkehetRAsCwC9ejcD0CwJxdj8L1KALAiK9H4XoUAsB0AQAAAAACwGBTuB6F6wHATKVwPQrXAcA49yhcj8IBwCRJ4XoUrgHAEJuZmZmZAcD87FG4HoUBwOg+CtejcAHA1JDC9ShcAcDA4noUrkcBwKw0MzMzMwHAmIbrUbgeAcCE2KNwPQoBwHAqXI/C9QDAXHwUrkfhAMBIzszMzMwAwDQghetRuADAIHI9CtejAMAMxPUoXI8AwPgVrkfhegDA5GdmZmZmAMDQuR6F61EAwLwL16NwPQDAqF2PwvUoAMCUr0fhehQAwIABAAAAAADA2KZwPQrX/7+wSuF6FK7/v4juUbgehf+/YJLC9Shc/784NjMzMzP/vxDao3A9Cv+/6H0Urkfh/r/AIYXrUbj+v5jF9Shcj/6/cGlmZmZm/r9IDdejcD3+vyCxR+F6FP6/+FS4HoXr/b/Q+Chcj8L9v6icmZmZmf2/gEAK16Nw/b9Y5HoUrkf9vzCI61G4Hv2/CCxcj8L1/L/gz8zMzMz8v7hzPQrXo/y/kBeuR+F6/L9oux6F61H8v0Bfj8L1KPy/GAMAAAAA/L/wpnA9Ctf7v8hK4XoUrvu/oO5RuB6F+794ksL1KFz7v1A2MzMzM/u/KNqjcD0K+78AfhSuR+H6v9ghhetRuPq/sMX1KFyP+r+IaWZmZmb6v2AN16NwPfq/OLFH4XoU+r8QVbgehev5v+j4KFyPwvm/wJyZmZmZ+b+YQArXo3D5v3DkehSuR/m/SIjrUbge+b8gLFyPwvX4v/jPzMzMzPi/0HM9Ctej+L+oF65H4Xr4v4C7HoXrUfi/WF+PwvUo+L8wAwAAAAD4vwincD0K1/e/4ErhehSu97+47lG4HoX3v5CSwvUoXPe/aDYzMzMz979A2qNwPQr3vxh+FK5H4fa/8CGF61G49r/IxfUoXI/2v6BpZmZmZva/eA3Xo3A99r9QsUfhehT2vyhVuB6F6/W/APkoXI/C9b/YnJmZmZn1v7BACtejcPW/iOR6FK5H9b9giOtRuB71vzgsXI/C9fS/ENDMzMzM9L/ocz0K16P0v8AXrkfhevS/mLsehetR9L9wX4/C9Sj0v0gDAAAAAPS/IKdwPQrX87/4SuF6FK7zv9DuUbgehfO/qJLC9Shc87+ANjMzMzPzv1jao3A9CvO/MH4Urkfh8r8IIoXrUbjyv+DF9Shcj/K/uGlmZmZm8r+QDdejcD3yv2ixR+F6FPK/QFW4HoXr8b8Y+Shcj8Lxv/CcmZmZmfG/yEAK16Nw8b+g5HoUrkfxv3iI61G4HvG/UCxcj8L18L8o0MzMzMzwvwB0PQrXo/C/2BeuR+F68L+wux6F61Hwv4hfj8L1KPC/YAMAAAAA8L9wTuF6FK7vvyCWwvUoXO+/0N2jcD0K77+AJYXrUbjuvzBtZmZmZu6/4LRH4XoU7r+Q/Chcj8Ltv0BECtejcO2/8IvrUbge7b+g08zMzMzsv1Abrkfheuy/AGOPwvUo7L+wqnA9Ctfrv2DyUbgeheu/EDozMzMz67/AgRSuR+Hqv3DJ9Shcj+q/IBHXo3A96r/QWLgehevpv4CgmZmZmem/MOh6FK5H6b/gL1yPwvXov5B3PQrXo+i/QL8ehetR6L/wBgAAAADov6BO4XoUrue/UJbC9Shc578A3qNwPQrnv7AlhetRuOa/YG1mZmZm5r8QtUfhehTmv8D8KFyPwuW/cEQK16Nw5b8gjOtRuB7lv9DTzMzMzOS/gBuuR+F65L8wY4/C9Sjkv+CqcD0K1+O/kPJRuB6F479AOjMzMzPjv/CBFK5H4eK/oMn1KFyP4r9QEdejcD3ivwBZuB6F6+G/sKCZmZmZ4b9g6HoUrkfhvxAwXI/C9eC/wHc9Ctej4L9wvx6F61HgvyAHAAAAAOC/oJ3C9Shc378ALYXrUbjev2C8R+F6FN6/wEsK16Nw3b8g28zMzMzcv4Bqj8L1KNy/4PlRuB6F279AiRSuR+Hav6AY16NwPdq/AKiZmZmZ2b9gN1yPwvXYv8DGHoXrUdi/IFbhehSu17+A5aNwPQrXv+B0ZmZmZta/QAQpXI/C1b+gk+tRuB7VvwAjrkfhetS/YLJwPQrX07/AQTMzMzPTvyDR9Shcj9K/gGC4HoXr0b/g73oUrkfRv0B/PQrXo9C/oA4AAAAA0L8APIXrUbjOv8BaCtejcM2/gHmPwvUozL9AmBSuR+HKvwC3mZmZmcm/wNUehetRyL+A9KNwPQrHv0ATKVyPwsW/ADKuR+F6xL/AUDMzMzPDv4BvuB6F68G/QI49CtejwL8AWoXrUbi+v4CXj8L1KLy/ANWZmZmZub+AEqRwPQq3vwBQrkfherS/gI24HoXrsb8AloXrUbiuvwARmpmZmam/AIyuR+F6pL8ADobrUbievwAEr0fhepS/APSvR+F6hL8AAAAAAABOvQA0rEfheoQ/ACStR+F6lD8ALoTrUbiePwCcrUfheqQ/ACGZmZmZqT8ApoTrUbiuP4AVuB6F67E/ANitR+F6tD+AmqNwPQq3PwBdmZmZmbk/gB+PwvUovD8A4oTrUbi+P0BSPQrXo8A/gDO4HoXrwT/AFDMzMzPDPwD2rUfhesQ/QNcoXI/CxT+AuKNwPQrHP8CZHoXrUcg/AHuZmZmZyT9AXBSuR+HKP4A9j8L1KMw/wB4K16NwzT8AAIXrUbjOP0Dh/////88/QGE9Ctej0D/g0XoUrkfRP4BCuB6F69E/ILP1KFyP0j/AIzMzMzPTP2CUcD0K19M/AAWuR+F61D+gdetRuB7VP0DmKFyPwtU/4FZmZmZm1j+Ax6NwPQrXPyA44XoUrtc/wKgehetR2D9gGVyPwvXYPwCKmZmZmdk/oPrWo3A92j9AaxSuR+HaP+DbUbgehds/gEyPwvUo3D8gvczMzMzcP8AtCtejcN0/YJ5H4XoU3j8AD4XrUbjeP6B/wvUoXN8/QPD/////3z9wsB6F61HgP8BoPQrXo+A/ECFcj8L14D9g2XoUrkfhP7CRmZmZmeE/AEq4HoXr4T9QAtejcD3iP6C69Shcj+I/8HIUrkfh4j9AKzMzMzPjP5DjUbgeheM/4JtwPQrX4z8wVI/C9SjkP4AMrkfheuQ/0MTMzMzM5D8gfetRuB7lP3A1CtejcOU/wO0oXI/C5T8QpkfhehTmP2BeZmZmZuY/sBaF61G45j8Az6NwPQrnP1CHwvUoXOc/oD/hehSu5z/w9//////nP0CwHoXrUeg/kGg9Ctej6D/gIFyPwvXoPzDZehSuR+k/gJGZmZmZ6T/QSbgehevpPyAC16NwPeo/cLr1KFyP6j/AchSuR+HqPxArMzMzM+s/YONRuB6F6z+wm3A9CtfrPwBUj8L1KOw/UAyuR+F67D+gxMzMzMzsP/B861G4Hu0/QDUK16Nw7T+Q7Shcj8LtP+ClR+F6FO4/MF5mZmZm7j+AFoXrUbjuP9DOo3A9Cu8/IIfC9Shc7z9wP+F6FK7vP8D3/////+8/CFiPwvUo8D8wtB6F61HwP1gQrkfhevA/gGw9Ctej8D+oyMzMzMzwP9AkXI/C9fA/+IDrUbge8T8g3XoUrkfxP0g5CtejcPE/cJWZmZmZ8T+Y8Shcj8LxP8BNuB6F6/E/6KlH4XoU8j8QBtejcD3yPzhiZmZmZvI/YL71KFyP8j+IGoXrUbjyP7B2FK5H4fI/2NKjcD0K8z8ALzMzMzPzPyiLwvUoXPM/UOdRuB6F8z94Q+F6FK7zP6CfcD0K1/M/yPv/////8z/wV4/C9Sj0Pxi0HoXrUfQ/QBCuR+F69D9obD0K16P0P5DIzMzMzPQ/uCRcj8L19D/ggOtRuB71PwjdehSuR/U/MDkK16Nw9T9YlZmZmZn1P4DxKFyPwvU/qE24HoXr9T/QqUfhehT2P/gF16NwPfY/IGJmZmZm9j9IvvUoXI/2P3AahetRuPY/mHYUrkfh9j/A0qNwPQr3P+guMzMzM/c/EIvC9Shc9z8451G4HoX3P2BD4XoUrvc/iJ9wPQrX9z+w+//////3P9hXj8L1KPg/ALQehetR+D8oEK5H4Xr4P1BsPQrXo/g/eMjMzMzM+D+gJFyPwvX4P8iA61G4Hvk/8Nx6FK5H+T8YOQrXo3D5P0CVmZmZmfk/aPEoXI/C+T+QTbgehev5P7ipR+F6FPo/4AXXo3A9+j8IYmZmZmb6PzC+9Shcj/o/WBqF61G4+j+AdhSuR+H6P6jSo3A9Cvs/0C4zMzMz+z/4isL1KFz7PyDnUbgehfs/SEPhehSu+z9wn3A9Ctf7P5j7//////s/wFePwvUo/D/osx6F61H8PxAQrkfhevw/OGw9Ctej/D9gyMzMzMz8P4gkXI/C9fw/sIDrUbge/T/Y3HoUrkf9PwA5CtejcP0/KJWZmZmZ/T9Q8Shcj8L9P3hNuB6F6/0/oKlH4XoU/j/IBdejcD3+P/BhZmZmZv4/GL71KFyP/j9AGoXrUbj+P2h2FK5H4f4/kNKjcD0K/z+4LjMzMzP/P+CKwvUoXP8/COdRuB6F/z8wQ+F6FK7/P1ifcD0K1/8/gPv//////z/Uq0fhehQAQOhZj8L1KABA/AfXo3A9AEAQth6F61EAQCRkZmZmZgBAOBKuR+F6AEBMwPUoXI8AQGBuPQrXowBAdByF61G4AECIyszMzMwAQJx4FK5H4QBAsCZcj8L1AEDE1KNwPQoBQNiC61G4HgFA7DAzMzMzAUAA33oUrkcBQBSNwvUoXAFAKDsK16NwAUA86VG4HoUBQFCXmZmZmQFAZEXhehSuAUB48yhcj8IBQIyhcD0K1wFAoE+4HoXrAUC0/f////8BQMirR+F6FAJA3FmPwvUoAkDwB9ejcD0CQAS2HoXrUQJAGGRmZmZmAkAsEq5H4XoCQEDA9ShcjwJAVG49CtejAkBoHIXrUbgCQHzKzMzMzAJAkHgUrkfhAkCkJlyPwvUCQLjUo3A9CgNAzILrUbgeA0DgMDMzMzMDQPTeehSuRwNACI3C9ShcA0AcOwrXo3ADQDDpUbgehQNARJeZmZmZA0BYReF6FK4DQGzzKFyPwgNAgKFwPQrXA0CUT7gehesDQKj9/////wNAvKtH4XoUBEDQWY/C9SgEQOQH16NwPQRA+LUehetRBEAMZGZmZmYEQCASrkfhegRANMD1KFyPBEBIbj0K16MEQFwchetRuARAcMrMzMzMBECEeBSuR+EEQJgmXI/C9QRArNSjcD0KBUDAgutRuB4FQNQwMzMzMwVA6N56FK5HBUD8jML1KFwFQBA7CtejcAVAJOlRuB6FBUA4l5mZmZkFQExF4XoUrgVAYPMoXI/CBUB0oXA9CtcFQIhPuB6F6wVAnP3/////BUCwq0fhehQGQMRZj8L1KAZA2AfXo3A9BkDstR6F61EGQABkZmZmZgZAFBKuR+F6BkAowPUoXI8GQDxuPQrXowZAUByF61G4BkBkyszMzMwGQHh4FK5H4QZAjCZcj8L1BkCg1KNwPQoHQLSC61G4HgdAyDAzMzMzB0Dc3noUrkcHQPCMwvUoXAdABDsK16NwB0AY6VG4HoUHQCyXmZmZmQdAQEXhehSuB0BU8yhcj8IHQGihcD0K1wdAfE+4HoXrB0CQ/f////8HQKSrR+F6FAhAuFmPwvUoCEDMB9ejcD0IQOC1HoXrUQhA9GNmZmZmCEAIEq5H4XoIQBzA9ShcjwhAMG49CtejCEBEHIXrUbgIQFjKzMzMzAhAbHgUrkfhCECAJlyPwvUIQJTUo3A9CglAqILrUbgeCUC8MDMzMzMJQNDeehSuRwlA5IzC9ShcCUD4OgrXo3AJQAzpUbgehQlAIJeZmZmZCUA0ReF6FK4JQEjzKFyPwglAXKFwPQrXCUBwT7gehesJQIT9/////wlAmKtH4XoUCkCsWY/C9SgKQMAH16NwPQpA1LUehetRCkDoY2ZmZmYKQPwRrkfhegpAEMD1KFyPCkAkbj0K16MKQDgchetRuApATMrMzMzMCkBgeBSuR+EKQHQmXI/C9QpAiNSjcD0KC0CcgutRuB4LQLAwMzMzMwtAxN56FK5HC0DYjML1KFwLQOw6CtejcAtAAOlRuB6FC0AUl5mZmZkLQChF4XoUrgtAPPMoXI/CC0BQoXA9CtcLQGRPuB6F6wtAeP3/////C0CMq0fhehQMQKBZj8L1KAxAtAfXo3A9DEDItR6F61EMQNxjZmZmZgxA8BGuR+F6DEAEwPUoXI8MQBhuPQrXowxALByF61G4DEBAyszMzMwMQFR4FK5H4QxAaCZcj8L1DEB81KNwPQoNQJCC61G4Hg1ApDAzMzMzDUC43noUrkcNQMyMwvUoXA1A4DoK16NwDUD06FG4HoUNQAiXmZmZmQ1AHEXhehSuDUAw8yhcj8INQEShcD0K1w1AWE+4HoXrDUBs/f////8NQICrR+F6FA5AlFmPwvUoDkCoB9ejcD0OQLy1HoXrUQ5A0GNmZmZmDkDkEa5H4XoOQPi/9Shcjw5ADG49CtejDkAgHIXrUbgOQDTKzMzMzA5ASHgUrkfhDkBcJlyPwvUOQHDUo3A9Cg9AhILrUbgeD0CYMDMzMzMPQKzeehSuRw9AwIzC9ShcD0DUOgrXo3APQOjoUbgehQ9A/JaZmZmZD0AQReF6FK4PQCTzKFyPwg9AOKFwPQrXD0BMT7gehesPQGD9/////w9AutWjcD0KEEDErEfhehQQQM6D61G4HhBA2FqPwvUoEEDiMTMzMzMQQOwI16NwPRBA9t96FK5HEEAAtx6F61EQQAqOwvUoXBBAFGVmZmZmEEAePArXo3AQQCgTrkfhehBAMupRuB6FEEA8wfUoXI8QQEaYmZmZmRBAUG89CtejEEBaRuF6FK4QQGQdhetRuBBAbvQoXI/CEEB4y8zMzMwQQIKicD0K1xBAjHkUrkfhEECWULgehesQQKAnXI/C9RBAqv7/////EEC01aNwPQoRQL6sR+F6FBFAyIPrUbgeEUDSWo/C9SgRQNwxMzMzMxFA5gjXo3A9EUDw33oUrkcRQPq2HoXrURFABI7C9ShcEUAOZWZmZmYRQBg8CtejcBFAIhOuR+F6EUAs6lG4HoURQDbB9ShcjxFAQJiZmZmZEUBKbz0K16MRQFRG4XoUrhFAXh2F61G4EUBo9Chcj8IRQHLLzMzMzBFAfKJwPQrXEUCGeRSuR+ERQJBQuB6F6xFAmidcj8L1EUCk/v////8RQK7Vo3A9ChJAuKxH4XoUEkDCg+tRuB4SQMxaj8L1KBJA1jEzMzMzEkDgCNejcD0SQOrfehSuRxJA9LYehetREkD+jcL1KFwSQAhlZmZmZhJAEjwK16NwEkAcE65H4XoSQCbqUbgehRJAMMH1KFyPEkA6mJmZmZkSQERvPQrXoxJATkbhehSuEkBYHYXrUbgSQGL0KFyPwhJAbMvMzMzMEkB2onA9CtcSQIB5FK5H4RJAilC4HoXrEkCUJ1yPwvUSQJ7+/////xJAqNWjcD0KE0CyrEfhehQTQLyD61G4HhNAxlqPwvUoE0DQMTMzMzMTQNoI16NwPRNA5N96FK5HE0Duth6F61ETQPiNwvUoXBNAAmVmZmZmE0AMPArXo3ATQBYTrkfhehNAIOpRuB6FE0AqwfUoXI8TQDSYmZmZmRNAPm89CtejE0BIRuF6FK4TQFIdhetRuBNAXPQoXI/CE0Bmy8zMzMwTQHCicD0K1xNAenkUrkfhE0CEULgehesTQI4nXI/C9RNAmP7/////E0Ci1aNwPQoUQKysR+F6FBRAtoPrUbgeFEDAWo/C9SgUQMoxMzMzMxRA1AjXo3A9FEDe33oUrkcUQOi2HoXrURRA8o3C9ShcFED8ZGZmZmYUQAY8CtejcBRAEBOuR+F6FEAa6lG4HoUUQCTB9ShcjxRALpiZmZmZFEA4bz0K16MUQEJG4XoUrhRATB2F61G4FEBW9Chcj8IUQGDLzMzMzBRAaqJwPQrXFEB0eRSuR+EUQH5QuB6F6xRAiCdcj8L1FECS/v////8UQJzVo3A9ChVApqxH4XoUFUCwg+tRuB4VQLpaj8L1KBVAxDEzMzMzFUDOCNejcD0VQNjfehSuRxVA4rYehetRFUDsjcL1KFwVQPZkZmZmZhVAADwK16NwFUAKE65H4XoVQBTqUbgehRVAHsH1KFyPFUAomJmZmZkVQDJvPQrXoxVAPEbhehSuFUBGHYXrUbgVQFD0KFyPwhVAWsvMzMzMFUBkonA9CtcVQG55FK5H4RVAeFC4HoXrFUCCJ1yPwvUVQIz+/////xVAltWjcD0KFkCgrEfhehQWQKqD61G4HhZAtFqPwvUoFkC+MTMzMzMWQMgI16NwPRZA0t96FK5HFkDcth6F61EWQOaNwvUoXBZA8GRmZmZmFkD6OwrXo3AWQAQTrkfhehZADupRuB6FFkAYwfUoXI8WQCKYmZmZmRZALG89CtejFkA2RuF6FK4WQEAdhetRuBZASvQoXI/CFkBUy8zMzMwWQF6icD0K1xZAaHkUrkfhFkByULgehesWQHwnXI/C9RZAhv7/////FkCQ1aNwPQoXQJqsR+F6FBdApIPrUbgeF0CuWo/C9SgXQLgxMzMzMxdAwgjXo3A9F0DM33oUrkcXQNa2HoXrURdA4I3C9ShcF0DqZGZmZmYXQPQ7CtejcBdA/hKuR+F6F0AI6lG4HoUXQBLB9ShcjxdAHJiZmZmZF0Ambz0K16MXQDBG4XoUrhdAOh2F61G4F0BE9Chcj8IXQE7LzMzMzBdAWKJwPQrXF0BieRSuR+EXQGxQuB6F6xdAdidcj8L1F0CA/v////8XQIjVo3A9ChhAlKxH4XoUGECgg+tRuB4YQKhaj8L1KBhAsDEzMzMzGEC8CNejcD0YQMjfehSuRxhA0LYehetRGEDYjcL1KFwYQORkZmZmZhhA8DsK16NwGED4Eq5H4XoYQADqUbgehRhADMH1KFyPGEAYmJmZmZkYQCBvPQrXoxhAKEbhehSuGEA0HYXrUbgYQED0KFyPwhhASMvMzMzMGEBQonA9CtcYQFx5FK5H4RhAaFC4HoXrGEBwJ1yPwvUYQHj+/////xhAhNWjcD0KGUCQrEfhehQZQJiD61G4HhlAoFqPwvUoGUCsMTMzMzMZQLgI16NwPRlAwN96FK5HGUDIth6F61EZQNSNwvUoXBlA4GRmZmZmGUDoOwrXo3AZQPASrkfhehlA/OlRuB6FGUAIwfUoXI8ZQBCYmZmZmRlAGG89CtejGUAkRuF6FK4ZQDAdhetRuBlAOPQoXI/CGUBAy8zMzMwZQEyicD0K1xlAWHkUrkfhGUBgULgehesZQGgnXI/C9RlAdP7/////GUCA1aNwPQoaQIisR+F6FBpAkIPrUbgeGkCcWo/C9SgaQKgxMzMzMxpAsAjXo3A9GkC433oUrkcaQMS2HoXrURpA0I3C9ShcGkDYZGZmZmYaQOA7CtejcBpA7BKuR+F6GkD46VG4HoUaQADB9ShcjxpACJiZmZmZGkAUbz0K16MaQCBG4XoUrhpAKB2F61G4GkAw9Chcj8IaQDzLzMzMzBpASKJwPQrXGkBQeRSuR+EaQFhQuB6F6xpAZCdcj8L1GkBw/v////8aQHjVo3A9ChtAgKxH4XoUG0CMg+tRuB4bQJhaj8L1KBtAoDEzMzMzG0CoCNejcD0bQLTfehSuRxtAwLYehetRG0DIjcL1KFwbQNBkZmZmZhtA3DsK16NwG0DoEq5H4XobQPDpUbgehRtA+MD1KFyPG0AEmJmZmZkbQBBvPQrXoxtAGEbhehSuG0AgHYXrUbgbQCz0KFyPwhtAOMvMzMzMG0BAonA9CtcbQEh5FK5H4RtAVFC4HoXrG0BgJ1yPwvUbQGj+/////xtAcNWjcD0KHEB8rEfhehQcQIiD61G4HhxAkFqPwvUoHECYMTMzMzMcQKQI16NwPRxAsN96FK5HHEC4th6F61EcQMCNwvUoXBxAzGRmZmZmHEDYOwrXo3AcQOASrkfhehxA6OlRuB6FHED0wPUoXI8cQACYmZmZmRxACG89CtejHEAQRuF6FK4cQBwdhetRuBxAKPQoXI/CHEAwy8zMzMwcQDiicD0K1xxARHkUrkfhHEBQULgehescQFgnXI/C9RxAYP7/////HEBs1aNwPQodQHisR+F6FB1AgIPrUbgeHUCIWo/C9SgdQJQxMzMzMx1AoAjXo3A9HUCo33oUrkcdQLC2HoXrUR1AvI3C9ShcHUDIZGZmZmYdQNA7CtejcB1A2BKuR+F6HUDk6VG4HoUdQPDA9Shcjx1A+JeZmZmZHUAAbz0K16MdQAxG4XoUrh1AGB2F61G4HUAg9Chcj8IdQCjLzMzMzB1ANKJwPQrXHUBAeRSuR+EdQEhQuB6F6x1AUCdcj8L1HUBc/v////8dQGjVo3A9Ch5AcKxH4XoUHkB4g+tRuB4eQIRaj8L1KB5AkDEzMzMzHkCYCNejcD0eQKDfehSuRx5ArLYehetRHkC4jcL1KFweQMBkZmZmZh5AyDsK16NwHkDUEq5H4XoeQODpUbgehR5A6MD1KFyPHkDwl5mZmZkeQPxuPQrXox5ACEbhehSuHkAQHYXrUbgeQBj0KFyPwh5AJMvMzMzMHkAwonA9CtceQDh5FK5H4R5AQFC4HoXrHkBMJ1yPwvUeQFj+/////x5AYNWjcD0KH0BorEfhehQfQHSD61G4Hh9AgFqPwvUoH0CIMTMzMzMfQJAI16NwPR9AnN96FK5HH0Coth6F61EfQLCNwvUoXB9AuGRmZmZmH0DEOwrXo3AfQNASrkfheh9A2OlRuB6FH0DgwPUoXI8fQOyXmZmZmR9A+G49CtejH0AARuF6FK4fQAgdhetRuB9AFPQoXI/CH0Agy8zMzMwfQCiicD0K1x9AMHkUrkfhH0A8ULgehesfQEgnXI/C9R9AUP7/////H0Cs6lG4HgUgQDLWo3A9CiBAuMH1KFwPIEA8rUfhehQgQMCYmZmZGSBARoTrUbgeIEDMbz0K1yMgQFBbj8L1KCBA1EbhehQuIEBaMjMzMzMgQOAdhetROCBAZAnXo3A9IEDo9Chcj0IgQG7gehSuRyBA9MvMzMxMIEB4tx6F61EgQPyicD0KVyBAgo7C9ShcIEAIehSuR2EgQIxlZmZmZiBAEFG4HoVrIECWPArXo3AgQBwoXI/CdSBAoBOuR+F6IEAk/////38gQKrqUbgehSBAMNajcD2KIEC0wfUoXI8gQDitR+F6lCBAvpiZmZmZIEBEhOtRuJ4gQMhvPQrXoyBATFuPwvWoIEDSRuF6FK4gQFgyMzMzsyBA3B2F61G4IEBgCdejcL0gQOb0KFyPwiBAbOB6FK7HIEDwy8zMzMwgQHS3HoXr0SBA+qJwPQrXIECAjsL1KNwgQAR6FK5H4SBAiGVmZmbmIEAOUbgehesgQJQ8Ctej8CBAGChcj8L1IECcE65H4fogQCL//////yBAqOpRuB4FIUAs1qNwPQohQLDB9ShcDyFANq1H4XoUIUC8mJmZmRkhQECE61G4HiFAxG89CtcjIUBKW4/C9SghQNBG4XoULiFAVDIzMzMzIUDYHYXrUTghQF4J16NwPSFA5PQoXI9CIUBo4HoUrkchQOzLzMzMTCFAcrcehetRIUD4onA9ClchQHyOwvUoXCFAAHoUrkdhIUCGZWZmZmYhQAxRuB6FayFAkDwK16NwIUAUKFyPwnUhQJoTrkfheiFAIP////9/IUCk6lG4HoUhQCjWo3A9iiFArsH1KFyPIUA0rUfhepQhQLiYmZmZmSFAPITrUbieIUDCbz0K16MhQEhbj8L1qCFAzEbhehSuIUBQMjMzM7MhQNYdhetRuCFAXAnXo3C9IUDg9Chcj8IhQGTgehSuxyFA6svMzMzMIUBwtx6F69EhQPSicD0K1yFAeI7C9SjcIUD+eRSuR+EhQIRlZmZm5iFACFG4HoXrIUCMPArXo/AhQBIoXI/C9SFAmBOuR+H6IUAc//////8hQKDqUbgeBSJAJtajcD0KIkCswfUoXA8iQDCtR+F6FCJAtJiZmZkZIkA6hOtRuB4iQMBvPQrXIyJARFuPwvUoIkDIRuF6FC4iQE4yMzMzMyJA1B2F61E4IkBYCdejcD0iQNz0KFyPQiJAYuB6FK5HIkDoy8zMzEwiQGy3HoXrUSJA8KJwPQpXIkB2jsL1KFwiQPx5FK5HYSJAgGVmZmZmIkAEUbgehWsiQIo8CtejcCJAEChcj8J1IkCUE65H4XoiQBj/////fyJAnupRuB6FIkAk1qNwPYoiQKjB9ShcjyJALK1H4XqUIkCymJmZmZkiQDiE61G4niJAvG89CtejIkBAW4/C9agiQMZG4XoUriJATDIzMzOzIkDQHYXrUbgiQFQJ16NwvSJA2vQoXI/CIkBg4HoUrsciQOTLzMzMzCJAaLcehevRIkDuonA9CtciQHSOwvUo3CJA+HkUrkfhIkB8ZWZmZuYiQAJRuB6F6yJAiDwK16PwIkAMKFyPwvUiQJATrkfh+iJAFv//////IkCc6lG4HgUjQCDWo3A9CiNApMH1KFwPI0AqrUfhehQjQLCYmZmZGSNANITrUbgeI0C4bz0K1yMjQD5bj8L1KCNAxEbhehQuI0BIMjMzMzMjQMwdhetROCNAUgnXo3A9I0DY9Chcj0IjQFzgehSuRyNA4MvMzMxMI0Bmtx6F61EjQOyicD0KVyNAcI7C9ShcI0D0eRSuR2EjQHplZmZmZiNAAFG4HoVrI0CEPArXo3AjQAgoXI/CdSNAjhOuR+F6I0AU/////38jQJjqUbgehSNAHNajcD2KI0CiwfUoXI8jQCitR+F6lCNArJiZmZmZI0AwhOtRuJ4jQLZvPQrXoyNAPFuPwvWoI0DARuF6FK4jQEQyMzMzsyNAyh2F61G4I0BQCdejcL0jQNT0KFyPwiNAWOB6FK7HI0Dey8zMzMwjQGS3HoXr0SNA6KJwPQrXI0BsjsL1KNwjQPJ5FK5H4SNAeGVmZmbmI0D8ULgehesjQIA8Ctej8CNABihcj8L1I0CME65H4fojQA==\",\"dtype\":\"float64\",\"shape\":[2000]},\"y\":{\"__ndarray__\":\"AAAAAABAWkDlYaHWNDNaQC4hH/RsJlpA2j15WKgZWkDqt68D5wxaQF6PwvUoAFpANcSxLm7zWUBvVn2utuZZQA1GJXUC2llAD5OpglHNWUB0PQrXo8BZQDxFR3L5s1lAaKpgVFKnWUD4bFZ9rppZQOuMKO0NjllAQgrXo3CBWUD85GGh1nRZQBodyeU/aFlAm7IMcaxbWUCApSxDHE9ZQMj1KFyPQllAdKMBvAU2WUCErrZifylZQPcWSFD8HFlAzdy1hHwQWUAHAAAAAARZQKWAJsKG91hApl4pyxDrWEALmggbnt5YQNMyxLEu0lhA/ihcj8LFWECOfNCzWblYQIAtIR/0rFhA1ztO0ZGgWECRp1fKMpRYQK5wPQrXh1hAL5f/kH57WEATG55eKW9YQFv8GHPXYlhABztwzohWWEAW16NwPUpYQIjQs1n1PVhAXiegibAxWECY22gAbyVYQDXtDb4wGVhANlyPwvUMWECaKO0NvgBYQGJSJ6CJ9FdAjdk9eVjoV0AcvjCZKtxXQA4AAAAA0FdAZJ+rrdjDV0AenDOitLdXQDr2l92Tq1dAu63YX3afV0CfwvUoXJNXQOY07zhFh1dAkgTFjzF7V0CgMXctIW9XQBK8BRIUY1dA6KNwPQpXV0Ah6bevA0tXQL6L22gAP1dAvovbaAAzV0Ai6bevAydXQOmjcD0KG1dAFLwFEhQPV0CjMXctIQNXQJQExY8x91ZA6jTvOEXrVkCjwvUoXN9WQL+t2F9201ZAP/aX3ZPHVkAjnDOitLtWQGqfq63Yr1ZAFQAAAACkVkAjvjCZKphWQJXZPXlYjFZAalInoImAVkCjKO0NvnRWQD9cj8L1aFZAP+0NvjBdVkCi22gAb1FWQGknoImwRVZAlNCzWfU5VkAi16NwPS5WQBM7cM6IIlZAaPwYc9cWVkAhG55eKQtWQD2X/5B+/1VAvHA9CtfzVUCgp1fKMuhVQOY7TtGR3FVAkC0hH/TQVUCefNCzWcVVQBApXI/CuVVA5DLEsS6uVUAdmggbnqJVQLleKcsQl1VAuIAmwoaLVUAbAAAAAIBVQOHctYR8dFVADBdIUPxoVUCZrrZif11VQIqjAbwFUlVA3/UoXI9GVUCXpSxDHDtVQLOyDHGsL1VAMh3J5T8kVUAV5WGh1hhVQFsK16NwDVVABY0o7Q0CVUASbVZ9rvZUQIOqYFRS61RAV0VHcvnfVECPPQrXo9RUQCuTqYJRyVRAKkYldQK+VECMVn2utrJUQFLEsS5up1RAfI/C9SicVEAJuK8D55BUQPo9eViohVRATiEf9Gx6VEAGYqHWNG9UQCEAAAAAZFRAoPs6cM5YVECCVFInoE1UQMgKRiV1QlRAcR4Wak03VEB+j8L1KCxUQO9dS8gHIVRAw4mw4ekVVED6EvJBzwpUQJX5D+m3/1NAlD0K16P0U0D23uALk+lTQLvdk4eF3lNA5TkjSnvTU0Bx845TdMhTQGIK16NwvVNAtX77OnCyU0BtUPwYc6dTQId/2T15nFNABgyTqYKRU0Do9Shcj4ZTQC09m1Wfe1NA1uHplbJwU0Dj4xQdyWVTQFNDHOviWlNAJgAAAABQU0BdGsBbIEVTQPiRXP5DOlNA9mbV52ovU0BYmSoYlSRTQB0pXI/CGVNARhZqTfMOU0DSYFRSJwRTQMIIG55e+VJAFQ6+MJnuUkDMcD0K1+NSQOcwmSoY2VJAZU7RkVzOUkBGyeU/pMNSQIuh1jTvuFJANNejcD2uUkBAak3zjqNSQK9a07zjmFJAgqg1zTuOUkC5U3Qkl4NSQFNcj8L1eFJAUcKGp1duUkCyhVrTvGNSQHemCkYlWVJAnySX/5BOUkArAAAAAERSQBs5RUdyOVJAbs9m1ecuUkAkw2SqYCRSQD4UP8bcGVJAvML1KFwPUkCdzojS3gRSQOE3+MJk+lFAif5D+u3vUUCVImx4euVRQASkcD0K21FA14JRSZ3QUUANvw6cM8ZRQKdYqDXNu1FApE8eFmqxUUAFpHA9CqdRQMpVn6utnFFA8mSqYFSSUUB90ZFc/odRQGybVZ+rfVFAvsL1KFxzUUB0R3L5D2lRQI4pyxDHXlFAC2kAb4FUUUDsBRIUP0pRQDAAAAAAQFFA2FfKMsQ1UUDjDHGsiytRQFIf9GxWIVFAJI9TdCQXUUBaXI/C9QxRQPOGp1fKAlFA8A6cM6L4UEBQ9GxWfe5QQBQ3GsBb5FBAPNejcD3aUEDH1AloItBQQLYvTKYKxlBACOhqK/a7UEC+/WX35LFQQNZwPQrXp1BAU0HxY8ydUEA0b4EExZNQQHf67evAiVBAHuM2GsB/UEApKVyPwnVQQJjMXUvIa1BAas07TtFhUECfK/aX3VdQQDjnjCjtTVBANAAAAABEUECUdk8eFjpQQFhKe4MvMFBAf3uDL0wmUEAKCmgibBxQQPj1KFyPElBASj/G3LUIUED9y39Iv/1PQC/UK2UZ6k9AJ5eQD3rWT0DnFK5H4cJPQG1NhA1Pr09Au0ATYcObT0DQ7lpCPohPQKxXW7G/dE9AT3sUrkdhT0C5WYY41k1PQOrysFBrOk9A4kaU9gYnT0ChVTAqqRNPQCcfhetRAE9AdaOSOgHtTkCJ4lgXt9lOQGTc14Fzxk5AB5EPejazTkBxAAAAAKBOQKEqqRPQjE5AmQ8LtaZ5TkBYryXkg2ZOQN0J+aBnU05AKh+F61FATkA+78nDQi1OQBl6xyk6Gk5Au799HTgHTkAlwOyePPRNQFV7FK5H4U1ATPH0SlnOTUAKIo51cbtNQJAN4C2QqE1A3LPqc7WVTUDwFK5H4YJNQMowKqkTcE1AbAdfmExdTUDVmEwVjEpNQAXl8h/SN01A++tRuB4lTUC5rWnecRJNQD4qOpLL/0xAimHD0yvtTECdUwWjktpMQHgAAAAAyExAGWiz6nO1TECBih9j7qJMQLFnRGlvkExAp/8h/fZ9TEBkUrgehWtMQOlfB84ZWUxANSgPC7VGTEBHq8/VVjRMQCHpSC7/IUxAwuF6FK4PTEAqlWWIY/1LQFkDCYof60tATyxlGeLYS0AMEHo2q8ZLQJCuR+F6tEtA2wfOGVGiS0DuGw3gLZBLQMfqBDQRfktAZ3S1FftrS0DPuB6F61lLQP23QILiR0tA83EbDeA1S0Cv5q4l5CNLQDMW+8vuEUtAfgAAAAAAS0CQpb3BF+5KQGkFNBE23EpACSBj7lrKSkBw9UpZhrhKQJ6F61G4pkpAk9BE2PCUSkBP1lbsL4NKQNOWIY51cUpAHRKlvcFfSkAuSOF6FE5KQAc51sVtPEpApuSDns0qSkANS+oENBlKQDtsCfmgB0pAMEjhehT2SUDr3nGKjuRJQG4wuycP00lAuDy9UpbBSUDJA3gLJLBJQKGF61G4nklAQMIXJlONSUCnufyH9HtJQNRrmnecaklAyNjw9EpZSUCEAAAAAEhJQAbjx5i7NklAUIBIv30lSUBg2IFzRhRJQDjrc7UVA0lA17gehevxSEA8QYLix+BIQGmEns2qz0hAXYJzRpS+SEAYOwFNhK1IQJquR+F6nEhA49xGA3iLSEDzxf6ye3pIQMtpb/CFaUhAaciYu5ZYSEDO4XoUrkdIQPu1FfvLNkhA7kRpb/AlSECpjnVxGxVIQCqTOgFNBEhAc1K4HoXzR0CDzO7Jw+JHQFoB3gIJ0kdA+PCFyVTBR0Bcm+Ydp7BHQIkAAAAAoEdAfCDSb1+PR0A2+1xtxX5HQLeQoPgxbkdA/+CcEaVdR0AP7FG4Hk1HQOWxv+yePEdAgjLmriUsR0DnbcX+shtHQBJkXdxGC0dABRWuR+H6RkC/gLdAgupGQECneccp2kZAh4j029fJRkCWJCh+jLlGQGx7FK5HqUZACY25awmZRkBtWRe30YhGQJngLZCgeEZAiyL99nVoRkBEH4XrUVhGQMXWxW00SEZADEm/fR04RkAadnEbDShGQPBd3EYDGEZAjQAAAAAIRkDwXdxGA/hFQBt2cRsN6EVADUm/fR3YRUDG1sVtNMhFQEYfhetRuEVAjSL99nWoRUCb4C2QoJhFQHBZF7fRiEVADI25awl5RUBvexSuR2lFQJokKH6MWUVAi4j029dJRUBEp3nHKTpFQMOAt0CCKkVAChWuR+EaRUAXZF3cRgtFQOxtxf6y+0RAiDLmriXsREDrsb/sntxEQBXsUbgezURABeGcEaW9REC+kKD4Ma5EQD37XG3FnkRAgyDSb1+PRECQAAAAAIBEQGSb5h2ncERAAPGFyVRhREBiAd4CCVJEQIzM7snDQkRAfFK4HoUzREA0kzoBTSREQLKOdXEbFURA+ERpb/AFREAFthX7y/ZDQNnhehSu50NAdMiYu5bYQ0DWaW/whclDQP/F/rJ7ukNA79xGA3irQ0CmrkfhepxDQCQ7AU2EjUNAaoJzRpR+Q0B2hJ7Nqm9DQEpBguLHYENA5LgehetRQ0BG63O1FUNDQG7YgXNGNENAXoBIv30lQ0AV48eYuxZDQJMAAAAACENA2Njw9Er5QkDja5p3nOpCQLe5/If020JAUcIXJlPNQkCyhetRuL5CQNoDeAsksEJAyTy9UpahQkCAMLsnD5NCQP3ecYqOhEJAQkjhehR2QkBNbAn5oGdCQCBL6gQ0WUJAuuSDns1KQkAaOdbFbTxCQEJI4XoULkJAMRKlvcEfQkDmliGOdRFCQGTWVuwvA0JAqNBE2PD0QUCzhetRuOZBQIX1SlmG2EFAHiBj7lrKQUB+BTQRNrxBQKalvcEXrkFAlAAAAACgQUBKFvvL7pFBQMbmriXkg0FACnIbDeB1QUAVuECC4mdBQOa4HoXrWUFAgHS1FftLQUDg6gQ0ET5BQAYcDeAtMEFA9AfOGVEiQUCqrkfhehRBQCYQejarBkFAaSxlGeL4QEBzAwmKH+tAQESVZYhj3UBA3eF6FK7PQEA86Ugu/8FAQGOrz9VWtEBAUCgPC7WmQEAFYAfOGZlAQIFSuB6Fi0BAxP8h/fZ9QEDOZ0Rpb3BAQJ6KH2PuYkBANmiz6nNVQECWAAAAAEhAQLxTBaOSOkBAqWHD0ystQEBdKjqSyx9AQNitad5xEkBAG+xRuB4FQEBJyuU/pO8/QOoxmSoY1T9AGQ++MJm6P0DWYVRSJ6A/QCEqXI/ChT9A+2fV52prP0BjG8BbIFE/QFhEHOviNj9A3OLplbIcP0Du9ihcjwI/QI+A2T156D5AvX/7OnDOPkB59I5TdLQ+QMTek4eFmj5AnT4K16OAPkADFPJBz2Y+QPheS8gHTT5Aex8Wak0zPkCNVVInoBk+QCwBAAAAAD5AWSIf9GzmPUAVua8D58w9QF/FsS5usz1AN0cldQKaPUCdPgrXo4A9QJGrYFRSZz1AE44o7Q1OPUAj5mGh1jQ9QMKzDHGsGz1A7vYoXI8CPUCpr7Zif+k8QPLdtYR80DxAyYEmwoa3PEAumwgbnp48QCEqXI/ChTxAoy4hH/RsPECyqFfKMlQ8QFCY/5B+OzxAfP0Yc9ciPEA22KNwPQo8QH4ooImw8TtAVO4NvjDZO0C4Ke0NvsA7QKvaPXlYqDtAKwEAAACQO0A6nTOitHc7QNeu2F92XztAAjbvOEVHO0C7MnctIS87QAKlcD0KFztA14zbaAD/OkA76revA+c6QCy9BRIUzzpArAXFjzG3OkC6w/UoXJ86QFb3l92ThzpAgKCrrdhvOkA4vzCZKlg6QH9TJ6CJQDpAU12PwvUoOkC23GgAbxE6QKbRs1n1+TlAJTxwzojiOUAyHJ5eKcs5QM1xPQrXszlA9zxO0ZGcOUCufdCzWYU5QPQzxLEubjlAx18pyxBXOUApAQAAAEA5QBkYSFD8KDlAl6QBvAUSOUCjpixDHPs4QD0eyeU/5DhAZgvXo3DNOEAcblZ9rrY4QGFGR3L5nzhANJSpglGJOECVV32utnI4QISQwvUoXDhAAT95WKhFOEAMY6HWNC84QKb8OnDOGDhAzQtGJXUCOECDkML1KOw3QMeKsOHp1TdAmfoP6be/N0D53+ALk6k3QOc6I0p7kzdAZAvXo3B9N0BuUfwYc2c3QAcNk6mCUTdALT6bVZ87N0Di5BQdySU3QCUBAAAAEDdA9pJc/kP6NkBWmioYleQ2QEMXak3zzjZAvwkbnl65NkDIcT0K16M2QGBP0ZFcjjZAhqLWNO94NkA6a03zjmM2QHypNc07TjZATF2PwvU4NkCrhlrTvCM2QJcll/+QDjZAEjpFR3L5NUAbxGSqYOQ1QLLD9ShczzVA1zj4wmS6NUCKI2x4eqU1QMuDUUmdkDVAm1moNc17NUD4pHA9Cmc1QORlqmBUUjVAXpxVn6s9NUBmSHL5Dyk1QPxpAG+BFDVAIAEAAAAANUDSDXGsi+s0QBOQU3Qk1zRA4oenV8rCNEA+9WxWfa40QCnYo3A9mjRAojBMpgqGNECp/mX35HE0QD5C8WPMXTRAYvvt68BJNEATKlyPwjU0QFPOO07RITRAIOiMKO0NNEB8d08eFvozQGZ8gy9M5jNA3vYoXI/SM0Dl5j+k374zQHpMyAc9qzNAnCfChqeXM0BMeC0hH4QzQIw+CtejcDNAWHpYqDVdM0C0KxiV1EkzQJxSSZ2ANjNAFO/rwDkjM0AaAQAAABAzQK2IhVrT/DJAzoV80LPpMkB++ORhodYyQLzgvg6cwzJAiD4K16OwMkDiEce6uJ0yQMta9bnaijJAQhmV1Al4MkBGTaYKRmUyQNj2KFyPUjJA+hUdyeU/MkCoqoJRSS0yQOa0WfW5GjJAsTSitDcIMkAKKlyPwvUxQPKUh4Va4zFAaHUkl//QMUBryzLEsb4xQP2WsgxxrDFAHdijcD2aMUDLjgbwFogxQAi72or9dTFA0lwgQfFjMUAqdNcS8lExQBEBAAAAQDFAhgOaCBsuMUCIe6UsQxwxQBppImx4CjFAOcwQx7r4MEDmpHA9CucwQCLzQc9m1TBA67aEfNDDMEBD8DhFR7IwQCifXinLoDBAnMP1KFyPMECeXf5D+n0wQC9teHqlbDBATfJjzF1bMED67MA5I0owQDRdj8L1ODBA/ULPZtUnMEBUnoAmwhYwQDlvowG8BTBAWGtv8IXpL0Ba43oUrscvQHlGaW/wpS9AtJQ6AU2EL0ALzu7Jw2IvQH/yhclUQS9ADwIAAAAgL0C7/Fxtxf4uQIPinBGl3S5AZ7O/7J68LkBob8X+spsuQIUWrkfhei5Avqh5xylaLkAUJih+jDkuQIaOuWsJGS5AFOItkKD4LUC+IIXrUdgtQIVKv30duC1AaF/cRgOYLUBnX9xGA3gtQIJKv30dWC1AuiCF61E4LUAO4i2QoBgtQH6OuWsJ+SxACiYofozZLECzqHnHKbosQHgWrkfhmixAWW/F/rJ7LEBWs7/snlwsQHDinBGlPSxApvxcbcUeLED4AQAAAAAsQGbyhclU4StA8c3uycPCK0CYlDoBTaQrQFtGaW/whStAO+N6FK5nK0A3a2/whUkrQE/eRgN4KytAgzwBTYQNK0DThZ7Nqu8qQEC6HoXr0SpAydmBc0a0KkBu5MeYu5YqQDDa8PRKeSpADrv8h/RbKkAIh+tRuD4qQB4+vVKWISpAUeBxio4EKkCgbQn5oOcpQArmg57NyilAkknhehSuKUA2mCGOdZEpQPbRRNjwdClA0vZKWYZYKUDKBjQRNjwpQN4BAAAAIClAEOiuJeQDKUBcuUCC4ucoQMZ1tRX7yyhATB0N4C2wKEDur0fhepQoQKwtZRnieChAhpZliGNdKEB96kgu/0EoQJApDwu1JihAv1O4HoULKEAKaURpb/AnQHJps+pz1SdA9lQFo5K6J0CWKzqSy58nQFPtUbgehSdALJpMFYxqJ0AgMiqpE1AnQDK16nO1NSdAYCOOdXEbJ0CpfBSuRwEnQBDBfR045yZAkvDJw0LNJkAwC/mgZ7MmQOsQC7WmmSZAwgEAAACAJkC23deBc2YmQMWkkjoBTSZA8VYwKqkzJkA59LBQaxomQJ18FK5HASZAHvBaQj7oJUC6ToQNT88lQHSYkA96tiVASc1/SL+dJUA77VG4HoUlQEn4Bl+YbCVAc+6ePCxUJUC6zxlR2jslQBycd5yiIyVAm1O4HoULJUA29tvXgfMkQO6D4seY2yRAwvzL7snDJECyYJhMFawkQL6vR+F6lCRA5unZrPp8JEAqD0+vlGUkQIwfp+hITiRACRviWBc3JECiAQAAACAkQFjTAN4CCSRAKpDk8h/yI0AYOKs+V9sjQCPLVMGoxCNASknhehSuI0CNslBrmpcjQOwGo5I6gSNAaEbY8PRqI0AAcfCFyVQjQLSG61G4PiNAhIfJVMEoI0Bwc4qO5BIjQHpKLv8h/SJAngy1pnnnIkDguR6F69EiQD5Sa5p3vCJAuNWa5h2nIkBORK1p3pEiQACeoiO5fCJAz+J6FK5nIkC6EjY8vVIiQMEt1JrmPSJA5DNVMCopIkAkJbn8hxQiQIABAAAAACJA+MgpOpLrIUCNezarPtchQD4ZJlMFwyFACqL4MeauIUD0Fa5H4ZohQPl0RpT2hiFAG7/BFyZzIUBZ9B/Sb18hQLMUYcPTSyFAKiCF61E4IUC8FoxK6iQhQGz4deCcESFAN8VCrWn+IEAeffKwUOsgQCIghetR2CBAQq76XG3FIEB+J1MFo7IgQNeLjuTynyBATNus+lyNIEDdFa5H4XogQIo7kst/aCBAVExZhjhWIEA6SAN4C0QgQDwvkKD4MSBAWgEAAAAgIECVvlKWIQ4gQNjNEMe6+B9AvvRBz2bVH0De8ThFR7IfQDTF9Shcjx9AxG54eqVsH0CN7sA5I0ofQI5Ez2bVJx9Ax3CjAbwFH0A5cz0K1+MeQORLnYAmwh5AxvrCZKqgHkDif662Yn8eQDbbX3ZPXh5AwgzXo3A9HkCIFBQ/xhweQIXyFkhQ/B1Au6bfvg7cHUAqMW6jAbwdQNGRwvUonB1AsMjctYR8HUDI1bzjFF0dQBm5Yn/ZPR1AonLOiNIeHUBkAgAAAAAdQF5o9+Rh4RxAkaS0N/jCHED8tjf4wqQcQKCfgCbChhxAfF6PwvVoHECR82PMXUscQN5e/kP6LRxAZKBeKcsQHEAiuIR80PMbQBmmcD0K1xtASGoibHi6G0CwBJoIG54bQFB11xLygRtAKbzaiv1lG0A72aNwPUobQIXMMsSxLhtAB5aHhVoTG0DCNaK0N/gaQLarglFJ3RpA4vcoXI/CGkBGGpXUCagaQOMSx7q4jRpAuOG+DpxzGkDGhnzQs1kaQA0CAAAAQBpAjFNJnYAmGkBEe1ioNQ0aQDR5LSEf9BlAXE3IBz3bGUC+9yhcj8IZQFd4Tx4WqhlAKc87TtGRGUA0/O3rwHkZQHf/ZffkYRlA89ijcD1KGUCniKdXyjIZQJQOcayLGxlAuWoAb4EEGUAXnVWfq+0YQK2lcD0K1xhAfIRRSZ3AGECDOfjCZKoYQMPEZKpglBhAOyaX/5B+GEDsXY/C9WgYQNZrTfOOUxhA90/RkVw+GEBSChueXikYQOSaKhiVFBhAsAEAAAAAGEC0PptVn+sXQPBR/Bhz1xdAZTsjSnvDF0AT+w/pt68XQPmQwvUonBdAF/06cM6IF0BuP3lYqHUXQP5Xfa62YhdAxkZHcvlPF0DGC9ejcD0XQACnLEMcKxdAcRhIUPwYF0AbYCnLEAcXQP590LNZ9RZAGXI9CtfjFkBtPHDOiNIWQPncaABvwRZAvlMnoImwFkC7oKut2J8WQPHD9ShcjxZAX70FEhR/FkAGjdtoAG8WQOUydy0hXxZA/a7YX3ZPFkBNAQAAAEAWQNYp7Q2+MBZAlyigibAhFkCR/Rhz1xIWQMOoV8oyBBZALipcj8L1FUDSgSbChucVQK6vtmJ/2RVAwrMMcazLFUAPjijtDb4VQJQ+CtejsBVAUsWxLm6jFUBJIh/0bJYVQHhVUiegiRVA315LyAd9FUB/PgrXo3AVQFj0jlN0ZBVAaYDZPXlYFUCz4umVskwVQDUbwFsgQRVA7ylcj8I1FUDiDr4wmSoVQA7K5T+kHxVAclvTvOMUFUAPw4anVwoVQOQAAAAAABVA8hQ/xtz1FEA4/0P67esUQLe/Dpwz4hRAblafq63YFEBew/UoXM8UQIYGEhQ/xhRA5x/0bFa9FECAD5wzorQUQFLVCWgirBRAXHE9CtejFECf4zYawJsUQBos9pfdkxRAzkp7gy+MFEC7P8bctYQUQOAK16NwfRRAPayt2F92FEDTI0p7g28UQKFxrIvbaBRAqJXUCWhiFEDoj8L1KFwUQGBgdk8eVhRAEAfwFkhQFED5gy9MpkoUQBvXNO84RRRAdQAAAABAFEAIAJF++zoUQNPV52orNhRA1oEExY8xFEASBOeMKC0UQIdcj8L1KBRANIv9ZfckFEAakDF3LSEUQDhrK/aXHRRAjxzr4jYaFEAepHA9ChcUQOYBvAUSFBRA5jXNO04RFEAfQKTfvg4UQJAgQfFjDBRAOtejcD0KFEAcZMxdSwgUQDfHuriNBhRAigBvgQQFFEAWEOm3rwMUQNr1KFyPAhRA17EubqMBFEANRPrt6wAUQHusi9toABRAIeviNhoAFEAAAAAAAAAUQBfr4jYaABRAZ6yL22gAFEDwQ/rt6wAUQLGxLm6jARRAqvUoXI8CFEDcD+m3rwMUQEcAb4EEBRRA6sa6uI0GFEDGY8xdSwgUQNrWo3A9ChRAJiBB8WMMFECrP6Tfvg4UQGk1zTtOERRAXwG8BRIUFECOo3A9ChcUQPUb6+I2GhRAlWor9pcdFEBtjzF3LSEUQH6K/WX3JBRAx1uPwvUoFEBJA+eMKC0UQAOBBMWPMRRA9tTnais2FEAh/5B++zoUQIX/////PxRAIdY07zhFFED2gi9MpkoUQAQG8BZIUBRASV92Tx5WFEDIjsL1KFwUQH+U1AloYhRAbnCsi9toFECWIkp7g28UQPeqrdhfdhRAkAnXo3B9FEBhPsbctYQUQGtJe4MvjBRArir2l92TFEAp4jYawJsUQNxvPQrXoxRAyNMJaCKsFEDtDZwzorQUQEoe9GxWvRRA4AQSFD/GFECuwfUoXM8UQLRUn6ut2BRA870OnDPiFEBr/UP67esUQBsTP8bc9RRABP//////FEAlwYanVwoVQH9Z07zjFBVAEcjlP6QfFUDcDL4wmSoVQN8nXI/CNRVAGxnAWyBBFUCP4OmVskwVQDx+2T15WBVAIvKOU3RkFUA/PArXo3AVQJZcS8gHfRVAJVNSJ6CJFUDsHx/0bJYVQOzCsS5uoxVAJDwK16OwFUCViyjtDb4VQD+xDHGsyxVAIa22Yn/ZFUA7fybChucVQI4nXI/C9RVAGqZXyjIEFkDe+hhz1xIWQNoloImwIRZADyftDb4wFkB9/v///z8WQCOs2F92TxZAAjB3LSFfFkAZittoAG8WQGi6BRIUfxZA8cD1KFyPFkCxnaut2J8WQKpQJ6CJsBZA3NloAG/BFkBGOXDOiNIWQOluPQrX4xZAxHrQs1n1FkDYXCnLEAcXQCQVSFD8GBdAqaMsQxwrF0BmCNejcD0XQFxDR3L5TxdAi1R9rrZiF0DyO3lYqHUXQJH5OnDOiBdAaY3C9SicF0B59w/pt68XQMI3I0p7wxdARE78GHPXF0D+OptVn+sXQPD9/////xdAG5cqGJUUGEB+BhueXikYQBpM0ZFcPhhA72dN845TGED8WY/C9WgYQEIil/+QfhhAwMBkqmCUGEB2NfjCZKoYQGWAUUmdwBhAjaFwPQrXGEDtmFWfq+0YQIZmAG+BBBlAVwpxrIsbGUBghKdXyjIZQKPUo3A9ShlAHvtl9+RhGUDR9+3rwHkZQLzKO07RkRlA4XNPHhaqGUA+8yhcj8IZQNNIyAc92xlAoHQtIR/0GUCndlioNQ0aQOZOSZ2AJhpAXf3///8/GkANgnzQs1kaQPXcvg6ccxpAFg7HuriNGkBwFZXUCagaQALzKFyPwhpAzKaCUUndGkDPMKK0N/gaQAqRh4VaExtAfscyxLEuG0Ar1KNwPUobQBC32or9ZRtALXDXEvKBG0CD/5kIG54bQBJlImx4uhtA2aBwPQrXG0DYsoR80PMbQBCbXinLEBxAgln+Q/otHEAq7mPMXUscQAxZj8L1aBxAJpqAJsKGHEB5sTf4wqQcQASftDf4whxAyGL35GHhHEDE/P////8cQPhszojSHh1AZrNif9k9HUAM0LzjFF0dQOrC3LWEfB1AAYzC9SicHUBQK26jAbwdQNig374O3B1AmOwWSFD8HUCRDhQ/xhweQMIG16NwPR5ALNVfdk9eHkDPea62Yn8eQKr0wmSqoB5AvUWdgCbCHkAJbT0K1+MeQI5qowG8BR9ASj7PZtUnH0BA6MA5I0ofQG5oeHqlbB9A1L71KFyPH0B06zhFR7IfQEvuQc9m1R9AXMcQx7r4H0BSu1KWIQ4gQBL+////HyBA7yuQoPgxIEDoRAN4C0QgQP5IWYY4ViBALziSy39oIEB9Eq5H4XogQOfXrPpcjSBAboiO5PKfIEAQJFMFo7IgQM+q+lxtxSBAqhyF61HYIECiefKwUOsgQLXBQq1p/iBA5fR14JwRIUAxE4xK6iQhQJochetROCFAHhFhw9NLIUC/8B/Sb18hQHy7wRcmcyFAVnFGlPaGIUBMEq5H4ZohQF6e+DHmriFAjBUmUwXDIUDWdzarPtchQD3FKTqS6yFAwP3/////IUBfIbn8hxQiQBswVTAqKSJA8inUmuY9IkDmDjY8vVIiQPfeehSuZyJAJJqiI7l8IkBsQK1p3pEiQNHRmuYdpyJAUk5rmne8IkDwtR6F69EiQKoItaZ55yJAgEYu/yH9IkByb4qO5BIjQIGDyVTBKCNArILrUbg+I0DzbPCFyVQjQFZC2PD0aiNA1gKjkjqBI0ByrlBrmpcjQCpF4XoUriNA/sZUwajEI0DvM6s+V9sjQPyL5PIf8iNAJc8A3gIJJEBq/f///x8kQMwW4lgXNyRAShun6EhOJEDkCk+vlGUkQJvl2az6fCRAbqtH4XqUJEBcXJhMFawkQGj4y+7JwyRAj3/ix5jbJEDT8dvXgfMkQDNPuB6FCyVAr5d3nKIjJUBIyxlR2jslQPzpnjwsVCVAzvMGX5hsJUC76FG4HoUlQMTIf0i/nSVA6pOQD3q2JUAsSoQNT88lQIrrWkI+6CVABXgUrkcBJkCc77BQaxomQE9SMCqpMyZAHqCSOgFNJkAK2deBc2YmQBL9////fyZANgwLtaaZJkB2BvmgZ7MmQNPrycNCzSZATLx9HTjnJkDhdxSuRwEnQJIejnVxGydAYLDqc7U1J0BKLSqpE1AnQFCVTBWMaidAc+hRuB6FJ0CyJjqSy58nQAxQBaOSuidAhGSz6nPVJ0AXZERpb/AnQMdOuB6FCyhAkyQPC7UmKEB75Ugu/0EoQICRZYhjXShAoChlGeJ4KEDeqkfhepQoQDcYDeAtsChArHC1FfvLKEA+tECC4ucoQOziriXkAylAtvz///8fKUCdATQRNjwpQKDxSlmGWClAv8xE2PB0KUD6kiGOdZEpQFJE4XoUrilAxuCDns3KKUBWaAn5oOcpQALbcYqOBCpAyzi9UpYhKkCwgetRuD4qQLG1/If0WypAztTw9Ep5KkAI38eYu5YqQF7UgXNGtCpA0LQehevRKkBfgJ7Nqu8qQAk3AU2EDStA0NhGA3grK0CzZW/whUkrQLPdehSuZytAz0Bpb/CFK0AHjzoBTaQrQFvI7snDwitAy+yFyVThK0BY/P////8rQAH3XG3FHixAxtycEaU9LECorb/snlwsQKZpxf6yeyxAwBCuR+GaLED2onnHKbosQEggKH6M2SxAt4i5awn5LEBC3C2QoBgtQOoahetROC1ArUS/fR1YLUCNWdxGA3gtQIlZ3EYDmC1AokS/fR24LUDWGoXrUdgtQCfcLZCg+C1AlIi5awkZLkAeICh+jDkuQMOieccpWi5AhRCuR+F6LkBjacX+spsuQF6tv+yevC5AdNycEaXdLkCn9lxtxf4uQPf7////Hy9AYuyFyVRBL0Dqx+7Jw2IvQI6OOgFNhC9ATkBpb/ClL0Aq3XoUrscvQCNlb/CF6S9AHGyjAbwFMEA0m4AmwhYwQNw/z2bVJzBAEFqPwvU4MEDU6cA5I0owQCTvY8xdWzBABGp4eqVsMEBxWv5D+n0wQGzA9ShcjzBA9pteKcugMEAO7ThFR7IwQLSzhHzQwzBA6O9Bz2bVMECqoXA9CucwQPrIEMe6+DBA2WUibHgKMUBGeKUsQxwxQEAAmggbLjFAyf3///8/MUDgcNcS8lExQIVZIEHxYzFAuLfaiv11MUB6iwbwFogxQMnUo3A9mjFAppOyDHGsMUASyDLEsb4xQAxyJJf/0DFAlJGHhVrjMUCqJlyPwvUxQE4xorQ3CDJAgbFZ9bkaMkBCp4JRSS0yQJASHcnlPzJAbPMoXI9SMkDYSaYKRmUyQNAVldQJeDJAWFf1udqKMkBtDse6uJ0yQBA7CtejsDJAQt2+DpzDMkAC9eRhodYyQFCCfNCz6TJAK4WFWtP8MkCW/f///w8zQI7r68A5IzNAFE9JnYA2M0AoKBiV1EkzQMp2WKg1XTNA/DoK16NwM0C6dC0hH4QzQAckwoanlzNA4kjIBz2rM0BM4z+k374zQELzKFyP0jNAyHiDL0zmM0Dcc08eFvozQH7kjCjtDTRArso7TtEhNEBrJlyPwjU0QLj37evASTRAkj7xY8xdNED6+mX35HE0QPAsTKYKhjRAddSjcD2aNECI8WxWfa40QCiEp1fKwjRAWIxTdCTXNEAUCnGsi+s0QGD9/////zRAOWYAb4EUNUChRHL5Dyk1QJeYVZ+rPTVAGmKqYFRSNUAsoXA9Cmc1QMxVqDXNezVA+n9RSZ2QNUC3H2x4eqU1QAE1+MJkujVA2r/1KFzPNUBAwGSqYOQ1QDU2RUdy+TVAuCGX/5AONkDJglrTvCM2QGhZj8L1ODZAlqU1zTtONkBRZ03zjmM2QJue1jTveDZAckvRkVyONkDYbT0K16M2QMwFG55euTZAThNqTfPONkBelioYleQ2QP2OXP5D+jZAKf3///8PN0Dk4BQdySU3QC06m1WfOzdAAwmTqYJRN0BoTfwYc2c3QFwH16NwfTdA3TYjSnuTN0Ds2+ALk6k3QIr2D+m3vzdAtYaw4enVN0BvjML1KOw3QLcHRiV1AjhAjfg6cM4YOEDxXqHWNC84QOM6eVioRThAZIzC9ShcOEByU32utnI4QA+QqYJRiThAOkJHcvmfOEDzaVZ9rrY4QDoH16NwzThADxrJ5T/kOEByoixDHPs4QGSgAbwFEjlA4xNIUPwoOUDx/P///z85QI1bKcsQVzlAty/EsS5uOUBvedCzWYU5QLU4TtGRnDlAiW09CtezOUDsF55eKcs5QNw3cM6I4jlAW82zWfX5OUBo2GgAbxE6QANZj8L1KDpALE8noIlAOkDjujCZKlg6QCmcq63YbzpA/PKX3ZOHOkBev/UoXJ86QE4BxY8xtzpAzLgFEhTPOkDY5bevA+c6QHKI22gA/zpAmqBwPQoXO0BQLnctIS87QJUx7zhFRztAaKrYX3ZfO0DImDOitHc7QLf8////jztANNY9eVioO0A/Je0NvsA7QNnpDb4w2TtAACSgibDxO0C206NwPQo8QPn4GHPXIjxAy5P/kH47PEArpFfKMlQ8QBkqIR/0bDxAlSVcj8KFPECglggbnp48QDh9JsKGtzxAX9m1hHzQPEAUq7Zif+k8QFbyKFyPAj1AJ68McawbPUCH4WGh1jQ9QHSJKO0NTj1A76ZgVFJnPUD5OQrXo4A9QJBCJXUCmj1AtsCxLm6zPUBqtK8D58w9QKwdH/Rs5j1AfPz/////PUDaUFInoBk+QMcaFmpNMz5AQVpLyAdNPkBKD/JBz2Y+QOE5CtejgD5ABtqTh4WaPkC5745TdLQ+QPp6+zpwzj5AyXvZPXnoPkAm8ihcjwI/QBLe6ZWyHD9AjD8c6+I2P0CTFsBbIFE/QClj1edqaz9ATSVcj8KFP0AAXVRSJ6A/QEAKvjCZuj9ADi2ZKhjVP0BrxeU/pO8/QKvpUbgeBUBAaKtp3nESQEDrJzqSyx9AQDZfw9MrLUBAR1EFo5I6QEAg/v///0dAQMBls+pzVUBAJogfY+5iQEBUZURpb3BAQEn9If32fUBABVC4HoWLQECIXQfOGZlAQNIlDwu1pkBA5KjP1Va0QEC85kgu/8FAQFvfehSuz0BAwpJliGPdQEDvAAmKH+tAQOQpZRni+EBAnw16NqsGQUAirEfhehRBQGsFzhlRIkFAfBkN4C0wQUBU6AQ0ET5BQPJxtRX7S0FAWLYehetZQUCGtUCC4mdBQHpvGw3gdUFANeSuJeSDQUC3E/vL7pFBQAD+////n0FAEaO9wReuQUDoAjQRNrxBQIYdY+5aykFA7PJKWYbYQUAZg+tRuOZBQAzORNjw9EFAyNNW7C8DQkBJlCGOdRFCQJIPpb3BH0JAokXhehQuQkB5NtbFbTxCQBfig57NSkJAfEjqBDRZQkCoaQn5oGdCQJxF4XoUdkJAVtxxio6EQkDXLbsnD5NCQCA6vVKWoUJALwF4CySwQkAGg+tRuL5CQKO/FyZTzUJACLf8h/TbQkA0aZp3nOpCQCfW8PRK+UJA4f3///8HQ0Bi4MeYuxZDQKp9SL99JUNAudWBc0Y0Q0CP6HO1FUNDQCy2HoXrUUNAkD6C4sdgQ0C8gZ7Nqm9DQK5/c0aUfkNAaDgBTYSNQ0Doq0fhepxDQDDaRgN4q0NAPsP+snu6Q0AUZ2/whclDQLHFmLuW2ENAFd96FK7nQ0BAsxX7y/ZDQDJCaW/wBURA64t1cRsVREBrkDoBTSREQLJPuB6FM0RAwMnuycNCRECW/t0CCVJEQDLuhclUYURAlZjmHadwREDA/f///39EQK8d0m9fj0RAavhcbcWeREDtjaD4Ma5EQDHenBGlvURAO+lRuB7NREATr7/sntxEQLIv5q4l7ERAEmvF/rL7REA5YV3cRgtFQC4SrkfhGkVA6X23QIIqRUBlpHnHKTpFQKiF9NvXSUVAuSEofoxZRUCQeBSuR2lFQCmKuWsJeUVAiFYXt9GIRUC13S2QoJhFQKkf/fZ1qEVAXhyF61G4RUDZ08VtNMhFQCJGv30d2EVAM3NxGw3oRUAEW9xGA/hFQJz9////B0ZAAVvcRgMYRkAtc3EbDShGQBpGv30dOEZAz9PFbTRIRkBQHIXrUVhGQJkf/fZ1aEZAot0tkKB4RkBzVhe30YhGQBGKuWsJmUZAdngUrkepRkCbISh+jLlGQIiF9NvXyUZAQqR5xynaRkDDfbdAgupGQAUSrkfh+kZADmFd3EYLR0DkasX+shtHQIIv5q4lLEdA4K6/7J48R0AF6VG4Hk1HQPjdnBGlXUdAso2g+DFuR0As+FxtxX5HQG4d0m9fj0dAff3///+fR0BTmOYdp7BHQOnthclUwUdAR/7dAgnSR0Byye7Jw+JHQGRPuB6F80dAF5A6AU0ESECRi3VxGxVIQNlBaW/wJUhA57IV+8s2SEC23noUrkdIQEzFmLuWWEhAsGZv8IVpSEDbwv6ye3pIQMbZRgN4i0hAeatH4XqcSED5NwFNhK1IQEB/c0aUvkhASIGezarPSEAWPoLix+BIQLO1HoXr8UhAFuhztRUDSUA61YFzRhRJQCV9SL99JUlA3d/HmLs2SUBd/f///0dJQJ3V8PRKWUlApGiad5xqSUB5tvyH9HtJQBW/FyZTjUlAcYLrUbieSUCVAHgLJLBJQIY5vVKWwUlAPi27Jw/TSUC323GKjuRJQPZE4XoU9klABGkJ+aAHSkDYR+oENBlKQG3hg57NKkpAyTXWxW08SkDyROF6FE5KQOMOpb3BX0pAlJMhjnVxSkAM01bsL4NKQFLNRNjwlEpAX4LrUbimSkAt8kpZhrhKQMEcY+5aykpAIwI0ETbcSkBNor3BF+5KQDb9/////0pA5xL7y+4RS0Bl464l5CNLQKtuGw3gNUtAsLRAguJHS0B9tR6F61lLQBhxtRX7a0tAeucENBF+S0CcGA3gLZBLQIUEzhlRoktAPKtH4Xq0S0C6DHo2q8ZLQPgoZRni2EtA/v8Iih/rS0DRkWWIY/1LQGzeehSuD0xAxuVILv8hTEDnp8/VVjRMQNckDwu1RkxAjlwHzhlZTEAET7gehWtMQEL8If32fUxATmREaW+QTEAhhx9j7qJMQLRks+pztUxADv3////HTEA2UAWjktpMQCZew9Mr7UxA1SY6ksv/TEBLqmnecRJNQI/oUbgeJU1Am+HyH9I3TUBmlUwVjEpNQPkDX5hMXU1AWi0qqRNwTUCBEa5H4YJNQGmw6nO1lU1AGArgLZCoTUCVHo51cbtNQNnt9EpZzk1A3XcUrkfhTUCovOyePPRNQEG8fR04B05AoXbHKToaTkDB68nDQi1OQKkbhetRQE5AXgb5oGdTTkDbqyXkg2ZOQBcMC7WmeU5AGyepE9CMTkDt/P///59OQIWND3o2s05A3tjXgXPGTkD+3lgXt9lOQOyfkjoB7U5AoRuF61EAT0AWUjAqqRNPQFJDlPYGJ09AXO+wUGs6T0AuVoY41k1PQL93FK5HYU9AF1Rbsb90T0A+61pCPohPQCs9E2HDm09A2UmEDU+vT0BNEa5H4cJPQJCTkA961k9AmtArZRnqT0BkyH9Iv/1PQHo9xty1CFBAKvQoXI8SUEA9CGgibBxQQLB5gy9MJlBAhkh7gy8wUEDEdE8eFjpQQGb+////Q1BAZuWMKO1NUEDKKfaX3VdQQJbLO07RYVBAxspdS8hrUEBVJ1yPwnVQQEjhNhrAf1BAovjt68CJUEBgbYEExZNQQH0/8WPMnVBA/m49CtenUEDm+2X35LFQQDLmaiv2u1BA3S1MpgrGUEDs0gloItBQQGLVo3A92lBAPDUawFvkUEB28mxWfe5QQBINnDOi+FBAF4WnV8oCUUB/Wo/C9QxRQEaNU3QkF1FAch30bFYhUUAEC3GsiytRQPpVyjLENVFAUP7///8/UUAJBBIUP0pRQCpnAG+BVFFArifLEMdeUUCSRXL5D2lRQNnA9Shcc1FAiJlVn6t9UUCbz5Fc/odRQA1jqmBUklFA4lOfq62cUUAfonA9CqdRQMBNHhZqsVFAwFaoNc27UUAjvQ6cM8ZRQO+AUUmd0FFAHaJwPQrbUUCrIGx4euVRQJ38Q/rt71FA9jX4wmT6UUCzzIjS3gRSQNDA9ShcD1JATxI/xtwZUkA3wWSqYCRSQILNZtXnLlJALDdFR3I5UkA6/v///0NSQLAil/+QTlJAiaQKRiVZUkDCg1rTvGNSQF7AhqdXblJAYVqPwvV4UkDJUXQkl4NSQI+mNc07jlJAuVjTvOOYUkBLaE3zjqNSQEHVo3A9rlJAlZ/WNO+4UkBOx+U/pMNSQG5M0ZFczlJA8S6ZKhjZUkDUbj0K1+NSQBsMvjCZ7lJAyQYbnl75UkDaXlRSJwRTQEsUak3zDlNAICdcj8IZU0BclyoYlSRTQPxk1edqL1NA+49c/kM6U0BeGMBbIEVTQCj+////T1NAVkEc6+JaU0Dj4RQdyWVTQNTf6ZWycFNALTubVZ97U0Dp8yhcj4ZTQAQKk6mCkVNAg33ZPXmcU0BqTvwYc6dTQLR8+zpwslNAXgjXo3C9U0Br8Y5TdMhTQN83I0p701NAuNuTh4XeU0Dv3OALk+lTQIs7Ctej9FNAjfcP6bf/U0D0EPJBzwpUQLqHsOHpFVRA41tLyAchVEB0jcL1KCxUQGkcFmpNN1RAvQhGJXVCVEB0UlInoE1UQJP5OnDOWFRAFv7///9jVED4X6HWNG9UQD0fH/RselRA6zt5WKiFVED8ta8D55BUQGyNwvUonFRAP8KxLm6nVEB7VH2utrJUQBpEJXUCvlRAGJGpglHJVEB6OwrXo9RUQERDR3L531RAcahgVFLrVED9alZ9rvZUQO2KKO0NAlVARQjXo3ANVUAA42Gh1hhVQBsbyeU/JFVAmbAMcawvVUB+oyxDHDtVQMjzKFyPRlVAcaEBvAVSVUB9rLZif11VQPEUSFD8aFVAyNq1hHx0VUD//f///39VQJl+JsKGi1VAm1wpyxCXVUABmAgbnqJVQMYwxLEurlVA7iZcj8K5VUB/etCzWcVVQHMrIR/00FVAxTlO0ZHcVUB8pVfKMuhVQJpuPQrX81VAHJX/kH7/VUD9GJ5eKQtWQEL6GHPXFlZA7zhwzogiVkD/1KNwPS5WQG7Os1n1OVZAQSWgibBFVkB72WgAb1FWQBrrDb4wXVZAF1qPwvVoVkB4Ju0NvnRWQEFQJ6CJgFZAbdc9eViMVkD5uzCZKphWQOj9////o1ZAP52rrdivVkD5mTOitLtWQBP0l92Tx1ZAkKvYX3bTVkB1wPUoXN9WQL4y7zhF61ZAZQLFjzH3VkBwL3ctIQNXQOS5BRIUD1dAu6FwPQobV0Dw5revAydXQIqJ22gAM1dAi4nbaAA/V0Dw5revA0tXQLShcD0KV1dA27kFEhRjV0BrL3ctIW9XQF4CxY8xe1dAsDLvOEWHV0BmwPUoXJNXQIOr2F92n1dABfSX3ZOrV0DlmTOitLdXQCidq63Yw1dA1P3////PV0DkuzCZKtxXQFLXPXlY6FdAJFAnoIn0V0BeJu0NvgBYQPtZj8L1DFhA+OoNvjAZWEBX2WgAbyVYQCAloImwMVhAS86zWfU9WEDW1KNwPUpYQMQ4cM6IVlhAGvoYc9diWEDUGJ5eKW9YQOyU/5B+e1hAaW49CteHWEBNpVfKMpRYQJU5TtGRoFhAPCshH/SsWEBGetCzWblYQLgmXI/CxVhAjzDEsS7SWEDDlwgbnt5YQFxcKcsQ61hAXH4mwob3WEDB/f///wNZQITatYR8EFlAqhRIUPwcWUA5rLZifylZQCuhAbwFNllAfPMoXI9CWUAxoyxDHE9ZQE6wDHGsW1lAzxrJ5T9oWUCu4mGh1nRZQPAH16NwgVlAnIoo7Q2OWUCqalZ9rppZQBioYFRSp1lA6EJHcvmzWUAiOwrXo8BZQL6QqYJRzVlAukMldQLaWUAZVH2utuZZQODBsS5u81lAC43C9SgAWkCVta8D5wxaQII7eVioGVpA1x4f9GwmWkCQX6HWNDNaQA==\",\"dtype\":\"float64\",\"shape\":[2000]}}},\"id\":\"f59bb403-60ad-47c8-970e-8381843e8143\",\"type\":\"ColumnDataSource\"},{\"attributes\":{},\"id\":\"a59e8798-5916-48e8-b3f3-d5a368666bad\",\"type\":\"WheelZoomTool\"},{\"attributes\":{\"line_alpha\":{\"value\":0.1},\"line_color\":{\"value\":\"#1f77b4\"},\"line_width\":{\"value\":3},\"x\":{\"field\":\"x\"},\"y\":{\"field\":\"y\"}},\"id\":\"a7b48282-8d87-44c2-ae1a-baa2048ea62a\",\"type\":\"Line\"},{\"attributes\":{},\"id\":\"f06a40f5-5638-47f3-9c9d-af203843dab0\",\"type\":\"PanTool\"},{\"attributes\":{},\"id\":\"fc067756-8e0e-4a1e-81a1-c8c68ec13f23\",\"type\":\"LinearScale\"},{\"attributes\":{\"bottom_units\":\"screen\",\"fill_alpha\":{\"value\":0.5},\"fill_color\":{\"value\":\"lightgrey\"},\"left_units\":\"screen\",\"level\":\"overlay\",\"line_alpha\":{\"value\":1.0},\"line_color\":{\"value\":\"black\"},\"line_dash\":[4,4],\"line_width\":{\"value\":2},\"plot\":null,\"render_mode\":\"css\",\"right_units\":\"screen\",\"top_units\":\"screen\"},\"id\":\"674f76ff-a517-45d8-9771-cf5ab8bafd78\",\"type\":\"BoxAnnotation\"},{\"attributes\":{\"overlay\":{\"id\":\"674f76ff-a517-45d8-9771-cf5ab8bafd78\",\"type\":\"BoxAnnotation\"}},\"id\":\"dfcb0bdb-3d09-4f17-8234-ac1691b8ea6f\",\"type\":\"BoxZoomTool\"},{\"attributes\":{\"line_color\":{\"value\":\"#1f77b4\"},\"line_width\":{\"value\":3},\"x\":{\"field\":\"x\"},\"y\":{\"field\":\"y\"}},\"id\":\"38971083-90d1-4c1c-8797-ad8341ef0016\",\"type\":\"Line\"},{\"attributes\":{},\"id\":\"56a288ad-30c2-4a9b-974a-307f4e3e41b5\",\"type\":\"ResetTool\"},{\"attributes\":{\"dimension\":1,\"plot\":{\"id\":\"bae13feb-35fc-4e89-a1a9-a0ea128abd78\",\"subtype\":\"Figure\",\"type\":\"Plot\"},\"ticker\":{\"id\":\"f10229da-0cb7-440b-871f-e96b7ec0519c\",\"type\":\"BasicTicker\"}},\"id\":\"7e3c1da4-567f-4ef7-a52e-8380cdb18b30\",\"type\":\"Grid\"},{\"attributes\":{\"active_drag\":\"auto\",\"active_inspect\":\"auto\",\"active_scroll\":\"auto\",\"active_tap\":\"auto\",\"tools\":[{\"id\":\"f06a40f5-5638-47f3-9c9d-af203843dab0\",\"type\":\"PanTool\"},{\"id\":\"a59e8798-5916-48e8-b3f3-d5a368666bad\",\"type\":\"WheelZoomTool\"},{\"id\":\"dfcb0bdb-3d09-4f17-8234-ac1691b8ea6f\",\"type\":\"BoxZoomTool\"},{\"id\":\"4684efd6-588e-4109-aef4-a619d6fdd1c1\",\"type\":\"SaveTool\"},{\"id\":\"56a288ad-30c2-4a9b-974a-307f4e3e41b5\",\"type\":\"ResetTool\"},{\"id\":\"930c2891-45cf-4c46-9061-bbfdb856e195\",\"type\":\"HelpTool\"}]},\"id\":\"d1afd4e7-b463-4c70-b597-5d0717d409a1\",\"type\":\"Toolbar\"},{\"attributes\":{\"plot\":{\"id\":\"bae13feb-35fc-4e89-a1a9-a0ea128abd78\",\"subtype\":\"Figure\",\"type\":\"Plot\"},\"ticker\":{\"id\":\"96e8388b-798b-462c-8180-d5607ecf1b9e\",\"type\":\"BasicTicker\"}},\"id\":\"54971881-9e9a-4553-92a1-da03424d96fc\",\"type\":\"Grid\"},{\"attributes\":{},\"id\":\"f2b51a14-fae8-4d33-b11d-9e6048417c1b\",\"type\":\"BasicTickFormatter\"},{\"attributes\":{\"source\":{\"id\":\"f59bb403-60ad-47c8-970e-8381843e8143\",\"type\":\"ColumnDataSource\"}},\"id\":\"ab58ab12-88b9-46df-876b-0f91d30afe84\",\"type\":\"CDSView\"},{\"attributes\":{\"plot\":null,\"text\":\"Editing a polynomial of the form ax^2+bx+c\"},\"id\":\"09971706-5c51-4aa7-888d-dc45a7239e29\",\"type\":\"Title\"},{\"attributes\":{\"formatter\":{\"id\":\"f2b51a14-fae8-4d33-b11d-9e6048417c1b\",\"type\":\"BasicTickFormatter\"},\"plot\":{\"id\":\"bae13feb-35fc-4e89-a1a9-a0ea128abd78\",\"subtype\":\"Figure\",\"type\":\"Plot\"},\"ticker\":{\"id\":\"f10229da-0cb7-440b-871f-e96b7ec0519c\",\"type\":\"BasicTicker\"}},\"id\":\"94632fe5-6b46-4d8e-97ea-721d1c98dbe7\",\"type\":\"LinearAxis\"},{\"attributes\":{},\"id\":\"96e8388b-798b-462c-8180-d5607ecf1b9e\",\"type\":\"BasicTicker\"},{\"attributes\":{\"callback\":null},\"id\":\"974d2b89-0c3a-4bb4-92a5-f0012eb3bc22\",\"type\":\"DataRange1d\"},{\"attributes\":{},\"id\":\"4684efd6-588e-4109-aef4-a619d6fdd1c1\",\"type\":\"SaveTool\"},{\"attributes\":{},\"id\":\"0c2b3224-2ace-4c01-a45f-56d02c4fdd95\",\"type\":\"BasicTickFormatter\"},{\"attributes\":{},\"id\":\"f10229da-0cb7-440b-871f-e96b7ec0519c\",\"type\":\"BasicTicker\"}],\"root_ids\":[\"bae13feb-35fc-4e89-a1a9-a0ea128abd78\"]},\"title\":\"Bokeh Application\",\"version\":\"0.12.7\"}};\n",
       "            var render_items = [{\"docid\":\"02455530-4a3e-49b6-a48b-5df0003e314d\",\"elementid\":\"56b5a0b1-07c1-4388-b194-0f6aaf00c16c\",\"modelid\":\"bae13feb-35fc-4e89-a1a9-a0ea128abd78\",\"notebook_comms_target\":\"9a7758f6-81ff-4431-b311-5f1c1c6d9f7e\"}];\n",
       "            \n",
       "            Bokeh.embed.embed_items(docs_json, render_items);\n",
       "          };\n",
       "          if (document.readyState != \"loading\") fn();\n",
       "          else document.addEventListener(\"DOMContentLoaded\", fn);\n",
       "        })();\n",
       "      },\n",
       "      function(Bokeh) {\n",
       "      }\n",
       "    ];\n",
       "  \n",
       "    function run_inline_js() {\n",
       "      \n",
       "      if ((root.Bokeh !== undefined) || (force === true)) {\n",
       "        for (var i = 0; i < inline_js.length; i++) {\n",
       "          inline_js[i].call(root, root.Bokeh);\n",
       "        }if (force === true) {\n",
       "          display_loaded();\n",
       "        }} else if (Date.now() < root._bokeh_timeout) {\n",
       "        setTimeout(run_inline_js, 100);\n",
       "      } else if (!root._bokeh_failed_load) {\n",
       "        console.log(\"Bokeh: BokehJS failed to load within specified timeout.\");\n",
       "        root._bokeh_failed_load = true;\n",
       "      } else if (force !== true) {\n",
       "        var cell = $(document.getElementById(\"56b5a0b1-07c1-4388-b194-0f6aaf00c16c\")).parents('.cell').data().cell;\n",
       "        cell.output_area.append_execute_result(NB_LOAD_WARNING)\n",
       "      }\n",
       "  \n",
       "    }\n",
       "  \n",
       "    if (root._bokeh_is_loading === 0) {\n",
       "      console.log(\"Bokeh: BokehJS loaded, going straight to plotting\");\n",
       "      run_inline_js();\n",
       "    } else {\n",
       "      load_libs(js_urls, function() {\n",
       "        console.log(\"Bokeh: BokehJS plotting callback run at\", now());\n",
       "        run_inline_js();\n",
       "      });\n",
       "    }\n",
       "  }(window));\n",
       "</script>"
      ]
     },
     "metadata": {},
     "output_type": "display_data"
    }
   ],
   "source": [
    "show(p, notebook_handle=True)"
   ]
  },
  {
   "cell_type": "code",
   "execution_count": 15,
   "metadata": {},
   "outputs": [
    {
     "data": {
      "application/vnd.jupyter.widget-view+json": {
       "model_id": "47d809fe48c34c2fb47c02ac33d6e86d",
       "version_major": 2,
       "version_minor": 0
      },
      "text/html": [
       "<p>Failed to display Jupyter Widget of type <code>interactive</code>.</p>\n",
       "<p>\n",
       "  If you're reading this message in Jupyter Notebook or JupyterLab, it may mean\n",
       "  that the widgets JavaScript is still loading. If this message persists, it\n",
       "  likely means that the widgets JavaScript library is either not installed or\n",
       "  not enabled. See the <a href=\"https://ipywidgets.readthedocs.io/en/stable/user_install.html\">Jupyter\n",
       "  Widgets Documentation</a> for setup instructions.\n",
       "</p>\n",
       "<p>\n",
       "  If you're reading this message in another notebook frontend (for example, a static\n",
       "  rendering on GitHub or <a href=\"https://nbviewer.jupyter.org/\">NBViewer</a>),\n",
       "  it may mean that your frontend doesn't currently support widgets.\n",
       "</p>\n"
      ],
      "text/plain": [
       "interactive(children=(IntSlider(value=1, description='a', max=10, min=-10), IntSlider(value=-1, description='b', max=10, min=-10), IntSlider(value=0, description='c', max=10, min=-10), Output()), _dom_classes=('widget-interact',))"
      ]
     },
     "metadata": {},
     "output_type": "display_data"
    },
    {
     "data": {
      "text/plain": [
       "<function __main__.update>"
      ]
     },
     "execution_count": 15,
     "metadata": {},
     "output_type": "execute_result"
    }
   ],
   "source": [
    "# now the code that allows us to interact with our plot\n",
    "interact(update, a=(-10,10), b=(-10,10), c=(-10,10))\n",
    "\n",
    "# note: this should show some widgets below, which allow changing a, b and c values"
   ]
  },
  {
   "cell_type": "markdown",
   "metadata": {},
   "source": [
    "## Slope"
   ]
  },
  {
   "cell_type": "markdown",
   "metadata": {},
   "source": [
    "Let's say we have a function that defines a line like so:\n",
    "$$f(x)=2x+1$$\n",
    "Let's define it like this is Python:"
   ]
  },
  {
   "cell_type": "code",
   "execution_count": 16,
   "metadata": {
    "collapsed": true
   },
   "outputs": [],
   "source": [
    "def f(x):\n",
    "    return 2*x + 1"
   ]
  },
  {
   "cell_type": "markdown",
   "metadata": {},
   "source": [
    "Now let's plot it:"
   ]
  },
  {
   "cell_type": "code",
   "execution_count": 17,
   "metadata": {},
   "outputs": [
    {
     "data": {
      "text/html": [
       "\n",
       "\n",
       "    <div class=\"bk-root\">\n",
       "        <div class=\"bk-plotdiv\" id=\"dbbe3d22-cc1b-4aca-9c99-484d0d279698\"></div>\n",
       "    </div>\n",
       "<script type=\"text/javascript\">\n",
       "  \n",
       "  (function(root) {\n",
       "    function now() {\n",
       "      return new Date();\n",
       "    }\n",
       "  \n",
       "    var force = false;\n",
       "  \n",
       "    if (typeof (root._bokeh_onload_callbacks) === \"undefined\" || force === true) {\n",
       "      root._bokeh_onload_callbacks = [];\n",
       "      root._bokeh_is_loading = undefined;\n",
       "    }\n",
       "  \n",
       "  \n",
       "    \n",
       "    if (typeof (root._bokeh_timeout) === \"undefined\" || force === true) {\n",
       "      root._bokeh_timeout = Date.now() + 0;\n",
       "      root._bokeh_failed_load = false;\n",
       "    }\n",
       "  \n",
       "    var NB_LOAD_WARNING = {'data': {'text/html':\n",
       "       \"<div style='background-color: #fdd'>\\n\"+\n",
       "       \"<p>\\n\"+\n",
       "       \"BokehJS does not appear to have successfully loaded. If loading BokehJS from CDN, this \\n\"+\n",
       "       \"may be due to a slow or bad network connection. Possible fixes:\\n\"+\n",
       "       \"</p>\\n\"+\n",
       "       \"<ul>\\n\"+\n",
       "       \"<li>re-rerun `output_notebook()` to attempt to load from CDN again, or</li>\\n\"+\n",
       "       \"<li>use INLINE resources instead, as so:</li>\\n\"+\n",
       "       \"</ul>\\n\"+\n",
       "       \"<code>\\n\"+\n",
       "       \"from bokeh.resources import INLINE\\n\"+\n",
       "       \"output_notebook(resources=INLINE)\\n\"+\n",
       "       \"</code>\\n\"+\n",
       "       \"</div>\"}};\n",
       "  \n",
       "    function display_loaded() {\n",
       "      if (root.Bokeh !== undefined) {\n",
       "        var el = document.getElementById(\"dbbe3d22-cc1b-4aca-9c99-484d0d279698\");\n",
       "        if (el != null) {\n",
       "          el.textContent = \"BokehJS \" + Bokeh.version + \" successfully loaded.\";\n",
       "        }\n",
       "      } else if (Date.now() < root._bokeh_timeout) {\n",
       "        setTimeout(display_loaded, 100)\n",
       "      }\n",
       "    }\n",
       "  \n",
       "  \n",
       "    function run_callbacks() {\n",
       "      try {\n",
       "        root._bokeh_onload_callbacks.forEach(function(callback) { callback() });\n",
       "      }\n",
       "      finally {\n",
       "        delete root._bokeh_onload_callbacks\n",
       "      }\n",
       "      console.info(\"Bokeh: all callbacks have finished\");\n",
       "    }\n",
       "  \n",
       "    function load_libs(js_urls, callback) {\n",
       "      root._bokeh_onload_callbacks.push(callback);\n",
       "      if (root._bokeh_is_loading > 0) {\n",
       "        console.log(\"Bokeh: BokehJS is being loaded, scheduling callback at\", now());\n",
       "        return null;\n",
       "      }\n",
       "      if (js_urls == null || js_urls.length === 0) {\n",
       "        run_callbacks();\n",
       "        return null;\n",
       "      }\n",
       "      console.log(\"Bokeh: BokehJS not loaded, scheduling load and callback at\", now());\n",
       "      root._bokeh_is_loading = js_urls.length;\n",
       "      for (var i = 0; i < js_urls.length; i++) {\n",
       "        var url = js_urls[i];\n",
       "        var s = document.createElement('script');\n",
       "        s.src = url;\n",
       "        s.async = false;\n",
       "        s.onreadystatechange = s.onload = function() {\n",
       "          root._bokeh_is_loading--;\n",
       "          if (root._bokeh_is_loading === 0) {\n",
       "            console.log(\"Bokeh: all BokehJS libraries loaded\");\n",
       "            run_callbacks()\n",
       "          }\n",
       "        };\n",
       "        s.onerror = function() {\n",
       "          console.warn(\"failed to load library \" + url);\n",
       "        };\n",
       "        console.log(\"Bokeh: injecting script tag for BokehJS library: \", url);\n",
       "        document.getElementsByTagName(\"head\")[0].appendChild(s);\n",
       "      }\n",
       "    };var element = document.getElementById(\"dbbe3d22-cc1b-4aca-9c99-484d0d279698\");\n",
       "    if (element == null) {\n",
       "      console.log(\"Bokeh: ERROR: autoload.js configured with elementid 'dbbe3d22-cc1b-4aca-9c99-484d0d279698' but no matching script tag was found. \")\n",
       "      return false;\n",
       "    }\n",
       "  \n",
       "    var js_urls = [];\n",
       "  \n",
       "    var inline_js = [\n",
       "      function(Bokeh) {\n",
       "        (function() {\n",
       "          var fn = function() {\n",
       "            var docs_json = {\"a78ec967-caf5-4158-ac8d-ecd4c557bc95\":{\"roots\":{\"references\":[{\"attributes\":{},\"id\":\"4d57498a-7bfb-4115-9934-9b1f3d730cb6\",\"type\":\"BasicTickFormatter\"},{\"attributes\":{},\"id\":\"d3ce62ae-0a5d-4885-a230-f40b155c66ea\",\"type\":\"BasicTicker\"},{\"attributes\":{},\"id\":\"751905e0-e0d2-477e-96d3-7d2b88cea782\",\"type\":\"ResetTool\"},{\"attributes\":{\"line_width\":{\"value\":2},\"x\":{\"field\":\"x\"},\"y\":{\"field\":\"y\"}},\"id\":\"56c1a6f6-212a-4ccf-a94b-e7b8752a12f9\",\"type\":\"Line\"},{\"attributes\":{\"callback\":null,\"column_names\":[\"x\",\"y\"],\"data\":{\"x\":[0,0],\"y\":[-10,10]}},\"id\":\"12f3c134-0902-43de-8f48-6cb4ccf1ee6b\",\"type\":\"ColumnDataSource\"},{\"attributes\":{\"line_alpha\":{\"value\":0.1},\"line_color\":{\"value\":\"#1f77b4\"},\"line_width\":{\"value\":2},\"x\":{\"field\":\"x\"},\"y\":{\"field\":\"y\"}},\"id\":\"5b0f4bda-eab0-4e4d-b1f8-902505c8be64\",\"type\":\"Line\"},{\"attributes\":{},\"id\":\"c8655863-6163-4e34-9f45-a6ce00cf18a9\",\"type\":\"LinearScale\"},{\"attributes\":{\"data_source\":{\"id\":\"12f3c134-0902-43de-8f48-6cb4ccf1ee6b\",\"type\":\"ColumnDataSource\"},\"glyph\":{\"id\":\"56c1a6f6-212a-4ccf-a94b-e7b8752a12f9\",\"type\":\"Line\"},\"hover_glyph\":null,\"muted_glyph\":null,\"nonselection_glyph\":{\"id\":\"5b0f4bda-eab0-4e4d-b1f8-902505c8be64\",\"type\":\"Line\"},\"selection_glyph\":null,\"view\":{\"id\":\"27d29269-e071-4509-bb76-071c13905fb7\",\"type\":\"CDSView\"}},\"id\":\"1da2491a-7905-4090-a0db-e591284db157\",\"type\":\"GlyphRenderer\"},{\"attributes\":{\"callback\":null,\"end\":5,\"start\":-5},\"id\":\"b733a34a-2632-4ff6-8be2-631826a09446\",\"type\":\"Range1d\"},{\"attributes\":{\"formatter\":{\"id\":\"01a0493e-268f-4b47-a8d8-9739a1d85988\",\"type\":\"BasicTickFormatter\"},\"plot\":{\"id\":\"f67549c6-083f-43ee-85f3-cd89077982ea\",\"subtype\":\"Figure\",\"type\":\"Plot\"},\"ticker\":{\"id\":\"d3ce62ae-0a5d-4885-a230-f40b155c66ea\",\"type\":\"BasicTicker\"}},\"id\":\"0ae924fc-a076-4ab2-b068-ea439dca48ec\",\"type\":\"LinearAxis\"},{\"attributes\":{\"data_source\":{\"id\":\"ddd4ad11-ed62-49d0-8e4e-2e38bd2c4729\",\"type\":\"ColumnDataSource\"},\"glyph\":{\"id\":\"d41d8a6a-3171-4c3a-b5d1-599ccab5dd7f\",\"type\":\"Line\"},\"hover_glyph\":null,\"muted_glyph\":null,\"nonselection_glyph\":{\"id\":\"821b4db6-d81d-458f-8277-7fba5a0ac567\",\"type\":\"Line\"},\"selection_glyph\":null,\"view\":{\"id\":\"f76bc969-f4b6-46bb-a0a9-fd0ed3ca0346\",\"type\":\"CDSView\"}},\"id\":\"6df99a1f-e854-423b-963c-2f03aef6fd55\",\"type\":\"GlyphRenderer\"},{\"attributes\":{},\"id\":\"0c2f2470-5b98-48d3-8ea2-608e72bac871\",\"type\":\"PanTool\"},{\"attributes\":{\"overlay\":{\"id\":\"ccf42a78-4530-41d1-816f-87d7e538f797\",\"type\":\"BoxAnnotation\"}},\"id\":\"89350325-e097-4b79-aeb1-52f7e07fa827\",\"type\":\"BoxZoomTool\"},{\"attributes\":{},\"id\":\"48acd410-9604-4f70-b9c1-a1514190d4f1\",\"type\":\"BasicTicker\"},{\"attributes\":{\"dimension\":1,\"plot\":{\"id\":\"f67549c6-083f-43ee-85f3-cd89077982ea\",\"subtype\":\"Figure\",\"type\":\"Plot\"},\"ticker\":{\"id\":\"d3ce62ae-0a5d-4885-a230-f40b155c66ea\",\"type\":\"BasicTicker\"}},\"id\":\"92868ce1-a34e-49e6-aca0-ee04f596b22d\",\"type\":\"Grid\"},{\"attributes\":{\"line_alpha\":{\"value\":0.1},\"line_color\":{\"value\":\"#1f77b4\"},\"x\":{\"field\":\"x\"},\"y\":{\"field\":\"y\"}},\"id\":\"821b4db6-d81d-458f-8277-7fba5a0ac567\",\"type\":\"Line\"},{\"attributes\":{\"plot\":{\"id\":\"f67549c6-083f-43ee-85f3-cd89077982ea\",\"subtype\":\"Figure\",\"type\":\"Plot\"},\"ticker\":{\"id\":\"48acd410-9604-4f70-b9c1-a1514190d4f1\",\"type\":\"BasicTicker\"}},\"id\":\"f94f556b-d646-4e64-bc0a-185deb90b509\",\"type\":\"Grid\"},{\"attributes\":{},\"id\":\"e0755785-8b15-4fdb-b0c8-d06e9e3f6f95\",\"type\":\"HelpTool\"},{\"attributes\":{\"callback\":null,\"column_names\":[\"x\",\"y\"],\"data\":{\"x\":[-10,10],\"y\":[0,0]}},\"id\":\"7e3d82ea-fd54-4fc8-b39f-d2f98eb36bf3\",\"type\":\"ColumnDataSource\"},{\"attributes\":{\"below\":[{\"id\":\"fe79fc9c-db0b-404e-aa28-db470e4392a7\",\"type\":\"LinearAxis\"}],\"left\":[{\"id\":\"0ae924fc-a076-4ab2-b068-ea439dca48ec\",\"type\":\"LinearAxis\"}],\"plot_height\":400,\"plot_width\":400,\"renderers\":[{\"id\":\"fe79fc9c-db0b-404e-aa28-db470e4392a7\",\"type\":\"LinearAxis\"},{\"id\":\"f94f556b-d646-4e64-bc0a-185deb90b509\",\"type\":\"Grid\"},{\"id\":\"0ae924fc-a076-4ab2-b068-ea439dca48ec\",\"type\":\"LinearAxis\"},{\"id\":\"92868ce1-a34e-49e6-aca0-ee04f596b22d\",\"type\":\"Grid\"},{\"id\":\"ccf42a78-4530-41d1-816f-87d7e538f797\",\"type\":\"BoxAnnotation\"},{\"id\":\"1da2491a-7905-4090-a0db-e591284db157\",\"type\":\"GlyphRenderer\"},{\"id\":\"6b89a907-04d9-4e36-a507-984a5e22f71f\",\"type\":\"GlyphRenderer\"},{\"id\":\"6df99a1f-e854-423b-963c-2f03aef6fd55\",\"type\":\"GlyphRenderer\"}],\"title\":{\"id\":\"3af04678-6401-44da-ad3b-957ed53e298e\",\"type\":\"Title\"},\"toolbar\":{\"id\":\"fbde19f3-ee10-4f4e-afe7-5a816ff65fce\",\"type\":\"Toolbar\"},\"x_range\":{\"id\":\"552afe24-6c35-4f3a-8717-04ba87fc9586\",\"type\":\"Range1d\"},\"x_scale\":{\"id\":\"ae7bd6af-59fc-462e-a068-8e2347827d14\",\"type\":\"LinearScale\"},\"y_range\":{\"id\":\"b733a34a-2632-4ff6-8be2-631826a09446\",\"type\":\"Range1d\"},\"y_scale\":{\"id\":\"c8655863-6163-4e34-9f45-a6ce00cf18a9\",\"type\":\"LinearScale\"}},\"id\":\"f67549c6-083f-43ee-85f3-cd89077982ea\",\"subtype\":\"Figure\",\"type\":\"Plot\"},{\"attributes\":{\"source\":{\"id\":\"ddd4ad11-ed62-49d0-8e4e-2e38bd2c4729\",\"type\":\"ColumnDataSource\"}},\"id\":\"f76bc969-f4b6-46bb-a0a9-fd0ed3ca0346\",\"type\":\"CDSView\"},{\"attributes\":{\"source\":{\"id\":\"7e3d82ea-fd54-4fc8-b39f-d2f98eb36bf3\",\"type\":\"ColumnDataSource\"}},\"id\":\"8d48aea4-e9cd-4d81-84fa-0ce1135aaf13\",\"type\":\"CDSView\"},{\"attributes\":{\"formatter\":{\"id\":\"4d57498a-7bfb-4115-9934-9b1f3d730cb6\",\"type\":\"BasicTickFormatter\"},\"plot\":{\"id\":\"f67549c6-083f-43ee-85f3-cd89077982ea\",\"subtype\":\"Figure\",\"type\":\"Plot\"},\"ticker\":{\"id\":\"48acd410-9604-4f70-b9c1-a1514190d4f1\",\"type\":\"BasicTicker\"}},\"id\":\"fe79fc9c-db0b-404e-aa28-db470e4392a7\",\"type\":\"LinearAxis\"},{\"attributes\":{\"active_drag\":\"auto\",\"active_inspect\":\"auto\",\"active_scroll\":\"auto\",\"active_tap\":\"auto\",\"tools\":[{\"id\":\"0c2f2470-5b98-48d3-8ea2-608e72bac871\",\"type\":\"PanTool\"},{\"id\":\"06954ec9-f54f-47d9-a597-643e0746ab5e\",\"type\":\"WheelZoomTool\"},{\"id\":\"89350325-e097-4b79-aeb1-52f7e07fa827\",\"type\":\"BoxZoomTool\"},{\"id\":\"5c9d0f82-07ca-4d30-9f87-04d3186bbc33\",\"type\":\"SaveTool\"},{\"id\":\"751905e0-e0d2-477e-96d3-7d2b88cea782\",\"type\":\"ResetTool\"},{\"id\":\"e0755785-8b15-4fdb-b0c8-d06e9e3f6f95\",\"type\":\"HelpTool\"}]},\"id\":\"fbde19f3-ee10-4f4e-afe7-5a816ff65fce\",\"type\":\"Toolbar\"},{\"attributes\":{\"bottom_units\":\"screen\",\"fill_alpha\":{\"value\":0.5},\"fill_color\":{\"value\":\"lightgrey\"},\"left_units\":\"screen\",\"level\":\"overlay\",\"line_alpha\":{\"value\":1.0},\"line_color\":{\"value\":\"black\"},\"line_dash\":[4,4],\"line_width\":{\"value\":2},\"plot\":null,\"render_mode\":\"css\",\"right_units\":\"screen\",\"top_units\":\"screen\"},\"id\":\"ccf42a78-4530-41d1-816f-87d7e538f797\",\"type\":\"BoxAnnotation\"},{\"attributes\":{\"callback\":null,\"column_names\":[\"x\",\"y\"],\"data\":{\"x\":{\"__ndarray__\":\"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\",\"dtype\":\"float64\",\"shape\":[2000]},\"y\":{\"__ndarray__\":\"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\",\"dtype\":\"float64\",\"shape\":[2000]}}},\"id\":\"ddd4ad11-ed62-49d0-8e4e-2e38bd2c4729\",\"type\":\"ColumnDataSource\"},{\"attributes\":{},\"id\":\"ae7bd6af-59fc-462e-a068-8e2347827d14\",\"type\":\"LinearScale\"},{\"attributes\":{\"line_color\":{\"value\":\"#1f77b4\"},\"x\":{\"field\":\"x\"},\"y\":{\"field\":\"y\"}},\"id\":\"d41d8a6a-3171-4c3a-b5d1-599ccab5dd7f\",\"type\":\"Line\"},{\"attributes\":{},\"id\":\"06954ec9-f54f-47d9-a597-643e0746ab5e\",\"type\":\"WheelZoomTool\"},{\"attributes\":{\"callback\":null,\"end\":5,\"start\":-5},\"id\":\"552afe24-6c35-4f3a-8717-04ba87fc9586\",\"type\":\"Range1d\"},{\"attributes\":{},\"id\":\"01a0493e-268f-4b47-a8d8-9739a1d85988\",\"type\":\"BasicTickFormatter\"},{\"attributes\":{\"line_width\":{\"value\":2},\"x\":{\"field\":\"x\"},\"y\":{\"field\":\"y\"}},\"id\":\"110a0f8a-aba4-4823-8219-2204093b25ea\",\"type\":\"Line\"},{\"attributes\":{\"plot\":null,\"text\":\"\"},\"id\":\"3af04678-6401-44da-ad3b-957ed53e298e\",\"type\":\"Title\"},{\"attributes\":{},\"id\":\"5c9d0f82-07ca-4d30-9f87-04d3186bbc33\",\"type\":\"SaveTool\"},{\"attributes\":{\"source\":{\"id\":\"12f3c134-0902-43de-8f48-6cb4ccf1ee6b\",\"type\":\"ColumnDataSource\"}},\"id\":\"27d29269-e071-4509-bb76-071c13905fb7\",\"type\":\"CDSView\"},{\"attributes\":{\"data_source\":{\"id\":\"7e3d82ea-fd54-4fc8-b39f-d2f98eb36bf3\",\"type\":\"ColumnDataSource\"},\"glyph\":{\"id\":\"110a0f8a-aba4-4823-8219-2204093b25ea\",\"type\":\"Line\"},\"hover_glyph\":null,\"muted_glyph\":null,\"nonselection_glyph\":{\"id\":\"48dc7bb1-aa2e-45af-90c2-557bfbcd2239\",\"type\":\"Line\"},\"selection_glyph\":null,\"view\":{\"id\":\"8d48aea4-e9cd-4d81-84fa-0ce1135aaf13\",\"type\":\"CDSView\"}},\"id\":\"6b89a907-04d9-4e36-a507-984a5e22f71f\",\"type\":\"GlyphRenderer\"},{\"attributes\":{\"line_alpha\":{\"value\":0.1},\"line_color\":{\"value\":\"#1f77b4\"},\"line_width\":{\"value\":2},\"x\":{\"field\":\"x\"},\"y\":{\"field\":\"y\"}},\"id\":\"48dc7bb1-aa2e-45af-90c2-557bfbcd2239\",\"type\":\"Line\"}],\"root_ids\":[\"f67549c6-083f-43ee-85f3-cd89077982ea\"]},\"title\":\"Bokeh Application\",\"version\":\"0.12.7\"}};\n",
       "            var render_items = [{\"docid\":\"a78ec967-caf5-4158-ac8d-ecd4c557bc95\",\"elementid\":\"dbbe3d22-cc1b-4aca-9c99-484d0d279698\",\"modelid\":\"f67549c6-083f-43ee-85f3-cd89077982ea\"}];\n",
       "            \n",
       "            Bokeh.embed.embed_items(docs_json, render_items);\n",
       "          };\n",
       "          if (document.readyState != \"loading\") fn();\n",
       "          else document.addEventListener(\"DOMContentLoaded\", fn);\n",
       "        })();\n",
       "      },\n",
       "      function(Bokeh) {\n",
       "      }\n",
       "    ];\n",
       "  \n",
       "    function run_inline_js() {\n",
       "      \n",
       "      if ((root.Bokeh !== undefined) || (force === true)) {\n",
       "        for (var i = 0; i < inline_js.length; i++) {\n",
       "          inline_js[i].call(root, root.Bokeh);\n",
       "        }if (force === true) {\n",
       "          display_loaded();\n",
       "        }} else if (Date.now() < root._bokeh_timeout) {\n",
       "        setTimeout(run_inline_js, 100);\n",
       "      } else if (!root._bokeh_failed_load) {\n",
       "        console.log(\"Bokeh: BokehJS failed to load within specified timeout.\");\n",
       "        root._bokeh_failed_load = true;\n",
       "      } else if (force !== true) {\n",
       "        var cell = $(document.getElementById(\"dbbe3d22-cc1b-4aca-9c99-484d0d279698\")).parents('.cell').data().cell;\n",
       "        cell.output_area.append_execute_result(NB_LOAD_WARNING)\n",
       "      }\n",
       "  \n",
       "    }\n",
       "  \n",
       "    if (root._bokeh_is_loading === 0) {\n",
       "      console.log(\"Bokeh: BokehJS loaded, going straight to plotting\");\n",
       "      run_inline_js();\n",
       "    } else {\n",
       "      load_libs(js_urls, function() {\n",
       "        console.log(\"Bokeh: BokehJS plotting callback run at\", now());\n",
       "        run_inline_js();\n",
       "      });\n",
       "    }\n",
       "  }(window));\n",
       "</script>"
      ]
     },
     "metadata": {},
     "output_type": "display_data"
    }
   ],
   "source": [
    "y = f(x)        # use our existing value of x (our array from earlier)\n",
    "                # and recalculate all the y values with our new function definition for f(x)\n",
    "    \n",
    "# When setting up the figure, I'll set the size to be square and set ranges to make slope look right,\n",
    "# rather than automatic ranges...\n",
    "p = figure(plot_height=400, plot_width=400, x_range=(-5,5), y_range=(-5,5)) \n",
    "\n",
    "# For this plot, I'll throw a couple of lines on the plot for the x and y axes:\n",
    "p.line([0,0],[-10,10], line_color='black', line_width=2)\n",
    "p.line([-10,10],[0,0], line_color='black', line_width=2)\n",
    "\n",
    "# Now add the line we want\n",
    "p.line(x,y)\n",
    "\n",
    "show(p)"
   ]
  },
  {
   "cell_type": "markdown",
   "metadata": {},
   "source": [
    "Since we defined the function above in the slope-intercept form, $$y=mx+b$$\n",
    "\n",
    "we can see that the plot is correct: it has a slope of **2** and it intercepts the y-axis at **1**.\n",
    "\n",
    "Slope is defined as the *rise* over the *run*, or the change in $y$ divided by the change in $x$.  We often write this as\n",
    "\n",
    "$$\\frac{\\Delta y}{\\Delta x}$$\n",
    "\n",
    "where the symbol $\\Delta$ is read as \"delta\" which means \"change in.\"\n",
    "\n",
    "If we know two points on a line, we can calculate the slope by dividing the differences (change) in $y$ values by the differences (change) in $x$ values.  In our case let's look at the points $(0,1)$ and $(1,3)$ -- two of the points on our line."
   ]
  },
  {
   "cell_type": "code",
   "execution_count": 18,
   "metadata": {},
   "outputs": [
    {
     "data": {
      "text/html": [
       "\n",
       "\n",
       "    <div class=\"bk-root\">\n",
       "        <div class=\"bk-plotdiv\" id=\"651151d0-8b6c-4ed9-ac83-c5625d85dd79\"></div>\n",
       "    </div>\n",
       "<script type=\"text/javascript\">\n",
       "  \n",
       "  (function(root) {\n",
       "    function now() {\n",
       "      return new Date();\n",
       "    }\n",
       "  \n",
       "    var force = false;\n",
       "  \n",
       "    if (typeof (root._bokeh_onload_callbacks) === \"undefined\" || force === true) {\n",
       "      root._bokeh_onload_callbacks = [];\n",
       "      root._bokeh_is_loading = undefined;\n",
       "    }\n",
       "  \n",
       "  \n",
       "    \n",
       "    if (typeof (root._bokeh_timeout) === \"undefined\" || force === true) {\n",
       "      root._bokeh_timeout = Date.now() + 0;\n",
       "      root._bokeh_failed_load = false;\n",
       "    }\n",
       "  \n",
       "    var NB_LOAD_WARNING = {'data': {'text/html':\n",
       "       \"<div style='background-color: #fdd'>\\n\"+\n",
       "       \"<p>\\n\"+\n",
       "       \"BokehJS does not appear to have successfully loaded. If loading BokehJS from CDN, this \\n\"+\n",
       "       \"may be due to a slow or bad network connection. Possible fixes:\\n\"+\n",
       "       \"</p>\\n\"+\n",
       "       \"<ul>\\n\"+\n",
       "       \"<li>re-rerun `output_notebook()` to attempt to load from CDN again, or</li>\\n\"+\n",
       "       \"<li>use INLINE resources instead, as so:</li>\\n\"+\n",
       "       \"</ul>\\n\"+\n",
       "       \"<code>\\n\"+\n",
       "       \"from bokeh.resources import INLINE\\n\"+\n",
       "       \"output_notebook(resources=INLINE)\\n\"+\n",
       "       \"</code>\\n\"+\n",
       "       \"</div>\"}};\n",
       "  \n",
       "    function display_loaded() {\n",
       "      if (root.Bokeh !== undefined) {\n",
       "        var el = document.getElementById(\"651151d0-8b6c-4ed9-ac83-c5625d85dd79\");\n",
       "        if (el != null) {\n",
       "          el.textContent = \"BokehJS \" + Bokeh.version + \" successfully loaded.\";\n",
       "        }\n",
       "      } else if (Date.now() < root._bokeh_timeout) {\n",
       "        setTimeout(display_loaded, 100)\n",
       "      }\n",
       "    }\n",
       "  \n",
       "  \n",
       "    function run_callbacks() {\n",
       "      try {\n",
       "        root._bokeh_onload_callbacks.forEach(function(callback) { callback() });\n",
       "      }\n",
       "      finally {\n",
       "        delete root._bokeh_onload_callbacks\n",
       "      }\n",
       "      console.info(\"Bokeh: all callbacks have finished\");\n",
       "    }\n",
       "  \n",
       "    function load_libs(js_urls, callback) {\n",
       "      root._bokeh_onload_callbacks.push(callback);\n",
       "      if (root._bokeh_is_loading > 0) {\n",
       "        console.log(\"Bokeh: BokehJS is being loaded, scheduling callback at\", now());\n",
       "        return null;\n",
       "      }\n",
       "      if (js_urls == null || js_urls.length === 0) {\n",
       "        run_callbacks();\n",
       "        return null;\n",
       "      }\n",
       "      console.log(\"Bokeh: BokehJS not loaded, scheduling load and callback at\", now());\n",
       "      root._bokeh_is_loading = js_urls.length;\n",
       "      for (var i = 0; i < js_urls.length; i++) {\n",
       "        var url = js_urls[i];\n",
       "        var s = document.createElement('script');\n",
       "        s.src = url;\n",
       "        s.async = false;\n",
       "        s.onreadystatechange = s.onload = function() {\n",
       "          root._bokeh_is_loading--;\n",
       "          if (root._bokeh_is_loading === 0) {\n",
       "            console.log(\"Bokeh: all BokehJS libraries loaded\");\n",
       "            run_callbacks()\n",
       "          }\n",
       "        };\n",
       "        s.onerror = function() {\n",
       "          console.warn(\"failed to load library \" + url);\n",
       "        };\n",
       "        console.log(\"Bokeh: injecting script tag for BokehJS library: \", url);\n",
       "        document.getElementsByTagName(\"head\")[0].appendChild(s);\n",
       "      }\n",
       "    };var element = document.getElementById(\"651151d0-8b6c-4ed9-ac83-c5625d85dd79\");\n",
       "    if (element == null) {\n",
       "      console.log(\"Bokeh: ERROR: autoload.js configured with elementid '651151d0-8b6c-4ed9-ac83-c5625d85dd79' but no matching script tag was found. \")\n",
       "      return false;\n",
       "    }\n",
       "  \n",
       "    var js_urls = [];\n",
       "  \n",
       "    var inline_js = [\n",
       "      function(Bokeh) {\n",
       "        (function() {\n",
       "          var fn = function() {\n",
       "            var docs_json = {\"9be4975f-2e6b-47df-8254-32470d486c26\":{\"roots\":{\"references\":[{\"attributes\":{},\"id\":\"4d57498a-7bfb-4115-9934-9b1f3d730cb6\",\"type\":\"BasicTickFormatter\"},{\"attributes\":{},\"id\":\"d3ce62ae-0a5d-4885-a230-f40b155c66ea\",\"type\":\"BasicTicker\"},{\"attributes\":{},\"id\":\"751905e0-e0d2-477e-96d3-7d2b88cea782\",\"type\":\"ResetTool\"},{\"attributes\":{\"line_width\":{\"value\":2},\"x\":{\"field\":\"x\"},\"y\":{\"field\":\"y\"}},\"id\":\"56c1a6f6-212a-4ccf-a94b-e7b8752a12f9\",\"type\":\"Line\"},{\"attributes\":{\"callback\":null,\"column_names\":[\"x\",\"y\"],\"data\":{\"x\":[0,0],\"y\":[-10,10]}},\"id\":\"12f3c134-0902-43de-8f48-6cb4ccf1ee6b\",\"type\":\"ColumnDataSource\"},{\"attributes\":{\"line_alpha\":{\"value\":0.1},\"line_color\":{\"value\":\"#1f77b4\"},\"line_width\":{\"value\":2},\"x\":{\"field\":\"x\"},\"y\":{\"field\":\"y\"}},\"id\":\"5b0f4bda-eab0-4e4d-b1f8-902505c8be64\",\"type\":\"Line\"},{\"attributes\":{},\"id\":\"c8655863-6163-4e34-9f45-a6ce00cf18a9\",\"type\":\"LinearScale\"},{\"attributes\":{\"callback\":null,\"data\":{}},\"id\":\"2fecb47c-e221-4e97-a095-4b36af39d8a4\",\"type\":\"ColumnDataSource\"},{\"attributes\":{\"data_source\":{\"id\":\"12f3c134-0902-43de-8f48-6cb4ccf1ee6b\",\"type\":\"ColumnDataSource\"},\"glyph\":{\"id\":\"56c1a6f6-212a-4ccf-a94b-e7b8752a12f9\",\"type\":\"Line\"},\"hover_glyph\":null,\"muted_glyph\":null,\"nonselection_glyph\":{\"id\":\"5b0f4bda-eab0-4e4d-b1f8-902505c8be64\",\"type\":\"Line\"},\"selection_glyph\":null,\"view\":{\"id\":\"27d29269-e071-4509-bb76-071c13905fb7\",\"type\":\"CDSView\"}},\"id\":\"1da2491a-7905-4090-a0db-e591284db157\",\"type\":\"GlyphRenderer\"},{\"attributes\":{\"callback\":null,\"end\":5,\"start\":-5},\"id\":\"b733a34a-2632-4ff6-8be2-631826a09446\",\"type\":\"Range1d\"},{\"attributes\":{\"formatter\":{\"id\":\"01a0493e-268f-4b47-a8d8-9739a1d85988\",\"type\":\"BasicTickFormatter\"},\"plot\":{\"id\":\"f67549c6-083f-43ee-85f3-cd89077982ea\",\"subtype\":\"Figure\",\"type\":\"Plot\"},\"ticker\":{\"id\":\"d3ce62ae-0a5d-4885-a230-f40b155c66ea\",\"type\":\"BasicTicker\"}},\"id\":\"0ae924fc-a076-4ab2-b068-ea439dca48ec\",\"type\":\"LinearAxis\"},{\"attributes\":{\"data_source\":{\"id\":\"ddd4ad11-ed62-49d0-8e4e-2e38bd2c4729\",\"type\":\"ColumnDataSource\"},\"glyph\":{\"id\":\"d41d8a6a-3171-4c3a-b5d1-599ccab5dd7f\",\"type\":\"Line\"},\"hover_glyph\":null,\"muted_glyph\":null,\"nonselection_glyph\":{\"id\":\"821b4db6-d81d-458f-8277-7fba5a0ac567\",\"type\":\"Line\"},\"selection_glyph\":null,\"view\":{\"id\":\"f76bc969-f4b6-46bb-a0a9-fd0ed3ca0346\",\"type\":\"CDSView\"}},\"id\":\"6df99a1f-e854-423b-963c-2f03aef6fd55\",\"type\":\"GlyphRenderer\"},{\"attributes\":{},\"id\":\"0c2f2470-5b98-48d3-8ea2-608e72bac871\",\"type\":\"PanTool\"},{\"attributes\":{\"overlay\":{\"id\":\"ccf42a78-4530-41d1-816f-87d7e538f797\",\"type\":\"BoxAnnotation\"}},\"id\":\"89350325-e097-4b79-aeb1-52f7e07fa827\",\"type\":\"BoxZoomTool\"},{\"attributes\":{},\"id\":\"48acd410-9604-4f70-b9c1-a1514190d4f1\",\"type\":\"BasicTicker\"},{\"attributes\":{\"dimension\":1,\"plot\":{\"id\":\"f67549c6-083f-43ee-85f3-cd89077982ea\",\"subtype\":\"Figure\",\"type\":\"Plot\"},\"ticker\":{\"id\":\"d3ce62ae-0a5d-4885-a230-f40b155c66ea\",\"type\":\"BasicTicker\"}},\"id\":\"92868ce1-a34e-49e6-aca0-ee04f596b22d\",\"type\":\"Grid\"},{\"attributes\":{\"line_alpha\":{\"value\":0.1},\"line_color\":{\"value\":\"#1f77b4\"},\"x\":{\"field\":\"x\"},\"y\":{\"field\":\"y\"}},\"id\":\"821b4db6-d81d-458f-8277-7fba5a0ac567\",\"type\":\"Line\"},{\"attributes\":{\"fill_color\":{\"value\":\"red\"},\"size\":{\"units\":\"screen\",\"value\":10},\"x\":{\"value\":1},\"y\":{\"value\":3}},\"id\":\"165cec74-e403-4e59-95c5-3214b69fbf9b\",\"type\":\"Circle\"},{\"attributes\":{\"plot\":{\"id\":\"f67549c6-083f-43ee-85f3-cd89077982ea\",\"subtype\":\"Figure\",\"type\":\"Plot\"},\"ticker\":{\"id\":\"48acd410-9604-4f70-b9c1-a1514190d4f1\",\"type\":\"BasicTicker\"}},\"id\":\"f94f556b-d646-4e64-bc0a-185deb90b509\",\"type\":\"Grid\"},{\"attributes\":{},\"id\":\"e0755785-8b15-4fdb-b0c8-d06e9e3f6f95\",\"type\":\"HelpTool\"},{\"attributes\":{\"callback\":null,\"column_names\":[\"x\",\"y\"],\"data\":{\"x\":[-10,10],\"y\":[0,0]}},\"id\":\"7e3d82ea-fd54-4fc8-b39f-d2f98eb36bf3\",\"type\":\"ColumnDataSource\"},{\"attributes\":{\"below\":[{\"id\":\"fe79fc9c-db0b-404e-aa28-db470e4392a7\",\"type\":\"LinearAxis\"}],\"left\":[{\"id\":\"0ae924fc-a076-4ab2-b068-ea439dca48ec\",\"type\":\"LinearAxis\"}],\"plot_height\":400,\"plot_width\":400,\"renderers\":[{\"id\":\"fe79fc9c-db0b-404e-aa28-db470e4392a7\",\"type\":\"LinearAxis\"},{\"id\":\"f94f556b-d646-4e64-bc0a-185deb90b509\",\"type\":\"Grid\"},{\"id\":\"0ae924fc-a076-4ab2-b068-ea439dca48ec\",\"type\":\"LinearAxis\"},{\"id\":\"92868ce1-a34e-49e6-aca0-ee04f596b22d\",\"type\":\"Grid\"},{\"id\":\"ccf42a78-4530-41d1-816f-87d7e538f797\",\"type\":\"BoxAnnotation\"},{\"id\":\"1da2491a-7905-4090-a0db-e591284db157\",\"type\":\"GlyphRenderer\"},{\"id\":\"6b89a907-04d9-4e36-a507-984a5e22f71f\",\"type\":\"GlyphRenderer\"},{\"id\":\"6df99a1f-e854-423b-963c-2f03aef6fd55\",\"type\":\"GlyphRenderer\"},{\"id\":\"b0eaf270-89b3-4fb3-b326-63e77264a430\",\"type\":\"GlyphRenderer\"},{\"id\":\"38032a97-c3ba-4b95-ae2a-fa1870052be8\",\"type\":\"GlyphRenderer\"}],\"title\":{\"id\":\"3af04678-6401-44da-ad3b-957ed53e298e\",\"type\":\"Title\"},\"toolbar\":{\"id\":\"fbde19f3-ee10-4f4e-afe7-5a816ff65fce\",\"type\":\"Toolbar\"},\"x_range\":{\"id\":\"552afe24-6c35-4f3a-8717-04ba87fc9586\",\"type\":\"Range1d\"},\"x_scale\":{\"id\":\"ae7bd6af-59fc-462e-a068-8e2347827d14\",\"type\":\"LinearScale\"},\"y_range\":{\"id\":\"b733a34a-2632-4ff6-8be2-631826a09446\",\"type\":\"Range1d\"},\"y_scale\":{\"id\":\"c8655863-6163-4e34-9f45-a6ce00cf18a9\",\"type\":\"LinearScale\"}},\"id\":\"f67549c6-083f-43ee-85f3-cd89077982ea\",\"subtype\":\"Figure\",\"type\":\"Plot\"},{\"attributes\":{\"source\":{\"id\":\"ddd4ad11-ed62-49d0-8e4e-2e38bd2c4729\",\"type\":\"ColumnDataSource\"}},\"id\":\"f76bc969-f4b6-46bb-a0a9-fd0ed3ca0346\",\"type\":\"CDSView\"},{\"attributes\":{\"callback\":null,\"data\":{}},\"id\":\"15eb2bac-de61-49a0-93b5-41a8754f2678\",\"type\":\"ColumnDataSource\"},{\"attributes\":{\"source\":{\"id\":\"7e3d82ea-fd54-4fc8-b39f-d2f98eb36bf3\",\"type\":\"ColumnDataSource\"}},\"id\":\"8d48aea4-e9cd-4d81-84fa-0ce1135aaf13\",\"type\":\"CDSView\"},{\"attributes\":{\"fill_color\":{\"value\":\"red\"},\"size\":{\"units\":\"screen\",\"value\":10},\"x\":{\"value\":0},\"y\":{\"value\":1}},\"id\":\"12b3aa7d-c561-4fb6-9d31-da3342910eb1\",\"type\":\"Circle\"},{\"attributes\":{\"formatter\":{\"id\":\"4d57498a-7bfb-4115-9934-9b1f3d730cb6\",\"type\":\"BasicTickFormatter\"},\"plot\":{\"id\":\"f67549c6-083f-43ee-85f3-cd89077982ea\",\"subtype\":\"Figure\",\"type\":\"Plot\"},\"ticker\":{\"id\":\"48acd410-9604-4f70-b9c1-a1514190d4f1\",\"type\":\"BasicTicker\"}},\"id\":\"fe79fc9c-db0b-404e-aa28-db470e4392a7\",\"type\":\"LinearAxis\"},{\"attributes\":{\"active_drag\":\"auto\",\"active_inspect\":\"auto\",\"active_scroll\":\"auto\",\"active_tap\":\"auto\",\"tools\":[{\"id\":\"0c2f2470-5b98-48d3-8ea2-608e72bac871\",\"type\":\"PanTool\"},{\"id\":\"06954ec9-f54f-47d9-a597-643e0746ab5e\",\"type\":\"WheelZoomTool\"},{\"id\":\"89350325-e097-4b79-aeb1-52f7e07fa827\",\"type\":\"BoxZoomTool\"},{\"id\":\"5c9d0f82-07ca-4d30-9f87-04d3186bbc33\",\"type\":\"SaveTool\"},{\"id\":\"751905e0-e0d2-477e-96d3-7d2b88cea782\",\"type\":\"ResetTool\"},{\"id\":\"e0755785-8b15-4fdb-b0c8-d06e9e3f6f95\",\"type\":\"HelpTool\"}]},\"id\":\"fbde19f3-ee10-4f4e-afe7-5a816ff65fce\",\"type\":\"Toolbar\"},{\"attributes\":{\"bottom_units\":\"screen\",\"fill_alpha\":{\"value\":0.5},\"fill_color\":{\"value\":\"lightgrey\"},\"left_units\":\"screen\",\"level\":\"overlay\",\"line_alpha\":{\"value\":1.0},\"line_color\":{\"value\":\"black\"},\"line_dash\":[4,4],\"line_width\":{\"value\":2},\"plot\":null,\"render_mode\":\"css\",\"right_units\":\"screen\",\"top_units\":\"screen\"},\"id\":\"ccf42a78-4530-41d1-816f-87d7e538f797\",\"type\":\"BoxAnnotation\"},{\"attributes\":{\"callback\":null,\"column_names\":[\"x\",\"y\"],\"data\":{\"x\":{\"__ndarray__\":\"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\",\"dtype\":\"float64\",\"shape\":[2000]},\"y\":{\"__ndarray__\":\"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\",\"dtype\":\"float64\",\"shape\":[2000]}}},\"id\":\"ddd4ad11-ed62-49d0-8e4e-2e38bd2c4729\",\"type\":\"ColumnDataSource\"},{\"attributes\":{},\"id\":\"ae7bd6af-59fc-462e-a068-8e2347827d14\",\"type\":\"LinearScale\"},{\"attributes\":{\"data_source\":{\"id\":\"15eb2bac-de61-49a0-93b5-41a8754f2678\",\"type\":\"ColumnDataSource\"},\"glyph\":{\"id\":\"12b3aa7d-c561-4fb6-9d31-da3342910eb1\",\"type\":\"Circle\"},\"hover_glyph\":null,\"muted_glyph\":null,\"nonselection_glyph\":{\"id\":\"1bde05ea-27a7-4453-93ba-cf1a01b221f6\",\"type\":\"Circle\"},\"selection_glyph\":null,\"view\":{\"id\":\"3e818355-ea84-4321-ba13-a3f0f70fc523\",\"type\":\"CDSView\"}},\"id\":\"b0eaf270-89b3-4fb3-b326-63e77264a430\",\"type\":\"GlyphRenderer\"},{\"attributes\":{\"data_source\":{\"id\":\"2fecb47c-e221-4e97-a095-4b36af39d8a4\",\"type\":\"ColumnDataSource\"},\"glyph\":{\"id\":\"165cec74-e403-4e59-95c5-3214b69fbf9b\",\"type\":\"Circle\"},\"hover_glyph\":null,\"muted_glyph\":null,\"nonselection_glyph\":{\"id\":\"9ab1cc85-683a-4532-9fcf-a562e000122f\",\"type\":\"Circle\"},\"selection_glyph\":null,\"view\":{\"id\":\"8f5c382b-0cbe-4246-8ee3-5d5f223d2045\",\"type\":\"CDSView\"}},\"id\":\"38032a97-c3ba-4b95-ae2a-fa1870052be8\",\"type\":\"GlyphRenderer\"},{\"attributes\":{\"fill_alpha\":{\"value\":0.1},\"fill_color\":{\"value\":\"#1f77b4\"},\"line_alpha\":{\"value\":0.1},\"line_color\":{\"value\":\"#1f77b4\"},\"size\":{\"units\":\"screen\",\"value\":10},\"x\":{\"value\":1},\"y\":{\"value\":3}},\"id\":\"9ab1cc85-683a-4532-9fcf-a562e000122f\",\"type\":\"Circle\"},{\"attributes\":{\"line_color\":{\"value\":\"#1f77b4\"},\"x\":{\"field\":\"x\"},\"y\":{\"field\":\"y\"}},\"id\":\"d41d8a6a-3171-4c3a-b5d1-599ccab5dd7f\",\"type\":\"Line\"},{\"attributes\":{\"fill_alpha\":{\"value\":0.1},\"fill_color\":{\"value\":\"#1f77b4\"},\"line_alpha\":{\"value\":0.1},\"line_color\":{\"value\":\"#1f77b4\"},\"size\":{\"units\":\"screen\",\"value\":10},\"x\":{\"value\":0},\"y\":{\"value\":1}},\"id\":\"1bde05ea-27a7-4453-93ba-cf1a01b221f6\",\"type\":\"Circle\"},{\"attributes\":{},\"id\":\"06954ec9-f54f-47d9-a597-643e0746ab5e\",\"type\":\"WheelZoomTool\"},{\"attributes\":{\"source\":{\"id\":\"15eb2bac-de61-49a0-93b5-41a8754f2678\",\"type\":\"ColumnDataSource\"}},\"id\":\"3e818355-ea84-4321-ba13-a3f0f70fc523\",\"type\":\"CDSView\"},{\"attributes\":{\"callback\":null,\"end\":5,\"start\":-5},\"id\":\"552afe24-6c35-4f3a-8717-04ba87fc9586\",\"type\":\"Range1d\"},{\"attributes\":{},\"id\":\"01a0493e-268f-4b47-a8d8-9739a1d85988\",\"type\":\"BasicTickFormatter\"},{\"attributes\":{\"line_width\":{\"value\":2},\"x\":{\"field\":\"x\"},\"y\":{\"field\":\"y\"}},\"id\":\"110a0f8a-aba4-4823-8219-2204093b25ea\",\"type\":\"Line\"},{\"attributes\":{\"source\":{\"id\":\"2fecb47c-e221-4e97-a095-4b36af39d8a4\",\"type\":\"ColumnDataSource\"}},\"id\":\"8f5c382b-0cbe-4246-8ee3-5d5f223d2045\",\"type\":\"CDSView\"},{\"attributes\":{\"plot\":null,\"text\":\"\"},\"id\":\"3af04678-6401-44da-ad3b-957ed53e298e\",\"type\":\"Title\"},{\"attributes\":{},\"id\":\"5c9d0f82-07ca-4d30-9f87-04d3186bbc33\",\"type\":\"SaveTool\"},{\"attributes\":{\"source\":{\"id\":\"12f3c134-0902-43de-8f48-6cb4ccf1ee6b\",\"type\":\"ColumnDataSource\"}},\"id\":\"27d29269-e071-4509-bb76-071c13905fb7\",\"type\":\"CDSView\"},{\"attributes\":{\"data_source\":{\"id\":\"7e3d82ea-fd54-4fc8-b39f-d2f98eb36bf3\",\"type\":\"ColumnDataSource\"},\"glyph\":{\"id\":\"110a0f8a-aba4-4823-8219-2204093b25ea\",\"type\":\"Line\"},\"hover_glyph\":null,\"muted_glyph\":null,\"nonselection_glyph\":{\"id\":\"48dc7bb1-aa2e-45af-90c2-557bfbcd2239\",\"type\":\"Line\"},\"selection_glyph\":null,\"view\":{\"id\":\"8d48aea4-e9cd-4d81-84fa-0ce1135aaf13\",\"type\":\"CDSView\"}},\"id\":\"6b89a907-04d9-4e36-a507-984a5e22f71f\",\"type\":\"GlyphRenderer\"},{\"attributes\":{\"line_alpha\":{\"value\":0.1},\"line_color\":{\"value\":\"#1f77b4\"},\"line_width\":{\"value\":2},\"x\":{\"field\":\"x\"},\"y\":{\"field\":\"y\"}},\"id\":\"48dc7bb1-aa2e-45af-90c2-557bfbcd2239\",\"type\":\"Line\"}],\"root_ids\":[\"f67549c6-083f-43ee-85f3-cd89077982ea\"]},\"title\":\"Bokeh Application\",\"version\":\"0.12.7\"}};\n",
       "            var render_items = [{\"docid\":\"9be4975f-2e6b-47df-8254-32470d486c26\",\"elementid\":\"651151d0-8b6c-4ed9-ac83-c5625d85dd79\",\"modelid\":\"f67549c6-083f-43ee-85f3-cd89077982ea\"}];\n",
       "            \n",
       "            Bokeh.embed.embed_items(docs_json, render_items);\n",
       "          };\n",
       "          if (document.readyState != \"loading\") fn();\n",
       "          else document.addEventListener(\"DOMContentLoaded\", fn);\n",
       "        })();\n",
       "      },\n",
       "      function(Bokeh) {\n",
       "      }\n",
       "    ];\n",
       "  \n",
       "    function run_inline_js() {\n",
       "      \n",
       "      if ((root.Bokeh !== undefined) || (force === true)) {\n",
       "        for (var i = 0; i < inline_js.length; i++) {\n",
       "          inline_js[i].call(root, root.Bokeh);\n",
       "        }if (force === true) {\n",
       "          display_loaded();\n",
       "        }} else if (Date.now() < root._bokeh_timeout) {\n",
       "        setTimeout(run_inline_js, 100);\n",
       "      } else if (!root._bokeh_failed_load) {\n",
       "        console.log(\"Bokeh: BokehJS failed to load within specified timeout.\");\n",
       "        root._bokeh_failed_load = true;\n",
       "      } else if (force !== true) {\n",
       "        var cell = $(document.getElementById(\"651151d0-8b6c-4ed9-ac83-c5625d85dd79\")).parents('.cell').data().cell;\n",
       "        cell.output_area.append_execute_result(NB_LOAD_WARNING)\n",
       "      }\n",
       "  \n",
       "    }\n",
       "  \n",
       "    if (root._bokeh_is_loading === 0) {\n",
       "      console.log(\"Bokeh: BokehJS loaded, going straight to plotting\");\n",
       "      run_inline_js();\n",
       "    } else {\n",
       "      load_libs(js_urls, function() {\n",
       "        console.log(\"Bokeh: BokehJS plotting callback run at\", now());\n",
       "        run_inline_js();\n",
       "      });\n",
       "    }\n",
       "  }(window));\n",
       "</script>"
      ]
     },
     "metadata": {},
     "output_type": "display_data"
    }
   ],
   "source": [
    "# Note: all the other lines will still show on the plot because I'm using the same figure 'p'\n",
    "p.circle(0, 1, size=10, line_color='black', fill_color='red')\n",
    "p.circle(1, 3, size=10, line_color='black', fill_color='red')\n",
    "show(p)"
   ]
  },
  {
   "cell_type": "markdown",
   "metadata": {},
   "source": [
    "So, the slope can be calculated by looking at:\n",
    "\n",
    "$$\\frac{\\Delta y}{\\Delta x}$$\n",
    "\n",
    "which is the same as:\n",
    "\n",
    "$$\\frac{(y_2-y_1)}{(x_2-x_1)}$$\n",
    "\n",
    "where $y_2$ is the value of $y$ for our second point, and $x_2$ is the value of $x$ for the second point, etc.  For our two points, the formula looks like this:\n",
    "\n",
    "$$\\frac{(3-1)}{(1-0)}=2$$\n",
    "\n",
    "This, of course evaluates to be a slope of **2**.  ...Which we already knew.\n"
   ]
  },
  {
   "cell_type": "markdown",
   "metadata": {},
   "source": [
    "## Slope of a curve"
   ]
  },
  {
   "cell_type": "markdown",
   "metadata": {},
   "source": [
    "Let's talk about how we might find the slope of a curve.  Though it may sound like a silly idea, it's really useful to know what the slope of a curve is at a particular point of the curve.  If you calculate this for every point of the curve (and plot it), you actually get another curve (or line).  The equation for this resulting curve is called a **derivative** of the original curve.  We're getting a little ahead of ourselves, so let's look at what the slope of a curve at a point might be.\n",
    "\n",
    "We'll begin by estimating the slope at a point on the curve defined by the following function: \n",
    "\n",
    "$$f(x)=x^2 + 1$$\n",
    "\n",
    "Let's define this function in Python and plot it:"
   ]
  },
  {
   "cell_type": "code",
   "execution_count": 19,
   "metadata": {
    "collapsed": true
   },
   "outputs": [],
   "source": [
    "def f(x):\n",
    "    return x**2+1"
   ]
  },
  {
   "cell_type": "code",
   "execution_count": 20,
   "metadata": {},
   "outputs": [
    {
     "data": {
      "text/html": [
       "\n",
       "\n",
       "    <div class=\"bk-root\">\n",
       "        <div class=\"bk-plotdiv\" id=\"520a02bb-35d1-4ca0-b119-e757bbeae2c3\"></div>\n",
       "    </div>\n",
       "<script type=\"text/javascript\">\n",
       "  \n",
       "  (function(root) {\n",
       "    function now() {\n",
       "      return new Date();\n",
       "    }\n",
       "  \n",
       "    var force = false;\n",
       "  \n",
       "    if (typeof (root._bokeh_onload_callbacks) === \"undefined\" || force === true) {\n",
       "      root._bokeh_onload_callbacks = [];\n",
       "      root._bokeh_is_loading = undefined;\n",
       "    }\n",
       "  \n",
       "  \n",
       "    \n",
       "    if (typeof (root._bokeh_timeout) === \"undefined\" || force === true) {\n",
       "      root._bokeh_timeout = Date.now() + 0;\n",
       "      root._bokeh_failed_load = false;\n",
       "    }\n",
       "  \n",
       "    var NB_LOAD_WARNING = {'data': {'text/html':\n",
       "       \"<div style='background-color: #fdd'>\\n\"+\n",
       "       \"<p>\\n\"+\n",
       "       \"BokehJS does not appear to have successfully loaded. If loading BokehJS from CDN, this \\n\"+\n",
       "       \"may be due to a slow or bad network connection. Possible fixes:\\n\"+\n",
       "       \"</p>\\n\"+\n",
       "       \"<ul>\\n\"+\n",
       "       \"<li>re-rerun `output_notebook()` to attempt to load from CDN again, or</li>\\n\"+\n",
       "       \"<li>use INLINE resources instead, as so:</li>\\n\"+\n",
       "       \"</ul>\\n\"+\n",
       "       \"<code>\\n\"+\n",
       "       \"from bokeh.resources import INLINE\\n\"+\n",
       "       \"output_notebook(resources=INLINE)\\n\"+\n",
       "       \"</code>\\n\"+\n",
       "       \"</div>\"}};\n",
       "  \n",
       "    function display_loaded() {\n",
       "      if (root.Bokeh !== undefined) {\n",
       "        var el = document.getElementById(\"520a02bb-35d1-4ca0-b119-e757bbeae2c3\");\n",
       "        if (el != null) {\n",
       "          el.textContent = \"BokehJS \" + Bokeh.version + \" successfully loaded.\";\n",
       "        }\n",
       "      } else if (Date.now() < root._bokeh_timeout) {\n",
       "        setTimeout(display_loaded, 100)\n",
       "      }\n",
       "    }\n",
       "  \n",
       "  \n",
       "    function run_callbacks() {\n",
       "      try {\n",
       "        root._bokeh_onload_callbacks.forEach(function(callback) { callback() });\n",
       "      }\n",
       "      finally {\n",
       "        delete root._bokeh_onload_callbacks\n",
       "      }\n",
       "      console.info(\"Bokeh: all callbacks have finished\");\n",
       "    }\n",
       "  \n",
       "    function load_libs(js_urls, callback) {\n",
       "      root._bokeh_onload_callbacks.push(callback);\n",
       "      if (root._bokeh_is_loading > 0) {\n",
       "        console.log(\"Bokeh: BokehJS is being loaded, scheduling callback at\", now());\n",
       "        return null;\n",
       "      }\n",
       "      if (js_urls == null || js_urls.length === 0) {\n",
       "        run_callbacks();\n",
       "        return null;\n",
       "      }\n",
       "      console.log(\"Bokeh: BokehJS not loaded, scheduling load and callback at\", now());\n",
       "      root._bokeh_is_loading = js_urls.length;\n",
       "      for (var i = 0; i < js_urls.length; i++) {\n",
       "        var url = js_urls[i];\n",
       "        var s = document.createElement('script');\n",
       "        s.src = url;\n",
       "        s.async = false;\n",
       "        s.onreadystatechange = s.onload = function() {\n",
       "          root._bokeh_is_loading--;\n",
       "          if (root._bokeh_is_loading === 0) {\n",
       "            console.log(\"Bokeh: all BokehJS libraries loaded\");\n",
       "            run_callbacks()\n",
       "          }\n",
       "        };\n",
       "        s.onerror = function() {\n",
       "          console.warn(\"failed to load library \" + url);\n",
       "        };\n",
       "        console.log(\"Bokeh: injecting script tag for BokehJS library: \", url);\n",
       "        document.getElementsByTagName(\"head\")[0].appendChild(s);\n",
       "      }\n",
       "    };var element = document.getElementById(\"520a02bb-35d1-4ca0-b119-e757bbeae2c3\");\n",
       "    if (element == null) {\n",
       "      console.log(\"Bokeh: ERROR: autoload.js configured with elementid '520a02bb-35d1-4ca0-b119-e757bbeae2c3' but no matching script tag was found. \")\n",
       "      return false;\n",
       "    }\n",
       "  \n",
       "    var js_urls = [];\n",
       "  \n",
       "    var inline_js = [\n",
       "      function(Bokeh) {\n",
       "        (function() {\n",
       "          var fn = function() {\n",
       "            var docs_json = {\"d9015faf-daa8-447a-80a2-8236cf75eddb\":{\"roots\":{\"references\":[{\"attributes\":{\"plot\":null,\"text\":\"\"},\"id\":\"9727e993-5250-4922-b621-1a010c3d44fc\",\"type\":\"Title\"},{\"attributes\":{\"callback\":null,\"end\":10,\"start\":-10},\"id\":\"46cb47d8-f8a3-4a3b-ae72-25a7e6fd3e7d\",\"type\":\"Range1d\"},{\"attributes\":{\"line_alpha\":{\"value\":0.1},\"line_color\":{\"value\":\"#1f77b4\"},\"x\":{\"field\":\"x\"},\"y\":{\"field\":\"y\"}},\"id\":\"01c0ae64-5bc0-4286-8616-ef2baab7d408\",\"type\":\"Line\"},{\"attributes\":{\"line_color\":{\"value\":\"#1f77b4\"},\"x\":{\"field\":\"x\"},\"y\":{\"field\":\"y\"}},\"id\":\"481ed494-465d-4ab1-b368-263a8ae942f7\",\"type\":\"Line\"},{\"attributes\":{},\"id\":\"de5df65f-a743-4510-9f2e-9c045857f1d6\",\"type\":\"ResetTool\"},{\"attributes\":{},\"id\":\"af4c6509-729c-44eb-a565-c830cdf8c431\",\"type\":\"LinearScale\"},{\"attributes\":{},\"id\":\"1366130b-32f8-48f5-ad27-6bf2bfb798cf\",\"type\":\"SaveTool\"},{\"attributes\":{\"callback\":null,\"column_names\":[\"x\",\"y\"],\"data\":{\"x\":{\"__ndarray__\":\"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\",\"dtype\":\"float64\",\"shape\":[2000]},\"y\":{\"__ndarray__\":\"AAAAAABAWUDlYaHWNDNZQC4hH/RsJllA2j15WKgZWUDqt68D5wxZQF6PwvUoAFlANcSxLm7zWEBvVn2utuZYQA1GJXUC2lhAD5OpglHNWEB0PQrXo8BYQDxFR3L5s1hAaKpgVFKnWED4bFZ9rppYQOuMKO0NjlhAQgrXo3CBWED85GGh1nRYQBodyeU/aFhAm7IMcaxbWECApSxDHE9YQMj1KFyPQlhAdKMBvAU2WECErrZifylYQPcWSFD8HFhAzdy1hHwQWEAHAAAAAARYQKWAJsKG91dApl4pyxDrV0ALmggbnt5XQNMyxLEu0ldA/ihcj8LFV0COfNCzWblXQIAtIR/0rFdA1ztO0ZGgV0CRp1fKMpRXQK5wPQrXh1dAL5f/kH57V0ATG55eKW9XQFv8GHPXYldABztwzohWV0AW16NwPUpXQIjQs1n1PVdAXiegibAxV0CY22gAbyVXQDXtDb4wGVdANlyPwvUMV0CaKO0NvgBXQGJSJ6CJ9FZAjdk9eVjoVkAcvjCZKtxWQA4AAAAA0FZAZJ+rrdjDVkAenDOitLdWQDr2l92Tq1ZAu63YX3afVkCfwvUoXJNWQOY07zhFh1ZAkgTFjzF7VkCgMXctIW9WQBK8BRIUY1ZA6KNwPQpXVkAh6bevA0tWQL6L22gAP1ZAvovbaAAzVkAi6bevAydWQOmjcD0KG1ZAFLwFEhQPVkCjMXctIQNWQJQExY8x91VA6jTvOEXrVUCjwvUoXN9VQL+t2F9201VAP/aX3ZPHVUAjnDOitLtVQGqfq63Yr1VAFQAAAACkVUAjvjCZKphVQJXZPXlYjFVAalInoImAVUCjKO0NvnRVQD9cj8L1aFVAP+0NvjBdVUCi22gAb1FVQGknoImwRVVAlNCzWfU5VUAi16NwPS5VQBM7cM6IIlVAaPwYc9cWVUAhG55eKQtVQD2X/5B+/1RAvHA9CtfzVECgp1fKMuhUQOY7TtGR3FRAkC0hH/TQVECefNCzWcVUQBApXI/CuVRA5DLEsS6uVEAdmggbnqJUQLleKcsQl1RAuIAmwoaLVEAbAAAAAIBUQOHctYR8dFRADBdIUPxoVECZrrZif11UQIqjAbwFUlRA3/UoXI9GVECXpSxDHDtUQLOyDHGsL1RAMh3J5T8kVEAV5WGh1hhUQFsK16NwDVRABY0o7Q0CVEASbVZ9rvZTQIOqYFRS61NAV0VHcvnfU0CPPQrXo9RTQCuTqYJRyVNAKkYldQK+U0CMVn2utrJTQFLEsS5up1NAfI/C9SicU0AJuK8D55BTQPo9eViohVNATiEf9Gx6U0AGYqHWNG9TQCEAAAAAZFNAoPs6cM5YU0CCVFInoE1TQMgKRiV1QlNAcR4Wak03U0B+j8L1KCxTQO9dS8gHIVNAw4mw4ekVU0D6EvJBzwpTQJX5D+m3/1JAlD0K16P0UkD23uALk+lSQLvdk4eF3lJA5TkjSnvTUkBx845TdMhSQGIK16NwvVJAtX77OnCyUkBtUPwYc6dSQId/2T15nFJABgyTqYKRUkDo9Shcj4ZSQC09m1Wfe1JA1uHplbJwUkDj4xQdyWVSQFNDHOviWlJAJgAAAABQUkBdGsBbIEVSQPiRXP5DOlJA9mbV52ovUkBYmSoYlSRSQB0pXI/CGVJARhZqTfMOUkDSYFRSJwRSQMIIG55e+VFAFQ6+MJnuUUDMcD0K1+NRQOcwmSoY2VFAZU7RkVzOUUBGyeU/pMNRQIuh1jTvuFFANNejcD2uUUBAak3zjqNRQK9a07zjmFFAgqg1zTuOUUC5U3Qkl4NRQFNcj8L1eFFAUcKGp1duUUCyhVrTvGNRQHemCkYlWVFAnySX/5BOUUArAAAAAERRQBs5RUdyOVFAbs9m1ecuUUAkw2SqYCRRQD4UP8bcGVFAvML1KFwPUUCdzojS3gRRQOE3+MJk+lBAif5D+u3vUECVImx4euVQQASkcD0K21BA14JRSZ3QUEANvw6cM8ZQQKdYqDXNu1BApE8eFmqxUEAFpHA9CqdQQMpVn6utnFBA8mSqYFSSUEB90ZFc/odQQGybVZ+rfVBAvsL1KFxzUEB0R3L5D2lQQI4pyxDHXlBAC2kAb4FUUEDsBRIUP0pQQDAAAAAAQFBA2FfKMsQ1UEDjDHGsiytQQFIf9GxWIVBAJI9TdCQXUEBaXI/C9QxQQPOGp1fKAlBA4B04Z0TxT0Ch6Nms+txPQCluNIC3yE9AeK5H4Xq0T0COqRPQRKBPQGtfmEwVjE9AD9DVVux3T0B7+8vuyWNPQK3hehSuT09ApoLix5g7T0Bn3gIJiidPQO7029eBE09APcZtNID/TkBSUrgehetOQC+Zu5aQ105A05p3nKLDTkA+V+wvu69OQHDOGVHam05AaQAAAACITkAp7Z48LHROQLCU9gZfYE5A/vYGX5hMTkATFNBE2DhOQO/rUbgeJU5Ak36MuWsRTkD9y39Iv/1NQC/UK2UZ6k1AJ5eQD3rWTUDnFK5H4cJNQG1NhA1Pr01Au0ATYcObTUDQ7lpCPohNQKxXW7G/dE1AT3sUrkdhTUC5WYY41k1NQOrysFBrOk1A4kaU9gYnTUChVTAqqRNNQCcfhetRAE1AdaOSOgHtTECJ4lgXt9lMQGTc14FzxkxAB5EPejazTEBxAAAAAKBMQKEqqRPQjExAmQ8LtaZ5TEBYryXkg2ZMQN0J+aBnU0xAKh+F61FATEA+78nDQi1MQBl6xyk6GkxAu799HTgHTEAlwOyePPRLQFV7FK5H4UtATPH0SlnOS0AKIo51cbtLQJAN4C2QqEtA3LPqc7WVS0DwFK5H4YJLQMowKqkTcEtAbAdfmExdS0DVmEwVjEpLQAXl8h/SN0tA++tRuB4lS0C5rWnecRJLQD4qOpLL/0pAimHD0yvtSkCdUwWjktpKQHgAAAAAyEpAGWiz6nO1SkCBih9j7qJKQLFnRGlvkEpAp/8h/fZ9SkBkUrgehWtKQOlfB84ZWUpANSgPC7VGSkBHq8/VVjRKQCHpSC7/IUpAwuF6FK4PSkAqlWWIY/1JQFkDCYof60lATyxlGeLYSUAMEHo2q8ZJQJCuR+F6tElA2wfOGVGiSUDuGw3gLZBJQMfqBDQRfklAZ3S1FftrSUDPuB6F61lJQP23QILiR0lA83EbDeA1SUCv5q4l5CNJQDMW+8vuEUlAfgAAAAAASUCQpb3BF+5IQGkFNBE23EhACSBj7lrKSEBw9UpZhrhIQJ6F61G4pkhAk9BE2PCUSEBP1lbsL4NIQNOWIY51cUhAHRKlvcFfSEAuSOF6FE5IQAc51sVtPEhApuSDns0qSEANS+oENBlIQDtsCfmgB0hAMEjhehT2R0Dr3nGKjuRHQG4wuycP00dAuDy9UpbBR0DJA3gLJLBHQKGF61G4nkdAQMIXJlONR0CnufyH9HtHQNRrmnecakdAyNjw9EpZR0CEAAAAAEhHQAbjx5i7NkdAUIBIv30lR0Bg2IFzRhRHQDjrc7UVA0dA17gehevxRkA8QYLix+BGQGmEns2qz0ZAXYJzRpS+RkAYOwFNhK1GQJquR+F6nEZA49xGA3iLRkDzxf6ye3pGQMtpb/CFaUZAaciYu5ZYRkDO4XoUrkdGQPu1FfvLNkZA7kRpb/AlRkCpjnVxGxVGQCqTOgFNBEZAc1K4HoXzRUCDzO7Jw+JFQFoB3gIJ0kVA+PCFyVTBRUBcm+Ydp7BFQIkAAAAAoEVAfCDSb1+PRUA2+1xtxX5FQLeQoPgxbkVA/+CcEaVdRUAP7FG4Hk1FQOWxv+yePEVAgjLmriUsRUDnbcX+shtFQBJkXdxGC0VABRWuR+H6REC/gLdAgupEQECneccp2kRAh4j029fJRECWJCh+jLlEQGx7FK5HqURACY25awmZREBtWRe30YhEQJngLZCgeERAiyL99nVoREBEH4XrUVhEQMXWxW00SERADEm/fR04REAadnEbDShEQPBd3EYDGERAjQAAAAAIREDwXdxGA/hDQBt2cRsN6ENADUm/fR3YQ0DG1sVtNMhDQEYfhetRuENAjSL99nWoQ0Cb4C2QoJhDQHBZF7fRiENADI25awl5Q0BvexSuR2lDQJokKH6MWUNAi4j029dJQ0BEp3nHKTpDQMOAt0CCKkNAChWuR+EaQ0AXZF3cRgtDQOxtxf6y+0JAiDLmriXsQkDrsb/sntxCQBXsUbgezUJABeGcEaW9QkC+kKD4Ma5CQD37XG3FnkJAgyDSb1+PQkCQAAAAAIBCQGSb5h2ncEJAAPGFyVRhQkBiAd4CCVJCQIzM7snDQkJAfFK4HoUzQkA0kzoBTSRCQLKOdXEbFUJA+ERpb/AFQkAFthX7y/ZBQNnhehSu50FAdMiYu5bYQUDWaW/whclBQP/F/rJ7ukFA79xGA3irQUCmrkfhepxBQCQ7AU2EjUFAaoJzRpR+QUB2hJ7Nqm9BQEpBguLHYEFA5LgehetRQUBG63O1FUNBQG7YgXNGNEFAXoBIv30lQUAV48eYuxZBQJMAAAAACEFA2Njw9Er5QEDja5p3nOpAQLe5/If020BAUcIXJlPNQECyhetRuL5AQNoDeAsksEBAyTy9UpahQECAMLsnD5NAQP3ecYqOhEBAQkjhehR2QEBNbAn5oGdAQCBL6gQ0WUBAuuSDns1KQEAaOdbFbTxAQEJI4XoULkBAMRKlvcEfQEDmliGOdRFAQGTWVuwvA0BAUKGJsOHpP0BmC9ejcM0/QArrlbIMsT9APUDG3LWUP0D9CmgibHg/QExLe4MvXD9AKQEAAABAP0CULPaX3SM/QI3NXUvIBz9AFOQ2GsDrPkAqcIEExc8+QM1xPQrXsz5A/+hqK/aXPkC/1QloInw+QA04GsBbYD5A6Q+cM6JEPkBTXY/C9Sg+QEsg9GxWDT5A0ljKMsTxPUDmBhIUP9Y9QIkqyxDHuj1AusP1KFyfPUB50pFc/oM9QMZWn6utaD1AoVAeFmpNPUAKwA6cMzI9QAKlcD0KFz1AiP9D+u37PECbz4jS3uA8QD0VP8bcxTxAbdBm1eeqPEArAQAAAJA8QHenCkYldTxAUsOGp1daPEC6VHQklz88QLFb07zjJDxANtijcD0KPEBJyuU/pO87QOoxmSoY1TtAGQ++MJm6O0DWYVRSJ6A7QCEqXI/ChTtA+2fV52prO0BjG8BbIFE7QFhEHOviNjtA3OLplbIcO0Du9ihcjwI7QI+A2T156DpAvX/7OnDOOkB59I5TdLQ6QMTek4eFmjpAnT4K16OAOkADFPJBz2Y6QPheS8gHTTpAex8Wak0zOkCNVVInoBk6QCwBAAAAADpAWSIf9GzmOUAVua8D58w5QF/FsS5uszlAN0cldQKaOUCdPgrXo4A5QJGrYFRSZzlAE44o7Q1OOUAj5mGh1jQ5QMKzDHGsGzlA7vYoXI8COUCpr7Zif+k4QPLdtYR80DhAyYEmwoa3OEAumwgbnp44QCEqXI/ChThAoy4hH/RsOECyqFfKMlQ4QFCY/5B+OzhAfP0Yc9ciOEA22KNwPQo4QH4ooImw8TdAVO4NvjDZN0C4Ke0NvsA3QKvaPXlYqDdAKwEAAACQN0A6nTOitHc3QNeu2F92XzdAAjbvOEVHN0C7MnctIS83QAKlcD0KFzdA14zbaAD/NkA76revA+c2QCy9BRIUzzZArAXFjzG3NkC6w/UoXJ82QFb3l92ThzZAgKCrrdhvNkA4vzCZKlg2QH9TJ6CJQDZAU12PwvUoNkC23GgAbxE2QKbRs1n1+TVAJTxwzojiNUAyHJ5eKcs1QM1xPQrXszVA9zxO0ZGcNUCufdCzWYU1QPQzxLEubjVAx18pyxBXNUApAQAAAEA1QBkYSFD8KDVAl6QBvAUSNUCjpixDHPs0QD0eyeU/5DRAZgvXo3DNNEAcblZ9rrY0QGFGR3L5nzRANJSpglGJNECVV32utnI0QISQwvUoXDRAAT95WKhFNEAMY6HWNC80QKb8OnDOGDRAzQtGJXUCNECDkML1KOwzQMeKsOHp1TNAmfoP6be/M0D53+ALk6kzQOc6I0p7kzNAZAvXo3B9M0BuUfwYc2czQAcNk6mCUTNALT6bVZ87M0Di5BQdySUzQCUBAAAAEDNA9pJc/kP6MkBWmioYleQyQEMXak3zzjJAvwkbnl65MkDIcT0K16MyQGBP0ZFcjjJAhqLWNO94MkA6a03zjmMyQHypNc07TjJATF2PwvU4MkCrhlrTvCMyQJcll/+QDjJAEjpFR3L5MUAbxGSqYOQxQLLD9ShczzFA1zj4wmS6MUCKI2x4eqUxQMuDUUmdkDFAm1moNc17MUD4pHA9CmcxQORlqmBUUjFAXpxVn6s9MUBmSHL5DykxQPxpAG+BFDFAIAEAAAAAMUDSDXGsi+swQBOQU3Qk1zBA4oenV8rCMEA+9WxWfa4wQCnYo3A9mjBAojBMpgqGMECp/mX35HEwQD5C8WPMXTBAYvvt68BJMEATKlyPwjUwQFPOO07RITBAIOiMKO0NMED57p48LPQvQM34Bl+YzC9Ave1RuB6lL0DKzX9Iv30vQPOYkA96Vi9AOE+EDU8vL0CZ8FpCPggvQBd9FK5H4S5AsfSwUGu6LkBnVzAqqZMuQDmlkjoBbS5AKN7XgXNGLkAzAgAAACAuQFoRC7Wm+S1AnQv5oGfTLUD98MnDQq0tQHnBfR04hy1AEX0UrkdhLUDFI451cTstQJa16nO1FS1AgzIqqRPwLECMmkwVjMosQLHtUbgepSxA8ys6kst/LEBRVQWjklosQMtps+pzNSxAYmlEaW8QLEAUVLgehesrQOMpDwu1xitAz+pILv+hK0DWlmWIY30rQPotZRniWCtAOrBH4Xo0K0CWHQ3gLRArQA92tRX76ypApLlAguLHKkBV6K4l5KMqQCICAAAAgCpADAc0ETZcKkAR90pZhjgqQDPSRNjwFCpAcpghjnXxKUDMSeF6FM4pQEPmg57NqilA1m0J+aCHKUCG4HGKjmQpQFE+vVKWQSlAOYfrUbgeKUA9u/yH9PsoQF7a8PRK2ShAmuTHmLu2KEDz2YFzRpQoQGm6HoXrcShA+oWezapPKECoPAFNhC0oQHLeRgN4CyhAWGtv8IXpJ0Ba43oUrscnQHlGaW/wpSdAtJQ6AU2EJ0ALzu7Jw2InQH/yhclUQSdADwIAAAAgJ0C7/Fxtxf4mQIPinBGl3SZAZ7O/7J68JkBob8X+spsmQIUWrkfheiZAvqh5xylaJkAUJih+jDkmQIaOuWsJGSZAFOItkKD4JUC+IIXrUdglQIVKv30duCVAaF/cRgOYJUBnX9xGA3glQIJKv30dWCVAuiCF61E4JUAO4i2QoBglQH6OuWsJ+SRACiYofozZJECzqHnHKbokQHgWrkfhmiRAWW/F/rJ7JEBWs7/snlwkQHDinBGlPSRApvxcbcUeJED4AQAAAAAkQGbyhclU4SNA8c3uycPCI0CYlDoBTaQjQFtGaW/whSNAO+N6FK5nI0A3a2/whUkjQE/eRgN4KyNAgzwBTYQNI0DThZ7Nqu8iQEC6HoXr0SJAydmBc0a0IkBu5MeYu5YiQDDa8PRKeSJADrv8h/RbIkAIh+tRuD4iQB4+vVKWISJAUeBxio4EIkCgbQn5oOchQArmg57NyiFAkknhehSuIUA2mCGOdZEhQPbRRNjwdCFA0vZKWYZYIUDKBjQRNjwhQN4BAAAAICFAEOiuJeQDIUBcuUCC4ucgQMZ1tRX7yyBATB0N4C2wIEDur0fhepQgQKwtZRnieCBAhpZliGNdIEB96kgu/0EgQJApDwu1JiBAv1O4HoULIEAV0ojS3uAfQOTSZtXnqh9A7KkKRiV1H0AtV3Qklz8fQKbao3A9Ch9AVzSZKhjVHkBBZFRSJ6AeQGRq1edqax5Av0Yc6+I2HkBS+ShcjwIeQB+C+zpwzh1AI+GTh4WaHUBgFvJBz2YdQNYhFmpNMx1AhAMAAAAAHUBru68D58wcQIpJJXUCmhxA4q1gVFJnHEBy6GGh1jQcQDr5KFyPAhxAPOC1hHzQG0B1nQgbnp4bQOgwIR/0bBtAkpr/kH47G0B22qNwPQobQJLwDb4w2RpA5tw9eVioGkBznzOitHcaQDg47zhFRxpANqdwPQoXGkBs7LevA+cZQNsHxY8xtxlAg/mX3ZOHGUBjwTCZKlgZQHtfj8L1KBlAzNOzWfX5GEBVHp5eKcsYQBc/TtGRnBhAEjbEsS5uGEBFAwAAAEAYQLGmAbwFEhhAVSDJ5T/kF0AxcFZ9rrYXQEaWqYJRiRdAlJLC9ShcF0AaZaHWNC8XQNkNRiV1AhdA0Iyw4enVFkD/4eALk6kWQGgN16NwfRZACA+TqYJRFkDh5hQdySUWQPOUXP5D+hVAPRlqTfPOFUDAcz0K16MVQHuk1jTveBVAb6s1zTtOFUCciFrTvCMVQAA8RUdy+RRAnsX1KFzPFEBzJWx4eqUUQIJbqDXNexRAyWeqYFRSFEBISnL5DykUQAADAAAAABRA8JFTdCTXE0Aa92xWfa4TQHsyTKYKhhNAFUTxY8xdE0DnK1yPwjUTQPLpjCjtDRNANn6DL0zmEkCy6D+k374SQGYpwoanlxJAVEAK16NwEkB5LRiV1EkSQNfw68A5IxJAboqFWtP8EUA8+uRhodYRQERACtejsBFAhFz1udqKEUD9TqYKRmURQK4XHcnlPxFAmLZZ9bkaEUC6K1yPwvUQQBV3JJf/0BBAqJiyDHGsEEB0kAbwFogQQHheIEHxYxBAtQIAAABAEEAqfaUsQxwQQLCbIY518Q9AfemDns2qD0C743GKjmQPQGmK61G4Hg9Aid3w9ErZDkAa3YFzRpQOQByJns2qTw5AjuFGA3gLDkBy5noUrscNQMeXOgFNhA1AjfWFyVRBDUDE/1xtxf4MQGy2v+yevAxAhRmuR+F6DEAPKSh+jDkMQArlLZCg+AtAdk2/fR24C0BUYtxGA3gLQKIjhetROAtAYZG5awn5CkCRq3nHKboKQDJyxf6yewpAReWcEaU9CkDIBAAAAAAKQLzQ7snDwglAIklpb/CFCUD4bW/whUkJQEA/AU2EDQlA+LwehevRCEAi58eYu5YIQLy9/If0WwhAyEC9UpYhCEBEcAn5oOcHQDJM4XoUrgdAkNRE2PB0B0BgCTQRNjwHQKHqriXkAwdAUni1FfvLBkB2skfhepQGQAqZZYhjXQZADiwPC7UmBkCEa0Rpb/AFQGtXBaOSugVAw+9RuB6FBUCMNCqpE1AFQMYljnVxGwVAccN9HTjnBECNDfmgZ7MEQBoEAAAAgARAGKeSOgFNBECI9rBQaxoEQGjyWkI+6ANAuJqQD3q2A0B771G4HoUDQK7wnjwsVANAUp53nKIjA0Bo+NvXgfMCQO7+y+7JwwJA5rFH4XqUAkBOEU+vlGUCQCgd4lgXNwJActUA3gIJAkAuOqs+V9sBQFpL4XoUrgFA+AijkjqBAUAGc/CFyVQBQIaJyVTBKAFAdkwu/yH9AEDYux6F69EAQKvXmuYdpwBA7p+iI7l8AECkFDY8vVIAQMk1VTAqKQBAYAMAAAAAAEDQ+mxWfa7/P8JH8WPMXf8/lu2MKO0N/z9M7D+k377+P+RDCtejcP4/XvTrwDkj/j+6/eRhodb9P/hf9bnaiv0/GBsdyeU//T8aL1yPwvX8P/6bsgxxrPw/xWEgQfFj/D9ugKUsQxz8P/j3Qc9m1fs/ZMj1KFyP+z+08cA5I0r7P+RzowG8Bfs/906dgCbC+j/sgq62Yn/6P8IP16NwPfo/fPUWSFD8+T8WNG6jAbz5P5TL3LWEfPk/87tif9k9+T80BQAAAAD5P1intDf4wvg/XKKAJsKG+D9E9mPMXUv4Pw6jXinLEPg/uahwPQrX9z9GB5oIG573P7a+2or9Zfc/CM8yxLEu9z88OKK0N/j2P1L6KFyPwvY/SRXHuriN9j8jiXzQs1n2P99VSZ2AJvY/fXstIR/09T/++Shcj8L1P2DRO07RkfU/pAFm9+Rh9T/KiqdXyjL1P9JsAG+BBPU/vadwPQrX9D+KO/jCZKr0Pzgol/+QfvQ/yG1N845T9D87DBueXin0P5ADAAAAAPQ/x1P8GHPX8z/g/A/pt6/zP9r+OnDOiPM/uFl9rrZi8z92DdejcD3zPxgaSFD8GPM/m3/Qs1n18j8APnDOiNLyP0dVJ6CJsPI/ccX1KFyP8j98jttoAG/yP2qw2F92T/I/OSvtDb4w8j/r/hhz1xLyP34rXI/C9fE/9LC2Yn/Z8T9MjyjtDb7xP4bGsS5uo/E/oVZSJ6CJ8T+fPwrXo3DxP3+B2T15WPE/QRzAWyBB8T/mD74wmSrxP2xc07zjFPE/1AEAAAAA8T8eAET67evwP0tXn6ut2PA/WQcSFD/G8D9KEJwzorTwPxxyPQrXo/A/0Sz2l92T8D9nQMbctYTwP+CsrdhfdvA/O3Ksi9to8D94kML1KFzwP5cH8BZIUPA/mNc07zhF8D97AJF++zrwP0CCBMWPMfA/51yPwvUo8D9wkDF3LSHwP9wc6+I2GvA/KQK8BRIU8D9YQKTfvg7wP2rXo3A9CvA/Xce6uI0G8D8zEOm3rwPwP+uxLm6jAfA/hKyL22gA8D8AAAAAAADwP16si9toAPA/nrEubqMB8D/AD+m3rwPwP8TGuriNBvA/qtajcD0K8D9yP6Tfvg7wPxwBvAUSFPA/qBvr4jYa8D8XjzF3LSHwP2dbj8L1KPA/mYAExY8x8D+u/pB++zrwP6XVNO84RfA/fQXwFkhQ8D84jsL1KFzwP9VvrIvbaPA/U6qt2F928D+0PcbctYTwP/cp9pfdk/A/HG89Ctej8D8jDZwzorTwPwwEEhQ/xvA/11Ofq63Y8D+F/EP67evwPxT+//////A/hVjTvOMU8T/ZC74wmSrxPw4YwFsgQfE/Jn3ZPXlY8T8fOwrXo3DxP/tRUiegifE/ucGxLm6j8T9YiijtDb7xP9qrtmJ/2fE/PiZcj8L18T+E+Rhz1xLyP6wl7Q2+MPI/tqrYX3ZP8j+iiNtoAG/yP3G/9Shcj/I/IU8noImw8j+zN3DOiNLyPyh50LNZ9fI/fhNIUPwY8z+2BtejcD3zP9FSfa62YvM/zvc6cM6I8z+s9Q/pt6/zP21M/Bhz1/M/EPz/////8z+VBBueXin0P/xlTfOOU/Q/RSCX/5B+9D9wM/jCZKr0P32fcD0K1/Q/bGQAb4EE9T89gqdXyjL1P/H4ZffkYfU/hsg7TtGR9T/+8Chcj8L1P1dyLSEf9PU/kkxJnYAm9j+wf3zQs1n2P7ALx7q4jfY/kvAoXI/C9j9VLqK0N/j2P/vEMsSxLvc/g7Taiv1l9z/t/JkIG573PzmecD0K1/c/Z5heKcsQ+D9362PMXUv4P2qXgCbChvg/Ppy0N/jC+D/0+f/////4P4ywYn/ZPfk/B8DctYR8+T9kKG6jAbz5P6LpFkhQ/Pk/wgPXo3A9+j/Gdq62Yn/6P6pCnYAmwvo/cWejAbwF+z8a5cA5I0r7P6S79Shcj/s/EutBz2bV+z9gc6UsQxz8P5JUIEHxY/w/pY6yDHGs/D+aIVyPwvX8P3INHcnlP/0/K1L1udqK/T/G7+Rhodb9P0Tm68A5I/4/pDUK16Nw/j/l3T+k377+PwjfjCjtDf8/DjnxY8xd/z/262xWfa7/P8D3//////8/Ni5VMCopAED9DDY8vVIAQDWYoiO5fABA3s+a5h2nAED4sx6F69EAQINELv8h/QBAgIHJVMEoAUDsavCFyVQBQMoAo5I6gQFAGkPhehSuAUDaMas+V9sBQAzNAN4CCQJArhTiWBc3AkDBCE+vlGUCQEapR+F6lAJAO/bL7snDAkCi79vXgfMCQHmVd5yiIwNAwueePCxUA0B75lG4HoUDQKaRkA96tgNAQelaQj7oA0BO7bBQaxoEQMydkjoBTQRAuvr///9/BEAaBPmgZ7MEQOq5fR045wRALByOdXEbBUDfKiqpE1AFQAPmUbgehQVAmE0Fo5K6BUCeYURpb/AFQBQiDwu1JgZA/I5liGNdBkBWqEfhepQGQCButRX7ywZAWuCuJeQDB0AG/zMRNjwHQCTKRNjwdAdAskHhehSuB0CxZQn5oOcHQCE2vVKWIQhAA7P8h/RbCEBV3MeYu5YIQBiyHoXr0QhATDQBTYQNCUDyYm/whUkJQAg+aW/whQlAkMXuycPCCUCI+f////8JQPHZnBGlPQpAzGbF/rJ7CkAYoHnHKboKQNSFuWsJ+QpAAhiF61E4C0CgVtxGA3gLQLBBv30duAtAMdktkKD4C0AiHSh+jDkMQIUNrkfhegxAWaq/7J68DECe81xtxf4MQFTphclUQQ1Aeos6AU2EDUAS2noUrscNQBvVRgN4Cw5AlXyezapPDkCA0IFzRpQOQNzQ8PRK2Q5AqX3rUbgeD0Dn1nGKjmQPQJbcg57Nqg9At44hjnXxD0CkdqUsQxwQQCX8////PxBA3lcgQfFjEEDRiQbwFogQQPyRsgxxrBBAXnAkl//QEED6JFyPwvUQQM6vWfW5GhFA2xAdyeU/EUAgSKYKRmURQJ5V9bnaihFAVDkK16OwEUBD8+RhodYRQGqDhVrT/BFAyunrwDkjEkBiJhiV1EkSQDQ5CtejcBJAPCLChqeXEkB+4T+k374SQPl2gy9M5hJArOKMKO0NE0CXJFyPwjUTQLs88WPMXRNAGCtMpgqGE0Cs72xWfa4TQHqKU3Qk1xNAgPv/////E0C+QnL5DykUQDZgqmBUUhRA5VOoNc17FEDNHWx4eqUUQO699ShczxRARzRFR3L5FEDYgFrTvCMVQKKjNc07ThVApZzWNO94FUDgaz0K16MVQFQRak3zzhVAAI1c/kP6FUDl3hQdySUWQAIHk6mCURZAWAXXo3B9FkDm2eALk6kWQK2EsOHp1RZArAVGJXUCF0DkXKHWNC8XQFSKwvUoXBdA/Y2pglGJF0DeZ1Z9rrYXQPgXyeU/5BdASp4BvAUSGEDV+v///z8YQJgtxLEubhhAlDZO0ZGcGEDJFZ5eKcsYQDbLs1n1+RhA21aPwvUoGUC5uDCZKlgZQM/wl92ThxlAHv/EjzG3GUCm47evA+cZQGaecD0KFxpAXi/vOEVHGkCQljOitHcaQPnTPXlYqBpAm+cNvjDZGkB20aNwPQobQImR/5B+OxtA1CchH/RsG0BZlAgbnp4bQBXXtYR80BtACvAoXI8CHEA432Gh1jQcQJ6kYFRSZxxAPUAldQKaHEAUsq8D58wcQCT6/////xxAbBgWak0zHUDtDPJBz2YdQKbXk4eFmh1AmHj7OnDOHUDC7yhcjwIeQCU9HOviNh5AwWDV52prHkCUWlRSJ6AeQKEqmSoY1R5A5tCjcD0KH0BjTXQklz8fQBmgCkYldR9ACMlm1eeqH0AuyIjS3uAfQMdOuB6FCyBAkyQPC7UmIEB75Ugu/0EgQICRZYhjXSBAoChlGeJ4IEDeqkfhepQgQDcYDeAtsCBArHC1FfvLIEA+tECC4ucgQOziriXkAyFAtvz///8fIUCdATQRNjwhQKDxSlmGWCFAv8xE2PB0IUD6kiGOdZEhQFJE4XoUriFAxuCDns3KIUBWaAn5oOchQALbcYqOBCJAyzi9UpYhIkCwgetRuD4iQLG1/If0WyJAztTw9Ep5IkAI38eYu5YiQF7UgXNGtCJA0LQehevRIkBfgJ7Nqu8iQAk3AU2EDSNA0NhGA3grI0CzZW/whUkjQLPdehSuZyNAz0Bpb/CFI0AHjzoBTaQjQFvI7snDwiNAy+yFyVThI0BY/P////8jQAH3XG3FHiRAxtycEaU9JECorb/snlwkQKZpxf6yeyRAwBCuR+GaJED2onnHKbokQEggKH6M2SRAt4i5awn5JEBC3C2QoBglQOoahetROCVArUS/fR1YJUCNWdxGA3glQIlZ3EYDmCVAokS/fR24JUDWGoXrUdglQCfcLZCg+CVAlIi5awkZJkAeICh+jDkmQMOieccpWiZAhRCuR+F6JkBjacX+spsmQF6tv+yevCZAdNycEaXdJkCn9lxtxf4mQPf7////HydAYuyFyVRBJ0Dqx+7Jw2InQI6OOgFNhCdATkBpb/ClJ0Aq3XoUrscnQCNlb/CF6SdAONhGA3gLKEBpNgFNhC0oQLd/ns2qTyhAIbQehetxKECn04FzRpQoQEnex5i7tihAB9Tw9ErZKEDitPyH9PsoQNmA61G4HilA7Te9UpZBKUAc2nGKjmQpQGhnCfmghylA0N+Dns2qKUBUQ+F6FM4pQPWRIY518SlAsstE2PAUKkCL8EpZhjgqQIAANBE2XCpAkvv///9/KkDA4a4l5KMqQAqzQILixypAcG+1FfvrKkDzFg3gLRArQJKpR+F6NCtATSdlGeJYK0AlkGWIY30rQBjkSC7/oStAKCMPC7XGK0BUTbgehesrQJ1iRGlvECxAAmOz6nM1LECDTgWjklosQCAlOpLLfyxA2eZRuB6lLECvk0wVjMosQKErKqkT8CxAr67qc7UVLUDaHI51cTstQCF2FK5HYS1AhLp9HTiHLUAD6snDQq0tQJ8E+aBn0y1AVgoLtab5LUAr+////x8uQBvX14FzRi5AJ56SOgFtLkBQUDAqqZMuQJXtsFBrui5A93UUrkfhLkB06VpCPggvQA5IhA1PLy9AxJGQD3pWL0CXxn9Iv30vQIXmUbgepS9AkPEGX5jML0C35548LPQvQH7kjCjtDTBArso7TtEhMEBrJlyPwjUwQLj37evASTBAkj7xY8xdMED6+mX35HEwQPAsTKYKhjBAddSjcD2aMECI8WxWfa4wQCiEp1fKwjBAWIxTdCTXMEAUCnGsi+swQGD9/////zBAOWYAb4EUMUChRHL5DykxQJeYVZ+rPTFAGmKqYFRSMUAsoXA9CmcxQMxVqDXNezFA+n9RSZ2QMUC3H2x4eqUxQAE1+MJkujFA2r/1KFzPMUBAwGSqYOQxQDU2RUdy+TFAuCGX/5AOMkDJglrTvCMyQGhZj8L1ODJAlqU1zTtOMkBRZ03zjmMyQJue1jTveDJAckvRkVyOMkDYbT0K16MyQMwFG55euTJAThNqTfPOMkBelioYleQyQP2OXP5D+jJAKf3///8PM0Dk4BQdySUzQC06m1WfOzNAAwmTqYJRM0BoTfwYc2czQFwH16NwfTNA3TYjSnuTM0Ds2+ALk6kzQIr2D+m3vzNAtYaw4enVM0BvjML1KOwzQLcHRiV1AjRAjfg6cM4YNEDxXqHWNC80QOM6eVioRTRAZIzC9ShcNEByU32utnI0QA+QqYJRiTRAOkJHcvmfNEDzaVZ9rrY0QDoH16NwzTRADxrJ5T/kNEByoixDHPs0QGSgAbwFEjVA4xNIUPwoNUDx/P///z81QI1bKcsQVzVAty/EsS5uNUBvedCzWYU1QLU4TtGRnDVAiW09CtezNUDsF55eKcs1QNw3cM6I4jVAW82zWfX5NUBo2GgAbxE2QANZj8L1KDZALE8noIlANkDjujCZKlg2QCmcq63YbzZA/PKX3ZOHNkBev/UoXJ82QE4BxY8xtzZAzLgFEhTPNkDY5bevA+c2QHKI22gA/zZAmqBwPQoXN0BQLnctIS83QJUx7zhFRzdAaKrYX3ZfN0DImDOitHc3QLf8////jzdANNY9eVioN0A/Je0NvsA3QNnpDb4w2TdAACSgibDxN0C206NwPQo4QPn4GHPXIjhAy5P/kH47OEArpFfKMlQ4QBkqIR/0bDhAlSVcj8KFOECglggbnp44QDh9JsKGtzhAX9m1hHzQOEAUq7Zif+k4QFbyKFyPAjlAJ68McawbOUCH4WGh1jQ5QHSJKO0NTjlA76ZgVFJnOUD5OQrXo4A5QJBCJXUCmjlAtsCxLm6zOUBqtK8D58w5QKwdH/Rs5jlAfPz/////OUDaUFInoBk6QMcaFmpNMzpAQVpLyAdNOkBKD/JBz2Y6QOE5CtejgDpABtqTh4WaOkC5745TdLQ6QPp6+zpwzjpAyXvZPXnoOkAm8ihcjwI7QBLe6ZWyHDtAjD8c6+I2O0CTFsBbIFE7QClj1edqaztATSVcj8KFO0AAXVRSJ6A7QEAKvjCZujtADi2ZKhjVO0BrxeU/pO87QFbTo3A9CjxAz1bTvOMkPEDWT3Qklz88QGu+hqdXWjxAjqIKRiV1PEA//P///488QH/LZtXnqjxATBA/xtzFPECoyojS3uA8QJL6Q/rt+zxACqBwPQoXPUAQuw6cMzI9QKRLHhZqTT1Ax1Gfq61oPUB3zZFc/oM9QLa+9Shcnz1AgyXLEMe6PUDeARIUP9Y9QMdTyjLE8T1APhv0bFYNPkBDWI/C9Sg+QNYKnDOiRD5A+DIawFtgPkCo0AloInw+QOXjaiv2lz5AsWw9CtezPkALa4EExc8+QPTeNhrA6z5AashdS8gHP0BuJ/aX3SM/QAH8////Pz9AIkZ7gy9cP0DRBWgibHg/QA07xty1lD9A2eWVsgyxP0AyBtejcM0/QBmcibDh6T9AyNNW7C8DQEBJlCGOdRFAQJIPpb3BH0BAokXhehQuQEB5NtbFbTxAQBfig57NSkBAfEjqBDRZQECoaQn5oGdAQJxF4XoUdkBAVtxxio6EQEDXLbsnD5NAQCA6vVKWoUBALwF4CySwQEAGg+tRuL5AQKO/FyZTzUBACLf8h/TbQEA0aZp3nOpAQCfW8PRK+UBA4f3///8HQUBi4MeYuxZBQKp9SL99JUFAudWBc0Y0QUCP6HO1FUNBQCy2HoXrUUFAkD6C4sdgQUC8gZ7Nqm9BQK5/c0aUfkFAaDgBTYSNQUDoq0fhepxBQDDaRgN4q0FAPsP+snu6QUAUZ2/whclBQLHFmLuW2EFAFd96FK7nQUBAsxX7y/ZBQDJCaW/wBUJA64t1cRsVQkBrkDoBTSRCQLJPuB6FM0JAwMnuycNCQkCW/t0CCVJCQDLuhclUYUJAlZjmHadwQkDA/f///39CQK8d0m9fj0JAavhcbcWeQkDtjaD4Ma5CQDHenBGlvUJAO+lRuB7NQkATr7/sntxCQLIv5q4l7EJAEmvF/rL7QkA5YV3cRgtDQC4SrkfhGkNA6X23QIIqQ0BlpHnHKTpDQKiF9NvXSUNAuSEofoxZQ0CQeBSuR2lDQCmKuWsJeUNAiFYXt9GIQ0C13S2QoJhDQKkf/fZ1qENAXhyF61G4Q0DZ08VtNMhDQCJGv30d2ENAM3NxGw3oQ0AEW9xGA/hDQJz9////B0RAAVvcRgMYREAtc3EbDShEQBpGv30dOERAz9PFbTRIREBQHIXrUVhEQJkf/fZ1aERAot0tkKB4REBzVhe30YhEQBGKuWsJmURAdngUrkepRECbISh+jLlEQIiF9NvXyURAQqR5xynaREDDfbdAgupEQAUSrkfh+kRADmFd3EYLRUDkasX+shtFQIIv5q4lLEVA4K6/7J48RUAF6VG4Hk1FQPjdnBGlXUVAso2g+DFuRUAs+FxtxX5FQG4d0m9fj0VAff3///+fRUBTmOYdp7BFQOnthclUwUVAR/7dAgnSRUByye7Jw+JFQGRPuB6F80VAF5A6AU0ERkCRi3VxGxVGQNlBaW/wJUZA57IV+8s2RkC23noUrkdGQEzFmLuWWEZAsGZv8IVpRkDbwv6ye3pGQMbZRgN4i0ZAeatH4XqcRkD5NwFNhK1GQEB/c0aUvkZASIGezarPRkAWPoLix+BGQLO1HoXr8UZAFuhztRUDR0A61YFzRhRHQCV9SL99JUdA3d/HmLs2R0Bd/f///0dHQJ3V8PRKWUdApGiad5xqR0B5tvyH9HtHQBW/FyZTjUdAcYLrUbieR0CVAHgLJLBHQIY5vVKWwUdAPi27Jw/TR0C323GKjuRHQPZE4XoU9kdABGkJ+aAHSEDYR+oENBlIQG3hg57NKkhAyTXWxW08SEDyROF6FE5IQOMOpb3BX0hAlJMhjnVxSEAM01bsL4NIQFLNRNjwlEhAX4LrUbimSEAt8kpZhrhIQMEcY+5aykhAIwI0ETbcSEBNor3BF+5IQDb9/////0hA5xL7y+4RSUBl464l5CNJQKtuGw3gNUlAsLRAguJHSUB9tR6F61lJQBhxtRX7a0lAeucENBF+SUCcGA3gLZBJQIUEzhlRoklAPKtH4Xq0SUC6DHo2q8ZJQPgoZRni2ElA/v8Iih/rSUDRkWWIY/1JQGzeehSuD0pAxuVILv8hSkDnp8/VVjRKQNckDwu1RkpAjlwHzhlZSkAET7gehWtKQEL8If32fUpATmREaW+QSkAhhx9j7qJKQLRks+pztUpADv3////HSkA2UAWjktpKQCZew9Mr7UpA1SY6ksv/SkBLqmnecRJLQI/oUbgeJUtAm+HyH9I3S0BmlUwVjEpLQPkDX5hMXUtAWi0qqRNwS0CBEa5H4YJLQGmw6nO1lUtAGArgLZCoS0CVHo51cbtLQNnt9EpZzktA3XcUrkfhS0CovOyePPRLQEG8fR04B0xAoXbHKToaTEDB68nDQi1MQKkbhetRQExAXgb5oGdTTEDbqyXkg2ZMQBcMC7WmeUxAGyepE9CMTEDt/P///59MQIWND3o2s0xA3tjXgXPGTED+3lgXt9lMQOyfkjoB7UxAoRuF61EATUAWUjAqqRNNQFJDlPYGJ01AXO+wUGs6TUAuVoY41k1NQL93FK5HYU1AF1Rbsb90TUA+61pCPohNQCs9E2HDm01A2UmEDU+vTUBNEa5H4cJNQJCTkA961k1AmtArZRnqTUBkyH9Iv/1NQPR6jLlrEU5AU+hRuB4lTkB6ENBE2DhOQF/zBl+YTE5ADJH2Bl9gTkCI6Z48LHROQMv8////h05AzMoZUdqbTkCVU+wvu69OQC2Xd5yiw05AjJW7lpDXTkCqTrgehetOQJDCbTSA/05ARPHb14ETT0C/2gIJiidPQPp+4seYO09A+916FK5PT0DL98vuyWNPQGPM1Vbsd09AuluYTBWMT0DXpRPQRKBPQMSqR+F6tE9AeGo0gLfIT0Dr5Nms+txPQCUaOGdE8U9AF4WnV8oCUEB/Wo/C9QxQQEaNU3QkF1BAch30bFYhUEAEC3GsiytQQPpVyjLENVBAUP7///8/UEAJBBIUP0pQQCpnAG+BVFBArifLEMdeUECSRXL5D2lQQNnA9Shcc1BAiJlVn6t9UECbz5Fc/odQQA1jqmBUklBA4lOfq62cUEAfonA9CqdQQMBNHhZqsVBAwFaoNc27UEAjvQ6cM8ZQQO+AUUmd0FBAHaJwPQrbUECrIGx4euVQQJ38Q/rt71BA9jX4wmT6UECzzIjS3gRRQNDA9ShcD1FATxI/xtwZUUA3wWSqYCRRQILNZtXnLlFALDdFR3I5UUA6/v///0NRQLAil/+QTlFAiaQKRiVZUUDCg1rTvGNRQF7AhqdXblFAYVqPwvV4UUDJUXQkl4NRQI+mNc07jlFAuVjTvOOYUUBLaE3zjqNRQEHVo3A9rlFAlZ/WNO+4UUBOx+U/pMNRQG5M0ZFczlFA8S6ZKhjZUUDUbj0K1+NRQBsMvjCZ7lFAyQYbnl75UUDaXlRSJwRSQEsUak3zDlJAICdcj8IZUkBclyoYlSRSQPxk1edqL1JA+49c/kM6UkBeGMBbIEVSQCj+////T1JAVkEc6+JaUkDj4RQdyWVSQNTf6ZWycFJALTubVZ97UkDp8yhcj4ZSQAQKk6mCkVJAg33ZPXmcUkBqTvwYc6dSQLR8+zpwslJAXgjXo3C9UkBr8Y5TdMhSQN83I0p701JAuNuTh4XeUkDv3OALk+lSQIs7Ctej9FJAjfcP6bf/UkD0EPJBzwpTQLqHsOHpFVNA41tLyAchU0B0jcL1KCxTQGkcFmpNN1NAvQhGJXVCU0B0UlInoE1TQJP5OnDOWFNAFv7///9jU0D4X6HWNG9TQD0fH/RselNA6zt5WKiFU0D8ta8D55BTQGyNwvUonFNAP8KxLm6nU0B7VH2utrJTQBpEJXUCvlNAGJGpglHJU0B6OwrXo9RTQERDR3L531NAcahgVFLrU0D9alZ9rvZTQO2KKO0NAlRARQjXo3ANVEAA42Gh1hhUQBsbyeU/JFRAmbAMcawvVEB+oyxDHDtUQMjzKFyPRlRAcaEBvAVSVEB9rLZif11UQPEUSFD8aFRAyNq1hHx0VED//f///39UQJl+JsKGi1RAm1wpyxCXVEABmAgbnqJUQMYwxLEurlRA7iZcj8K5VEB/etCzWcVUQHMrIR/00FRAxTlO0ZHcVEB8pVfKMuhUQJpuPQrX81RAHJX/kH7/VED9GJ5eKQtVQEL6GHPXFlVA7zhwzogiVUD/1KNwPS5VQG7Os1n1OVVAQSWgibBFVUB72WgAb1FVQBrrDb4wXVVAF1qPwvVoVUB4Ju0NvnRVQEFQJ6CJgFVAbdc9eViMVUD5uzCZKphVQOj9////o1VAP52rrdivVUD5mTOitLtVQBP0l92Tx1VAkKvYX3bTVUB1wPUoXN9VQL4y7zhF61VAZQLFjzH3VUBwL3ctIQNWQOS5BRIUD1ZAu6FwPQobVkDw5revAydWQIqJ22gAM1ZAi4nbaAA/VkDw5revA0tWQLShcD0KV1ZA27kFEhRjVkBrL3ctIW9WQF4CxY8xe1ZAsDLvOEWHVkBmwPUoXJNWQIOr2F92n1ZABfSX3ZOrVkDlmTOitLdWQCidq63Yw1ZA1P3////PVkDkuzCZKtxWQFLXPXlY6FZAJFAnoIn0VkBeJu0NvgBXQPtZj8L1DFdA+OoNvjAZV0BX2WgAbyVXQCAloImwMVdAS86zWfU9V0DW1KNwPUpXQMQ4cM6IVldAGvoYc9diV0DUGJ5eKW9XQOyU/5B+e1dAaW49CteHV0BNpVfKMpRXQJU5TtGRoFdAPCshH/SsV0BGetCzWblXQLgmXI/CxVdAjzDEsS7SV0DDlwgbnt5XQFxcKcsQ61dAXH4mwob3V0DB/f///wNYQITatYR8EFhAqhRIUPwcWEA5rLZifylYQCuhAbwFNlhAfPMoXI9CWEAxoyxDHE9YQE6wDHGsW1hAzxrJ5T9oWECu4mGh1nRYQPAH16NwgVhAnIoo7Q2OWECqalZ9rppYQBioYFRSp1hA6EJHcvmzWEAiOwrXo8BYQL6QqYJRzVhAukMldQLaWEAZVH2utuZYQODBsS5u81hAC43C9SgAWUCVta8D5wxZQII7eVioGVlA1x4f9GwmWUCQX6HWNDNZQA==\",\"dtype\":\"float64\",\"shape\":[2000]}}},\"id\":\"8ba89bfe-ad45-40ae-9aa4-d57404af222b\",\"type\":\"ColumnDataSource\"},{\"attributes\":{},\"id\":\"1070ae78-1fa2-482f-998d-74cdcd1d2afc\",\"type\":\"PanTool\"},{\"attributes\":{},\"id\":\"7f1ebf3e-5327-4205-be37-94316180bf3a\",\"type\":\"LinearScale\"},{\"attributes\":{\"source\":{\"id\":\"8ba89bfe-ad45-40ae-9aa4-d57404af222b\",\"type\":\"ColumnDataSource\"}},\"id\":\"165ff51e-350e-4b49-82b9-bd18c4105db2\",\"type\":\"CDSView\"},{\"attributes\":{\"bottom_units\":\"screen\",\"fill_alpha\":{\"value\":0.5},\"fill_color\":{\"value\":\"lightgrey\"},\"left_units\":\"screen\",\"level\":\"overlay\",\"line_alpha\":{\"value\":1.0},\"line_color\":{\"value\":\"black\"},\"line_dash\":[4,4],\"line_width\":{\"value\":2},\"plot\":null,\"render_mode\":\"css\",\"right_units\":\"screen\",\"top_units\":\"screen\"},\"id\":\"758ab2ec-5214-4940-80ce-5f4812d58487\",\"type\":\"BoxAnnotation\"},{\"attributes\":{\"callback\":null,\"end\":10,\"start\":-10},\"id\":\"8491597d-36b1-4f09-9d72-b233f48298f0\",\"type\":\"Range1d\"},{\"attributes\":{\"below\":[{\"id\":\"558b16ca-ba5b-4683-9b20-bb6ef8949e94\",\"type\":\"LinearAxis\"}],\"left\":[{\"id\":\"eb0570e3-d2bc-4e54-af75-70282e3439b4\",\"type\":\"LinearAxis\"}],\"plot_height\":400,\"plot_width\":400,\"renderers\":[{\"id\":\"558b16ca-ba5b-4683-9b20-bb6ef8949e94\",\"type\":\"LinearAxis\"},{\"id\":\"be058973-2aee-4bb6-93b6-9c2ce40f9e9d\",\"type\":\"Grid\"},{\"id\":\"eb0570e3-d2bc-4e54-af75-70282e3439b4\",\"type\":\"LinearAxis\"},{\"id\":\"f0d71258-afc3-46fe-8a57-81656952f06e\",\"type\":\"Grid\"},{\"id\":\"758ab2ec-5214-4940-80ce-5f4812d58487\",\"type\":\"BoxAnnotation\"},{\"id\":\"20e8322c-5744-4b2c-bf12-80578c367be0\",\"type\":\"GlyphRenderer\"}],\"title\":{\"id\":\"9727e993-5250-4922-b621-1a010c3d44fc\",\"type\":\"Title\"},\"toolbar\":{\"id\":\"e714435f-de62-4c1f-a617-80415a90e754\",\"type\":\"Toolbar\"},\"x_range\":{\"id\":\"46cb47d8-f8a3-4a3b-ae72-25a7e6fd3e7d\",\"type\":\"Range1d\"},\"x_scale\":{\"id\":\"7f1ebf3e-5327-4205-be37-94316180bf3a\",\"type\":\"LinearScale\"},\"y_range\":{\"id\":\"8491597d-36b1-4f09-9d72-b233f48298f0\",\"type\":\"Range1d\"},\"y_scale\":{\"id\":\"af4c6509-729c-44eb-a565-c830cdf8c431\",\"type\":\"LinearScale\"}},\"id\":\"f26fd55e-2778-4cd4-a03e-000cf8098654\",\"subtype\":\"Figure\",\"type\":\"Plot\"},{\"attributes\":{},\"id\":\"6d5d6798-11db-46fd-b81d-6914de800065\",\"type\":\"WheelZoomTool\"},{\"attributes\":{},\"id\":\"aa253545-a57c-4d28-b682-0c17bd4fa10e\",\"type\":\"HelpTool\"},{\"attributes\":{\"active_drag\":\"auto\",\"active_inspect\":\"auto\",\"active_scroll\":\"auto\",\"active_tap\":\"auto\",\"tools\":[{\"id\":\"1070ae78-1fa2-482f-998d-74cdcd1d2afc\",\"type\":\"PanTool\"},{\"id\":\"6d5d6798-11db-46fd-b81d-6914de800065\",\"type\":\"WheelZoomTool\"},{\"id\":\"4e0fd95f-687f-4032-acb4-321f9dd698df\",\"type\":\"BoxZoomTool\"},{\"id\":\"1366130b-32f8-48f5-ad27-6bf2bfb798cf\",\"type\":\"SaveTool\"},{\"id\":\"de5df65f-a743-4510-9f2e-9c045857f1d6\",\"type\":\"ResetTool\"},{\"id\":\"aa253545-a57c-4d28-b682-0c17bd4fa10e\",\"type\":\"HelpTool\"}]},\"id\":\"e714435f-de62-4c1f-a617-80415a90e754\",\"type\":\"Toolbar\"},{\"attributes\":{},\"id\":\"bef2690a-8c05-4a2c-be3f-2a5829dac8c6\",\"type\":\"BasicTickFormatter\"},{\"attributes\":{\"formatter\":{\"id\":\"bef2690a-8c05-4a2c-be3f-2a5829dac8c6\",\"type\":\"BasicTickFormatter\"},\"plot\":{\"id\":\"f26fd55e-2778-4cd4-a03e-000cf8098654\",\"subtype\":\"Figure\",\"type\":\"Plot\"},\"ticker\":{\"id\":\"92132551-5546-46b7-9ec8-9c6ae02ab96c\",\"type\":\"BasicTicker\"}},\"id\":\"eb0570e3-d2bc-4e54-af75-70282e3439b4\",\"type\":\"LinearAxis\"},{\"attributes\":{},\"id\":\"92132551-5546-46b7-9ec8-9c6ae02ab96c\",\"type\":\"BasicTicker\"},{\"attributes\":{\"dimension\":1,\"plot\":{\"id\":\"f26fd55e-2778-4cd4-a03e-000cf8098654\",\"subtype\":\"Figure\",\"type\":\"Plot\"},\"ticker\":{\"id\":\"92132551-5546-46b7-9ec8-9c6ae02ab96c\",\"type\":\"BasicTicker\"}},\"id\":\"f0d71258-afc3-46fe-8a57-81656952f06e\",\"type\":\"Grid\"},{\"attributes\":{\"data_source\":{\"id\":\"8ba89bfe-ad45-40ae-9aa4-d57404af222b\",\"type\":\"ColumnDataSource\"},\"glyph\":{\"id\":\"481ed494-465d-4ab1-b368-263a8ae942f7\",\"type\":\"Line\"},\"hover_glyph\":null,\"muted_glyph\":null,\"nonselection_glyph\":{\"id\":\"01c0ae64-5bc0-4286-8616-ef2baab7d408\",\"type\":\"Line\"},\"selection_glyph\":null,\"view\":{\"id\":\"165ff51e-350e-4b49-82b9-bd18c4105db2\",\"type\":\"CDSView\"}},\"id\":\"20e8322c-5744-4b2c-bf12-80578c367be0\",\"type\":\"GlyphRenderer\"},{\"attributes\":{\"overlay\":{\"id\":\"758ab2ec-5214-4940-80ce-5f4812d58487\",\"type\":\"BoxAnnotation\"}},\"id\":\"4e0fd95f-687f-4032-acb4-321f9dd698df\",\"type\":\"BoxZoomTool\"},{\"attributes\":{},\"id\":\"d23a8d14-30d2-49b2-a479-05c26497697b\",\"type\":\"BasicTicker\"},{\"attributes\":{\"plot\":{\"id\":\"f26fd55e-2778-4cd4-a03e-000cf8098654\",\"subtype\":\"Figure\",\"type\":\"Plot\"},\"ticker\":{\"id\":\"d23a8d14-30d2-49b2-a479-05c26497697b\",\"type\":\"BasicTicker\"}},\"id\":\"be058973-2aee-4bb6-93b6-9c2ce40f9e9d\",\"type\":\"Grid\"},{\"attributes\":{\"formatter\":{\"id\":\"0513424d-ff3e-4abc-9cc7-626e414ac73e\",\"type\":\"BasicTickFormatter\"},\"plot\":{\"id\":\"f26fd55e-2778-4cd4-a03e-000cf8098654\",\"subtype\":\"Figure\",\"type\":\"Plot\"},\"ticker\":{\"id\":\"d23a8d14-30d2-49b2-a479-05c26497697b\",\"type\":\"BasicTicker\"}},\"id\":\"558b16ca-ba5b-4683-9b20-bb6ef8949e94\",\"type\":\"LinearAxis\"},{\"attributes\":{},\"id\":\"0513424d-ff3e-4abc-9cc7-626e414ac73e\",\"type\":\"BasicTickFormatter\"}],\"root_ids\":[\"f26fd55e-2778-4cd4-a03e-000cf8098654\"]},\"title\":\"Bokeh Application\",\"version\":\"0.12.7\"}};\n",
       "            var render_items = [{\"docid\":\"d9015faf-daa8-447a-80a2-8236cf75eddb\",\"elementid\":\"520a02bb-35d1-4ca0-b119-e757bbeae2c3\",\"modelid\":\"f26fd55e-2778-4cd4-a03e-000cf8098654\"}];\n",
       "            \n",
       "            Bokeh.embed.embed_items(docs_json, render_items);\n",
       "          };\n",
       "          if (document.readyState != \"loading\") fn();\n",
       "          else document.addEventListener(\"DOMContentLoaded\", fn);\n",
       "        })();\n",
       "      },\n",
       "      function(Bokeh) {\n",
       "      }\n",
       "    ];\n",
       "  \n",
       "    function run_inline_js() {\n",
       "      \n",
       "      if ((root.Bokeh !== undefined) || (force === true)) {\n",
       "        for (var i = 0; i < inline_js.length; i++) {\n",
       "          inline_js[i].call(root, root.Bokeh);\n",
       "        }if (force === true) {\n",
       "          display_loaded();\n",
       "        }} else if (Date.now() < root._bokeh_timeout) {\n",
       "        setTimeout(run_inline_js, 100);\n",
       "      } else if (!root._bokeh_failed_load) {\n",
       "        console.log(\"Bokeh: BokehJS failed to load within specified timeout.\");\n",
       "        root._bokeh_failed_load = true;\n",
       "      } else if (force !== true) {\n",
       "        var cell = $(document.getElementById(\"520a02bb-35d1-4ca0-b119-e757bbeae2c3\")).parents('.cell').data().cell;\n",
       "        cell.output_area.append_execute_result(NB_LOAD_WARNING)\n",
       "      }\n",
       "  \n",
       "    }\n",
       "  \n",
       "    if (root._bokeh_is_loading === 0) {\n",
       "      console.log(\"Bokeh: BokehJS loaded, going straight to plotting\");\n",
       "      run_inline_js();\n",
       "    } else {\n",
       "      load_libs(js_urls, function() {\n",
       "        console.log(\"Bokeh: BokehJS plotting callback run at\", now());\n",
       "        run_inline_js();\n",
       "      });\n",
       "    }\n",
       "  }(window));\n",
       "</script>"
      ]
     },
     "metadata": {},
     "output_type": "display_data"
    }
   ],
   "source": [
    "y = f(x)\n",
    "p = figure(plot_height=400, plot_width=400, x_range=(-10,10), y_range=(-10,10))\n",
    "p.line(x,y)\n",
    "show(p)"
   ]
  },
  {
   "cell_type": "markdown",
   "metadata": {
    "collapsed": true
   },
   "source": [
    "Let's say we wanted to estimate the slope at the point $(1,3)$.  We might start by drawing a line from that point to a nearby point, say, $(2,5)$.  This is called a **secant** line because its endpoints are two points on the curve."
   ]
  },
  {
   "cell_type": "code",
   "execution_count": 21,
   "metadata": {},
   "outputs": [
    {
     "data": {
      "text/html": [
       "\n",
       "\n",
       "    <div class=\"bk-root\">\n",
       "        <div class=\"bk-plotdiv\" id=\"9b3abac4-d78f-41b1-aa2e-df8123aaf834\"></div>\n",
       "    </div>\n",
       "<script type=\"text/javascript\">\n",
       "  \n",
       "  (function(root) {\n",
       "    function now() {\n",
       "      return new Date();\n",
       "    }\n",
       "  \n",
       "    var force = false;\n",
       "  \n",
       "    if (typeof (root._bokeh_onload_callbacks) === \"undefined\" || force === true) {\n",
       "      root._bokeh_onload_callbacks = [];\n",
       "      root._bokeh_is_loading = undefined;\n",
       "    }\n",
       "  \n",
       "  \n",
       "    \n",
       "    if (typeof (root._bokeh_timeout) === \"undefined\" || force === true) {\n",
       "      root._bokeh_timeout = Date.now() + 0;\n",
       "      root._bokeh_failed_load = false;\n",
       "    }\n",
       "  \n",
       "    var NB_LOAD_WARNING = {'data': {'text/html':\n",
       "       \"<div style='background-color: #fdd'>\\n\"+\n",
       "       \"<p>\\n\"+\n",
       "       \"BokehJS does not appear to have successfully loaded. If loading BokehJS from CDN, this \\n\"+\n",
       "       \"may be due to a slow or bad network connection. Possible fixes:\\n\"+\n",
       "       \"</p>\\n\"+\n",
       "       \"<ul>\\n\"+\n",
       "       \"<li>re-rerun `output_notebook()` to attempt to load from CDN again, or</li>\\n\"+\n",
       "       \"<li>use INLINE resources instead, as so:</li>\\n\"+\n",
       "       \"</ul>\\n\"+\n",
       "       \"<code>\\n\"+\n",
       "       \"from bokeh.resources import INLINE\\n\"+\n",
       "       \"output_notebook(resources=INLINE)\\n\"+\n",
       "       \"</code>\\n\"+\n",
       "       \"</div>\"}};\n",
       "  \n",
       "    function display_loaded() {\n",
       "      if (root.Bokeh !== undefined) {\n",
       "        var el = document.getElementById(\"9b3abac4-d78f-41b1-aa2e-df8123aaf834\");\n",
       "        if (el != null) {\n",
       "          el.textContent = \"BokehJS \" + Bokeh.version + \" successfully loaded.\";\n",
       "        }\n",
       "      } else if (Date.now() < root._bokeh_timeout) {\n",
       "        setTimeout(display_loaded, 100)\n",
       "      }\n",
       "    }\n",
       "  \n",
       "  \n",
       "    function run_callbacks() {\n",
       "      try {\n",
       "        root._bokeh_onload_callbacks.forEach(function(callback) { callback() });\n",
       "      }\n",
       "      finally {\n",
       "        delete root._bokeh_onload_callbacks\n",
       "      }\n",
       "      console.info(\"Bokeh: all callbacks have finished\");\n",
       "    }\n",
       "  \n",
       "    function load_libs(js_urls, callback) {\n",
       "      root._bokeh_onload_callbacks.push(callback);\n",
       "      if (root._bokeh_is_loading > 0) {\n",
       "        console.log(\"Bokeh: BokehJS is being loaded, scheduling callback at\", now());\n",
       "        return null;\n",
       "      }\n",
       "      if (js_urls == null || js_urls.length === 0) {\n",
       "        run_callbacks();\n",
       "        return null;\n",
       "      }\n",
       "      console.log(\"Bokeh: BokehJS not loaded, scheduling load and callback at\", now());\n",
       "      root._bokeh_is_loading = js_urls.length;\n",
       "      for (var i = 0; i < js_urls.length; i++) {\n",
       "        var url = js_urls[i];\n",
       "        var s = document.createElement('script');\n",
       "        s.src = url;\n",
       "        s.async = false;\n",
       "        s.onreadystatechange = s.onload = function() {\n",
       "          root._bokeh_is_loading--;\n",
       "          if (root._bokeh_is_loading === 0) {\n",
       "            console.log(\"Bokeh: all BokehJS libraries loaded\");\n",
       "            run_callbacks()\n",
       "          }\n",
       "        };\n",
       "        s.onerror = function() {\n",
       "          console.warn(\"failed to load library \" + url);\n",
       "        };\n",
       "        console.log(\"Bokeh: injecting script tag for BokehJS library: \", url);\n",
       "        document.getElementsByTagName(\"head\")[0].appendChild(s);\n",
       "      }\n",
       "    };var element = document.getElementById(\"9b3abac4-d78f-41b1-aa2e-df8123aaf834\");\n",
       "    if (element == null) {\n",
       "      console.log(\"Bokeh: ERROR: autoload.js configured with elementid '9b3abac4-d78f-41b1-aa2e-df8123aaf834' but no matching script tag was found. \")\n",
       "      return false;\n",
       "    }\n",
       "  \n",
       "    var js_urls = [];\n",
       "  \n",
       "    var inline_js = [\n",
       "      function(Bokeh) {\n",
       "        (function() {\n",
       "          var fn = function() {\n",
       "            var docs_json = {\"c61d038a-d1f8-43b8-8867-469dae0b9923\":{\"roots\":{\"references\":[{\"attributes\":{\"plot\":null,\"text\":\"\"},\"id\":\"9727e993-5250-4922-b621-1a010c3d44fc\",\"type\":\"Title\"},{\"attributes\":{\"line_alpha\":{\"value\":0.1},\"line_color\":{\"value\":\"#1f77b4\"},\"x\":{\"field\":\"x\"},\"y\":{\"field\":\"y\"}},\"id\":\"01c0ae64-5bc0-4286-8616-ef2baab7d408\",\"type\":\"Line\"},{\"attributes\":{\"line_color\":{\"value\":\"#1f77b4\"},\"x\":{\"field\":\"x\"},\"y\":{\"field\":\"y\"}},\"id\":\"481ed494-465d-4ab1-b368-263a8ae942f7\",\"type\":\"Line\"},{\"attributes\":{},\"id\":\"de5df65f-a743-4510-9f2e-9c045857f1d6\",\"type\":\"ResetTool\"},{\"attributes\":{\"fill_color\":{\"value\":\"red\"},\"size\":{\"units\":\"screen\",\"value\":10},\"x\":{\"value\":2},\"y\":{\"value\":5}},\"id\":\"0d2eb40d-391a-4752-b8b8-d2d6d3235678\",\"type\":\"Circle\"},{\"attributes\":{\"data_source\":{\"id\":\"d0d44e22-1493-4fea-81cc-aeffd6202187\",\"type\":\"ColumnDataSource\"},\"glyph\":{\"id\":\"eeffc7e8-b921-499b-9590-d22fab7f66d3\",\"type\":\"Circle\"},\"hover_glyph\":null,\"muted_glyph\":null,\"nonselection_glyph\":{\"id\":\"9e14ba9c-37f6-42bd-b7fa-2cf307b1795c\",\"type\":\"Circle\"},\"selection_glyph\":null,\"view\":{\"id\":\"6d52bac4-545b-477e-a266-dae717bd25fc\",\"type\":\"CDSView\"}},\"id\":\"89c05702-672c-497e-b01c-33d439061214\",\"type\":\"GlyphRenderer\"},{\"attributes\":{},\"id\":\"af4c6509-729c-44eb-a565-c830cdf8c431\",\"type\":\"LinearScale\"},{\"attributes\":{},\"id\":\"1366130b-32f8-48f5-ad27-6bf2bfb798cf\",\"type\":\"SaveTool\"},{\"attributes\":{},\"id\":\"1070ae78-1fa2-482f-998d-74cdcd1d2afc\",\"type\":\"PanTool\"},{\"attributes\":{},\"id\":\"7f1ebf3e-5327-4205-be37-94316180bf3a\",\"type\":\"LinearScale\"},{\"attributes\":{\"callback\":null,\"data\":{}},\"id\":\"f89fd6c1-fb6d-4fdb-a74a-b1a12011a7e0\",\"type\":\"ColumnDataSource\"},{\"attributes\":{\"source\":{\"id\":\"8ba89bfe-ad45-40ae-9aa4-d57404af222b\",\"type\":\"ColumnDataSource\"}},\"id\":\"165ff51e-350e-4b49-82b9-bd18c4105db2\",\"type\":\"CDSView\"},{\"attributes\":{\"bottom_units\":\"screen\",\"fill_alpha\":{\"value\":0.5},\"fill_color\":{\"value\":\"lightgrey\"},\"left_units\":\"screen\",\"level\":\"overlay\",\"line_alpha\":{\"value\":1.0},\"line_color\":{\"value\":\"black\"},\"line_dash\":[4,4],\"line_width\":{\"value\":2},\"plot\":null,\"render_mode\":\"css\",\"right_units\":\"screen\",\"top_units\":\"screen\"},\"id\":\"758ab2ec-5214-4940-80ce-5f4812d58487\",\"type\":\"BoxAnnotation\"},{\"attributes\":{\"callback\":null,\"end\":10,\"start\":-10},\"id\":\"8491597d-36b1-4f09-9d72-b233f48298f0\",\"type\":\"Range1d\"},{\"attributes\":{\"fill_alpha\":{\"value\":0.1},\"fill_color\":{\"value\":\"#1f77b4\"},\"line_alpha\":{\"value\":0.1},\"line_color\":{\"value\":\"#1f77b4\"},\"size\":{\"units\":\"screen\",\"value\":10},\"x\":{\"value\":2},\"y\":{\"value\":5}},\"id\":\"5c2a6a51-38f6-4e6e-837b-acc1874d36d9\",\"type\":\"Circle\"},{\"attributes\":{\"data_source\":{\"id\":\"f89fd6c1-fb6d-4fdb-a74a-b1a12011a7e0\",\"type\":\"ColumnDataSource\"},\"glyph\":{\"id\":\"0d2eb40d-391a-4752-b8b8-d2d6d3235678\",\"type\":\"Circle\"},\"hover_glyph\":null,\"muted_glyph\":null,\"nonselection_glyph\":{\"id\":\"5c2a6a51-38f6-4e6e-837b-acc1874d36d9\",\"type\":\"Circle\"},\"selection_glyph\":null,\"view\":{\"id\":\"62dc5078-253c-4372-87b9-bbae87b5a380\",\"type\":\"CDSView\"}},\"id\":\"0d81c966-5d14-4d1b-9aae-4a548e794f85\",\"type\":\"GlyphRenderer\"},{\"attributes\":{\"below\":[{\"id\":\"558b16ca-ba5b-4683-9b20-bb6ef8949e94\",\"type\":\"LinearAxis\"}],\"left\":[{\"id\":\"eb0570e3-d2bc-4e54-af75-70282e3439b4\",\"type\":\"LinearAxis\"}],\"plot_height\":400,\"plot_width\":400,\"renderers\":[{\"id\":\"558b16ca-ba5b-4683-9b20-bb6ef8949e94\",\"type\":\"LinearAxis\"},{\"id\":\"be058973-2aee-4bb6-93b6-9c2ce40f9e9d\",\"type\":\"Grid\"},{\"id\":\"eb0570e3-d2bc-4e54-af75-70282e3439b4\",\"type\":\"LinearAxis\"},{\"id\":\"f0d71258-afc3-46fe-8a57-81656952f06e\",\"type\":\"Grid\"},{\"id\":\"758ab2ec-5214-4940-80ce-5f4812d58487\",\"type\":\"BoxAnnotation\"},{\"id\":\"20e8322c-5744-4b2c-bf12-80578c367be0\",\"type\":\"GlyphRenderer\"},{\"id\":\"89c05702-672c-497e-b01c-33d439061214\",\"type\":\"GlyphRenderer\"},{\"id\":\"0d81c966-5d14-4d1b-9aae-4a548e794f85\",\"type\":\"GlyphRenderer\"},{\"id\":\"1aa8e1aa-7db6-4b6e-ab39-349c8f2af665\",\"type\":\"GlyphRenderer\"}],\"title\":{\"id\":\"9727e993-5250-4922-b621-1a010c3d44fc\",\"type\":\"Title\"},\"toolbar\":{\"id\":\"e714435f-de62-4c1f-a617-80415a90e754\",\"type\":\"Toolbar\"},\"x_range\":{\"id\":\"46cb47d8-f8a3-4a3b-ae72-25a7e6fd3e7d\",\"type\":\"Range1d\"},\"x_scale\":{\"id\":\"7f1ebf3e-5327-4205-be37-94316180bf3a\",\"type\":\"LinearScale\"},\"y_range\":{\"id\":\"8491597d-36b1-4f09-9d72-b233f48298f0\",\"type\":\"Range1d\"},\"y_scale\":{\"id\":\"af4c6509-729c-44eb-a565-c830cdf8c431\",\"type\":\"LinearScale\"}},\"id\":\"f26fd55e-2778-4cd4-a03e-000cf8098654\",\"subtype\":\"Figure\",\"type\":\"Plot\"},{\"attributes\":{},\"id\":\"6d5d6798-11db-46fd-b81d-6914de800065\",\"type\":\"WheelZoomTool\"},{\"attributes\":{},\"id\":\"aa253545-a57c-4d28-b682-0c17bd4fa10e\",\"type\":\"HelpTool\"},{\"attributes\":{\"source\":{\"id\":\"f89fd6c1-fb6d-4fdb-a74a-b1a12011a7e0\",\"type\":\"ColumnDataSource\"}},\"id\":\"62dc5078-253c-4372-87b9-bbae87b5a380\",\"type\":\"CDSView\"},{\"attributes\":{\"active_drag\":\"auto\",\"active_inspect\":\"auto\",\"active_scroll\":\"auto\",\"active_tap\":\"auto\",\"tools\":[{\"id\":\"1070ae78-1fa2-482f-998d-74cdcd1d2afc\",\"type\":\"PanTool\"},{\"id\":\"6d5d6798-11db-46fd-b81d-6914de800065\",\"type\":\"WheelZoomTool\"},{\"id\":\"4e0fd95f-687f-4032-acb4-321f9dd698df\",\"type\":\"BoxZoomTool\"},{\"id\":\"1366130b-32f8-48f5-ad27-6bf2bfb798cf\",\"type\":\"SaveTool\"},{\"id\":\"de5df65f-a743-4510-9f2e-9c045857f1d6\",\"type\":\"ResetTool\"},{\"id\":\"aa253545-a57c-4d28-b682-0c17bd4fa10e\",\"type\":\"HelpTool\"}]},\"id\":\"e714435f-de62-4c1f-a617-80415a90e754\",\"type\":\"Toolbar\"},{\"attributes\":{},\"id\":\"bef2690a-8c05-4a2c-be3f-2a5829dac8c6\",\"type\":\"BasicTickFormatter\"},{\"attributes\":{\"source\":{\"id\":\"d0d44e22-1493-4fea-81cc-aeffd6202187\",\"type\":\"ColumnDataSource\"}},\"id\":\"6d52bac4-545b-477e-a266-dae717bd25fc\",\"type\":\"CDSView\"},{\"attributes\":{\"data_source\":{\"id\":\"8ba89bfe-ad45-40ae-9aa4-d57404af222b\",\"type\":\"ColumnDataSource\"},\"glyph\":{\"id\":\"481ed494-465d-4ab1-b368-263a8ae942f7\",\"type\":\"Line\"},\"hover_glyph\":null,\"muted_glyph\":null,\"nonselection_glyph\":{\"id\":\"01c0ae64-5bc0-4286-8616-ef2baab7d408\",\"type\":\"Line\"},\"selection_glyph\":null,\"view\":{\"id\":\"165ff51e-350e-4b49-82b9-bd18c4105db2\",\"type\":\"CDSView\"}},\"id\":\"20e8322c-5744-4b2c-bf12-80578c367be0\",\"type\":\"GlyphRenderer\"},{\"attributes\":{\"overlay\":{\"id\":\"758ab2ec-5214-4940-80ce-5f4812d58487\",\"type\":\"BoxAnnotation\"}},\"id\":\"4e0fd95f-687f-4032-acb4-321f9dd698df\",\"type\":\"BoxZoomTool\"},{\"attributes\":{\"formatter\":{\"id\":\"0513424d-ff3e-4abc-9cc7-626e414ac73e\",\"type\":\"BasicTickFormatter\"},\"plot\":{\"id\":\"f26fd55e-2778-4cd4-a03e-000cf8098654\",\"subtype\":\"Figure\",\"type\":\"Plot\"},\"ticker\":{\"id\":\"d23a8d14-30d2-49b2-a479-05c26497697b\",\"type\":\"BasicTicker\"}},\"id\":\"558b16ca-ba5b-4683-9b20-bb6ef8949e94\",\"type\":\"LinearAxis\"},{\"attributes\":{\"data_source\":{\"id\":\"592138d7-1f17-4362-a34d-e0514bc2c426\",\"type\":\"ColumnDataSource\"},\"glyph\":{\"id\":\"a094ee4c-96cf-490a-91b5-3238c2e76c3a\",\"type\":\"Line\"},\"hover_glyph\":null,\"muted_glyph\":null,\"nonselection_glyph\":{\"id\":\"b14914d4-4cdf-47f7-a051-e7ff6c04f41a\",\"type\":\"Line\"},\"selection_glyph\":null,\"view\":{\"id\":\"c6e8bdaa-f2ea-4ebb-a47a-0efa45073fce\",\"type\":\"CDSView\"}},\"id\":\"1aa8e1aa-7db6-4b6e-ab39-349c8f2af665\",\"type\":\"GlyphRenderer\"},{\"attributes\":{\"callback\":null,\"end\":10,\"start\":-10},\"id\":\"46cb47d8-f8a3-4a3b-ae72-25a7e6fd3e7d\",\"type\":\"Range1d\"},{\"attributes\":{\"line_alpha\":{\"value\":0.1},\"line_color\":{\"value\":\"#1f77b4\"},\"line_width\":{\"value\":4},\"x\":{\"field\":\"x\"},\"y\":{\"field\":\"y\"}},\"id\":\"b14914d4-4cdf-47f7-a051-e7ff6c04f41a\",\"type\":\"Line\"},{\"attributes\":{\"fill_alpha\":{\"value\":0.1},\"fill_color\":{\"value\":\"#1f77b4\"},\"line_alpha\":{\"value\":0.1},\"line_color\":{\"value\":\"#1f77b4\"},\"size\":{\"units\":\"screen\",\"value\":10},\"x\":{\"value\":1},\"y\":{\"value\":2}},\"id\":\"9e14ba9c-37f6-42bd-b7fa-2cf307b1795c\",\"type\":\"Circle\"},{\"attributes\":{\"callback\":null,\"data\":{}},\"id\":\"d0d44e22-1493-4fea-81cc-aeffd6202187\",\"type\":\"ColumnDataSource\"},{\"attributes\":{\"callback\":null,\"column_names\":[\"x\",\"y\"],\"data\":{\"x\":{\"__ndarray__\":\"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\",\"dtype\":\"float64\",\"shape\":[2000]},\"y\":{\"__ndarray__\":\"AAAAAABAWUDlYaHWNDNZQC4hH/RsJllA2j15WKgZWUDqt68D5wxZQF6PwvUoAFlANcSxLm7zWEBvVn2utuZYQA1GJXUC2lhAD5OpglHNWEB0PQrXo8BYQDxFR3L5s1hAaKpgVFKnWED4bFZ9rppYQOuMKO0NjlhAQgrXo3CBWED85GGh1nRYQBodyeU/aFhAm7IMcaxbWECApSxDHE9YQMj1KFyPQlhAdKMBvAU2WECErrZifylYQPcWSFD8HFhAzdy1hHwQWEAHAAAAAARYQKWAJsKG91dApl4pyxDrV0ALmggbnt5XQNMyxLEu0ldA/ihcj8LFV0COfNCzWblXQIAtIR/0rFdA1ztO0ZGgV0CRp1fKMpRXQK5wPQrXh1dAL5f/kH57V0ATG55eKW9XQFv8GHPXYldABztwzohWV0AW16NwPUpXQIjQs1n1PVdAXiegibAxV0CY22gAbyVXQDXtDb4wGVdANlyPwvUMV0CaKO0NvgBXQGJSJ6CJ9FZAjdk9eVjoVkAcvjCZKtxWQA4AAAAA0FZAZJ+rrdjDVkAenDOitLdWQDr2l92Tq1ZAu63YX3afVkCfwvUoXJNWQOY07zhFh1ZAkgTFjzF7VkCgMXctIW9WQBK8BRIUY1ZA6KNwPQpXVkAh6bevA0tWQL6L22gAP1ZAvovbaAAzVkAi6bevAydWQOmjcD0KG1ZAFLwFEhQPVkCjMXctIQNWQJQExY8x91VA6jTvOEXrVUCjwvUoXN9VQL+t2F9201VAP/aX3ZPHVUAjnDOitLtVQGqfq63Yr1VAFQAAAACkVUAjvjCZKphVQJXZPXlYjFVAalInoImAVUCjKO0NvnRVQD9cj8L1aFVAP+0NvjBdVUCi22gAb1FVQGknoImwRVVAlNCzWfU5VUAi16NwPS5VQBM7cM6IIlVAaPwYc9cWVUAhG55eKQtVQD2X/5B+/1RAvHA9CtfzVECgp1fKMuhUQOY7TtGR3FRAkC0hH/TQVECefNCzWcVUQBApXI/CuVRA5DLEsS6uVEAdmggbnqJUQLleKcsQl1RAuIAmwoaLVEAbAAAAAIBUQOHctYR8dFRADBdIUPxoVECZrrZif11UQIqjAbwFUlRA3/UoXI9GVECXpSxDHDtUQLOyDHGsL1RAMh3J5T8kVEAV5WGh1hhUQFsK16NwDVRABY0o7Q0CVEASbVZ9rvZTQIOqYFRS61NAV0VHcvnfU0CPPQrXo9RTQCuTqYJRyVNAKkYldQK+U0CMVn2utrJTQFLEsS5up1NAfI/C9SicU0AJuK8D55BTQPo9eViohVNATiEf9Gx6U0AGYqHWNG9TQCEAAAAAZFNAoPs6cM5YU0CCVFInoE1TQMgKRiV1QlNAcR4Wak03U0B+j8L1KCxTQO9dS8gHIVNAw4mw4ekVU0D6EvJBzwpTQJX5D+m3/1JAlD0K16P0UkD23uALk+lSQLvdk4eF3lJA5TkjSnvTUkBx845TdMhSQGIK16NwvVJAtX77OnCyUkBtUPwYc6dSQId/2T15nFJABgyTqYKRUkDo9Shcj4ZSQC09m1Wfe1JA1uHplbJwUkDj4xQdyWVSQFNDHOviWlJAJgAAAABQUkBdGsBbIEVSQPiRXP5DOlJA9mbV52ovUkBYmSoYlSRSQB0pXI/CGVJARhZqTfMOUkDSYFRSJwRSQMIIG55e+VFAFQ6+MJnuUUDMcD0K1+NRQOcwmSoY2VFAZU7RkVzOUUBGyeU/pMNRQIuh1jTvuFFANNejcD2uUUBAak3zjqNRQK9a07zjmFFAgqg1zTuOUUC5U3Qkl4NRQFNcj8L1eFFAUcKGp1duUUCyhVrTvGNRQHemCkYlWVFAnySX/5BOUUArAAAAAERRQBs5RUdyOVFAbs9m1ecuUUAkw2SqYCRRQD4UP8bcGVFAvML1KFwPUUCdzojS3gRRQOE3+MJk+lBAif5D+u3vUECVImx4euVQQASkcD0K21BA14JRSZ3QUEANvw6cM8ZQQKdYqDXNu1BApE8eFmqxUEAFpHA9CqdQQMpVn6utnFBA8mSqYFSSUEB90ZFc/odQQGybVZ+rfVBAvsL1KFxzUEB0R3L5D2lQQI4pyxDHXlBAC2kAb4FUUEDsBRIUP0pQQDAAAAAAQFBA2FfKMsQ1UEDjDHGsiytQQFIf9GxWIVBAJI9TdCQXUEBaXI/C9QxQQPOGp1fKAlBA4B04Z0TxT0Ch6Nms+txPQCluNIC3yE9AeK5H4Xq0T0COqRPQRKBPQGtfmEwVjE9AD9DVVux3T0B7+8vuyWNPQK3hehSuT09ApoLix5g7T0Bn3gIJiidPQO7029eBE09APcZtNID/TkBSUrgehetOQC+Zu5aQ105A05p3nKLDTkA+V+wvu69OQHDOGVHam05AaQAAAACITkAp7Z48LHROQLCU9gZfYE5A/vYGX5hMTkATFNBE2DhOQO/rUbgeJU5Ak36MuWsRTkD9y39Iv/1NQC/UK2UZ6k1AJ5eQD3rWTUDnFK5H4cJNQG1NhA1Pr01Au0ATYcObTUDQ7lpCPohNQKxXW7G/dE1AT3sUrkdhTUC5WYY41k1NQOrysFBrOk1A4kaU9gYnTUChVTAqqRNNQCcfhetRAE1AdaOSOgHtTECJ4lgXt9lMQGTc14FzxkxAB5EPejazTEBxAAAAAKBMQKEqqRPQjExAmQ8LtaZ5TEBYryXkg2ZMQN0J+aBnU0xAKh+F61FATEA+78nDQi1MQBl6xyk6GkxAu799HTgHTEAlwOyePPRLQFV7FK5H4UtATPH0SlnOS0AKIo51cbtLQJAN4C2QqEtA3LPqc7WVS0DwFK5H4YJLQMowKqkTcEtAbAdfmExdS0DVmEwVjEpLQAXl8h/SN0tA++tRuB4lS0C5rWnecRJLQD4qOpLL/0pAimHD0yvtSkCdUwWjktpKQHgAAAAAyEpAGWiz6nO1SkCBih9j7qJKQLFnRGlvkEpAp/8h/fZ9SkBkUrgehWtKQOlfB84ZWUpANSgPC7VGSkBHq8/VVjRKQCHpSC7/IUpAwuF6FK4PSkAqlWWIY/1JQFkDCYof60lATyxlGeLYSUAMEHo2q8ZJQJCuR+F6tElA2wfOGVGiSUDuGw3gLZBJQMfqBDQRfklAZ3S1FftrSUDPuB6F61lJQP23QILiR0lA83EbDeA1SUCv5q4l5CNJQDMW+8vuEUlAfgAAAAAASUCQpb3BF+5IQGkFNBE23EhACSBj7lrKSEBw9UpZhrhIQJ6F61G4pkhAk9BE2PCUSEBP1lbsL4NIQNOWIY51cUhAHRKlvcFfSEAuSOF6FE5IQAc51sVtPEhApuSDns0qSEANS+oENBlIQDtsCfmgB0hAMEjhehT2R0Dr3nGKjuRHQG4wuycP00dAuDy9UpbBR0DJA3gLJLBHQKGF61G4nkdAQMIXJlONR0CnufyH9HtHQNRrmnecakdAyNjw9EpZR0CEAAAAAEhHQAbjx5i7NkdAUIBIv30lR0Bg2IFzRhRHQDjrc7UVA0dA17gehevxRkA8QYLix+BGQGmEns2qz0ZAXYJzRpS+RkAYOwFNhK1GQJquR+F6nEZA49xGA3iLRkDzxf6ye3pGQMtpb/CFaUZAaciYu5ZYRkDO4XoUrkdGQPu1FfvLNkZA7kRpb/AlRkCpjnVxGxVGQCqTOgFNBEZAc1K4HoXzRUCDzO7Jw+JFQFoB3gIJ0kVA+PCFyVTBRUBcm+Ydp7BFQIkAAAAAoEVAfCDSb1+PRUA2+1xtxX5FQLeQoPgxbkVA/+CcEaVdRUAP7FG4Hk1FQOWxv+yePEVAgjLmriUsRUDnbcX+shtFQBJkXdxGC0VABRWuR+H6REC/gLdAgupEQECneccp2kRAh4j029fJRECWJCh+jLlEQGx7FK5HqURACY25awmZREBtWRe30YhEQJngLZCgeERAiyL99nVoREBEH4XrUVhEQMXWxW00SERADEm/fR04REAadnEbDShEQPBd3EYDGERAjQAAAAAIREDwXdxGA/hDQBt2cRsN6ENADUm/fR3YQ0DG1sVtNMhDQEYfhetRuENAjSL99nWoQ0Cb4C2QoJhDQHBZF7fRiENADI25awl5Q0BvexSuR2lDQJokKH6MWUNAi4j029dJQ0BEp3nHKTpDQMOAt0CCKkNAChWuR+EaQ0AXZF3cRgtDQOxtxf6y+0JAiDLmriXsQkDrsb/sntxCQBXsUbgezUJABeGcEaW9QkC+kKD4Ma5CQD37XG3FnkJAgyDSb1+PQkCQAAAAAIBCQGSb5h2ncEJAAPGFyVRhQkBiAd4CCVJCQIzM7snDQkJAfFK4HoUzQkA0kzoBTSRCQLKOdXEbFUJA+ERpb/AFQkAFthX7y/ZBQNnhehSu50FAdMiYu5bYQUDWaW/whclBQP/F/rJ7ukFA79xGA3irQUCmrkfhepxBQCQ7AU2EjUFAaoJzRpR+QUB2hJ7Nqm9BQEpBguLHYEFA5LgehetRQUBG63O1FUNBQG7YgXNGNEFAXoBIv30lQUAV48eYuxZBQJMAAAAACEFA2Njw9Er5QEDja5p3nOpAQLe5/If020BAUcIXJlPNQECyhetRuL5AQNoDeAsksEBAyTy9UpahQECAMLsnD5NAQP3ecYqOhEBAQkjhehR2QEBNbAn5oGdAQCBL6gQ0WUBAuuSDns1KQEAaOdbFbTxAQEJI4XoULkBAMRKlvcEfQEDmliGOdRFAQGTWVuwvA0BAUKGJsOHpP0BmC9ejcM0/QArrlbIMsT9APUDG3LWUP0D9CmgibHg/QExLe4MvXD9AKQEAAABAP0CULPaX3SM/QI3NXUvIBz9AFOQ2GsDrPkAqcIEExc8+QM1xPQrXsz5A/+hqK/aXPkC/1QloInw+QA04GsBbYD5A6Q+cM6JEPkBTXY/C9Sg+QEsg9GxWDT5A0ljKMsTxPUDmBhIUP9Y9QIkqyxDHuj1AusP1KFyfPUB50pFc/oM9QMZWn6utaD1AoVAeFmpNPUAKwA6cMzI9QAKlcD0KFz1AiP9D+u37PECbz4jS3uA8QD0VP8bcxTxAbdBm1eeqPEArAQAAAJA8QHenCkYldTxAUsOGp1daPEC6VHQklz88QLFb07zjJDxANtijcD0KPEBJyuU/pO87QOoxmSoY1TtAGQ++MJm6O0DWYVRSJ6A7QCEqXI/ChTtA+2fV52prO0BjG8BbIFE7QFhEHOviNjtA3OLplbIcO0Du9ihcjwI7QI+A2T156DpAvX/7OnDOOkB59I5TdLQ6QMTek4eFmjpAnT4K16OAOkADFPJBz2Y6QPheS8gHTTpAex8Wak0zOkCNVVInoBk6QCwBAAAAADpAWSIf9GzmOUAVua8D58w5QF/FsS5uszlAN0cldQKaOUCdPgrXo4A5QJGrYFRSZzlAE44o7Q1OOUAj5mGh1jQ5QMKzDHGsGzlA7vYoXI8COUCpr7Zif+k4QPLdtYR80DhAyYEmwoa3OEAumwgbnp44QCEqXI/ChThAoy4hH/RsOECyqFfKMlQ4QFCY/5B+OzhAfP0Yc9ciOEA22KNwPQo4QH4ooImw8TdAVO4NvjDZN0C4Ke0NvsA3QKvaPXlYqDdAKwEAAACQN0A6nTOitHc3QNeu2F92XzdAAjbvOEVHN0C7MnctIS83QAKlcD0KFzdA14zbaAD/NkA76revA+c2QCy9BRIUzzZArAXFjzG3NkC6w/UoXJ82QFb3l92ThzZAgKCrrdhvNkA4vzCZKlg2QH9TJ6CJQDZAU12PwvUoNkC23GgAbxE2QKbRs1n1+TVAJTxwzojiNUAyHJ5eKcs1QM1xPQrXszVA9zxO0ZGcNUCufdCzWYU1QPQzxLEubjVAx18pyxBXNUApAQAAAEA1QBkYSFD8KDVAl6QBvAUSNUCjpixDHPs0QD0eyeU/5DRAZgvXo3DNNEAcblZ9rrY0QGFGR3L5nzRANJSpglGJNECVV32utnI0QISQwvUoXDRAAT95WKhFNEAMY6HWNC80QKb8OnDOGDRAzQtGJXUCNECDkML1KOwzQMeKsOHp1TNAmfoP6be/M0D53+ALk6kzQOc6I0p7kzNAZAvXo3B9M0BuUfwYc2czQAcNk6mCUTNALT6bVZ87M0Di5BQdySUzQCUBAAAAEDNA9pJc/kP6MkBWmioYleQyQEMXak3zzjJAvwkbnl65MkDIcT0K16MyQGBP0ZFcjjJAhqLWNO94MkA6a03zjmMyQHypNc07TjJATF2PwvU4MkCrhlrTvCMyQJcll/+QDjJAEjpFR3L5MUAbxGSqYOQxQLLD9ShczzFA1zj4wmS6MUCKI2x4eqUxQMuDUUmdkDFAm1moNc17MUD4pHA9CmcxQORlqmBUUjFAXpxVn6s9MUBmSHL5DykxQPxpAG+BFDFAIAEAAAAAMUDSDXGsi+swQBOQU3Qk1zBA4oenV8rCMEA+9WxWfa4wQCnYo3A9mjBAojBMpgqGMECp/mX35HEwQD5C8WPMXTBAYvvt68BJMEATKlyPwjUwQFPOO07RITBAIOiMKO0NMED57p48LPQvQM34Bl+YzC9Ave1RuB6lL0DKzX9Iv30vQPOYkA96Vi9AOE+EDU8vL0CZ8FpCPggvQBd9FK5H4S5AsfSwUGu6LkBnVzAqqZMuQDmlkjoBbS5AKN7XgXNGLkAzAgAAACAuQFoRC7Wm+S1AnQv5oGfTLUD98MnDQq0tQHnBfR04hy1AEX0UrkdhLUDFI451cTstQJa16nO1FS1AgzIqqRPwLECMmkwVjMosQLHtUbgepSxA8ys6kst/LEBRVQWjklosQMtps+pzNSxAYmlEaW8QLEAUVLgehesrQOMpDwu1xitAz+pILv+hK0DWlmWIY30rQPotZRniWCtAOrBH4Xo0K0CWHQ3gLRArQA92tRX76ypApLlAguLHKkBV6K4l5KMqQCICAAAAgCpADAc0ETZcKkAR90pZhjgqQDPSRNjwFCpAcpghjnXxKUDMSeF6FM4pQEPmg57NqilA1m0J+aCHKUCG4HGKjmQpQFE+vVKWQSlAOYfrUbgeKUA9u/yH9PsoQF7a8PRK2ShAmuTHmLu2KEDz2YFzRpQoQGm6HoXrcShA+oWezapPKECoPAFNhC0oQHLeRgN4CyhAWGtv8IXpJ0Ba43oUrscnQHlGaW/wpSdAtJQ6AU2EJ0ALzu7Jw2InQH/yhclUQSdADwIAAAAgJ0C7/Fxtxf4mQIPinBGl3SZAZ7O/7J68JkBob8X+spsmQIUWrkfheiZAvqh5xylaJkAUJih+jDkmQIaOuWsJGSZAFOItkKD4JUC+IIXrUdglQIVKv30duCVAaF/cRgOYJUBnX9xGA3glQIJKv30dWCVAuiCF61E4JUAO4i2QoBglQH6OuWsJ+SRACiYofozZJECzqHnHKbokQHgWrkfhmiRAWW/F/rJ7JEBWs7/snlwkQHDinBGlPSRApvxcbcUeJED4AQAAAAAkQGbyhclU4SNA8c3uycPCI0CYlDoBTaQjQFtGaW/whSNAO+N6FK5nI0A3a2/whUkjQE/eRgN4KyNAgzwBTYQNI0DThZ7Nqu8iQEC6HoXr0SJAydmBc0a0IkBu5MeYu5YiQDDa8PRKeSJADrv8h/RbIkAIh+tRuD4iQB4+vVKWISJAUeBxio4EIkCgbQn5oOchQArmg57NyiFAkknhehSuIUA2mCGOdZEhQPbRRNjwdCFA0vZKWYZYIUDKBjQRNjwhQN4BAAAAICFAEOiuJeQDIUBcuUCC4ucgQMZ1tRX7yyBATB0N4C2wIEDur0fhepQgQKwtZRnieCBAhpZliGNdIEB96kgu/0EgQJApDwu1JiBAv1O4HoULIEAV0ojS3uAfQOTSZtXnqh9A7KkKRiV1H0AtV3Qklz8fQKbao3A9Ch9AVzSZKhjVHkBBZFRSJ6AeQGRq1edqax5Av0Yc6+I2HkBS+ShcjwIeQB+C+zpwzh1AI+GTh4WaHUBgFvJBz2YdQNYhFmpNMx1AhAMAAAAAHUBru68D58wcQIpJJXUCmhxA4q1gVFJnHEBy6GGh1jQcQDr5KFyPAhxAPOC1hHzQG0B1nQgbnp4bQOgwIR/0bBtAkpr/kH47G0B22qNwPQobQJLwDb4w2RpA5tw9eVioGkBznzOitHcaQDg47zhFRxpANqdwPQoXGkBs7LevA+cZQNsHxY8xtxlAg/mX3ZOHGUBjwTCZKlgZQHtfj8L1KBlAzNOzWfX5GEBVHp5eKcsYQBc/TtGRnBhAEjbEsS5uGEBFAwAAAEAYQLGmAbwFEhhAVSDJ5T/kF0AxcFZ9rrYXQEaWqYJRiRdAlJLC9ShcF0AaZaHWNC8XQNkNRiV1AhdA0Iyw4enVFkD/4eALk6kWQGgN16NwfRZACA+TqYJRFkDh5hQdySUWQPOUXP5D+hVAPRlqTfPOFUDAcz0K16MVQHuk1jTveBVAb6s1zTtOFUCciFrTvCMVQAA8RUdy+RRAnsX1KFzPFEBzJWx4eqUUQIJbqDXNexRAyWeqYFRSFEBISnL5DykUQAADAAAAABRA8JFTdCTXE0Aa92xWfa4TQHsyTKYKhhNAFUTxY8xdE0DnK1yPwjUTQPLpjCjtDRNANn6DL0zmEkCy6D+k374SQGYpwoanlxJAVEAK16NwEkB5LRiV1EkSQNfw68A5IxJAboqFWtP8EUA8+uRhodYRQERACtejsBFAhFz1udqKEUD9TqYKRmURQK4XHcnlPxFAmLZZ9bkaEUC6K1yPwvUQQBV3JJf/0BBAqJiyDHGsEEB0kAbwFogQQHheIEHxYxBAtQIAAABAEEAqfaUsQxwQQLCbIY518Q9AfemDns2qD0C743GKjmQPQGmK61G4Hg9Aid3w9ErZDkAa3YFzRpQOQByJns2qTw5AjuFGA3gLDkBy5noUrscNQMeXOgFNhA1AjfWFyVRBDUDE/1xtxf4MQGy2v+yevAxAhRmuR+F6DEAPKSh+jDkMQArlLZCg+AtAdk2/fR24C0BUYtxGA3gLQKIjhetROAtAYZG5awn5CkCRq3nHKboKQDJyxf6yewpAReWcEaU9CkDIBAAAAAAKQLzQ7snDwglAIklpb/CFCUD4bW/whUkJQEA/AU2EDQlA+LwehevRCEAi58eYu5YIQLy9/If0WwhAyEC9UpYhCEBEcAn5oOcHQDJM4XoUrgdAkNRE2PB0B0BgCTQRNjwHQKHqriXkAwdAUni1FfvLBkB2skfhepQGQAqZZYhjXQZADiwPC7UmBkCEa0Rpb/AFQGtXBaOSugVAw+9RuB6FBUCMNCqpE1AFQMYljnVxGwVAccN9HTjnBECNDfmgZ7MEQBoEAAAAgARAGKeSOgFNBECI9rBQaxoEQGjyWkI+6ANAuJqQD3q2A0B771G4HoUDQK7wnjwsVANAUp53nKIjA0Bo+NvXgfMCQO7+y+7JwwJA5rFH4XqUAkBOEU+vlGUCQCgd4lgXNwJActUA3gIJAkAuOqs+V9sBQFpL4XoUrgFA+AijkjqBAUAGc/CFyVQBQIaJyVTBKAFAdkwu/yH9AEDYux6F69EAQKvXmuYdpwBA7p+iI7l8AECkFDY8vVIAQMk1VTAqKQBAYAMAAAAAAEDQ+mxWfa7/P8JH8WPMXf8/lu2MKO0N/z9M7D+k377+P+RDCtejcP4/XvTrwDkj/j+6/eRhodb9P/hf9bnaiv0/GBsdyeU//T8aL1yPwvX8P/6bsgxxrPw/xWEgQfFj/D9ugKUsQxz8P/j3Qc9m1fs/ZMj1KFyP+z+08cA5I0r7P+RzowG8Bfs/906dgCbC+j/sgq62Yn/6P8IP16NwPfo/fPUWSFD8+T8WNG6jAbz5P5TL3LWEfPk/87tif9k9+T80BQAAAAD5P1intDf4wvg/XKKAJsKG+D9E9mPMXUv4Pw6jXinLEPg/uahwPQrX9z9GB5oIG573P7a+2or9Zfc/CM8yxLEu9z88OKK0N/j2P1L6KFyPwvY/SRXHuriN9j8jiXzQs1n2P99VSZ2AJvY/fXstIR/09T/++Shcj8L1P2DRO07RkfU/pAFm9+Rh9T/KiqdXyjL1P9JsAG+BBPU/vadwPQrX9D+KO/jCZKr0Pzgol/+QfvQ/yG1N845T9D87DBueXin0P5ADAAAAAPQ/x1P8GHPX8z/g/A/pt6/zP9r+OnDOiPM/uFl9rrZi8z92DdejcD3zPxgaSFD8GPM/m3/Qs1n18j8APnDOiNLyP0dVJ6CJsPI/ccX1KFyP8j98jttoAG/yP2qw2F92T/I/OSvtDb4w8j/r/hhz1xLyP34rXI/C9fE/9LC2Yn/Z8T9MjyjtDb7xP4bGsS5uo/E/oVZSJ6CJ8T+fPwrXo3DxP3+B2T15WPE/QRzAWyBB8T/mD74wmSrxP2xc07zjFPE/1AEAAAAA8T8eAET67evwP0tXn6ut2PA/WQcSFD/G8D9KEJwzorTwPxxyPQrXo/A/0Sz2l92T8D9nQMbctYTwP+CsrdhfdvA/O3Ksi9to8D94kML1KFzwP5cH8BZIUPA/mNc07zhF8D97AJF++zrwP0CCBMWPMfA/51yPwvUo8D9wkDF3LSHwP9wc6+I2GvA/KQK8BRIU8D9YQKTfvg7wP2rXo3A9CvA/Xce6uI0G8D8zEOm3rwPwP+uxLm6jAfA/hKyL22gA8D8AAAAAAADwP16si9toAPA/nrEubqMB8D/AD+m3rwPwP8TGuriNBvA/qtajcD0K8D9yP6Tfvg7wPxwBvAUSFPA/qBvr4jYa8D8XjzF3LSHwP2dbj8L1KPA/mYAExY8x8D+u/pB++zrwP6XVNO84RfA/fQXwFkhQ8D84jsL1KFzwP9VvrIvbaPA/U6qt2F928D+0PcbctYTwP/cp9pfdk/A/HG89Ctej8D8jDZwzorTwPwwEEhQ/xvA/11Ofq63Y8D+F/EP67evwPxT+//////A/hVjTvOMU8T/ZC74wmSrxPw4YwFsgQfE/Jn3ZPXlY8T8fOwrXo3DxP/tRUiegifE/ucGxLm6j8T9YiijtDb7xP9qrtmJ/2fE/PiZcj8L18T+E+Rhz1xLyP6wl7Q2+MPI/tqrYX3ZP8j+iiNtoAG/yP3G/9Shcj/I/IU8noImw8j+zN3DOiNLyPyh50LNZ9fI/fhNIUPwY8z+2BtejcD3zP9FSfa62YvM/zvc6cM6I8z+s9Q/pt6/zP21M/Bhz1/M/EPz/////8z+VBBueXin0P/xlTfOOU/Q/RSCX/5B+9D9wM/jCZKr0P32fcD0K1/Q/bGQAb4EE9T89gqdXyjL1P/H4ZffkYfU/hsg7TtGR9T/+8Chcj8L1P1dyLSEf9PU/kkxJnYAm9j+wf3zQs1n2P7ALx7q4jfY/kvAoXI/C9j9VLqK0N/j2P/vEMsSxLvc/g7Taiv1l9z/t/JkIG573PzmecD0K1/c/Z5heKcsQ+D9362PMXUv4P2qXgCbChvg/Ppy0N/jC+D/0+f/////4P4ywYn/ZPfk/B8DctYR8+T9kKG6jAbz5P6LpFkhQ/Pk/wgPXo3A9+j/Gdq62Yn/6P6pCnYAmwvo/cWejAbwF+z8a5cA5I0r7P6S79Shcj/s/EutBz2bV+z9gc6UsQxz8P5JUIEHxY/w/pY6yDHGs/D+aIVyPwvX8P3INHcnlP/0/K1L1udqK/T/G7+Rhodb9P0Tm68A5I/4/pDUK16Nw/j/l3T+k377+PwjfjCjtDf8/DjnxY8xd/z/262xWfa7/P8D3//////8/Ni5VMCopAED9DDY8vVIAQDWYoiO5fABA3s+a5h2nAED4sx6F69EAQINELv8h/QBAgIHJVMEoAUDsavCFyVQBQMoAo5I6gQFAGkPhehSuAUDaMas+V9sBQAzNAN4CCQJArhTiWBc3AkDBCE+vlGUCQEapR+F6lAJAO/bL7snDAkCi79vXgfMCQHmVd5yiIwNAwueePCxUA0B75lG4HoUDQKaRkA96tgNAQelaQj7oA0BO7bBQaxoEQMydkjoBTQRAuvr///9/BEAaBPmgZ7MEQOq5fR045wRALByOdXEbBUDfKiqpE1AFQAPmUbgehQVAmE0Fo5K6BUCeYURpb/AFQBQiDwu1JgZA/I5liGNdBkBWqEfhepQGQCButRX7ywZAWuCuJeQDB0AG/zMRNjwHQCTKRNjwdAdAskHhehSuB0CxZQn5oOcHQCE2vVKWIQhAA7P8h/RbCEBV3MeYu5YIQBiyHoXr0QhATDQBTYQNCUDyYm/whUkJQAg+aW/whQlAkMXuycPCCUCI+f////8JQPHZnBGlPQpAzGbF/rJ7CkAYoHnHKboKQNSFuWsJ+QpAAhiF61E4C0CgVtxGA3gLQLBBv30duAtAMdktkKD4C0AiHSh+jDkMQIUNrkfhegxAWaq/7J68DECe81xtxf4MQFTphclUQQ1Aeos6AU2EDUAS2noUrscNQBvVRgN4Cw5AlXyezapPDkCA0IFzRpQOQNzQ8PRK2Q5AqX3rUbgeD0Dn1nGKjmQPQJbcg57Nqg9At44hjnXxD0CkdqUsQxwQQCX8////PxBA3lcgQfFjEEDRiQbwFogQQPyRsgxxrBBAXnAkl//QEED6JFyPwvUQQM6vWfW5GhFA2xAdyeU/EUAgSKYKRmURQJ5V9bnaihFAVDkK16OwEUBD8+RhodYRQGqDhVrT/BFAyunrwDkjEkBiJhiV1EkSQDQ5CtejcBJAPCLChqeXEkB+4T+k374SQPl2gy9M5hJArOKMKO0NE0CXJFyPwjUTQLs88WPMXRNAGCtMpgqGE0Cs72xWfa4TQHqKU3Qk1xNAgPv/////E0C+QnL5DykUQDZgqmBUUhRA5VOoNc17FEDNHWx4eqUUQO699ShczxRARzRFR3L5FEDYgFrTvCMVQKKjNc07ThVApZzWNO94FUDgaz0K16MVQFQRak3zzhVAAI1c/kP6FUDl3hQdySUWQAIHk6mCURZAWAXXo3B9FkDm2eALk6kWQK2EsOHp1RZArAVGJXUCF0DkXKHWNC8XQFSKwvUoXBdA/Y2pglGJF0DeZ1Z9rrYXQPgXyeU/5BdASp4BvAUSGEDV+v///z8YQJgtxLEubhhAlDZO0ZGcGEDJFZ5eKcsYQDbLs1n1+RhA21aPwvUoGUC5uDCZKlgZQM/wl92ThxlAHv/EjzG3GUCm47evA+cZQGaecD0KFxpAXi/vOEVHGkCQljOitHcaQPnTPXlYqBpAm+cNvjDZGkB20aNwPQobQImR/5B+OxtA1CchH/RsG0BZlAgbnp4bQBXXtYR80BtACvAoXI8CHEA432Gh1jQcQJ6kYFRSZxxAPUAldQKaHEAUsq8D58wcQCT6/////xxAbBgWak0zHUDtDPJBz2YdQKbXk4eFmh1AmHj7OnDOHUDC7yhcjwIeQCU9HOviNh5AwWDV52prHkCUWlRSJ6AeQKEqmSoY1R5A5tCjcD0KH0BjTXQklz8fQBmgCkYldR9ACMlm1eeqH0AuyIjS3uAfQMdOuB6FCyBAkyQPC7UmIEB75Ugu/0EgQICRZYhjXSBAoChlGeJ4IEDeqkfhepQgQDcYDeAtsCBArHC1FfvLIEA+tECC4ucgQOziriXkAyFAtvz///8fIUCdATQRNjwhQKDxSlmGWCFAv8xE2PB0IUD6kiGOdZEhQFJE4XoUriFAxuCDns3KIUBWaAn5oOchQALbcYqOBCJAyzi9UpYhIkCwgetRuD4iQLG1/If0WyJAztTw9Ep5IkAI38eYu5YiQF7UgXNGtCJA0LQehevRIkBfgJ7Nqu8iQAk3AU2EDSNA0NhGA3grI0CzZW/whUkjQLPdehSuZyNAz0Bpb/CFI0AHjzoBTaQjQFvI7snDwiNAy+yFyVThI0BY/P////8jQAH3XG3FHiRAxtycEaU9JECorb/snlwkQKZpxf6yeyRAwBCuR+GaJED2onnHKbokQEggKH6M2SRAt4i5awn5JEBC3C2QoBglQOoahetROCVArUS/fR1YJUCNWdxGA3glQIlZ3EYDmCVAokS/fR24JUDWGoXrUdglQCfcLZCg+CVAlIi5awkZJkAeICh+jDkmQMOieccpWiZAhRCuR+F6JkBjacX+spsmQF6tv+yevCZAdNycEaXdJkCn9lxtxf4mQPf7////HydAYuyFyVRBJ0Dqx+7Jw2InQI6OOgFNhCdATkBpb/ClJ0Aq3XoUrscnQCNlb/CF6SdAONhGA3gLKEBpNgFNhC0oQLd/ns2qTyhAIbQehetxKECn04FzRpQoQEnex5i7tihAB9Tw9ErZKEDitPyH9PsoQNmA61G4HilA7Te9UpZBKUAc2nGKjmQpQGhnCfmghylA0N+Dns2qKUBUQ+F6FM4pQPWRIY518SlAsstE2PAUKkCL8EpZhjgqQIAANBE2XCpAkvv///9/KkDA4a4l5KMqQAqzQILixypAcG+1FfvrKkDzFg3gLRArQJKpR+F6NCtATSdlGeJYK0AlkGWIY30rQBjkSC7/oStAKCMPC7XGK0BUTbgehesrQJ1iRGlvECxAAmOz6nM1LECDTgWjklosQCAlOpLLfyxA2eZRuB6lLECvk0wVjMosQKErKqkT8CxAr67qc7UVLUDaHI51cTstQCF2FK5HYS1AhLp9HTiHLUAD6snDQq0tQJ8E+aBn0y1AVgoLtab5LUAr+////x8uQBvX14FzRi5AJ56SOgFtLkBQUDAqqZMuQJXtsFBrui5A93UUrkfhLkB06VpCPggvQA5IhA1PLy9AxJGQD3pWL0CXxn9Iv30vQIXmUbgepS9AkPEGX5jML0C35548LPQvQH7kjCjtDTBArso7TtEhMEBrJlyPwjUwQLj37evASTBAkj7xY8xdMED6+mX35HEwQPAsTKYKhjBAddSjcD2aMECI8WxWfa4wQCiEp1fKwjBAWIxTdCTXMEAUCnGsi+swQGD9/////zBAOWYAb4EUMUChRHL5DykxQJeYVZ+rPTFAGmKqYFRSMUAsoXA9CmcxQMxVqDXNezFA+n9RSZ2QMUC3H2x4eqUxQAE1+MJkujFA2r/1KFzPMUBAwGSqYOQxQDU2RUdy+TFAuCGX/5AOMkDJglrTvCMyQGhZj8L1ODJAlqU1zTtOMkBRZ03zjmMyQJue1jTveDJAckvRkVyOMkDYbT0K16MyQMwFG55euTJAThNqTfPOMkBelioYleQyQP2OXP5D+jJAKf3///8PM0Dk4BQdySUzQC06m1WfOzNAAwmTqYJRM0BoTfwYc2czQFwH16NwfTNA3TYjSnuTM0Ds2+ALk6kzQIr2D+m3vzNAtYaw4enVM0BvjML1KOwzQLcHRiV1AjRAjfg6cM4YNEDxXqHWNC80QOM6eVioRTRAZIzC9ShcNEByU32utnI0QA+QqYJRiTRAOkJHcvmfNEDzaVZ9rrY0QDoH16NwzTRADxrJ5T/kNEByoixDHPs0QGSgAbwFEjVA4xNIUPwoNUDx/P///z81QI1bKcsQVzVAty/EsS5uNUBvedCzWYU1QLU4TtGRnDVAiW09CtezNUDsF55eKcs1QNw3cM6I4jVAW82zWfX5NUBo2GgAbxE2QANZj8L1KDZALE8noIlANkDjujCZKlg2QCmcq63YbzZA/PKX3ZOHNkBev/UoXJ82QE4BxY8xtzZAzLgFEhTPNkDY5bevA+c2QHKI22gA/zZAmqBwPQoXN0BQLnctIS83QJUx7zhFRzdAaKrYX3ZfN0DImDOitHc3QLf8////jzdANNY9eVioN0A/Je0NvsA3QNnpDb4w2TdAACSgibDxN0C206NwPQo4QPn4GHPXIjhAy5P/kH47OEArpFfKMlQ4QBkqIR/0bDhAlSVcj8KFOECglggbnp44QDh9JsKGtzhAX9m1hHzQOEAUq7Zif+k4QFbyKFyPAjlAJ68McawbOUCH4WGh1jQ5QHSJKO0NTjlA76ZgVFJnOUD5OQrXo4A5QJBCJXUCmjlAtsCxLm6zOUBqtK8D58w5QKwdH/Rs5jlAfPz/////OUDaUFInoBk6QMcaFmpNMzpAQVpLyAdNOkBKD/JBz2Y6QOE5CtejgDpABtqTh4WaOkC5745TdLQ6QPp6+zpwzjpAyXvZPXnoOkAm8ihcjwI7QBLe6ZWyHDtAjD8c6+I2O0CTFsBbIFE7QClj1edqaztATSVcj8KFO0AAXVRSJ6A7QEAKvjCZujtADi2ZKhjVO0BrxeU/pO87QFbTo3A9CjxAz1bTvOMkPEDWT3Qklz88QGu+hqdXWjxAjqIKRiV1PEA//P///488QH/LZtXnqjxATBA/xtzFPECoyojS3uA8QJL6Q/rt+zxACqBwPQoXPUAQuw6cMzI9QKRLHhZqTT1Ax1Gfq61oPUB3zZFc/oM9QLa+9Shcnz1AgyXLEMe6PUDeARIUP9Y9QMdTyjLE8T1APhv0bFYNPkBDWI/C9Sg+QNYKnDOiRD5A+DIawFtgPkCo0AloInw+QOXjaiv2lz5AsWw9CtezPkALa4EExc8+QPTeNhrA6z5AashdS8gHP0BuJ/aX3SM/QAH8////Pz9AIkZ7gy9cP0DRBWgibHg/QA07xty1lD9A2eWVsgyxP0AyBtejcM0/QBmcibDh6T9AyNNW7C8DQEBJlCGOdRFAQJIPpb3BH0BAokXhehQuQEB5NtbFbTxAQBfig57NSkBAfEjqBDRZQECoaQn5oGdAQJxF4XoUdkBAVtxxio6EQEDXLbsnD5NAQCA6vVKWoUBALwF4CySwQEAGg+tRuL5AQKO/FyZTzUBACLf8h/TbQEA0aZp3nOpAQCfW8PRK+UBA4f3///8HQUBi4MeYuxZBQKp9SL99JUFAudWBc0Y0QUCP6HO1FUNBQCy2HoXrUUFAkD6C4sdgQUC8gZ7Nqm9BQK5/c0aUfkFAaDgBTYSNQUDoq0fhepxBQDDaRgN4q0FAPsP+snu6QUAUZ2/whclBQLHFmLuW2EFAFd96FK7nQUBAsxX7y/ZBQDJCaW/wBUJA64t1cRsVQkBrkDoBTSRCQLJPuB6FM0JAwMnuycNCQkCW/t0CCVJCQDLuhclUYUJAlZjmHadwQkDA/f///39CQK8d0m9fj0JAavhcbcWeQkDtjaD4Ma5CQDHenBGlvUJAO+lRuB7NQkATr7/sntxCQLIv5q4l7EJAEmvF/rL7QkA5YV3cRgtDQC4SrkfhGkNA6X23QIIqQ0BlpHnHKTpDQKiF9NvXSUNAuSEofoxZQ0CQeBSuR2lDQCmKuWsJeUNAiFYXt9GIQ0C13S2QoJhDQKkf/fZ1qENAXhyF61G4Q0DZ08VtNMhDQCJGv30d2ENAM3NxGw3oQ0AEW9xGA/hDQJz9////B0RAAVvcRgMYREAtc3EbDShEQBpGv30dOERAz9PFbTRIREBQHIXrUVhEQJkf/fZ1aERAot0tkKB4REBzVhe30YhEQBGKuWsJmURAdngUrkepRECbISh+jLlEQIiF9NvXyURAQqR5xynaREDDfbdAgupEQAUSrkfh+kRADmFd3EYLRUDkasX+shtFQIIv5q4lLEVA4K6/7J48RUAF6VG4Hk1FQPjdnBGlXUVAso2g+DFuRUAs+FxtxX5FQG4d0m9fj0VAff3///+fRUBTmOYdp7BFQOnthclUwUVAR/7dAgnSRUByye7Jw+JFQGRPuB6F80VAF5A6AU0ERkCRi3VxGxVGQNlBaW/wJUZA57IV+8s2RkC23noUrkdGQEzFmLuWWEZAsGZv8IVpRkDbwv6ye3pGQMbZRgN4i0ZAeatH4XqcRkD5NwFNhK1GQEB/c0aUvkZASIGezarPRkAWPoLix+BGQLO1HoXr8UZAFuhztRUDR0A61YFzRhRHQCV9SL99JUdA3d/HmLs2R0Bd/f///0dHQJ3V8PRKWUdApGiad5xqR0B5tvyH9HtHQBW/FyZTjUdAcYLrUbieR0CVAHgLJLBHQIY5vVKWwUdAPi27Jw/TR0C323GKjuRHQPZE4XoU9kdABGkJ+aAHSEDYR+oENBlIQG3hg57NKkhAyTXWxW08SEDyROF6FE5IQOMOpb3BX0hAlJMhjnVxSEAM01bsL4NIQFLNRNjwlEhAX4LrUbimSEAt8kpZhrhIQMEcY+5aykhAIwI0ETbcSEBNor3BF+5IQDb9/////0hA5xL7y+4RSUBl464l5CNJQKtuGw3gNUlAsLRAguJHSUB9tR6F61lJQBhxtRX7a0lAeucENBF+SUCcGA3gLZBJQIUEzhlRoklAPKtH4Xq0SUC6DHo2q8ZJQPgoZRni2ElA/v8Iih/rSUDRkWWIY/1JQGzeehSuD0pAxuVILv8hSkDnp8/VVjRKQNckDwu1RkpAjlwHzhlZSkAET7gehWtKQEL8If32fUpATmREaW+QSkAhhx9j7qJKQLRks+pztUpADv3////HSkA2UAWjktpKQCZew9Mr7UpA1SY6ksv/SkBLqmnecRJLQI/oUbgeJUtAm+HyH9I3S0BmlUwVjEpLQPkDX5hMXUtAWi0qqRNwS0CBEa5H4YJLQGmw6nO1lUtAGArgLZCoS0CVHo51cbtLQNnt9EpZzktA3XcUrkfhS0CovOyePPRLQEG8fR04B0xAoXbHKToaTEDB68nDQi1MQKkbhetRQExAXgb5oGdTTEDbqyXkg2ZMQBcMC7WmeUxAGyepE9CMTEDt/P///59MQIWND3o2s0xA3tjXgXPGTED+3lgXt9lMQOyfkjoB7UxAoRuF61EATUAWUjAqqRNNQFJDlPYGJ01AXO+wUGs6TUAuVoY41k1NQL93FK5HYU1AF1Rbsb90TUA+61pCPohNQCs9E2HDm01A2UmEDU+vTUBNEa5H4cJNQJCTkA961k1AmtArZRnqTUBkyH9Iv/1NQPR6jLlrEU5AU+hRuB4lTkB6ENBE2DhOQF/zBl+YTE5ADJH2Bl9gTkCI6Z48LHROQMv8////h05AzMoZUdqbTkCVU+wvu69OQC2Xd5yiw05AjJW7lpDXTkCqTrgehetOQJDCbTSA/05ARPHb14ETT0C/2gIJiidPQPp+4seYO09A+916FK5PT0DL98vuyWNPQGPM1Vbsd09AuluYTBWMT0DXpRPQRKBPQMSqR+F6tE9AeGo0gLfIT0Dr5Nms+txPQCUaOGdE8U9AF4WnV8oCUEB/Wo/C9QxQQEaNU3QkF1BAch30bFYhUEAEC3GsiytQQPpVyjLENVBAUP7///8/UEAJBBIUP0pQQCpnAG+BVFBArifLEMdeUECSRXL5D2lQQNnA9Shcc1BAiJlVn6t9UECbz5Fc/odQQA1jqmBUklBA4lOfq62cUEAfonA9CqdQQMBNHhZqsVBAwFaoNc27UEAjvQ6cM8ZQQO+AUUmd0FBAHaJwPQrbUECrIGx4euVQQJ38Q/rt71BA9jX4wmT6UECzzIjS3gRRQNDA9ShcD1FATxI/xtwZUUA3wWSqYCRRQILNZtXnLlFALDdFR3I5UUA6/v///0NRQLAil/+QTlFAiaQKRiVZUUDCg1rTvGNRQF7AhqdXblFAYVqPwvV4UUDJUXQkl4NRQI+mNc07jlFAuVjTvOOYUUBLaE3zjqNRQEHVo3A9rlFAlZ/WNO+4UUBOx+U/pMNRQG5M0ZFczlFA8S6ZKhjZUUDUbj0K1+NRQBsMvjCZ7lFAyQYbnl75UUDaXlRSJwRSQEsUak3zDlJAICdcj8IZUkBclyoYlSRSQPxk1edqL1JA+49c/kM6UkBeGMBbIEVSQCj+////T1JAVkEc6+JaUkDj4RQdyWVSQNTf6ZWycFJALTubVZ97UkDp8yhcj4ZSQAQKk6mCkVJAg33ZPXmcUkBqTvwYc6dSQLR8+zpwslJAXgjXo3C9UkBr8Y5TdMhSQN83I0p701JAuNuTh4XeUkDv3OALk+lSQIs7Ctej9FJAjfcP6bf/UkD0EPJBzwpTQLqHsOHpFVNA41tLyAchU0B0jcL1KCxTQGkcFmpNN1NAvQhGJXVCU0B0UlInoE1TQJP5OnDOWFNAFv7///9jU0D4X6HWNG9TQD0fH/RselNA6zt5WKiFU0D8ta8D55BTQGyNwvUonFNAP8KxLm6nU0B7VH2utrJTQBpEJXUCvlNAGJGpglHJU0B6OwrXo9RTQERDR3L531NAcahgVFLrU0D9alZ9rvZTQO2KKO0NAlRARQjXo3ANVEAA42Gh1hhUQBsbyeU/JFRAmbAMcawvVEB+oyxDHDtUQMjzKFyPRlRAcaEBvAVSVEB9rLZif11UQPEUSFD8aFRAyNq1hHx0VED//f///39UQJl+JsKGi1RAm1wpyxCXVEABmAgbnqJUQMYwxLEurlRA7iZcj8K5VEB/etCzWcVUQHMrIR/00FRAxTlO0ZHcVEB8pVfKMuhUQJpuPQrX81RAHJX/kH7/VED9GJ5eKQtVQEL6GHPXFlVA7zhwzogiVUD/1KNwPS5VQG7Os1n1OVVAQSWgibBFVUB72WgAb1FVQBrrDb4wXVVAF1qPwvVoVUB4Ju0NvnRVQEFQJ6CJgFVAbdc9eViMVUD5uzCZKphVQOj9////o1VAP52rrdivVUD5mTOitLtVQBP0l92Tx1VAkKvYX3bTVUB1wPUoXN9VQL4y7zhF61VAZQLFjzH3VUBwL3ctIQNWQOS5BRIUD1ZAu6FwPQobVkDw5revAydWQIqJ22gAM1ZAi4nbaAA/VkDw5revA0tWQLShcD0KV1ZA27kFEhRjVkBrL3ctIW9WQF4CxY8xe1ZAsDLvOEWHVkBmwPUoXJNWQIOr2F92n1ZABfSX3ZOrVkDlmTOitLdWQCidq63Yw1ZA1P3////PVkDkuzCZKtxWQFLXPXlY6FZAJFAnoIn0VkBeJu0NvgBXQPtZj8L1DFdA+OoNvjAZV0BX2WgAbyVXQCAloImwMVdAS86zWfU9V0DW1KNwPUpXQMQ4cM6IVldAGvoYc9diV0DUGJ5eKW9XQOyU/5B+e1dAaW49CteHV0BNpVfKMpRXQJU5TtGRoFdAPCshH/SsV0BGetCzWblXQLgmXI/CxVdAjzDEsS7SV0DDlwgbnt5XQFxcKcsQ61dAXH4mwob3V0DB/f///wNYQITatYR8EFhAqhRIUPwcWEA5rLZifylYQCuhAbwFNlhAfPMoXI9CWEAxoyxDHE9YQE6wDHGsW1hAzxrJ5T9oWECu4mGh1nRYQPAH16NwgVhAnIoo7Q2OWECqalZ9rppYQBioYFRSp1hA6EJHcvmzWEAiOwrXo8BYQL6QqYJRzVhAukMldQLaWEAZVH2utuZYQODBsS5u81hAC43C9SgAWUCVta8D5wxZQII7eVioGVlA1x4f9GwmWUCQX6HWNDNZQA==\",\"dtype\":\"float64\",\"shape\":[2000]}}},\"id\":\"8ba89bfe-ad45-40ae-9aa4-d57404af222b\",\"type\":\"ColumnDataSource\"},{\"attributes\":{\"callback\":null,\"column_names\":[\"x\",\"y\"],\"data\":{\"x\":[1,2],\"y\":[2,5]}},\"id\":\"592138d7-1f17-4362-a34d-e0514bc2c426\",\"type\":\"ColumnDataSource\"},{\"attributes\":{\"source\":{\"id\":\"592138d7-1f17-4362-a34d-e0514bc2c426\",\"type\":\"ColumnDataSource\"}},\"id\":\"c6e8bdaa-f2ea-4ebb-a47a-0efa45073fce\",\"type\":\"CDSView\"},{\"attributes\":{\"line_color\":{\"value\":\"darkgreen\"},\"line_width\":{\"value\":4},\"x\":{\"field\":\"x\"},\"y\":{\"field\":\"y\"}},\"id\":\"a094ee4c-96cf-490a-91b5-3238c2e76c3a\",\"type\":\"Line\"},{\"attributes\":{\"fill_color\":{\"value\":\"red\"},\"size\":{\"units\":\"screen\",\"value\":10},\"x\":{\"value\":1},\"y\":{\"value\":2}},\"id\":\"eeffc7e8-b921-499b-9590-d22fab7f66d3\",\"type\":\"Circle\"},{\"attributes\":{\"formatter\":{\"id\":\"bef2690a-8c05-4a2c-be3f-2a5829dac8c6\",\"type\":\"BasicTickFormatter\"},\"plot\":{\"id\":\"f26fd55e-2778-4cd4-a03e-000cf8098654\",\"subtype\":\"Figure\",\"type\":\"Plot\"},\"ticker\":{\"id\":\"92132551-5546-46b7-9ec8-9c6ae02ab96c\",\"type\":\"BasicTicker\"}},\"id\":\"eb0570e3-d2bc-4e54-af75-70282e3439b4\",\"type\":\"LinearAxis\"},{\"attributes\":{},\"id\":\"92132551-5546-46b7-9ec8-9c6ae02ab96c\",\"type\":\"BasicTicker\"},{\"attributes\":{\"dimension\":1,\"plot\":{\"id\":\"f26fd55e-2778-4cd4-a03e-000cf8098654\",\"subtype\":\"Figure\",\"type\":\"Plot\"},\"ticker\":{\"id\":\"92132551-5546-46b7-9ec8-9c6ae02ab96c\",\"type\":\"BasicTicker\"}},\"id\":\"f0d71258-afc3-46fe-8a57-81656952f06e\",\"type\":\"Grid\"},{\"attributes\":{},\"id\":\"d23a8d14-30d2-49b2-a479-05c26497697b\",\"type\":\"BasicTicker\"},{\"attributes\":{\"plot\":{\"id\":\"f26fd55e-2778-4cd4-a03e-000cf8098654\",\"subtype\":\"Figure\",\"type\":\"Plot\"},\"ticker\":{\"id\":\"d23a8d14-30d2-49b2-a479-05c26497697b\",\"type\":\"BasicTicker\"}},\"id\":\"be058973-2aee-4bb6-93b6-9c2ce40f9e9d\",\"type\":\"Grid\"},{\"attributes\":{},\"id\":\"0513424d-ff3e-4abc-9cc7-626e414ac73e\",\"type\":\"BasicTickFormatter\"}],\"root_ids\":[\"f26fd55e-2778-4cd4-a03e-000cf8098654\"]},\"title\":\"Bokeh Application\",\"version\":\"0.12.7\"}};\n",
       "            var render_items = [{\"docid\":\"c61d038a-d1f8-43b8-8867-469dae0b9923\",\"elementid\":\"9b3abac4-d78f-41b1-aa2e-df8123aaf834\",\"modelid\":\"f26fd55e-2778-4cd4-a03e-000cf8098654\"}];\n",
       "            \n",
       "            Bokeh.embed.embed_items(docs_json, render_items);\n",
       "          };\n",
       "          if (document.readyState != \"loading\") fn();\n",
       "          else document.addEventListener(\"DOMContentLoaded\", fn);\n",
       "        })();\n",
       "      },\n",
       "      function(Bokeh) {\n",
       "      }\n",
       "    ];\n",
       "  \n",
       "    function run_inline_js() {\n",
       "      \n",
       "      if ((root.Bokeh !== undefined) || (force === true)) {\n",
       "        for (var i = 0; i < inline_js.length; i++) {\n",
       "          inline_js[i].call(root, root.Bokeh);\n",
       "        }if (force === true) {\n",
       "          display_loaded();\n",
       "        }} else if (Date.now() < root._bokeh_timeout) {\n",
       "        setTimeout(run_inline_js, 100);\n",
       "      } else if (!root._bokeh_failed_load) {\n",
       "        console.log(\"Bokeh: BokehJS failed to load within specified timeout.\");\n",
       "        root._bokeh_failed_load = true;\n",
       "      } else if (force !== true) {\n",
       "        var cell = $(document.getElementById(\"9b3abac4-d78f-41b1-aa2e-df8123aaf834\")).parents('.cell').data().cell;\n",
       "        cell.output_area.append_execute_result(NB_LOAD_WARNING)\n",
       "      }\n",
       "  \n",
       "    }\n",
       "  \n",
       "    if (root._bokeh_is_loading === 0) {\n",
       "      console.log(\"Bokeh: BokehJS loaded, going straight to plotting\");\n",
       "      run_inline_js();\n",
       "    } else {\n",
       "      load_libs(js_urls, function() {\n",
       "        console.log(\"Bokeh: BokehJS plotting callback run at\", now());\n",
       "        run_inline_js();\n",
       "      });\n",
       "    }\n",
       "  }(window));\n",
       "</script>"
      ]
     },
     "metadata": {},
     "output_type": "display_data"
    }
   ],
   "source": [
    "# Note: we'll use the same figure, 'p', as above\n",
    "p.circle(1, 2, size=10, line_color='black', fill_color='red')  # first point (the one we're interested in)\n",
    "p.circle(2, 5, size=10, line_color='black', fill_color='red')  # second point\n",
    "p.line([1,2], [2,5], line_width=4, line_color='darkgreen')     # draw the secant line\n",
    "show(p)"
   ]
  },
  {
   "cell_type": "markdown",
   "metadata": {},
   "source": [
    "To calculate the slope of the line through our two points, $(1,2)$ and $(2,5)$ we just use our trusty formula:\n",
    "\n",
    "$$slope = \\frac{(y_2-y_1)}{(x_2-x_1)}$$\n",
    "\n",
    "Which gives:\n",
    "\n",
    "$$\\frac{(5-2)}{(2-1)} = 3$$\n",
    "\n",
    "Which is pretty close, but I know we can do better.  In our case we looked at our target point, $x$, and a point that was on our curve at the location $x+1$.  In this case, our $\\Delta x$ was 1.0. Our $\\Delta y$ can be calculated as:\n",
    "\n",
    "$$\\Delta y = f(x + \\Delta x) - f(x)$$\n",
    "\n",
    "So a general form for the approximate slope could be:\n",
    "\n",
    "$$slope = \\frac{\\Delta y}{\\Delta x} = \\frac{f(x + \\Delta x) - f(x)}{\\Delta x}$$\n",
    "\n",
    "Sometimes people like to write $\\Delta x$ as $h$, so you may also see the form:\n",
    "\n",
    "$$slope = \\frac{f(x + h) - f(x)}{h}$$\n",
    "\n",
    "It probably already occurred to you that we can get a better approximation of the slope at our point if we have a very small $\\Delta x$ (or $h$).\n",
    "\n",
    "Let's try this for our point using a $\\Delta x$ of **0.001**."
   ]
  },
  {
   "cell_type": "code",
   "execution_count": 22,
   "metadata": {},
   "outputs": [
    {
     "name": "stdout",
     "output_type": "stream",
     "text": [
      "The slope is: 2.0009999999999195\n"
     ]
    }
   ],
   "source": [
    "h = 0.001\n",
    "c = 1                    # this is the value of 'x' for which we're interested in finding the slope\n",
    "delta_y = f(c+h) - f(c)\n",
    "delta_x = h\n",
    "slp = delta_y/delta_x\n",
    "print(\"The slope is: %s\" % slp)"
   ]
  },
  {
   "cell_type": "markdown",
   "metadata": {},
   "source": [
    "Let's make this calculation into a Python function that we can call.  One cool thing about Python is that we can pass in another function as an argument to our slope function.  This is what this might look like:"
   ]
  },
  {
   "cell_type": "code",
   "execution_count": 23,
   "metadata": {
    "collapsed": true
   },
   "outputs": [],
   "source": [
    "def slope(fn, x, h=0.001):\n",
    "    \"\"\" inputs:\n",
    "            fn: a function which accepts a value for 'x'\n",
    "            x: the x value of the point for which we want the slope\n",
    "            h: the 'small' value we use for our delta_x, default is 0.001\n",
    "    \"\"\"\n",
    "    delta_y = f(x+h) - f(x)\n",
    "    delta_x = h\n",
    "    slp = delta_y/delta_x\n",
    "    return slp"
   ]
  },
  {
   "cell_type": "markdown",
   "metadata": {},
   "source": [
    "Re-read the code above until you get what we just did (this is a nice feature of almost all modern programming languages -- defining a function that takes another function as an argument).\n",
    "\n",
    "So, calling our function would look like this:"
   ]
  },
  {
   "cell_type": "code",
   "execution_count": 24,
   "metadata": {},
   "outputs": [
    {
     "data": {
      "text/plain": [
       "2.00001000001393"
      ]
     },
     "execution_count": 24,
     "metadata": {},
     "output_type": "execute_result"
    }
   ],
   "source": [
    "slope(f, 1, h=0.00001)  # crank down 'h' to a tiny value to see what happens"
   ]
  },
  {
   "cell_type": "code",
   "execution_count": 25,
   "metadata": {},
   "outputs": [
    {
     "data": {
      "text/plain": [
       "2.00001000001393"
      ]
     },
     "execution_count": 25,
     "metadata": {},
     "output_type": "execute_result"
    }
   ],
   "source": [
    "slope(f, 1, h=0.00001)\n"
   ]
  },
  {
   "cell_type": "code",
   "execution_count": null,
   "metadata": {
    "collapsed": true
   },
   "outputs": [],
   "source": []
  },
  {
   "cell_type": "code",
   "execution_count": null,
   "metadata": {
    "collapsed": true
   },
   "outputs": [],
   "source": []
  },
  {
   "cell_type": "code",
   "execution_count": null,
   "metadata": {
    "collapsed": true
   },
   "outputs": [],
   "source": []
  },
  {
   "cell_type": "code",
   "execution_count": null,
   "metadata": {
    "collapsed": true
   },
   "outputs": [],
   "source": []
  },
  {
   "cell_type": "code",
   "execution_count": null,
   "metadata": {
    "collapsed": true
   },
   "outputs": [],
   "source": [
    "x = np.arange(-10, 10, 0.01)"
   ]
  },
  {
   "cell_type": "code",
   "execution_count": null,
   "metadata": {
    "collapsed": true
   },
   "outputs": [],
   "source": [
    "y = np.tan(x)"
   ]
  },
  {
   "cell_type": "code",
   "execution_count": null,
   "metadata": {
    "collapsed": true
   },
   "outputs": [],
   "source": [
    "from bokeh.plotting import figure, show, output_notebook"
   ]
  },
  {
   "cell_type": "code",
   "execution_count": null,
   "metadata": {
    "collapsed": true
   },
   "outputs": [],
   "source": [
    "p = figure()"
   ]
  },
  {
   "cell_type": "code",
   "execution_count": null,
   "metadata": {
    "collapsed": true
   },
   "outputs": [],
   "source": [
    "p.line(x,y)"
   ]
  },
  {
   "cell_type": "code",
   "execution_count": null,
   "metadata": {
    "collapsed": true
   },
   "outputs": [],
   "source": [
    "show(p)"
   ]
  },
  {
   "cell_type": "code",
   "execution_count": null,
   "metadata": {
    "collapsed": true
   },
   "outputs": [],
   "source": [
    "a = sp.symbols('a')"
   ]
  },
  {
   "cell_type": "code",
   "execution_count": null,
   "metadata": {
    "collapsed": true
   },
   "outputs": [],
   "source": [
    "d = sp.diff(sp.mpmath.tan(a)+1)"
   ]
  },
  {
   "cell_type": "code",
   "execution_count": null,
   "metadata": {
    "collapsed": true
   },
   "outputs": [],
   "source": []
  }
 ],
 "metadata": {
  "kernelspec": {
   "display_name": "Python 3",
   "language": "python",
   "name": "python3"
  },
  "language_info": {
   "codemirror_mode": {
    "name": "ipython",
    "version": 3
   },
   "file_extension": ".py",
   "mimetype": "text/x-python",
   "name": "python",
   "nbconvert_exporter": "python",
   "pygments_lexer": "ipython3",
   "version": "3.6.2"
  }
 },
 "nbformat": 4,
 "nbformat_minor": 1
}
