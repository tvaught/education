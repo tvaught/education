{
 "cells": [
  {
   "cell_type": "markdown",
   "metadata": {},
   "source": [
    "# Pre-Calculus Notebook"
   ]
  },
  {
   "cell_type": "code",
   "execution_count": 35,
   "metadata": {},
   "outputs": [],
   "source": [
    "# Begin with some useful imports\n",
    "import numpy as np\n",
    "import pylab\n",
    "from fractions import Fraction\n",
    "from IPython.display import display, Math\n",
    "from sympy import init_printing, N, pi, sqrt, symbols, Symbol\n",
    "from sympy.abc import x, y, theta, phi\n",
    "init_printing(use_latex='mathjax')  # do this to allow sympy to print mathy stuff\n",
    "%matplotlib inline"
   ]
  },
  {
   "cell_type": "markdown",
   "metadata": {},
   "source": [
    "## Trig Functions"
   ]
  },
  {
   "cell_type": "markdown",
   "metadata": {},
   "source": [
    "This notebook will introduce basic trigonometric functions.\n",
    "\n",
    "Given an angle, θ, there are two units used to indicate the measure of the angle: degrees and radians."
   ]
  },
  {
   "cell_type": "markdown",
   "metadata": {},
   "source": [
    "### First make a simple function to convert from degrees to radians"
   ]
  },
  {
   "cell_type": "code",
   "execution_count": 36,
   "metadata": {
    "collapsed": true
   },
   "outputs": [],
   "source": [
    "def deg_to_rad(angle, as_expr=False):\n",
    "    \"\"\" Convert degrees to radians \n",
    "        param: theta: degrees as a float or numpy array of values that can be cast to a float\n",
    "        param: as_text: True/False output as text with multiple of 'π' (Default = False)\n",
    "        \n",
    "        The formula for this is:\n",
    "        2πθ/360°\n",
    "        \n",
    "        Note: it's usually bad form to allow a function argument to change an output type.  Oh, well.\n",
    "    \"\"\"\n",
    "    radians = (angle * 2 * np.pi) / 360.0\n",
    "    \n",
    "    if as_expr:\n",
    "        # note: this requires sympy\n",
    "        radians = 2*pi*angle/360\n",
    "    \n",
    "    return radians"
   ]
  },
  {
   "cell_type": "code",
   "execution_count": 37,
   "metadata": {},
   "outputs": [
    {
     "data": {
      "text/latex": [
       "$$\\frac{7 \\pi}{6}$$"
      ],
      "text/plain": [
       "7⋅π\n",
       "───\n",
       " 6 "
      ]
     },
     "metadata": {},
     "output_type": "display_data"
    },
    {
     "data": {
      "text/latex": [
       "$$2 \\pi$$"
      ],
      "text/plain": [
       "2⋅π"
      ]
     },
     "metadata": {},
     "output_type": "display_data"
    }
   ],
   "source": [
    "# Test our function\n",
    "# Note: normally you would print results, but with sympy expressions, \n",
    "#       the `display` function of jupyter notebooks is used to print using MathJax.\n",
    "\n",
    "display(deg_to_rad(210, as_expr=True))\n",
    "display(deg_to_rad(360, as_expr=True))\n"
   ]
  },
  {
   "cell_type": "markdown",
   "metadata": {},
   "source": [
    "### Now, let's make a list of angles around a unit circle and convert them to radians"
   ]
  },
  {
   "cell_type": "code",
   "execution_count": 38,
   "metadata": {
    "collapsed": true
   },
   "outputs": [],
   "source": [
    "base_angles = [0, 30, 45, 60]\n",
    "unit_circle_angles = []\n",
    "for i in range(4):\n",
    "    unit_circle_angles.extend(np.array(base_angles)+(i*90))\n",
    "unit_circle_angles.append(360)"
   ]
  },
  {
   "cell_type": "code",
   "execution_count": 39,
   "metadata": {
    "collapsed": true
   },
   "outputs": [],
   "source": [
    "# make a list of the angles converted to radians (list items are a sympy expression)\n",
    "unit_circle_angles_rad = [deg_to_rad(x, False) for x in unit_circle_angles]\n",
    "unit_circle_angles_rad_expr = [deg_to_rad(x, True) for x in unit_circle_angles]"
   ]
  },
  {
   "cell_type": "code",
   "execution_count": 40,
   "metadata": {},
   "outputs": [
    {
     "data": {
      "text/latex": [
       "$$\\left [ 0.0, \\quad 0.523598775598, \\quad 0.785398163397, \\quad 1.0471975512, \\quad 1.57079632679, \\quad 2.09439510239, \\quad 2.35619449019, \\quad 2.61799387799, \\quad 3.14159265359, \\quad 3.66519142919, \\quad 3.92699081699, \\quad 4.18879020479, \\quad 4.71238898038, \\quad 5.23598775598, \\quad 5.49778714378, \\quad 5.75958653158, \\quad 6.28318530718\\right ]$$"
      ],
      "text/plain": [
       "[0.0, 0.523598775598, 0.785398163397, 1.0471975512, 1.57079632679, 2.094395102\n",
       "39, 2.35619449019, 2.61799387799, 3.14159265359, 3.66519142919, 3.92699081699,\n",
       " 4.18879020479, 4.71238898038, 5.23598775598, 5.49778714378, 5.75958653158, 6.\n",
       "28318530718]"
      ]
     },
     "execution_count": 40,
     "metadata": {},
     "output_type": "execute_result"
    }
   ],
   "source": [
    "unit_circle_angles_rad"
   ]
  },
  {
   "cell_type": "code",
   "execution_count": 41,
   "metadata": {},
   "outputs": [
    {
     "data": {
      "text/latex": [
       "$$\\left [ 0, \\quad \\frac{\\pi}{6}, \\quad \\frac{\\pi}{4}, \\quad \\frac{\\pi}{3}, \\quad \\frac{\\pi}{2}, \\quad \\frac{2 \\pi}{3}, \\quad \\frac{3 \\pi}{4}, \\quad \\frac{5 \\pi}{6}, \\quad \\pi, \\quad \\frac{7 \\pi}{6}, \\quad \\frac{5 \\pi}{4}, \\quad \\frac{4 \\pi}{3}, \\quad \\frac{3 \\pi}{2}, \\quad \\frac{5 \\pi}{3}, \\quad \\frac{7 \\pi}{4}, \\quad \\frac{11 \\pi}{6}, \\quad 2 \\pi\\right ]$$"
      ],
      "text/plain": [
       "⎡   π  π  π  π  2⋅π  3⋅π  5⋅π     7⋅π  5⋅π  4⋅π  3⋅π  5⋅π  7⋅π  11⋅π     ⎤\n",
       "⎢0, ─, ─, ─, ─, ───, ───, ───, π, ───, ───, ───, ───, ───, ───, ────, 2⋅π⎥\n",
       "⎣   6  4  3  2   3    4    6       6    4    3    2    3    4    6       ⎦"
      ]
     },
     "execution_count": 41,
     "metadata": {},
     "output_type": "execute_result"
    }
   ],
   "source": [
    "unit_circle_angles_rad_expr"
   ]
  },
  {
   "cell_type": "code",
   "execution_count": 42,
   "metadata": {},
   "outputs": [
    {
     "data": {
      "text/latex": [
       "$$\\left [ 0, \\quad 30, \\quad 45, \\quad 60, \\quad 90, \\quad 120, \\quad 135, \\quad 150, \\quad 180, \\quad 210, \\quad 225, \\quad 240, \\quad 270, \\quad 300, \\quad 315, \\quad 330, \\quad 360\\right ]$$"
      ],
      "text/plain": [
       "[0, 30, 45, 60, 90, 120, 135, 150, 180, 210, 225, 240, 270, 300, 315, 330, 360\n",
       "]"
      ]
     },
     "execution_count": 42,
     "metadata": {},
     "output_type": "execute_result"
    }
   ],
   "source": [
    "# show the list of angles in degrees\n",
    "unit_circle_angles"
   ]
  },
  {
   "cell_type": "markdown",
   "metadata": {},
   "source": [
    "### So, what are radians"
   ]
  },
  {
   "cell_type": "markdown",
   "metadata": {},
   "source": [
    "Radians are a unit of angle measure (similar to degrees).  Radians correspond to the chord length that an angle sweeps out on the unit circle.  A complete circle with a radius of 1 (a unit circle) has a circumference of $2\\pi$ (from the formula for circumference: $C = 2\\pi r$ )"
   ]
  },
  {
   "cell_type": "markdown",
   "metadata": {},
   "source": [
    "Let's import some things to help us create a plot to see this in action."
   ]
  },
  {
   "cell_type": "code",
   "execution_count": 43,
   "metadata": {},
   "outputs": [
    {
     "data": {
      "text/html": [
       "\n",
       "    <div class=\"bk-root\">\n",
       "        <a href=\"https://bokeh.pydata.org\" target=\"_blank\" class=\"bk-logo bk-logo-small bk-logo-notebook\"></a>\n",
       "        <span id=\"02880136-3f1b-402b-af8a-963faef89115\">Loading BokehJS ...</span>\n",
       "    </div>"
      ]
     },
     "metadata": {},
     "output_type": "display_data"
    },
    {
     "data": {
      "application/javascript": [
       "\n",
       "(function(root) {\n",
       "  function now() {\n",
       "    return new Date();\n",
       "  }\n",
       "\n",
       "  var force = true;\n",
       "\n",
       "  if (typeof (root._bokeh_onload_callbacks) === \"undefined\" || force === true) {\n",
       "    root._bokeh_onload_callbacks = [];\n",
       "    root._bokeh_is_loading = undefined;\n",
       "  }\n",
       "\n",
       "  var JS_MIME_TYPE = 'application/javascript';\n",
       "  var HTML_MIME_TYPE = 'text/html';\n",
       "  var EXEC_MIME_TYPE = 'application/vnd.bokehjs_exec.v0+json';\n",
       "  var CLASS_NAME = 'output_bokeh rendered_html';\n",
       "\n",
       "  /**\n",
       "   * Render data to the DOM node\n",
       "   */\n",
       "  function render(props, node) {\n",
       "    var script = document.createElement(\"script\");\n",
       "    node.appendChild(script);\n",
       "  }\n",
       "\n",
       "  /**\n",
       "   * Handle when an output is cleared or removed\n",
       "   */\n",
       "  function handleClearOutput(event, handle) {\n",
       "    var cell = handle.cell;\n",
       "\n",
       "    var id = cell.output_area._bokeh_element_id;\n",
       "    var server_id = cell.output_area._bokeh_server_id;\n",
       "    // Clean up Bokeh references\n",
       "    if (id !== undefined) {\n",
       "      Bokeh.index[id].model.document.clear();\n",
       "      delete Bokeh.index[id];\n",
       "    }\n",
       "\n",
       "    if (server_id !== undefined) {\n",
       "      // Clean up Bokeh references\n",
       "      var cmd = \"from bokeh.io.state import curstate; print(curstate().uuid_to_server['\" + server_id + \"'].get_sessions()[0].document.roots[0]._id)\";\n",
       "      cell.notebook.kernel.execute(cmd, {\n",
       "        iopub: {\n",
       "          output: function(msg) {\n",
       "            var element_id = msg.content.text.trim();\n",
       "            Bokeh.index[element_id].model.document.clear();\n",
       "            delete Bokeh.index[element_id];\n",
       "          }\n",
       "        }\n",
       "      });\n",
       "      // Destroy server and session\n",
       "      var cmd = \"import bokeh.io.notebook as ion; ion.destroy_server('\" + server_id + \"')\";\n",
       "      cell.notebook.kernel.execute(cmd);\n",
       "    }\n",
       "  }\n",
       "\n",
       "  /**\n",
       "   * Handle when a new output is added\n",
       "   */\n",
       "  function handleAddOutput(event, handle) {\n",
       "    var output_area = handle.output_area;\n",
       "    var output = handle.output;\n",
       "\n",
       "    // limit handleAddOutput to display_data with EXEC_MIME_TYPE content only\n",
       "    if ((output.output_type != \"display_data\") || (!output.data.hasOwnProperty(EXEC_MIME_TYPE))) {\n",
       "      return\n",
       "    }\n",
       "\n",
       "    var toinsert = output_area.element.find(`.${CLASS_NAME.split(' ')[0]}`);\n",
       "\n",
       "    if (output.metadata[EXEC_MIME_TYPE][\"id\"] !== undefined) {\n",
       "      toinsert[0].firstChild.textContent = output.data[JS_MIME_TYPE];\n",
       "      // store reference to embed id on output_area\n",
       "      output_area._bokeh_element_id = output.metadata[EXEC_MIME_TYPE][\"id\"];\n",
       "    }\n",
       "    if (output.metadata[EXEC_MIME_TYPE][\"server_id\"] !== undefined) {\n",
       "      var bk_div = document.createElement(\"div\");\n",
       "      bk_div.innerHTML = output.data[HTML_MIME_TYPE];\n",
       "      var script_attrs = bk_div.children[0].attributes;\n",
       "      for (var i = 0; i < script_attrs.length; i++) {\n",
       "        toinsert[0].firstChild.setAttribute(script_attrs[i].name, script_attrs[i].value);\n",
       "      }\n",
       "      // store reference to server id on output_area\n",
       "      output_area._bokeh_server_id = output.metadata[EXEC_MIME_TYPE][\"server_id\"];\n",
       "    }\n",
       "  }\n",
       "\n",
       "  function register_renderer(events, OutputArea) {\n",
       "\n",
       "    function append_mime(data, metadata, element) {\n",
       "      // create a DOM node to render to\n",
       "      var toinsert = this.create_output_subarea(\n",
       "        metadata,\n",
       "        CLASS_NAME,\n",
       "        EXEC_MIME_TYPE\n",
       "      );\n",
       "      this.keyboard_manager.register_events(toinsert);\n",
       "      // Render to node\n",
       "      var props = {data: data, metadata: metadata[EXEC_MIME_TYPE]};\n",
       "      render(props, toinsert[0]);\n",
       "      element.append(toinsert);\n",
       "      return toinsert\n",
       "    }\n",
       "\n",
       "    /* Handle when an output is cleared or removed */\n",
       "    events.on('clear_output.CodeCell', handleClearOutput);\n",
       "    events.on('delete.Cell', handleClearOutput);\n",
       "\n",
       "    /* Handle when a new output is added */\n",
       "    events.on('output_added.OutputArea', handleAddOutput);\n",
       "\n",
       "    /**\n",
       "     * Register the mime type and append_mime function with output_area\n",
       "     */\n",
       "    OutputArea.prototype.register_mime_type(EXEC_MIME_TYPE, append_mime, {\n",
       "      /* Is output safe? */\n",
       "      safe: true,\n",
       "      /* Index of renderer in `output_area.display_order` */\n",
       "      index: 0\n",
       "    });\n",
       "  }\n",
       "\n",
       "  // register the mime type if in Jupyter Notebook environment and previously unregistered\n",
       "  if (root.Jupyter !== undefined) {\n",
       "    var events = require('base/js/events');\n",
       "    var OutputArea = require('notebook/js/outputarea').OutputArea;\n",
       "\n",
       "    if (OutputArea.prototype.mime_types().indexOf(EXEC_MIME_TYPE) == -1) {\n",
       "      register_renderer(events, OutputArea);\n",
       "    }\n",
       "  }\n",
       "\n",
       "  \n",
       "  if (typeof (root._bokeh_timeout) === \"undefined\" || force === true) {\n",
       "    root._bokeh_timeout = Date.now() + 5000;\n",
       "    root._bokeh_failed_load = false;\n",
       "  }\n",
       "\n",
       "  var NB_LOAD_WARNING = {'data': {'text/html':\n",
       "     \"<div style='background-color: #fdd'>\\n\"+\n",
       "     \"<p>\\n\"+\n",
       "     \"BokehJS does not appear to have successfully loaded. If loading BokehJS from CDN, this \\n\"+\n",
       "     \"may be due to a slow or bad network connection. Possible fixes:\\n\"+\n",
       "     \"</p>\\n\"+\n",
       "     \"<ul>\\n\"+\n",
       "     \"<li>re-rerun `output_notebook()` to attempt to load from CDN again, or</li>\\n\"+\n",
       "     \"<li>use INLINE resources instead, as so:</li>\\n\"+\n",
       "     \"</ul>\\n\"+\n",
       "     \"<code>\\n\"+\n",
       "     \"from bokeh.resources import INLINE\\n\"+\n",
       "     \"output_notebook(resources=INLINE)\\n\"+\n",
       "     \"</code>\\n\"+\n",
       "     \"</div>\"}};\n",
       "\n",
       "  function display_loaded() {\n",
       "    var el = document.getElementById(\"02880136-3f1b-402b-af8a-963faef89115\");\n",
       "    if (el != null) {\n",
       "      el.textContent = \"BokehJS is loading...\";\n",
       "    }\n",
       "    if (root.Bokeh !== undefined) {\n",
       "      if (el != null) {\n",
       "        el.textContent = \"BokehJS \" + root.Bokeh.version + \" successfully loaded.\";\n",
       "      }\n",
       "    } else if (Date.now() < root._bokeh_timeout) {\n",
       "      setTimeout(display_loaded, 100)\n",
       "    }\n",
       "  }\n",
       "\n",
       "\n",
       "  function run_callbacks() {\n",
       "    try {\n",
       "      root._bokeh_onload_callbacks.forEach(function(callback) { callback() });\n",
       "    }\n",
       "    finally {\n",
       "      delete root._bokeh_onload_callbacks\n",
       "    }\n",
       "    console.info(\"Bokeh: all callbacks have finished\");\n",
       "  }\n",
       "\n",
       "  function load_libs(js_urls, callback) {\n",
       "    root._bokeh_onload_callbacks.push(callback);\n",
       "    if (root._bokeh_is_loading > 0) {\n",
       "      console.log(\"Bokeh: BokehJS is being loaded, scheduling callback at\", now());\n",
       "      return null;\n",
       "    }\n",
       "    if (js_urls == null || js_urls.length === 0) {\n",
       "      run_callbacks();\n",
       "      return null;\n",
       "    }\n",
       "    console.log(\"Bokeh: BokehJS not loaded, scheduling load and callback at\", now());\n",
       "    root._bokeh_is_loading = js_urls.length;\n",
       "    for (var i = 0; i < js_urls.length; i++) {\n",
       "      var url = js_urls[i];\n",
       "      var s = document.createElement('script');\n",
       "      s.src = url;\n",
       "      s.async = false;\n",
       "      s.onreadystatechange = s.onload = function() {\n",
       "        root._bokeh_is_loading--;\n",
       "        if (root._bokeh_is_loading === 0) {\n",
       "          console.log(\"Bokeh: all BokehJS libraries loaded\");\n",
       "          run_callbacks()\n",
       "        }\n",
       "      };\n",
       "      s.onerror = function() {\n",
       "        console.warn(\"failed to load library \" + url);\n",
       "      };\n",
       "      console.log(\"Bokeh: injecting script tag for BokehJS library: \", url);\n",
       "      document.getElementsByTagName(\"head\")[0].appendChild(s);\n",
       "    }\n",
       "  };var element = document.getElementById(\"02880136-3f1b-402b-af8a-963faef89115\");\n",
       "  if (element == null) {\n",
       "    console.log(\"Bokeh: ERROR: autoload.js configured with elementid '02880136-3f1b-402b-af8a-963faef89115' but no matching script tag was found. \")\n",
       "    return false;\n",
       "  }\n",
       "\n",
       "  var js_urls = [\"https://cdn.pydata.org/bokeh/release/bokeh-0.12.10.min.js\", \"https://cdn.pydata.org/bokeh/release/bokeh-widgets-0.12.10.min.js\", \"https://cdn.pydata.org/bokeh/release/bokeh-tables-0.12.10.min.js\", \"https://cdn.pydata.org/bokeh/release/bokeh-gl-0.12.10.min.js\"];\n",
       "\n",
       "  var inline_js = [\n",
       "    function(Bokeh) {\n",
       "      Bokeh.set_log_level(\"info\");\n",
       "    },\n",
       "    \n",
       "    function(Bokeh) {\n",
       "      \n",
       "    },\n",
       "    function(Bokeh) {\n",
       "      console.log(\"Bokeh: injecting CSS: https://cdn.pydata.org/bokeh/release/bokeh-0.12.10.min.css\");\n",
       "      Bokeh.embed.inject_css(\"https://cdn.pydata.org/bokeh/release/bokeh-0.12.10.min.css\");\n",
       "      console.log(\"Bokeh: injecting CSS: https://cdn.pydata.org/bokeh/release/bokeh-widgets-0.12.10.min.css\");\n",
       "      Bokeh.embed.inject_css(\"https://cdn.pydata.org/bokeh/release/bokeh-widgets-0.12.10.min.css\");\n",
       "      console.log(\"Bokeh: injecting CSS: https://cdn.pydata.org/bokeh/release/bokeh-tables-0.12.10.min.css\");\n",
       "      Bokeh.embed.inject_css(\"https://cdn.pydata.org/bokeh/release/bokeh-tables-0.12.10.min.css\");\n",
       "    }\n",
       "  ];\n",
       "\n",
       "  function run_inline_js() {\n",
       "    \n",
       "    if ((root.Bokeh !== undefined) || (force === true)) {\n",
       "      for (var i = 0; i < inline_js.length; i++) {\n",
       "        inline_js[i].call(root, root.Bokeh);\n",
       "      }if (force === true) {\n",
       "        display_loaded();\n",
       "      }} else if (Date.now() < root._bokeh_timeout) {\n",
       "      setTimeout(run_inline_js, 100);\n",
       "    } else if (!root._bokeh_failed_load) {\n",
       "      console.log(\"Bokeh: BokehJS failed to load within specified timeout.\");\n",
       "      root._bokeh_failed_load = true;\n",
       "    } else if (force !== true) {\n",
       "      var cell = $(document.getElementById(\"02880136-3f1b-402b-af8a-963faef89115\")).parents('.cell').data().cell;\n",
       "      cell.output_area.append_execute_result(NB_LOAD_WARNING)\n",
       "    }\n",
       "\n",
       "  }\n",
       "\n",
       "  if (root._bokeh_is_loading === 0) {\n",
       "    console.log(\"Bokeh: BokehJS loaded, going straight to plotting\");\n",
       "    run_inline_js();\n",
       "  } else {\n",
       "    load_libs(js_urls, function() {\n",
       "      console.log(\"Bokeh: BokehJS plotting callback run at\", now());\n",
       "      run_inline_js();\n",
       "    });\n",
       "  }\n",
       "}(window));"
      ],
      "application/vnd.bokehjs_load.v0+json": "\n(function(root) {\n  function now() {\n    return new Date();\n  }\n\n  var force = true;\n\n  if (typeof (root._bokeh_onload_callbacks) === \"undefined\" || force === true) {\n    root._bokeh_onload_callbacks = [];\n    root._bokeh_is_loading = undefined;\n  }\n\n  \n\n  \n  if (typeof (root._bokeh_timeout) === \"undefined\" || force === true) {\n    root._bokeh_timeout = Date.now() + 5000;\n    root._bokeh_failed_load = false;\n  }\n\n  var NB_LOAD_WARNING = {'data': {'text/html':\n     \"<div style='background-color: #fdd'>\\n\"+\n     \"<p>\\n\"+\n     \"BokehJS does not appear to have successfully loaded. If loading BokehJS from CDN, this \\n\"+\n     \"may be due to a slow or bad network connection. Possible fixes:\\n\"+\n     \"</p>\\n\"+\n     \"<ul>\\n\"+\n     \"<li>re-rerun `output_notebook()` to attempt to load from CDN again, or</li>\\n\"+\n     \"<li>use INLINE resources instead, as so:</li>\\n\"+\n     \"</ul>\\n\"+\n     \"<code>\\n\"+\n     \"from bokeh.resources import INLINE\\n\"+\n     \"output_notebook(resources=INLINE)\\n\"+\n     \"</code>\\n\"+\n     \"</div>\"}};\n\n  function display_loaded() {\n    var el = document.getElementById(\"02880136-3f1b-402b-af8a-963faef89115\");\n    if (el != null) {\n      el.textContent = \"BokehJS is loading...\";\n    }\n    if (root.Bokeh !== undefined) {\n      if (el != null) {\n        el.textContent = \"BokehJS \" + root.Bokeh.version + \" successfully loaded.\";\n      }\n    } else if (Date.now() < root._bokeh_timeout) {\n      setTimeout(display_loaded, 100)\n    }\n  }\n\n\n  function run_callbacks() {\n    try {\n      root._bokeh_onload_callbacks.forEach(function(callback) { callback() });\n    }\n    finally {\n      delete root._bokeh_onload_callbacks\n    }\n    console.info(\"Bokeh: all callbacks have finished\");\n  }\n\n  function load_libs(js_urls, callback) {\n    root._bokeh_onload_callbacks.push(callback);\n    if (root._bokeh_is_loading > 0) {\n      console.log(\"Bokeh: BokehJS is being loaded, scheduling callback at\", now());\n      return null;\n    }\n    if (js_urls == null || js_urls.length === 0) {\n      run_callbacks();\n      return null;\n    }\n    console.log(\"Bokeh: BokehJS not loaded, scheduling load and callback at\", now());\n    root._bokeh_is_loading = js_urls.length;\n    for (var i = 0; i < js_urls.length; i++) {\n      var url = js_urls[i];\n      var s = document.createElement('script');\n      s.src = url;\n      s.async = false;\n      s.onreadystatechange = s.onload = function() {\n        root._bokeh_is_loading--;\n        if (root._bokeh_is_loading === 0) {\n          console.log(\"Bokeh: all BokehJS libraries loaded\");\n          run_callbacks()\n        }\n      };\n      s.onerror = function() {\n        console.warn(\"failed to load library \" + url);\n      };\n      console.log(\"Bokeh: injecting script tag for BokehJS library: \", url);\n      document.getElementsByTagName(\"head\")[0].appendChild(s);\n    }\n  };var element = document.getElementById(\"02880136-3f1b-402b-af8a-963faef89115\");\n  if (element == null) {\n    console.log(\"Bokeh: ERROR: autoload.js configured with elementid '02880136-3f1b-402b-af8a-963faef89115' but no matching script tag was found. \")\n    return false;\n  }\n\n  var js_urls = [\"https://cdn.pydata.org/bokeh/release/bokeh-0.12.10.min.js\", \"https://cdn.pydata.org/bokeh/release/bokeh-widgets-0.12.10.min.js\", \"https://cdn.pydata.org/bokeh/release/bokeh-tables-0.12.10.min.js\", \"https://cdn.pydata.org/bokeh/release/bokeh-gl-0.12.10.min.js\"];\n\n  var inline_js = [\n    function(Bokeh) {\n      Bokeh.set_log_level(\"info\");\n    },\n    \n    function(Bokeh) {\n      \n    },\n    function(Bokeh) {\n      console.log(\"Bokeh: injecting CSS: https://cdn.pydata.org/bokeh/release/bokeh-0.12.10.min.css\");\n      Bokeh.embed.inject_css(\"https://cdn.pydata.org/bokeh/release/bokeh-0.12.10.min.css\");\n      console.log(\"Bokeh: injecting CSS: https://cdn.pydata.org/bokeh/release/bokeh-widgets-0.12.10.min.css\");\n      Bokeh.embed.inject_css(\"https://cdn.pydata.org/bokeh/release/bokeh-widgets-0.12.10.min.css\");\n      console.log(\"Bokeh: injecting CSS: https://cdn.pydata.org/bokeh/release/bokeh-tables-0.12.10.min.css\");\n      Bokeh.embed.inject_css(\"https://cdn.pydata.org/bokeh/release/bokeh-tables-0.12.10.min.css\");\n    }\n  ];\n\n  function run_inline_js() {\n    \n    if ((root.Bokeh !== undefined) || (force === true)) {\n      for (var i = 0; i < inline_js.length; i++) {\n        inline_js[i].call(root, root.Bokeh);\n      }if (force === true) {\n        display_loaded();\n      }} else if (Date.now() < root._bokeh_timeout) {\n      setTimeout(run_inline_js, 100);\n    } else if (!root._bokeh_failed_load) {\n      console.log(\"Bokeh: BokehJS failed to load within specified timeout.\");\n      root._bokeh_failed_load = true;\n    } else if (force !== true) {\n      var cell = $(document.getElementById(\"02880136-3f1b-402b-af8a-963faef89115\")).parents('.cell').data().cell;\n      cell.output_area.append_execute_result(NB_LOAD_WARNING)\n    }\n\n  }\n\n  if (root._bokeh_is_loading === 0) {\n    console.log(\"Bokeh: BokehJS loaded, going straight to plotting\");\n    run_inline_js();\n  } else {\n    load_libs(js_urls, function() {\n      console.log(\"Bokeh: BokehJS plotting callback run at\", now());\n      run_inline_js();\n    });\n  }\n}(window));"
     },
     "metadata": {},
     "output_type": "display_data"
    }
   ],
   "source": [
    "from bokeh.plotting import figure, show, output_notebook\n",
    "output_notebook()"
   ]
  },
  {
   "cell_type": "markdown",
   "metadata": {},
   "source": [
    "If you were to map out our angle values on the circle drawn on a cartesian coordinate grid, it might look like this:"
   ]
  },
  {
   "cell_type": "code",
   "execution_count": 44,
   "metadata": {},
   "outputs": [
    {
     "data": {
      "text/html": [
       "<div style=\"display: table;\"><div style=\"display: table-row;\"><div style=\"display: table-cell;\"><b title=\"bokeh.models.renderers.GlyphRenderer\">GlyphRenderer</b>(</div><div style=\"display: table-cell;\">id&nbsp;=&nbsp;'fc41fd69-f9b1-4846-b0a5-77bea065dad0', <span id=\"374ae5d9-71d0-4083-964f-84f23fa58419\" style=\"cursor: pointer;\">&hellip;)</span></div></div><div class=\"9c5f3898-0b91-4981-9833-9b8d7c09ad7b\" style=\"display: none;\"><div style=\"display: table-cell;\"></div><div style=\"display: table-cell;\">data_source&nbsp;=&nbsp;ColumnDataSource(id='d578de05-1c57-4568-bf26-45bbd7e91071', ...),</div></div><div class=\"9c5f3898-0b91-4981-9833-9b8d7c09ad7b\" style=\"display: none;\"><div style=\"display: table-cell;\"></div><div style=\"display: table-cell;\">glyph&nbsp;=&nbsp;Circle(id='c04870c5-f214-4e3c-8b2a-9ca556962ac3', ...),</div></div><div class=\"9c5f3898-0b91-4981-9833-9b8d7c09ad7b\" style=\"display: none;\"><div style=\"display: table-cell;\"></div><div style=\"display: table-cell;\">hover_glyph&nbsp;=&nbsp;None,</div></div><div class=\"9c5f3898-0b91-4981-9833-9b8d7c09ad7b\" style=\"display: none;\"><div style=\"display: table-cell;\"></div><div style=\"display: table-cell;\">js_event_callbacks&nbsp;=&nbsp;{},</div></div><div class=\"9c5f3898-0b91-4981-9833-9b8d7c09ad7b\" style=\"display: none;\"><div style=\"display: table-cell;\"></div><div style=\"display: table-cell;\">js_property_callbacks&nbsp;=&nbsp;{},</div></div><div class=\"9c5f3898-0b91-4981-9833-9b8d7c09ad7b\" style=\"display: none;\"><div style=\"display: table-cell;\"></div><div style=\"display: table-cell;\">level&nbsp;=&nbsp;'glyph',</div></div><div class=\"9c5f3898-0b91-4981-9833-9b8d7c09ad7b\" style=\"display: none;\"><div style=\"display: table-cell;\"></div><div style=\"display: table-cell;\">muted&nbsp;=&nbsp;False,</div></div><div class=\"9c5f3898-0b91-4981-9833-9b8d7c09ad7b\" style=\"display: none;\"><div style=\"display: table-cell;\"></div><div style=\"display: table-cell;\">muted_glyph&nbsp;=&nbsp;None,</div></div><div class=\"9c5f3898-0b91-4981-9833-9b8d7c09ad7b\" style=\"display: none;\"><div style=\"display: table-cell;\"></div><div style=\"display: table-cell;\">name&nbsp;=&nbsp;None,</div></div><div class=\"9c5f3898-0b91-4981-9833-9b8d7c09ad7b\" style=\"display: none;\"><div style=\"display: table-cell;\"></div><div style=\"display: table-cell;\">nonselection_glyph&nbsp;=&nbsp;Circle(id='e17f1a11-aaf3-46df-8b18-671e96ef5549', ...),</div></div><div class=\"9c5f3898-0b91-4981-9833-9b8d7c09ad7b\" style=\"display: none;\"><div style=\"display: table-cell;\"></div><div style=\"display: table-cell;\">selection_glyph&nbsp;=&nbsp;None,</div></div><div class=\"9c5f3898-0b91-4981-9833-9b8d7c09ad7b\" style=\"display: none;\"><div style=\"display: table-cell;\"></div><div style=\"display: table-cell;\">subscribed_events&nbsp;=&nbsp;[],</div></div><div class=\"9c5f3898-0b91-4981-9833-9b8d7c09ad7b\" style=\"display: none;\"><div style=\"display: table-cell;\"></div><div style=\"display: table-cell;\">tags&nbsp;=&nbsp;[],</div></div><div class=\"9c5f3898-0b91-4981-9833-9b8d7c09ad7b\" style=\"display: none;\"><div style=\"display: table-cell;\"></div><div style=\"display: table-cell;\">view&nbsp;=&nbsp;CDSView(id='86474633-4aeb-4e71-bd74-6de289e9ebd8', ...),</div></div><div class=\"9c5f3898-0b91-4981-9833-9b8d7c09ad7b\" style=\"display: none;\"><div style=\"display: table-cell;\"></div><div style=\"display: table-cell;\">visible&nbsp;=&nbsp;True,</div></div><div class=\"9c5f3898-0b91-4981-9833-9b8d7c09ad7b\" style=\"display: none;\"><div style=\"display: table-cell;\"></div><div style=\"display: table-cell;\">x_range_name&nbsp;=&nbsp;'default',</div></div><div class=\"9c5f3898-0b91-4981-9833-9b8d7c09ad7b\" style=\"display: none;\"><div style=\"display: table-cell;\"></div><div style=\"display: table-cell;\">y_range_name&nbsp;=&nbsp;'default')</div></div></div>\n",
       "<script>\n",
       "(function() {\n",
       "  var expanded = false;\n",
       "  var ellipsis = document.getElementById(\"374ae5d9-71d0-4083-964f-84f23fa58419\");\n",
       "  ellipsis.addEventListener(\"click\", function() {\n",
       "    var rows = document.getElementsByClassName(\"9c5f3898-0b91-4981-9833-9b8d7c09ad7b\");\n",
       "    for (var i = 0; i < rows.length; i++) {\n",
       "      var el = rows[i];\n",
       "      el.style.display = expanded ? \"none\" : \"table-row\";\n",
       "    }\n",
       "    ellipsis.innerHTML = expanded ? \"&hellip;)\" : \"&lsaquo;&lsaquo;&lsaquo;\";\n",
       "    expanded = !expanded;\n",
       "  });\n",
       "})();\n",
       "</script>\n"
      ],
      "text/plain": [
       "GlyphRenderer(id='fc41fd69-f9b1-4846-b0a5-77bea065dad0', ...)"
      ]
     },
     "execution_count": 44,
     "metadata": {},
     "output_type": "execute_result"
    }
   ],
   "source": [
    "p = figure(plot_width=600, plot_height=600, match_aspect=True)\n",
    "\n",
    "\n",
    "# draw angle lines\n",
    "x = np.cos(unit_circle_angles_rad)\n",
    "y = np.sin(unit_circle_angles_rad)\n",
    "origin = np.zeros(x.shape)\n",
    "\n",
    "\n",
    "for i in range(len(unit_circle_angles_rad)):\n",
    "    #print (x[i], y[i])\n",
    "    p.line((0, x[i]), (0, y[i]))\n",
    "\n",
    "# draw unit circle\n",
    "p.circle(0,0, radius=1.0, color=\"white\", line_width=0.5, line_color='black',\n",
    "         alpha=0.0, line_alpha=1.0)\n"
   ]
  },
  {
   "cell_type": "code",
   "execution_count": 45,
   "metadata": {},
   "outputs": [
    {
     "data": {
      "text/html": [
       "\n",
       "<div class=\"bk-root\">\n",
       "    <div class=\"bk-plotdiv\" id=\"5de3f74f-d8a6-4d67-971f-401cdca919b0\"></div>\n",
       "</div>"
      ]
     },
     "metadata": {},
     "output_type": "display_data"
    },
    {
     "data": {
      "application/javascript": [
       "(function(root) {\n",
       "  function embed_document(root) {\n",
       "    var docs_json = {\"7b943171-b84e-4442-9299-0dfea45b5bc7\":{\"roots\":{\"references\":[{\"attributes\":{\"source\":{\"id\":\"0a6442d9-ac36-436d-a934-3f6b76c2de5a\",\"type\":\"ColumnDataSource\"}},\"id\":\"b571ed76-7d97-4f7b-b21e-eb1fa7f379b1\",\"type\":\"CDSView\"},{\"attributes\":{\"line_color\":{\"value\":\"#1f77b4\"},\"x\":{\"field\":\"x\"},\"y\":{\"field\":\"y\"}},\"id\":\"6de15128-fc4b-4709-bbae-2d84e0522517\",\"type\":\"Line\"},{\"attributes\":{},\"id\":\"f66cc975-fe56-4a02-a092-a629632124f9\",\"type\":\"ResetTool\"},{\"attributes\":{\"formatter\":{\"id\":\"cd000fe2-dc1d-4106-a16d-ed1934e46ef6\",\"type\":\"BasicTickFormatter\"},\"plot\":{\"id\":\"20533027-b540-4e47-9683-d2bb42f93f5a\",\"subtype\":\"Figure\",\"type\":\"Plot\"},\"ticker\":{\"id\":\"517ede57-e593-4a56-882f-918fec28b547\",\"type\":\"BasicTicker\"}},\"id\":\"84cd0740-96e9-4470-81c5-c0cc8ad5a3eb\",\"type\":\"LinearAxis\"},{\"attributes\":{\"callback\":null,\"data\":{}},\"id\":\"d578de05-1c57-4568-bf26-45bbd7e91071\",\"type\":\"ColumnDataSource\"},{\"attributes\":{\"data_source\":{\"id\":\"2f2b65cc-665d-4866-abac-db9ca9ad2335\",\"type\":\"ColumnDataSource\"},\"glyph\":{\"id\":\"a9c83b24-869d-4341-8585-1fdc44b35b53\",\"type\":\"Line\"},\"hover_glyph\":null,\"muted_glyph\":null,\"nonselection_glyph\":{\"id\":\"9c0185cc-5699-4104-b393-d1d55f83726b\",\"type\":\"Line\"},\"selection_glyph\":null,\"view\":{\"id\":\"96f5ccdc-a7bd-4272-b3d9-f2ee33e76bb1\",\"type\":\"CDSView\"}},\"id\":\"96ce5758-584c-4ff5-ac8d-7c26ea84e66a\",\"type\":\"GlyphRenderer\"},{\"attributes\":{\"callback\":null,\"column_names\":[\"y\",\"x\"],\"data\":{\"x\":[0,-0.7071067811865475],\"y\":[0,0.7071067811865476]}},\"id\":\"2ba5ff4d-bdbc-4c93-97aa-4b4e41d95f17\",\"type\":\"ColumnDataSource\"},{\"attributes\":{\"line_color\":{\"value\":\"#1f77b4\"},\"x\":{\"field\":\"x\"},\"y\":{\"field\":\"y\"}},\"id\":\"5f465bff-0e54-478c-8415-587a58a1b1e1\",\"type\":\"Line\"},{\"attributes\":{\"data_source\":{\"id\":\"0fb7164e-b677-44af-adcf-c5c1e4ab1044\",\"type\":\"ColumnDataSource\"},\"glyph\":{\"id\":\"398edc9e-f214-4857-864c-426a850a35ef\",\"type\":\"Line\"},\"hover_glyph\":null,\"muted_glyph\":null,\"nonselection_glyph\":{\"id\":\"b63af18d-5a86-476d-af47-bcf6bab4f5f2\",\"type\":\"Line\"},\"selection_glyph\":null,\"view\":{\"id\":\"a4161a20-f3ba-4aa1-8506-5c25ce4dbd23\",\"type\":\"CDSView\"}},\"id\":\"877ccfb9-5c4b-4302-880a-eccd2a545812\",\"type\":\"GlyphRenderer\"},{\"attributes\":{\"line_alpha\":{\"value\":0.1},\"line_color\":{\"value\":\"#1f77b4\"},\"x\":{\"field\":\"x\"},\"y\":{\"field\":\"y\"}},\"id\":\"88937585-3ab2-4d67-97e8-5a653f3ecd21\",\"type\":\"Line\"},{\"attributes\":{\"callback\":null,\"column_names\":[\"y\",\"x\"],\"data\":{\"x\":[0,-0.4999999999999998],\"y\":[0,0.8660254037844388]}},\"id\":\"81286fd9-79ff-4064-a2ed-ecdf7ecdc5f1\",\"type\":\"ColumnDataSource\"},{\"attributes\":{\"source\":{\"id\":\"5cb0aa6f-0582-4907-96ee-00a2bffca1d3\",\"type\":\"ColumnDataSource\"}},\"id\":\"811ade2d-2641-41fe-b3b1-aafa95fb6c75\",\"type\":\"CDSView\"},{\"attributes\":{\"line_alpha\":{\"value\":0.1},\"line_color\":{\"value\":\"#1f77b4\"},\"x\":{\"field\":\"x\"},\"y\":{\"field\":\"y\"}},\"id\":\"274f0c99-b12f-4122-81a9-8b5df2059159\",\"type\":\"Line\"},{\"attributes\":{\"source\":{\"id\":\"36e4d397-8585-49c2-81a3-a7db0ccddb53\",\"type\":\"ColumnDataSource\"}},\"id\":\"a55b6155-b81e-4e81-83ce-d1ccd29e624d\",\"type\":\"CDSView\"},{\"attributes\":{\"line_alpha\":{\"value\":0.1},\"line_color\":{\"value\":\"#1f77b4\"},\"x\":{\"field\":\"x\"},\"y\":{\"field\":\"y\"}},\"id\":\"b63af18d-5a86-476d-af47-bcf6bab4f5f2\",\"type\":\"Line\"},{\"attributes\":{\"source\":{\"id\":\"d578de05-1c57-4568-bf26-45bbd7e91071\",\"type\":\"ColumnDataSource\"}},\"id\":\"86474633-4aeb-4e71-bd74-6de289e9ebd8\",\"type\":\"CDSView\"},{\"attributes\":{\"callback\":null,\"column_names\":[\"y\",\"x\"],\"data\":{\"x\":[0,-0.5000000000000004],\"y\":[0,-0.8660254037844384]}},\"id\":\"214cd0d5-a454-4e8b-af6d-9f1c33ed616e\",\"type\":\"ColumnDataSource\"},{\"attributes\":{\"line_alpha\":{\"value\":0.1},\"line_color\":{\"value\":\"#1f77b4\"},\"x\":{\"field\":\"x\"},\"y\":{\"field\":\"y\"}},\"id\":\"886bacd6-c875-4796-9bb6-89ca1e3674e9\",\"type\":\"Line\"},{\"attributes\":{},\"id\":\"116d0cc0-e593-438f-aec0-5145deb7bd2a\",\"type\":\"SaveTool\"},{\"attributes\":{},\"id\":\"a8a83a49-70c6-45ce-a279-635ccbf4d71e\",\"type\":\"BasicTicker\"},{\"attributes\":{},\"id\":\"cd000fe2-dc1d-4106-a16d-ed1934e46ef6\",\"type\":\"BasicTickFormatter\"},{\"attributes\":{\"fill_alpha\":{\"value\":0.1},\"fill_color\":{\"value\":\"#1f77b4\"},\"line_alpha\":{\"value\":0.1},\"line_color\":{\"value\":\"#1f77b4\"},\"line_width\":{\"value\":0.5},\"radius\":{\"units\":\"data\",\"value\":1.0},\"x\":{\"value\":0},\"y\":{\"value\":0}},\"id\":\"e17f1a11-aaf3-46df-8b18-671e96ef5549\",\"type\":\"Circle\"},{\"attributes\":{\"line_alpha\":{\"value\":0.1},\"line_color\":{\"value\":\"#1f77b4\"},\"x\":{\"field\":\"x\"},\"y\":{\"field\":\"y\"}},\"id\":\"68ab021c-24fd-4e57-b268-9349ebba1a19\",\"type\":\"Line\"},{\"attributes\":{\"callback\":null,\"column_names\":[\"y\",\"x\"],\"data\":{\"x\":[0,-1.0],\"y\":[0,1.2246467991473532e-16]}},\"id\":\"405e920d-ed5a-4d5d-ae20-e08b786669b0\",\"type\":\"ColumnDataSource\"},{\"attributes\":{\"data_source\":{\"id\":\"bea8e4b9-7c70-4ba2-80ed-339906bda91b\",\"type\":\"ColumnDataSource\"},\"glyph\":{\"id\":\"db1dc5ed-96d5-421a-bfbe-fd7d5c279079\",\"type\":\"Line\"},\"hover_glyph\":null,\"muted_glyph\":null,\"nonselection_glyph\":{\"id\":\"bc460867-1341-4bf4-907c-42c8d8b0e671\",\"type\":\"Line\"},\"selection_glyph\":null,\"view\":{\"id\":\"76383cc6-a383-4a0d-b0db-9dd1f559edd9\",\"type\":\"CDSView\"}},\"id\":\"5d6bc744-e0e8-4d78-9426-c5139b5ca530\",\"type\":\"GlyphRenderer\"},{\"attributes\":{\"source\":{\"id\":\"405e920d-ed5a-4d5d-ae20-e08b786669b0\",\"type\":\"ColumnDataSource\"}},\"id\":\"a3b5605c-3e52-49d6-89df-04c7f66b0c4b\",\"type\":\"CDSView\"},{\"attributes\":{\"line_color\":{\"value\":\"#1f77b4\"},\"x\":{\"field\":\"x\"},\"y\":{\"field\":\"y\"}},\"id\":\"6e4bbe83-d12d-4c79-83e0-874d56ca2f30\",\"type\":\"Line\"},{\"attributes\":{\"source\":{\"id\":\"225d9b29-8461-463d-85df-e8b9416579cb\",\"type\":\"ColumnDataSource\"}},\"id\":\"2f321a4c-ab16-47bf-b592-b3caa6983b16\",\"type\":\"CDSView\"},{\"attributes\":{\"line_color\":{\"value\":\"#1f77b4\"},\"x\":{\"field\":\"x\"},\"y\":{\"field\":\"y\"}},\"id\":\"e8ad05fc-a021-4309-93e0-5b83fdf408b8\",\"type\":\"Line\"},{\"attributes\":{\"callback\":null,\"column_names\":[\"y\",\"x\"],\"data\":{\"x\":[0,-0.7071067811865477],\"y\":[0,-0.7071067811865475]}},\"id\":\"0a6442d9-ac36-436d-a934-3f6b76c2de5a\",\"type\":\"ColumnDataSource\"},{\"attributes\":{\"data_source\":{\"id\":\"81286fd9-79ff-4064-a2ed-ecdf7ecdc5f1\",\"type\":\"ColumnDataSource\"},\"glyph\":{\"id\":\"6e4bbe83-d12d-4c79-83e0-874d56ca2f30\",\"type\":\"Line\"},\"hover_glyph\":null,\"muted_glyph\":null,\"nonselection_glyph\":{\"id\":\"5164a169-1b7d-4eea-83d4-48648e7f2a46\",\"type\":\"Line\"},\"selection_glyph\":null,\"view\":{\"id\":\"5b38dd5b-de59-4139-8d02-4a4699539f20\",\"type\":\"CDSView\"}},\"id\":\"9e5f4f88-b813-4e24-a109-b08d1fb92b6b\",\"type\":\"GlyphRenderer\"},{\"attributes\":{\"callback\":null,\"column_names\":[\"y\",\"x\"],\"data\":{\"x\":[0,-0.8660254037844386],\"y\":[0,-0.5000000000000001]}},\"id\":\"0fb7164e-b677-44af-adcf-c5c1e4ab1044\",\"type\":\"ColumnDataSource\"},{\"attributes\":{\"fill_alpha\":{\"value\":0.0},\"fill_color\":{\"value\":\"white\"},\"line_width\":{\"value\":0.5},\"radius\":{\"units\":\"data\",\"value\":1.0},\"x\":{\"value\":0},\"y\":{\"value\":0}},\"id\":\"c04870c5-f214-4e3c-8b2a-9ca556962ac3\",\"type\":\"Circle\"},{\"attributes\":{\"source\":{\"id\":\"f829b8f9-4ab8-46b7-ac9b-15492bc02e9c\",\"type\":\"ColumnDataSource\"}},\"id\":\"93b41e98-e3b2-41dd-b778-26b715bb3557\",\"type\":\"CDSView\"},{\"attributes\":{\"line_alpha\":{\"value\":0.1},\"line_color\":{\"value\":\"#1f77b4\"},\"x\":{\"field\":\"x\"},\"y\":{\"field\":\"y\"}},\"id\":\"a7981855-0534-4550-95ac-09063f2ca5d6\",\"type\":\"Line\"},{\"attributes\":{\"line_alpha\":{\"value\":0.1},\"line_color\":{\"value\":\"#1f77b4\"},\"x\":{\"field\":\"x\"},\"y\":{\"field\":\"y\"}},\"id\":\"be44620c-287b-4ec3-9636-fb763eaedea5\",\"type\":\"Line\"},{\"attributes\":{},\"id\":\"517ede57-e593-4a56-882f-918fec28b547\",\"type\":\"BasicTicker\"},{\"attributes\":{\"data_source\":{\"id\":\"80a27f86-ad42-4a2b-9799-48a72ec7e319\",\"type\":\"ColumnDataSource\"},\"glyph\":{\"id\":\"5f465bff-0e54-478c-8415-587a58a1b1e1\",\"type\":\"Line\"},\"hover_glyph\":null,\"muted_glyph\":null,\"nonselection_glyph\":{\"id\":\"ae9b1f26-f88b-419e-8bb2-dfefe648b813\",\"type\":\"Line\"},\"selection_glyph\":null,\"view\":{\"id\":\"1ada4507-e37f-4cc8-a87e-7533059d33c7\",\"type\":\"CDSView\"}},\"id\":\"7aebce16-0756-4e64-9079-62b1cd932f3b\",\"type\":\"GlyphRenderer\"},{\"attributes\":{\"line_alpha\":{\"value\":0.1},\"line_color\":{\"value\":\"#1f77b4\"},\"x\":{\"field\":\"x\"},\"y\":{\"field\":\"y\"}},\"id\":\"4fcd13f8-4f5f-451a-a16a-d59dd5388546\",\"type\":\"Line\"},{\"attributes\":{\"data_source\":{\"id\":\"214cd0d5-a454-4e8b-af6d-9f1c33ed616e\",\"type\":\"ColumnDataSource\"},\"glyph\":{\"id\":\"6b31d1d9-b98c-44f3-8b37-c742eadc653c\",\"type\":\"Line\"},\"hover_glyph\":null,\"muted_glyph\":null,\"nonselection_glyph\":{\"id\":\"b17f248c-41c1-4fbc-ab93-b478f0066283\",\"type\":\"Line\"},\"selection_glyph\":null,\"view\":{\"id\":\"f6f22032-fdbe-4a2c-bcdd-ddc87f0b18d0\",\"type\":\"CDSView\"}},\"id\":\"c0184191-7de5-4531-9954-e2466a9d2c8b\",\"type\":\"GlyphRenderer\"},{\"attributes\":{\"data_source\":{\"id\":\"d578de05-1c57-4568-bf26-45bbd7e91071\",\"type\":\"ColumnDataSource\"},\"glyph\":{\"id\":\"c04870c5-f214-4e3c-8b2a-9ca556962ac3\",\"type\":\"Circle\"},\"hover_glyph\":null,\"muted_glyph\":null,\"nonselection_glyph\":{\"id\":\"e17f1a11-aaf3-46df-8b18-671e96ef5549\",\"type\":\"Circle\"},\"selection_glyph\":null,\"view\":{\"id\":\"86474633-4aeb-4e71-bd74-6de289e9ebd8\",\"type\":\"CDSView\"}},\"id\":\"fc41fd69-f9b1-4846-b0a5-77bea065dad0\",\"type\":\"GlyphRenderer\"},{\"attributes\":{},\"id\":\"57160d54-f6a6-4b75-9f2e-c4872033d96d\",\"type\":\"WheelZoomTool\"},{\"attributes\":{\"source\":{\"id\":\"0fb7164e-b677-44af-adcf-c5c1e4ab1044\",\"type\":\"ColumnDataSource\"}},\"id\":\"a4161a20-f3ba-4aa1-8506-5c25ce4dbd23\",\"type\":\"CDSView\"},{\"attributes\":{\"callback\":null,\"column_names\":[\"y\",\"x\"],\"data\":{\"x\":[0,-0.8660254037844387],\"y\":[0,0.49999999999999994]}},\"id\":\"3eea2aea-0123-4dd8-872a-08ceaca84cd0\",\"type\":\"ColumnDataSource\"},{\"attributes\":{\"line_color\":{\"value\":\"#1f77b4\"},\"x\":{\"field\":\"x\"},\"y\":{\"field\":\"y\"}},\"id\":\"58b8900c-b6b4-43d3-9d54-489c0669500c\",\"type\":\"Line\"},{\"attributes\":{\"line_color\":{\"value\":\"#1f77b4\"},\"x\":{\"field\":\"x\"},\"y\":{\"field\":\"y\"}},\"id\":\"db1dc5ed-96d5-421a-bfbe-fd7d5c279079\",\"type\":\"Line\"},{\"attributes\":{\"callback\":null,\"column_names\":[\"y\",\"x\"],\"data\":{\"x\":[0,0.5],\"y\":[0,-0.8660254037844386]}},\"id\":\"80a27f86-ad42-4a2b-9799-48a72ec7e319\",\"type\":\"ColumnDataSource\"},{\"attributes\":{\"line_color\":{\"value\":\"#1f77b4\"},\"x\":{\"field\":\"x\"},\"y\":{\"field\":\"y\"}},\"id\":\"72b4442e-8607-4d3e-a865-1b5457621791\",\"type\":\"Line\"},{\"attributes\":{\"line_alpha\":{\"value\":0.1},\"line_color\":{\"value\":\"#1f77b4\"},\"x\":{\"field\":\"x\"},\"y\":{\"field\":\"y\"}},\"id\":\"9d200419-67da-4da5-82ae-f6f1b98861b2\",\"type\":\"Line\"},{\"attributes\":{\"overlay\":{\"id\":\"f8c099fa-7bfc-4a2b-98e0-601b5105502d\",\"type\":\"BoxAnnotation\"}},\"id\":\"f2b9e509-79dd-4079-a8a8-188bc2839084\",\"type\":\"BoxZoomTool\"},{\"attributes\":{\"line_color\":{\"value\":\"#1f77b4\"},\"x\":{\"field\":\"x\"},\"y\":{\"field\":\"y\"}},\"id\":\"a9c83b24-869d-4341-8585-1fdc44b35b53\",\"type\":\"Line\"},{\"attributes\":{\"line_alpha\":{\"value\":0.1},\"line_color\":{\"value\":\"#1f77b4\"},\"x\":{\"field\":\"x\"},\"y\":{\"field\":\"y\"}},\"id\":\"00f143a7-5aad-4976-a540-86d8125bb233\",\"type\":\"Line\"},{\"attributes\":{\"line_color\":{\"value\":\"#1f77b4\"},\"x\":{\"field\":\"x\"},\"y\":{\"field\":\"y\"}},\"id\":\"494b63a0-ee74-42e2-ba20-9f1d7158e617\",\"type\":\"Line\"},{\"attributes\":{},\"id\":\"7dd339b3-af11-450b-8bdb-0a500b276cd8\",\"type\":\"HelpTool\"},{\"attributes\":{\"line_alpha\":{\"value\":0.1},\"line_color\":{\"value\":\"#1f77b4\"},\"x\":{\"field\":\"x\"},\"y\":{\"field\":\"y\"}},\"id\":\"6f23e19f-a04f-4464-af10-08c33697514b\",\"type\":\"Line\"},{\"attributes\":{\"line_alpha\":{\"value\":0.1},\"line_color\":{\"value\":\"#1f77b4\"},\"x\":{\"field\":\"x\"},\"y\":{\"field\":\"y\"}},\"id\":\"bc460867-1341-4bf4-907c-42c8d8b0e671\",\"type\":\"Line\"},{\"attributes\":{\"data_source\":{\"id\":\"5cb0aa6f-0582-4907-96ee-00a2bffca1d3\",\"type\":\"ColumnDataSource\"},\"glyph\":{\"id\":\"6eada5e3-f3ee-4334-9690-d24890a57505\",\"type\":\"Line\"},\"hover_glyph\":null,\"muted_glyph\":null,\"nonselection_glyph\":{\"id\":\"9d200419-67da-4da5-82ae-f6f1b98861b2\",\"type\":\"Line\"},\"selection_glyph\":null,\"view\":{\"id\":\"811ade2d-2641-41fe-b3b1-aafa95fb6c75\",\"type\":\"CDSView\"}},\"id\":\"515e3f48-994a-4af5-a469-4086b4968887\",\"type\":\"GlyphRenderer\"},{\"attributes\":{\"data_source\":{\"id\":\"2ce6739e-0159-4458-ac27-4e5445868591\",\"type\":\"ColumnDataSource\"},\"glyph\":{\"id\":\"72b4442e-8607-4d3e-a865-1b5457621791\",\"type\":\"Line\"},\"hover_glyph\":null,\"muted_glyph\":null,\"nonselection_glyph\":{\"id\":\"68ab021c-24fd-4e57-b268-9349ebba1a19\",\"type\":\"Line\"},\"selection_glyph\":null,\"view\":{\"id\":\"3f80198e-33e3-4ba5-b9cf-bb88c24b2ee3\",\"type\":\"CDSView\"}},\"id\":\"cde1071c-24bc-4cd0-abe3-ced3c38fc635\",\"type\":\"GlyphRenderer\"},{\"attributes\":{\"data_source\":{\"id\":\"225d9b29-8461-463d-85df-e8b9416579cb\",\"type\":\"ColumnDataSource\"},\"glyph\":{\"id\":\"1e30a102-26c2-4330-91fb-fb338afd779c\",\"type\":\"Line\"},\"hover_glyph\":null,\"muted_glyph\":null,\"nonselection_glyph\":{\"id\":\"5ceff627-c7ec-4909-a81b-b706a23d18b1\",\"type\":\"Line\"},\"selection_glyph\":null,\"view\":{\"id\":\"2f321a4c-ab16-47bf-b592-b3caa6983b16\",\"type\":\"CDSView\"}},\"id\":\"61fe6e3e-74c5-4ea1-92bf-fd847eba23af\",\"type\":\"GlyphRenderer\"},{\"attributes\":{\"line_color\":{\"value\":\"#1f77b4\"},\"x\":{\"field\":\"x\"},\"y\":{\"field\":\"y\"}},\"id\":\"7d77cfde-ee5c-4efb-96e0-3deb215250d3\",\"type\":\"Line\"},{\"attributes\":{\"source\":{\"id\":\"2ba5ff4d-bdbc-4c93-97aa-4b4e41d95f17\",\"type\":\"ColumnDataSource\"}},\"id\":\"0ec8e2ba-c785-46e6-9567-ac47ae4d8384\",\"type\":\"CDSView\"},{\"attributes\":{\"callback\":null,\"column_names\":[\"y\",\"x\"],\"data\":{\"x\":[0,1.0],\"y\":[0,0.0]}},\"id\":\"f829b8f9-4ab8-46b7-ac9b-15492bc02e9c\",\"type\":\"ColumnDataSource\"},{\"attributes\":{\"callback\":null,\"column_names\":[\"y\",\"x\"],\"data\":{\"x\":[0,-1.8369701987210297e-16],\"y\":[0,-1.0]}},\"id\":\"fedf81d0-7e56-47ee-982c-e4aa26e9ace9\",\"type\":\"ColumnDataSource\"},{\"attributes\":{\"formatter\":{\"id\":\"02cf5b34-8faa-4f42-8540-3f646b2702fe\",\"type\":\"BasicTickFormatter\"},\"plot\":{\"id\":\"20533027-b540-4e47-9683-d2bb42f93f5a\",\"subtype\":\"Figure\",\"type\":\"Plot\"},\"ticker\":{\"id\":\"a8a83a49-70c6-45ce-a279-635ccbf4d71e\",\"type\":\"BasicTicker\"}},\"id\":\"a6aeb0a2-b813-4d69-962d-5955ea19c051\",\"type\":\"LinearAxis\"},{\"attributes\":{\"dimension\":1,\"plot\":{\"id\":\"20533027-b540-4e47-9683-d2bb42f93f5a\",\"subtype\":\"Figure\",\"type\":\"Plot\"},\"ticker\":{\"id\":\"a8a83a49-70c6-45ce-a279-635ccbf4d71e\",\"type\":\"BasicTicker\"}},\"id\":\"3f45b211-eeef-4e01-afa4-918bdc9d5b33\",\"type\":\"Grid\"},{\"attributes\":{\"plot\":null,\"text\":\"\"},\"id\":\"3a87a42e-1448-47f0-a691-286ba1f235cb\",\"type\":\"Title\"},{\"attributes\":{\"source\":{\"id\":\"2f2b65cc-665d-4866-abac-db9ca9ad2335\",\"type\":\"ColumnDataSource\"}},\"id\":\"96f5ccdc-a7bd-4272-b3d9-f2ee33e76bb1\",\"type\":\"CDSView\"},{\"attributes\":{\"data_source\":{\"id\":\"0a6442d9-ac36-436d-a934-3f6b76c2de5a\",\"type\":\"ColumnDataSource\"},\"glyph\":{\"id\":\"6de15128-fc4b-4709-bbae-2d84e0522517\",\"type\":\"Line\"},\"hover_glyph\":null,\"muted_glyph\":null,\"nonselection_glyph\":{\"id\":\"274f0c99-b12f-4122-81a9-8b5df2059159\",\"type\":\"Line\"},\"selection_glyph\":null,\"view\":{\"id\":\"b571ed76-7d97-4f7b-b21e-eb1fa7f379b1\",\"type\":\"CDSView\"}},\"id\":\"9c0dd829-2c4d-4f49-9d55-11ed5ade7c53\",\"type\":\"GlyphRenderer\"},{\"attributes\":{\"data_source\":{\"id\":\"405e920d-ed5a-4d5d-ae20-e08b786669b0\",\"type\":\"ColumnDataSource\"},\"glyph\":{\"id\":\"494b63a0-ee74-42e2-ba20-9f1d7158e617\",\"type\":\"Line\"},\"hover_glyph\":null,\"muted_glyph\":null,\"nonselection_glyph\":{\"id\":\"00f143a7-5aad-4976-a540-86d8125bb233\",\"type\":\"Line\"},\"selection_glyph\":null,\"view\":{\"id\":\"a3b5605c-3e52-49d6-89df-04c7f66b0c4b\",\"type\":\"CDSView\"}},\"id\":\"53148d6c-057c-4835-8ef7-015ab87f7220\",\"type\":\"GlyphRenderer\"},{\"attributes\":{\"below\":[{\"id\":\"84cd0740-96e9-4470-81c5-c0cc8ad5a3eb\",\"type\":\"LinearAxis\"}],\"left\":[{\"id\":\"a6aeb0a2-b813-4d69-962d-5955ea19c051\",\"type\":\"LinearAxis\"}],\"match_aspect\":true,\"renderers\":[{\"id\":\"84cd0740-96e9-4470-81c5-c0cc8ad5a3eb\",\"type\":\"LinearAxis\"},{\"id\":\"25e27921-a0c8-4eb0-bbfa-1c35b4d7f813\",\"type\":\"Grid\"},{\"id\":\"a6aeb0a2-b813-4d69-962d-5955ea19c051\",\"type\":\"LinearAxis\"},{\"id\":\"3f45b211-eeef-4e01-afa4-918bdc9d5b33\",\"type\":\"Grid\"},{\"id\":\"f8c099fa-7bfc-4a2b-98e0-601b5105502d\",\"type\":\"BoxAnnotation\"},{\"id\":\"9a4c92fc-e8c0-43f3-a27a-fc14c5498dca\",\"type\":\"GlyphRenderer\"},{\"id\":\"c414d910-d607-40a4-a087-1b496e31e9ba\",\"type\":\"GlyphRenderer\"},{\"id\":\"cde1071c-24bc-4cd0-abe3-ced3c38fc635\",\"type\":\"GlyphRenderer\"},{\"id\":\"61fe6e3e-74c5-4ea1-92bf-fd847eba23af\",\"type\":\"GlyphRenderer\"},{\"id\":\"5d6bc744-e0e8-4d78-9426-c5139b5ca530\",\"type\":\"GlyphRenderer\"},{\"id\":\"9e5f4f88-b813-4e24-a109-b08d1fb92b6b\",\"type\":\"GlyphRenderer\"},{\"id\":\"bd38d0e1-6d10-470a-84fa-10df765f55fa\",\"type\":\"GlyphRenderer\"},{\"id\":\"3a8bf557-d8ee-4ff0-acc1-a42e52fa5ad4\",\"type\":\"GlyphRenderer\"},{\"id\":\"53148d6c-057c-4835-8ef7-015ab87f7220\",\"type\":\"GlyphRenderer\"},{\"id\":\"877ccfb9-5c4b-4302-880a-eccd2a545812\",\"type\":\"GlyphRenderer\"},{\"id\":\"9c0dd829-2c4d-4f49-9d55-11ed5ade7c53\",\"type\":\"GlyphRenderer\"},{\"id\":\"c0184191-7de5-4531-9954-e2466a9d2c8b\",\"type\":\"GlyphRenderer\"},{\"id\":\"f6cdd109-abf7-4256-8222-2a082e85cb48\",\"type\":\"GlyphRenderer\"},{\"id\":\"7aebce16-0756-4e64-9079-62b1cd932f3b\",\"type\":\"GlyphRenderer\"},{\"id\":\"96ce5758-584c-4ff5-ac8d-7c26ea84e66a\",\"type\":\"GlyphRenderer\"},{\"id\":\"515e3f48-994a-4af5-a469-4086b4968887\",\"type\":\"GlyphRenderer\"},{\"id\":\"b9df8293-5870-4d4f-9e53-a8de4818e6b8\",\"type\":\"GlyphRenderer\"},{\"id\":\"fc41fd69-f9b1-4846-b0a5-77bea065dad0\",\"type\":\"GlyphRenderer\"}],\"title\":{\"id\":\"3a87a42e-1448-47f0-a691-286ba1f235cb\",\"type\":\"Title\"},\"toolbar\":{\"id\":\"f926b089-68aa-4bfc-8bcf-65554708de44\",\"type\":\"Toolbar\"},\"x_range\":{\"id\":\"e3e4b461-331c-4fd9-8844-e2c6a7daa203\",\"type\":\"DataRange1d\"},\"x_scale\":{\"id\":\"b8745c78-2973-47af-803a-7f0bdaa10a6f\",\"type\":\"LinearScale\"},\"y_range\":{\"id\":\"9a97c7b3-48aa-489c-b3ac-ba5bd6b84c5f\",\"type\":\"DataRange1d\"},\"y_scale\":{\"id\":\"8e46ef89-6b54-432c-bfa6-9b52f67dd2ca\",\"type\":\"LinearScale\"}},\"id\":\"20533027-b540-4e47-9683-d2bb42f93f5a\",\"subtype\":\"Figure\",\"type\":\"Plot\"},{\"attributes\":{\"line_color\":{\"value\":\"#1f77b4\"},\"x\":{\"field\":\"x\"},\"y\":{\"field\":\"y\"}},\"id\":\"6eada5e3-f3ee-4334-9690-d24890a57505\",\"type\":\"Line\"},{\"attributes\":{\"callback\":null,\"column_names\":[\"y\",\"x\"],\"data\":{\"x\":[0,0.8660254037844387],\"y\":[0,0.49999999999999994]}},\"id\":\"7b951312-ff5f-4a7f-9506-2b4fe80f0e6b\",\"type\":\"ColumnDataSource\"},{\"attributes\":{\"callback\":null,\"column_names\":[\"y\",\"x\"],\"data\":{\"x\":[0,1.0],\"y\":[0,-2.4492935982947064e-16]}},\"id\":\"36e4d397-8585-49c2-81a3-a7db0ccddb53\",\"type\":\"ColumnDataSource\"},{\"attributes\":{\"line_alpha\":{\"value\":0.1},\"line_color\":{\"value\":\"#1f77b4\"},\"x\":{\"field\":\"x\"},\"y\":{\"field\":\"y\"}},\"id\":\"5ceff627-c7ec-4909-a81b-b706a23d18b1\",\"type\":\"Line\"},{\"attributes\":{\"callback\":null},\"id\":\"e3e4b461-331c-4fd9-8844-e2c6a7daa203\",\"type\":\"DataRange1d\"},{\"attributes\":{\"line_alpha\":{\"value\":0.1},\"line_color\":{\"value\":\"#1f77b4\"},\"x\":{\"field\":\"x\"},\"y\":{\"field\":\"y\"}},\"id\":\"9c0185cc-5699-4104-b393-d1d55f83726b\",\"type\":\"Line\"},{\"attributes\":{\"bottom_units\":\"screen\",\"fill_alpha\":{\"value\":0.5},\"fill_color\":{\"value\":\"lightgrey\"},\"left_units\":\"screen\",\"level\":\"overlay\",\"line_alpha\":{\"value\":1.0},\"line_color\":{\"value\":\"black\"},\"line_dash\":[4,4],\"line_width\":{\"value\":2},\"plot\":null,\"render_mode\":\"css\",\"right_units\":\"screen\",\"top_units\":\"screen\"},\"id\":\"f8c099fa-7bfc-4a2b-98e0-601b5105502d\",\"type\":\"BoxAnnotation\"},{\"attributes\":{\"callback\":null,\"column_names\":[\"y\",\"x\"],\"data\":{\"x\":[0,0.5000000000000001],\"y\":[0,0.8660254037844386]}},\"id\":\"225d9b29-8461-463d-85df-e8b9416579cb\",\"type\":\"ColumnDataSource\"},{\"attributes\":{\"line_alpha\":{\"value\":0.1},\"line_color\":{\"value\":\"#1f77b4\"},\"x\":{\"field\":\"x\"},\"y\":{\"field\":\"y\"}},\"id\":\"ae9b1f26-f88b-419e-8bb2-dfefe648b813\",\"type\":\"Line\"},{\"attributes\":{\"data_source\":{\"id\":\"fedf81d0-7e56-47ee-982c-e4aa26e9ace9\",\"type\":\"ColumnDataSource\"},\"glyph\":{\"id\":\"7d77cfde-ee5c-4efb-96e0-3deb215250d3\",\"type\":\"Line\"},\"hover_glyph\":null,\"muted_glyph\":null,\"nonselection_glyph\":{\"id\":\"4fcd13f8-4f5f-451a-a16a-d59dd5388546\",\"type\":\"Line\"},\"selection_glyph\":null,\"view\":{\"id\":\"37f4d90f-30a9-4750-b6c0-a63b7262e374\",\"type\":\"CDSView\"}},\"id\":\"f6cdd109-abf7-4256-8222-2a082e85cb48\",\"type\":\"GlyphRenderer\"},{\"attributes\":{\"data_source\":{\"id\":\"2ba5ff4d-bdbc-4c93-97aa-4b4e41d95f17\",\"type\":\"ColumnDataSource\"},\"glyph\":{\"id\":\"fc845ae8-d1d8-47f6-996d-46a4b69227c5\",\"type\":\"Line\"},\"hover_glyph\":null,\"muted_glyph\":null,\"nonselection_glyph\":{\"id\":\"88937585-3ab2-4d67-97e8-5a653f3ecd21\",\"type\":\"Line\"},\"selection_glyph\":null,\"view\":{\"id\":\"0ec8e2ba-c785-46e6-9567-ac47ae4d8384\",\"type\":\"CDSView\"}},\"id\":\"bd38d0e1-6d10-470a-84fa-10df765f55fa\",\"type\":\"GlyphRenderer\"},{\"attributes\":{\"line_color\":{\"value\":\"#1f77b4\"},\"x\":{\"field\":\"x\"},\"y\":{\"field\":\"y\"}},\"id\":\"1e30a102-26c2-4330-91fb-fb338afd779c\",\"type\":\"Line\"},{\"attributes\":{\"active_drag\":\"auto\",\"active_inspect\":\"auto\",\"active_scroll\":\"auto\",\"active_tap\":\"auto\",\"tools\":[{\"id\":\"784e5190-5d96-4f72-b56f-d64c926ae74e\",\"type\":\"PanTool\"},{\"id\":\"57160d54-f6a6-4b75-9f2e-c4872033d96d\",\"type\":\"WheelZoomTool\"},{\"id\":\"f2b9e509-79dd-4079-a8a8-188bc2839084\",\"type\":\"BoxZoomTool\"},{\"id\":\"116d0cc0-e593-438f-aec0-5145deb7bd2a\",\"type\":\"SaveTool\"},{\"id\":\"f66cc975-fe56-4a02-a092-a629632124f9\",\"type\":\"ResetTool\"},{\"id\":\"7dd339b3-af11-450b-8bdb-0a500b276cd8\",\"type\":\"HelpTool\"}]},\"id\":\"f926b089-68aa-4bfc-8bcf-65554708de44\",\"type\":\"Toolbar\"},{\"attributes\":{\"line_color\":{\"value\":\"#1f77b4\"},\"x\":{\"field\":\"x\"},\"y\":{\"field\":\"y\"}},\"id\":\"b842d130-ef9b-4ea6-a4ea-9a18db216dea\",\"type\":\"Line\"},{\"attributes\":{\"source\":{\"id\":\"3eea2aea-0123-4dd8-872a-08ceaca84cd0\",\"type\":\"ColumnDataSource\"}},\"id\":\"551290cb-3c06-4b5f-aa84-a942b465946b\",\"type\":\"CDSView\"},{\"attributes\":{\"line_color\":{\"value\":\"#1f77b4\"},\"x\":{\"field\":\"x\"},\"y\":{\"field\":\"y\"}},\"id\":\"fc845ae8-d1d8-47f6-996d-46a4b69227c5\",\"type\":\"Line\"},{\"attributes\":{\"source\":{\"id\":\"214cd0d5-a454-4e8b-af6d-9f1c33ed616e\",\"type\":\"ColumnDataSource\"}},\"id\":\"f6f22032-fdbe-4a2c-bcdd-ddc87f0b18d0\",\"type\":\"CDSView\"},{\"attributes\":{\"source\":{\"id\":\"2ce6739e-0159-4458-ac27-4e5445868591\",\"type\":\"ColumnDataSource\"}},\"id\":\"3f80198e-33e3-4ba5-b9cf-bb88c24b2ee3\",\"type\":\"CDSView\"},{\"attributes\":{},\"id\":\"784e5190-5d96-4f72-b56f-d64c926ae74e\",\"type\":\"PanTool\"},{\"attributes\":{\"line_alpha\":{\"value\":0.1},\"line_color\":{\"value\":\"#1f77b4\"},\"x\":{\"field\":\"x\"},\"y\":{\"field\":\"y\"}},\"id\":\"5164a169-1b7d-4eea-83d4-48648e7f2a46\",\"type\":\"Line\"},{\"attributes\":{\"callback\":null,\"column_names\":[\"y\",\"x\"],\"data\":{\"x\":[0,0.8660254037844384],\"y\":[0,-0.5000000000000004]}},\"id\":\"5cb0aa6f-0582-4907-96ee-00a2bffca1d3\",\"type\":\"ColumnDataSource\"},{\"attributes\":{\"source\":{\"id\":\"81286fd9-79ff-4064-a2ed-ecdf7ecdc5f1\",\"type\":\"ColumnDataSource\"}},\"id\":\"5b38dd5b-de59-4139-8d02-4a4699539f20\",\"type\":\"CDSView\"},{\"attributes\":{\"source\":{\"id\":\"7b951312-ff5f-4a7f-9506-2b4fe80f0e6b\",\"type\":\"ColumnDataSource\"}},\"id\":\"c76b2987-dc49-4f80-99aa-efac55a10aec\",\"type\":\"CDSView\"},{\"attributes\":{\"source\":{\"id\":\"80a27f86-ad42-4a2b-9799-48a72ec7e319\",\"type\":\"ColumnDataSource\"}},\"id\":\"1ada4507-e37f-4cc8-a87e-7533059d33c7\",\"type\":\"CDSView\"},{\"attributes\":{\"data_source\":{\"id\":\"36e4d397-8585-49c2-81a3-a7db0ccddb53\",\"type\":\"ColumnDataSource\"},\"glyph\":{\"id\":\"b842d130-ef9b-4ea6-a4ea-9a18db216dea\",\"type\":\"Line\"},\"hover_glyph\":null,\"muted_glyph\":null,\"nonselection_glyph\":{\"id\":\"a7981855-0534-4550-95ac-09063f2ca5d6\",\"type\":\"Line\"},\"selection_glyph\":null,\"view\":{\"id\":\"a55b6155-b81e-4e81-83ce-d1ccd29e624d\",\"type\":\"CDSView\"}},\"id\":\"b9df8293-5870-4d4f-9e53-a8de4818e6b8\",\"type\":\"GlyphRenderer\"},{\"attributes\":{\"callback\":null},\"id\":\"9a97c7b3-48aa-489c-b3ac-ba5bd6b84c5f\",\"type\":\"DataRange1d\"},{\"attributes\":{},\"id\":\"02cf5b34-8faa-4f42-8540-3f646b2702fe\",\"type\":\"BasicTickFormatter\"},{\"attributes\":{},\"id\":\"b8745c78-2973-47af-803a-7f0bdaa10a6f\",\"type\":\"LinearScale\"},{\"attributes\":{\"source\":{\"id\":\"fedf81d0-7e56-47ee-982c-e4aa26e9ace9\",\"type\":\"ColumnDataSource\"}},\"id\":\"37f4d90f-30a9-4750-b6c0-a63b7262e374\",\"type\":\"CDSView\"},{\"attributes\":{\"line_alpha\":{\"value\":0.1},\"line_color\":{\"value\":\"#1f77b4\"},\"x\":{\"field\":\"x\"},\"y\":{\"field\":\"y\"}},\"id\":\"b17f248c-41c1-4fbc-ab93-b478f0066283\",\"type\":\"Line\"},{\"attributes\":{\"data_source\":{\"id\":\"f829b8f9-4ab8-46b7-ac9b-15492bc02e9c\",\"type\":\"ColumnDataSource\"},\"glyph\":{\"id\":\"58b8900c-b6b4-43d3-9d54-489c0669500c\",\"type\":\"Line\"},\"hover_glyph\":null,\"muted_glyph\":null,\"nonselection_glyph\":{\"id\":\"be44620c-287b-4ec3-9636-fb763eaedea5\",\"type\":\"Line\"},\"selection_glyph\":null,\"view\":{\"id\":\"93b41e98-e3b2-41dd-b778-26b715bb3557\",\"type\":\"CDSView\"}},\"id\":\"9a4c92fc-e8c0-43f3-a27a-fc14c5498dca\",\"type\":\"GlyphRenderer\"},{\"attributes\":{\"plot\":{\"id\":\"20533027-b540-4e47-9683-d2bb42f93f5a\",\"subtype\":\"Figure\",\"type\":\"Plot\"},\"ticker\":{\"id\":\"517ede57-e593-4a56-882f-918fec28b547\",\"type\":\"BasicTicker\"}},\"id\":\"25e27921-a0c8-4eb0-bbfa-1c35b4d7f813\",\"type\":\"Grid\"},{\"attributes\":{\"callback\":null,\"column_names\":[\"y\",\"x\"],\"data\":{\"x\":[0,6.123233995736766e-17],\"y\":[0,1.0]}},\"id\":\"bea8e4b9-7c70-4ba2-80ed-339906bda91b\",\"type\":\"ColumnDataSource\"},{\"attributes\":{\"line_color\":{\"value\":\"#1f77b4\"},\"x\":{\"field\":\"x\"},\"y\":{\"field\":\"y\"}},\"id\":\"398edc9e-f214-4857-864c-426a850a35ef\",\"type\":\"Line\"},{\"attributes\":{\"line_color\":{\"value\":\"#1f77b4\"},\"x\":{\"field\":\"x\"},\"y\":{\"field\":\"y\"}},\"id\":\"11690161-3c86-4de6-82cd-060167ff737e\",\"type\":\"Line\"},{\"attributes\":{\"source\":{\"id\":\"bea8e4b9-7c70-4ba2-80ed-339906bda91b\",\"type\":\"ColumnDataSource\"}},\"id\":\"76383cc6-a383-4a0d-b0db-9dd1f559edd9\",\"type\":\"CDSView\"},{\"attributes\":{\"data_source\":{\"id\":\"3eea2aea-0123-4dd8-872a-08ceaca84cd0\",\"type\":\"ColumnDataSource\"},\"glyph\":{\"id\":\"11690161-3c86-4de6-82cd-060167ff737e\",\"type\":\"Line\"},\"hover_glyph\":null,\"muted_glyph\":null,\"nonselection_glyph\":{\"id\":\"6f23e19f-a04f-4464-af10-08c33697514b\",\"type\":\"Line\"},\"selection_glyph\":null,\"view\":{\"id\":\"551290cb-3c06-4b5f-aa84-a942b465946b\",\"type\":\"CDSView\"}},\"id\":\"3a8bf557-d8ee-4ff0-acc1-a42e52fa5ad4\",\"type\":\"GlyphRenderer\"},{\"attributes\":{\"callback\":null,\"column_names\":[\"y\",\"x\"],\"data\":{\"x\":[0,0.7071067811865475],\"y\":[0,-0.7071067811865477]}},\"id\":\"2f2b65cc-665d-4866-abac-db9ca9ad2335\",\"type\":\"ColumnDataSource\"},{\"attributes\":{},\"id\":\"8e46ef89-6b54-432c-bfa6-9b52f67dd2ca\",\"type\":\"LinearScale\"},{\"attributes\":{\"data_source\":{\"id\":\"7b951312-ff5f-4a7f-9506-2b4fe80f0e6b\",\"type\":\"ColumnDataSource\"},\"glyph\":{\"id\":\"e8ad05fc-a021-4309-93e0-5b83fdf408b8\",\"type\":\"Line\"},\"hover_glyph\":null,\"muted_glyph\":null,\"nonselection_glyph\":{\"id\":\"886bacd6-c875-4796-9bb6-89ca1e3674e9\",\"type\":\"Line\"},\"selection_glyph\":null,\"view\":{\"id\":\"c76b2987-dc49-4f80-99aa-efac55a10aec\",\"type\":\"CDSView\"}},\"id\":\"c414d910-d607-40a4-a087-1b496e31e9ba\",\"type\":\"GlyphRenderer\"},{\"attributes\":{\"callback\":null,\"column_names\":[\"y\",\"x\"],\"data\":{\"x\":[0,0.7071067811865476],\"y\":[0,0.7071067811865475]}},\"id\":\"2ce6739e-0159-4458-ac27-4e5445868591\",\"type\":\"ColumnDataSource\"},{\"attributes\":{\"line_color\":{\"value\":\"#1f77b4\"},\"x\":{\"field\":\"x\"},\"y\":{\"field\":\"y\"}},\"id\":\"6b31d1d9-b98c-44f3-8b37-c742eadc653c\",\"type\":\"Line\"}],\"root_ids\":[\"20533027-b540-4e47-9683-d2bb42f93f5a\"]},\"title\":\"Bokeh Application\",\"version\":\"0.12.10\"}};\n",
       "    var render_items = [{\"docid\":\"7b943171-b84e-4442-9299-0dfea45b5bc7\",\"elementid\":\"5de3f74f-d8a6-4d67-971f-401cdca919b0\",\"modelid\":\"20533027-b540-4e47-9683-d2bb42f93f5a\"}];\n",
       "\n",
       "    root.Bokeh.embed.embed_items(docs_json, render_items);\n",
       "  }\n",
       "\n",
       "  if (root.Bokeh !== undefined) {\n",
       "    embed_document(root);\n",
       "  } else {\n",
       "    var attempts = 0;\n",
       "    var timer = setInterval(function(root) {\n",
       "      if (root.Bokeh !== undefined) {\n",
       "        embed_document(root);\n",
       "        clearInterval(timer);\n",
       "      }\n",
       "      attempts++;\n",
       "      if (attempts > 100) {\n",
       "        console.log(\"Bokeh: ERROR: Unable to embed document because BokehJS library is missing\")\n",
       "        clearInterval(timer);\n",
       "      }\n",
       "    }, 10, root)\n",
       "  }\n",
       "})(window);"
      ],
      "application/vnd.bokehjs_exec.v0+json": ""
     },
     "metadata": {
      "application/vnd.bokehjs_exec.v0+json": {
       "id": "20533027-b540-4e47-9683-d2bb42f93f5a"
      }
     },
     "output_type": "display_data"
    }
   ],
   "source": [
    "show(p)"
   ]
  },
  {
   "cell_type": "code",
   "execution_count": 10,
   "metadata": {
    "collapsed": true
   },
   "outputs": [],
   "source": [
    "import bokeh"
   ]
  },
  {
   "cell_type": "code",
   "execution_count": 11,
   "metadata": {},
   "outputs": [
    {
     "data": {
      "text/plain": [
       "u'0.12.7'"
      ]
     },
     "execution_count": 11,
     "metadata": {},
     "output_type": "execute_result"
    }
   ],
   "source": [
    "bokeh.__version__"
   ]
  },
  {
   "cell_type": "code",
   "execution_count": 46,
   "metadata": {},
   "outputs": [
    {
     "data": {
      "text/html": [
       "\n",
       "<div class=\"bk-root\">\n",
       "    <div class=\"bk-plotdiv\" id=\"dba7c216-ec39-4fcf-b8e8-f9858fa4d7f0\"></div>\n",
       "</div>"
      ]
     },
     "metadata": {},
     "output_type": "display_data"
    },
    {
     "data": {
      "application/javascript": [
       "(function(root) {\n",
       "  function embed_document(root) {\n",
       "    var docs_json = {\"2fe1b565-4f79-4675-97be-e90fdd54fb80\":{\"roots\":{\"references\":[{\"attributes\":{},\"id\":\"c6b7ffc6-2d91-4b12-91e7-d3a2962e78e7\",\"type\":\"LinearScale\"},{\"attributes\":{},\"id\":\"f3631e10-90d1-4a22-ac6f-f9da343116ac\",\"type\":\"BasicTickFormatter\"},{\"attributes\":{\"line_alpha\":{\"value\":0.1},\"line_color\":{\"value\":\"#1f77b4\"},\"x\":{\"field\":\"x\"},\"y\":{\"field\":\"y\"}},\"id\":\"97868f51-0415-428b-8296-d52c4c591873\",\"type\":\"Line\"},{\"attributes\":{\"callback\":null,\"column_names\":[\"y\",\"x\"],\"data\":{\"x\":[0,0],\"y\":[0,1]}},\"id\":\"a9b87ef8-3d4c-4daf-827c-c45c82215ffc\",\"type\":\"ColumnDataSource\"},{\"attributes\":{\"line_color\":{\"value\":\"#1f77b4\"},\"x\":{\"field\":\"x\"},\"y\":{\"field\":\"y\"}},\"id\":\"ecc9ec15-97e2-4195-ba4b-5fb5c4456c10\",\"type\":\"Line\"},{\"attributes\":{\"fill_alpha\":{\"value\":0},\"fill_color\":{\"value\":\"#1f77b4\"},\"line_color\":{\"value\":\"#1f77b4\"},\"radius\":{\"units\":\"data\",\"value\":1.0},\"x\":{\"value\":0},\"y\":{\"value\":0}},\"id\":\"f88547af-a2e7-4d7e-845c-5c0c721478b4\",\"type\":\"Circle\"},{\"attributes\":{\"active_drag\":\"auto\",\"active_inspect\":\"auto\",\"active_scroll\":\"auto\",\"active_tap\":\"auto\",\"tools\":[{\"id\":\"d9bafd62-988f-4ed4-b7ec-026c06880d75\",\"type\":\"SaveTool\"}]},\"id\":\"dfe2372c-21bf-443a-aa71-9fcd03d2b1ab\",\"type\":\"Toolbar\"},{\"attributes\":{\"formatter\":{\"id\":\"f3631e10-90d1-4a22-ac6f-f9da343116ac\",\"type\":\"BasicTickFormatter\"},\"plot\":{\"id\":\"546b1e12-0799-46dd-ae0c-206ceb8fad8c\",\"subtype\":\"Figure\",\"type\":\"Plot\"},\"ticker\":{\"id\":\"a747c5e8-4207-4b35-a6ae-010264bf4992\",\"type\":\"BasicTicker\"}},\"id\":\"2a20b7b6-2248-4e3a-8553-be92d2fb9bf3\",\"type\":\"LinearAxis\"},{\"attributes\":{\"data_source\":{\"id\":\"072c1a1d-ef17-405f-ba08-8d70877e245f\",\"type\":\"ColumnDataSource\"},\"glyph\":{\"id\":\"13caf68a-9a50-49f0-9183-f29901a93384\",\"type\":\"Line\"},\"hover_glyph\":null,\"muted_glyph\":null,\"nonselection_glyph\":{\"id\":\"97868f51-0415-428b-8296-d52c4c591873\",\"type\":\"Line\"},\"selection_glyph\":null,\"view\":{\"id\":\"e5312dcb-4e93-4c43-bb65-21ad3792fae3\",\"type\":\"CDSView\"}},\"id\":\"6bf2928b-8055-48bd-827d-d783448db861\",\"type\":\"GlyphRenderer\"},{\"attributes\":{\"fill_alpha\":{\"value\":0.1},\"fill_color\":{\"value\":\"#1f77b4\"},\"line_alpha\":{\"value\":0.1},\"line_color\":{\"value\":\"#1f77b4\"},\"radius\":{\"units\":\"data\",\"value\":1.0},\"x\":{\"value\":0},\"y\":{\"value\":0}},\"id\":\"3d4372a4-ed3b-4b17-bd51-659095cae7ff\",\"type\":\"Circle\"},{\"attributes\":{\"line_color\":{\"value\":\"#1f77b4\"},\"x\":{\"field\":\"x\"},\"y\":{\"field\":\"y\"}},\"id\":\"13caf68a-9a50-49f0-9183-f29901a93384\",\"type\":\"Line\"},{\"attributes\":{\"source\":{\"id\":\"072c1a1d-ef17-405f-ba08-8d70877e245f\",\"type\":\"ColumnDataSource\"}},\"id\":\"e5312dcb-4e93-4c43-bb65-21ad3792fae3\",\"type\":\"CDSView\"},{\"attributes\":{\"formatter\":{\"id\":\"38f6ca2a-a9b7-4267-8303-2c56f8f11535\",\"type\":\"BasicTickFormatter\"},\"plot\":{\"id\":\"546b1e12-0799-46dd-ae0c-206ceb8fad8c\",\"subtype\":\"Figure\",\"type\":\"Plot\"},\"ticker\":{\"id\":\"54912729-d32b-4bb8-9252-ebdeb9752129\",\"type\":\"BasicTicker\"}},\"id\":\"700c55a0-cd5c-4871-aa06-44f2488ebeb3\",\"type\":\"LinearAxis\"},{\"attributes\":{\"source\":{\"id\":\"5bdca8f8-c638-4946-9f6a-7f012c49a8db\",\"type\":\"ColumnDataSource\"}},\"id\":\"534ea218-be9e-46ab-8483-dc50f4e9d6d7\",\"type\":\"CDSView\"},{\"attributes\":{\"source\":{\"id\":\"a9b87ef8-3d4c-4daf-827c-c45c82215ffc\",\"type\":\"ColumnDataSource\"}},\"id\":\"6e975b46-d67c-4802-92a1-bfcda79c690e\",\"type\":\"CDSView\"},{\"attributes\":{},\"id\":\"54912729-d32b-4bb8-9252-ebdeb9752129\",\"type\":\"BasicTicker\"},{\"attributes\":{\"line_alpha\":{\"value\":0.1},\"line_color\":{\"value\":\"#1f77b4\"},\"x\":{\"field\":\"x\"},\"y\":{\"field\":\"y\"}},\"id\":\"edc02fac-19f8-4ffb-ac2a-83b5f9468d0c\",\"type\":\"Line\"},{\"attributes\":{\"callback\":null},\"id\":\"9d217546-d738-43cf-9416-d168d3a465fa\",\"type\":\"DataRange1d\"},{\"attributes\":{\"line_alpha\":{\"value\":0.1},\"line_color\":{\"value\":\"#1f77b4\"},\"x\":{\"field\":\"x\"},\"y\":{\"field\":\"y\"}},\"id\":\"c603e9c1-99e6-48b3-aae5-220fc2ec72f6\",\"type\":\"Line\"},{\"attributes\":{\"data_source\":{\"id\":\"5bdca8f8-c638-4946-9f6a-7f012c49a8db\",\"type\":\"ColumnDataSource\"},\"glyph\":{\"id\":\"512e39cc-7fc4-489b-a1aa-7b5390cf4eae\",\"type\":\"Line\"},\"hover_glyph\":null,\"muted_glyph\":null,\"nonselection_glyph\":{\"id\":\"edc02fac-19f8-4ffb-ac2a-83b5f9468d0c\",\"type\":\"Line\"},\"selection_glyph\":null,\"view\":{\"id\":\"534ea218-be9e-46ab-8483-dc50f4e9d6d7\",\"type\":\"CDSView\"}},\"id\":\"af5a071c-f579-4980-b302-4bd2a4f4d4b8\",\"type\":\"GlyphRenderer\"},{\"attributes\":{\"callback\":null},\"id\":\"e12edd65-a05d-4d4d-b9a6-f4a627112b17\",\"type\":\"DataRange1d\"},{\"attributes\":{},\"id\":\"38f6ca2a-a9b7-4267-8303-2c56f8f11535\",\"type\":\"BasicTickFormatter\"},{\"attributes\":{},\"id\":\"d9bafd62-988f-4ed4-b7ec-026c06880d75\",\"type\":\"SaveTool\"},{\"attributes\":{\"callback\":null,\"column_names\":[\"y\",\"x\"],\"data\":{\"x\":[0,-1],\"y\":[0,0]}},\"id\":\"072c1a1d-ef17-405f-ba08-8d70877e245f\",\"type\":\"ColumnDataSource\"},{\"attributes\":{\"below\":[{\"id\":\"2a20b7b6-2248-4e3a-8553-be92d2fb9bf3\",\"type\":\"LinearAxis\"}],\"left\":[{\"id\":\"700c55a0-cd5c-4871-aa06-44f2488ebeb3\",\"type\":\"LinearAxis\"}],\"match_aspect\":true,\"plot_height\":400,\"plot_width\":400,\"renderers\":[{\"id\":\"2a20b7b6-2248-4e3a-8553-be92d2fb9bf3\",\"type\":\"LinearAxis\"},{\"id\":\"c578fe88-e712-49a3-a84b-f3e7582e535f\",\"type\":\"Grid\"},{\"id\":\"700c55a0-cd5c-4871-aa06-44f2488ebeb3\",\"type\":\"LinearAxis\"},{\"id\":\"c6fffba4-8351-4462-8f64-6d0d9ee1033c\",\"type\":\"Grid\"},{\"id\":\"72cf5d45-e0f4-4fdc-af47-3b9b79ac6c7f\",\"type\":\"GlyphRenderer\"},{\"id\":\"af5a071c-f579-4980-b302-4bd2a4f4d4b8\",\"type\":\"GlyphRenderer\"},{\"id\":\"6bf2928b-8055-48bd-827d-d783448db861\",\"type\":\"GlyphRenderer\"},{\"id\":\"232198ac-3fc5-405c-8416-798bd721bbd6\",\"type\":\"GlyphRenderer\"},{\"id\":\"f46acc4d-2539-487c-a268-babd813aaa46\",\"type\":\"GlyphRenderer\"}],\"title\":{\"id\":\"50cf452e-5a23-4336-bad9-8c08d1e66e92\",\"type\":\"Title\"},\"toolbar\":{\"id\":\"dfe2372c-21bf-443a-aa71-9fcd03d2b1ab\",\"type\":\"Toolbar\"},\"x_range\":{\"id\":\"9d217546-d738-43cf-9416-d168d3a465fa\",\"type\":\"DataRange1d\"},\"x_scale\":{\"id\":\"c6b7ffc6-2d91-4b12-91e7-d3a2962e78e7\",\"type\":\"LinearScale\"},\"y_range\":{\"id\":\"e12edd65-a05d-4d4d-b9a6-f4a627112b17\",\"type\":\"DataRange1d\"},\"y_scale\":{\"id\":\"05a93b56-502b-4e07-af08-f0a8213b0ba6\",\"type\":\"LinearScale\"}},\"id\":\"546b1e12-0799-46dd-ae0c-206ceb8fad8c\",\"subtype\":\"Figure\",\"type\":\"Plot\"},{\"attributes\":{\"plot\":{\"id\":\"546b1e12-0799-46dd-ae0c-206ceb8fad8c\",\"subtype\":\"Figure\",\"type\":\"Plot\"},\"ticker\":{\"id\":\"a747c5e8-4207-4b35-a6ae-010264bf4992\",\"type\":\"BasicTicker\"}},\"id\":\"c578fe88-e712-49a3-a84b-f3e7582e535f\",\"type\":\"Grid\"},{\"attributes\":{\"line_color\":{\"value\":\"#1f77b4\"},\"x\":{\"field\":\"x\"},\"y\":{\"field\":\"y\"}},\"id\":\"512e39cc-7fc4-489b-a1aa-7b5390cf4eae\",\"type\":\"Line\"},{\"attributes\":{\"data_source\":{\"id\":\"94faf63e-e18a-466f-992f-364b15c27445\",\"type\":\"ColumnDataSource\"},\"glyph\":{\"id\":\"f88547af-a2e7-4d7e-845c-5c0c721478b4\",\"type\":\"Circle\"},\"hover_glyph\":null,\"muted_glyph\":null,\"nonselection_glyph\":{\"id\":\"3d4372a4-ed3b-4b17-bd51-659095cae7ff\",\"type\":\"Circle\"},\"selection_glyph\":null,\"view\":{\"id\":\"cc21d988-29d3-4a83-88f9-8d6e00ee911c\",\"type\":\"CDSView\"}},\"id\":\"72cf5d45-e0f4-4fdc-af47-3b9b79ac6c7f\",\"type\":\"GlyphRenderer\"},{\"attributes\":{\"dimension\":1,\"plot\":{\"id\":\"546b1e12-0799-46dd-ae0c-206ceb8fad8c\",\"subtype\":\"Figure\",\"type\":\"Plot\"},\"ticker\":{\"id\":\"54912729-d32b-4bb8-9252-ebdeb9752129\",\"type\":\"BasicTicker\"}},\"id\":\"c6fffba4-8351-4462-8f64-6d0d9ee1033c\",\"type\":\"Grid\"},{\"attributes\":{\"line_alpha\":{\"value\":0.1},\"line_color\":{\"value\":\"#1f77b4\"},\"x\":{\"field\":\"x\"},\"y\":{\"field\":\"y\"}},\"id\":\"e0692d21-503f-40fc-a9db-24b45fc5e3c1\",\"type\":\"Line\"},{\"attributes\":{\"data_source\":{\"id\":\"a9b87ef8-3d4c-4daf-827c-c45c82215ffc\",\"type\":\"ColumnDataSource\"},\"glyph\":{\"id\":\"ecc9ec15-97e2-4195-ba4b-5fb5c4456c10\",\"type\":\"Line\"},\"hover_glyph\":null,\"muted_glyph\":null,\"nonselection_glyph\":{\"id\":\"e0692d21-503f-40fc-a9db-24b45fc5e3c1\",\"type\":\"Line\"},\"selection_glyph\":null,\"view\":{\"id\":\"6e975b46-d67c-4802-92a1-bfcda79c690e\",\"type\":\"CDSView\"}},\"id\":\"232198ac-3fc5-405c-8416-798bd721bbd6\",\"type\":\"GlyphRenderer\"},{\"attributes\":{\"source\":{\"id\":\"c3d6080d-2400-4e88-9bf9-9ebf1270efff\",\"type\":\"ColumnDataSource\"}},\"id\":\"1414d99f-09db-4917-823e-89b3d917ae7d\",\"type\":\"CDSView\"},{\"attributes\":{\"plot\":null,\"text\":\"\"},\"id\":\"50cf452e-5a23-4336-bad9-8c08d1e66e92\",\"type\":\"Title\"},{\"attributes\":{\"callback\":null,\"column_names\":[\"y\",\"x\"],\"data\":{\"x\":[0,1],\"y\":[0,0]}},\"id\":\"5bdca8f8-c638-4946-9f6a-7f012c49a8db\",\"type\":\"ColumnDataSource\"},{\"attributes\":{\"source\":{\"id\":\"94faf63e-e18a-466f-992f-364b15c27445\",\"type\":\"ColumnDataSource\"}},\"id\":\"cc21d988-29d3-4a83-88f9-8d6e00ee911c\",\"type\":\"CDSView\"},{\"attributes\":{\"callback\":null,\"column_names\":[\"y\",\"x\"],\"data\":{\"x\":[0,0],\"y\":[0,-1]}},\"id\":\"c3d6080d-2400-4e88-9bf9-9ebf1270efff\",\"type\":\"ColumnDataSource\"},{\"attributes\":{\"data_source\":{\"id\":\"c3d6080d-2400-4e88-9bf9-9ebf1270efff\",\"type\":\"ColumnDataSource\"},\"glyph\":{\"id\":\"939e2032-571d-4bf6-9c4c-ba43a0a598fa\",\"type\":\"Line\"},\"hover_glyph\":null,\"muted_glyph\":null,\"nonselection_glyph\":{\"id\":\"c603e9c1-99e6-48b3-aae5-220fc2ec72f6\",\"type\":\"Line\"},\"selection_glyph\":null,\"view\":{\"id\":\"1414d99f-09db-4917-823e-89b3d917ae7d\",\"type\":\"CDSView\"}},\"id\":\"f46acc4d-2539-487c-a268-babd813aaa46\",\"type\":\"GlyphRenderer\"},{\"attributes\":{},\"id\":\"05a93b56-502b-4e07-af08-f0a8213b0ba6\",\"type\":\"LinearScale\"},{\"attributes\":{\"callback\":null,\"data\":{}},\"id\":\"94faf63e-e18a-466f-992f-364b15c27445\",\"type\":\"ColumnDataSource\"},{\"attributes\":{\"line_color\":{\"value\":\"#1f77b4\"},\"x\":{\"field\":\"x\"},\"y\":{\"field\":\"y\"}},\"id\":\"939e2032-571d-4bf6-9c4c-ba43a0a598fa\",\"type\":\"Line\"},{\"attributes\":{},\"id\":\"a747c5e8-4207-4b35-a6ae-010264bf4992\",\"type\":\"BasicTicker\"}],\"root_ids\":[\"546b1e12-0799-46dd-ae0c-206ceb8fad8c\"]},\"title\":\"Bokeh Application\",\"version\":\"0.12.10\"}};\n",
       "    var render_items = [{\"docid\":\"2fe1b565-4f79-4675-97be-e90fdd54fb80\",\"elementid\":\"dba7c216-ec39-4fcf-b8e8-f9858fa4d7f0\",\"modelid\":\"546b1e12-0799-46dd-ae0c-206ceb8fad8c\"}];\n",
       "\n",
       "    root.Bokeh.embed.embed_items(docs_json, render_items);\n",
       "  }\n",
       "\n",
       "  if (root.Bokeh !== undefined) {\n",
       "    embed_document(root);\n",
       "  } else {\n",
       "    var attempts = 0;\n",
       "    var timer = setInterval(function(root) {\n",
       "      if (root.Bokeh !== undefined) {\n",
       "        embed_document(root);\n",
       "        clearInterval(timer);\n",
       "      }\n",
       "      attempts++;\n",
       "      if (attempts > 100) {\n",
       "        console.log(\"Bokeh: ERROR: Unable to embed document because BokehJS library is missing\")\n",
       "        clearInterval(timer);\n",
       "      }\n",
       "    }, 10, root)\n",
       "  }\n",
       "})(window);"
      ],
      "application/vnd.bokehjs_exec.v0+json": ""
     },
     "metadata": {
      "application/vnd.bokehjs_exec.v0+json": {
       "id": "546b1e12-0799-46dd-ae0c-206ceb8fad8c"
      }
     },
     "output_type": "display_data"
    }
   ],
   "source": [
    "    from bokeh.plotting import figure, output_file, show\n",
    "\n",
    "    output_file(\"circle_v1.html\")\n",
    "\n",
    "    p = figure(plot_width=400, plot_height=400, match_aspect=True, tools='save')\n",
    "    p.circle(0, 0, radius=1.0, fill_alpha=0)\n",
    "    p.line((0, 1), (0, 0))\n",
    "    p.line((0, -1), (0, 0))\n",
    "    p.line((0, 0), (0, 1))\n",
    "    p.line((0, 0), (0, -1))\n",
    "    #p.rect(0, 0, 2, 2, fill_alpha=0)\n",
    "\n",
    "    show(p)\n",
    "    "
   ]
  },
  {
   "cell_type": "code",
   "execution_count": 29,
   "metadata": {},
   "outputs": [
    {
     "name": "stdout",
     "output_type": "stream",
     "text": [
      "Python:  2.7.13 |Continuum Analytics, Inc.| (default, Dec 20 2016, 23:05:08) \n",
      "[GCC 4.2.1 Compatible Apple LLVM 6.0 (clang-600.0.57)]\n",
      "IPython:  5.3.0\n",
      "Bokeh:  0.12.10\n"
     ]
    }
   ],
   "source": [
    "import sys, IPython, bokeh\n",
    "print \"Python: \", sys.version\n",
    "print \"IPython: \", IPython.__version__\n",
    "print \"Bokeh: \", bokeh.__version__"
   ]
  },
  {
   "cell_type": "code",
   "execution_count": 50,
   "metadata": {},
   "outputs": [],
   "source": [
    "%reload_ext version_information"
   ]
  },
  {
   "cell_type": "code",
   "execution_count": 51,
   "metadata": {},
   "outputs": [
    {
     "data": {
      "application/json": {
       "Software versions": [
        {
         "module": "Python",
         "version": "2.7.13 64bit [GCC 4.2.1 Compatible Apple LLVM 6.0 (clang-600.0.57)]"
        },
        {
         "module": "IPython",
         "version": "5.3.0"
        },
        {
         "module": "Bokeh",
         "version": "0.12.10"
        },
        {
         "module": "OS",
         "version": "Darwin 17.2.0 x86_64 i386 64bit"
        }
       ]
      },
      "text/html": [
       "<table><tr><th>Software</th><th>Version</th></tr><tr><td>Python</td><td>2.7.13 64bit [GCC 4.2.1 Compatible Apple LLVM 6.0 (clang-600.0.57)]</td></tr><tr><td>IPython</td><td>5.3.0</td></tr><tr><td>Bokeh</td><td>0.12.10</td></tr><tr><td>OS</td><td>Darwin 17.2.0 x86_64 i386 64bit</td></tr><tr><td colspan='2'>Wed Nov 15 13:14:25 2017 CST</td></tr></table>"
      ],
      "text/latex": [
       "\\begin{tabular}{|l|l|}\\hline\n",
       "{\\bf Software} & {\\bf Version} \\\\ \\hline\\hline\n",
       "Python & 2.7.13 64bit [GCC 4.2.1 Compatible Apple LLVM 6.0 (clang-600.0.57)] \\\\ \\hline\n",
       "IPython & 5.3.0 \\\\ \\hline\n",
       "Bokeh & 0.12.10 \\\\ \\hline\n",
       "OS & Darwin 17.2.0 x86\\_64 i386 64bit \\\\ \\hline\n",
       "\\hline \\multicolumn{2}{|l|}{Wed Nov 15 13:14:25 2017 CST} \\\\ \\hline\n",
       "\\end{tabular}\n"
      ],
      "text/plain": [
       "Software versions\n",
       "Python 2.7.13 64bit [GCC 4.2.1 Compatible Apple LLVM 6.0 (clang-600.0.57)]\n",
       "IPython 5.3.0\n",
       "Bokeh 0.12.10\n",
       "OS Darwin 17.2.0 x86_64 i386 64bit\n",
       "Wed Nov 15 13:14:25 2017 CST"
      ]
     },
     "execution_count": 51,
     "metadata": {},
     "output_type": "execute_result"
    }
   ],
   "source": [
    "%version_information"
   ]
  },
  {
   "cell_type": "code",
   "execution_count": 34,
   "metadata": {},
   "outputs": [
    {
     "data": {
      "text/html": [
       "\n",
       "<div class=\"bk-root\">\n",
       "    <div class=\"bk-plotdiv\" id=\"4bcb865a-e518-422b-a1c4-bcfed863bb9e\"></div>\n",
       "</div>"
      ]
     },
     "metadata": {},
     "output_type": "display_data"
    },
    {
     "data": {
      "application/javascript": [
       "(function(root) {\n",
       "  function embed_document(root) {\n",
       "    var docs_json = {\"64d2ff18-7eed-44c1-a386-97d7d328a7f3\":{\"roots\":{\"references\":[{\"attributes\":{},\"id\":\"63adbb8c-a468-4d33-b91e-a4a9d6b7c06d\",\"type\":\"BasicTickFormatter\"},{\"attributes\":{},\"id\":\"a96fe3fe-aeb4-4494-850a-2e8378eb1730\",\"type\":\"BasicTicker\"},{\"attributes\":{\"data_source\":{\"id\":\"5b68ccfb-e3c4-4f45-a9df-104b9513c381\",\"type\":\"ColumnDataSource\"},\"glyph\":{\"id\":\"e3ea95ff-e7fd-4cb7-9d27-1f8f5a6bf7ea\",\"type\":\"Circle\"},\"hover_glyph\":null,\"muted_glyph\":null,\"nonselection_glyph\":{\"id\":\"c51fb8ca-0f3b-4640-a0df-08952f6711d9\",\"type\":\"Circle\"},\"selection_glyph\":null,\"view\":{\"id\":\"6e77721e-d3f6-4f09-b4d9-7af9df0168eb\",\"type\":\"CDSView\"}},\"id\":\"8d67bd71-f685-48e8-92c5-1b371c91ddc8\",\"type\":\"GlyphRenderer\"},{\"attributes\":{\"active_drag\":\"auto\",\"active_inspect\":\"auto\",\"active_scroll\":\"auto\",\"active_tap\":\"auto\",\"tools\":[{\"id\":\"140c43b0-0c26-4c1d-b449-e841f90d3af4\",\"type\":\"PanTool\"},{\"id\":\"3806698c-c2b9-4a75-aa9f-5e9cc9c242c0\",\"type\":\"WheelZoomTool\"},{\"id\":\"b6c5e637-cc5d-4bdc-b342-1524008739ca\",\"type\":\"BoxZoomTool\"},{\"id\":\"e3da3f46-45a3-43f8-9721-322c1ae04d24\",\"type\":\"SaveTool\"},{\"id\":\"f4b97668-d1ea-47f3-999d-92c9b831ab91\",\"type\":\"ResetTool\"},{\"id\":\"0976e004-af79-42ab-a946-f682e9b479c8\",\"type\":\"HelpTool\"}]},\"id\":\"0c53889f-c5d2-4798-a079-3247326daf3f\",\"type\":\"Toolbar\"},{\"attributes\":{},\"id\":\"06f6395c-e90e-4a07-aaf0-c41c84fcd6d4\",\"type\":\"WheelZoomTool\"},{\"attributes\":{},\"id\":\"b1f6bc02-aa48-4f2b-a62f-c9d22b2ff7ce\",\"type\":\"BasicTicker\"},{\"attributes\":{\"callback\":null},\"id\":\"e0a2edc7-fb2a-4f4b-a1b1-aa5d7bbc2589\",\"type\":\"DataRange1d\"},{\"attributes\":{},\"id\":\"38b1b566-a008-4dd0-abc0-73e408613782\",\"type\":\"SaveTool\"},{\"attributes\":{},\"id\":\"5c61fc08-e86c-4667-a4e5-8fa86de2fe30\",\"type\":\"BasicTicker\"},{\"attributes\":{\"below\":[{\"id\":\"33dedad6-6ec2-4d55-9f38-6b4751e9d036\",\"type\":\"LinearAxis\"}],\"left\":[{\"id\":\"f2d828a1-db49-4ade-84a4-7362d6887fb4\",\"type\":\"LinearAxis\"}],\"match_aspect\":true,\"renderers\":[{\"id\":\"33dedad6-6ec2-4d55-9f38-6b4751e9d036\",\"type\":\"LinearAxis\"},{\"id\":\"8d12c43d-d522-430d-9450-d44c0b391cba\",\"type\":\"Grid\"},{\"id\":\"f2d828a1-db49-4ade-84a4-7362d6887fb4\",\"type\":\"LinearAxis\"},{\"id\":\"9737d791-f251-452f-952d-56063a71ec40\",\"type\":\"Grid\"},{\"id\":\"93532469-d0a1-493f-af3f-edb5c252298b\",\"type\":\"BoxAnnotation\"},{\"id\":\"8d67bd71-f685-48e8-92c5-1b371c91ddc8\",\"type\":\"GlyphRenderer\"}],\"title\":{\"id\":\"83ee5ca6-cb80-47af-a130-b8feb43c7661\",\"type\":\"Title\"},\"toolbar\":{\"id\":\"2b7ece21-9882-44d0-8bb7-18fbc03d054d\",\"type\":\"Toolbar\"},\"x_range\":{\"id\":\"f4e72bf6-4247-40fe-a5bd-46cad6a2bd7b\",\"type\":\"DataRange1d\"},\"x_scale\":{\"id\":\"5d2bac6c-4b95-43aa-b5b6-0cf7768e4014\",\"type\":\"LinearScale\"},\"y_range\":{\"id\":\"884100b7-a0fd-4224-a337-38c1e46fbcb9\",\"type\":\"DataRange1d\"},\"y_scale\":{\"id\":\"dd0dd7d0-2179-40ee-a2e6-7c0d77d3ef59\",\"type\":\"LinearScale\"}},\"id\":\"b8ea222f-c229-4b3d-97e7-9b6cc133ac75\",\"subtype\":\"Figure\",\"type\":\"Plot\"},{\"attributes\":{},\"id\":\"97b7c9a4-cfc1-4776-ae0b-42fc0cda0ef7\",\"type\":\"WheelZoomTool\"},{\"attributes\":{\"aspect_scale\":0.25,\"below\":[{\"id\":\"c0d5e770-70db-45c1-b880-4aa7821ffdc5\",\"type\":\"LinearAxis\"}],\"left\":[{\"id\":\"ca821eb0-43b2-4269-96c2-e4f09c6d4362\",\"type\":\"LinearAxis\"}],\"match_aspect\":true,\"plot_height\":300,\"plot_width\":300,\"renderers\":[{\"id\":\"c0d5e770-70db-45c1-b880-4aa7821ffdc5\",\"type\":\"LinearAxis\"},{\"id\":\"9305cc7c-74a9-49c8-96f1-9637fc843df5\",\"type\":\"Grid\"},{\"id\":\"ca821eb0-43b2-4269-96c2-e4f09c6d4362\",\"type\":\"LinearAxis\"},{\"id\":\"57d0dfaf-a561-4140-a08b-b3a98b47c760\",\"type\":\"Grid\"},{\"id\":\"bbcd7c18-74cc-4e42-b45d-9e49f364a662\",\"type\":\"BoxAnnotation\"},{\"id\":\"9695ca4b-6b65-41c9-b319-ff5ea3d19b34\",\"type\":\"GlyphRenderer\"}],\"title\":{\"id\":\"e0d4ed06-902d-4f70-8cd8-1fe8ce7a1997\",\"type\":\"Title\"},\"toolbar\":{\"id\":\"edc0a2e7-74c3-43f1-ac27-9101d135bcb5\",\"type\":\"Toolbar\"},\"toolbar_location\":null,\"x_range\":{\"id\":\"03f9cc20-a964-4aca-aa29-f19759302b25\",\"type\":\"DataRange1d\"},\"x_scale\":{\"id\":\"799adecd-fae1-4167-a4ee-3572e008f19e\",\"type\":\"LinearScale\"},\"y_range\":{\"id\":\"23c52a3b-f84d-4ceb-b90b-6b75a3262721\",\"type\":\"DataRange1d\"},\"y_scale\":{\"id\":\"188e69de-1715-45e2-bcf8-9ed2496df488\",\"type\":\"LinearScale\"}},\"id\":\"2e96c987-9f76-44f0-b1ec-8bc93fc2b33f\",\"subtype\":\"Figure\",\"type\":\"Plot\"},{\"attributes\":{\"active_drag\":\"auto\",\"active_inspect\":\"auto\",\"active_scroll\":\"auto\",\"active_tap\":\"auto\",\"tools\":[{\"id\":\"816bfe13-db75-4156-9731-310e2320e4c7\",\"type\":\"PanTool\"},{\"id\":\"e08fc24d-49c0-473a-83d9-4f60b4c82c88\",\"type\":\"WheelZoomTool\"},{\"id\":\"883850d4-3444-41d6-84b8-1d9d8b0a9e2c\",\"type\":\"BoxZoomTool\"},{\"id\":\"372c1b4d-5d41-4ffa-8046-8a475095c272\",\"type\":\"SaveTool\"},{\"id\":\"5732ad7b-9bd8-4aeb-9f0e-9c0c840a0228\",\"type\":\"ResetTool\"},{\"id\":\"ea78ba4f-b0eb-47cd-9524-be52656f4789\",\"type\":\"HelpTool\"}]},\"id\":\"0141310f-d1a7-47d3-8dc0-e4c2343b557a\",\"type\":\"Toolbar\"},{\"attributes\":{},\"id\":\"2e8d1fb1-7b00-40a8-8efb-c928fc684716\",\"type\":\"BasicTickFormatter\"},{\"attributes\":{\"dimension\":1,\"plot\":{\"id\":\"df9cc2f5-6fde-41ad-a98f-8e523fe11c35\",\"subtype\":\"Figure\",\"type\":\"Plot\"},\"ticker\":{\"id\":\"8cf2360c-988e-42b2-8034-e5b99d9f1706\",\"type\":\"BasicTicker\"}},\"id\":\"0e8988e6-f23b-427c-9789-355cbec3ba00\",\"type\":\"Grid\"},{\"attributes\":{},\"id\":\"7bf278b9-bea9-47af-a9bd-45affdf982f6\",\"type\":\"ResetTool\"},{\"attributes\":{},\"id\":\"60b37f91-ea58-44b6-a319-bcd165bc5dd8\",\"type\":\"BasicTicker\"},{\"attributes\":{\"plot\":{\"id\":\"b8ea222f-c229-4b3d-97e7-9b6cc133ac75\",\"subtype\":\"Figure\",\"type\":\"Plot\"},\"ticker\":{\"id\":\"6a5c0383-914e-4c6e-9363-cea2d313edd6\",\"type\":\"BasicTicker\"}},\"id\":\"8d12c43d-d522-430d-9450-d44c0b391cba\",\"type\":\"Grid\"},{\"attributes\":{},\"id\":\"ee33d581-6d65-4b37-8977-1cacb7aeeab1\",\"type\":\"ResetTool\"},{\"attributes\":{\"source\":{\"id\":\"fa2b7d45-53d3-43cd-b13d-17b48dd0868c\",\"type\":\"ColumnDataSource\"}},\"id\":\"a28a39a7-1f13-48bc-9ea9-1c0e65f8d192\",\"type\":\"CDSView\"},{\"attributes\":{\"source\":{\"id\":\"b59dd84a-4b76-40ba-b9a7-b12fb4a2485b\",\"type\":\"ColumnDataSource\"}},\"id\":\"eb11aa73-bc07-47a9-a09c-f3bdd59ade4b\",\"type\":\"CDSView\"},{\"attributes\":{},\"id\":\"6faa25c2-a499-4af4-8eae-abd34b135a27\",\"type\":\"ResetTool\"},{\"attributes\":{},\"id\":\"a78ac202-9033-485a-b3cd-f6527e8ffacb\",\"type\":\"PanTool\"},{\"attributes\":{},\"id\":\"a8373823-9393-4f65-81bf-244f9dd930ed\",\"type\":\"BasicTicker\"},{\"attributes\":{\"callback\":null},\"id\":\"03f9cc20-a964-4aca-aa29-f19759302b25\",\"type\":\"DataRange1d\"},{\"attributes\":{},\"id\":\"a76653dc-725d-414d-9004-72e84e2be5d0\",\"type\":\"LinearScale\"},{\"attributes\":{\"fill_alpha\":{\"value\":0.1},\"fill_color\":{\"value\":\"#1f77b4\"},\"line_alpha\":{\"value\":0.1},\"line_color\":{\"value\":\"#1f77b4\"},\"x\":{\"field\":\"x\"},\"y\":{\"field\":\"y\"}},\"id\":\"e01140ca-3f0d-4eeb-b21d-27f735ab154b\",\"type\":\"Circle\"},{\"attributes\":{\"fill_alpha\":{\"value\":0.1},\"fill_color\":{\"value\":\"#1f77b4\"},\"line_alpha\":{\"value\":0.1},\"line_color\":{\"value\":\"#1f77b4\"},\"x\":{\"field\":\"x\"},\"y\":{\"field\":\"y\"}},\"id\":\"a04eec5c-a59b-4e7b-8ba3-478ccd1f896f\",\"type\":\"Circle\"},{\"attributes\":{},\"id\":\"a057cd20-0c7b-4725-87f1-7481f99fdf6d\",\"type\":\"PanTool\"},{\"attributes\":{\"overlay\":{\"id\":\"bbcd7c18-74cc-4e42-b45d-9e49f364a662\",\"type\":\"BoxAnnotation\"}},\"id\":\"58295af7-1364-41aa-832c-58e8e23191e2\",\"type\":\"BoxZoomTool\"},{\"attributes\":{\"below\":[{\"id\":\"4950d76a-5cf3-4751-bd02-9919528e133d\",\"type\":\"LinearAxis\"}],\"left\":[{\"id\":\"49b748c2-1459-4e2c-a365-55293851cbd8\",\"type\":\"LinearAxis\"}],\"match_aspect\":true,\"plot_height\":300,\"plot_width\":300,\"renderers\":[{\"id\":\"4950d76a-5cf3-4751-bd02-9919528e133d\",\"type\":\"LinearAxis\"},{\"id\":\"88d32ace-2919-4521-8c02-7fbfcd01dc5a\",\"type\":\"Grid\"},{\"id\":\"49b748c2-1459-4e2c-a365-55293851cbd8\",\"type\":\"LinearAxis\"},{\"id\":\"f019d52a-b8d0-4b10-9dd4-d99e515947c0\",\"type\":\"Grid\"},{\"id\":\"66af64ff-2eb7-4fb0-af99-eb4ece05e136\",\"type\":\"BoxAnnotation\"},{\"id\":\"48bc0fb8-1a80-499b-97c2-438aab9b9123\",\"type\":\"GlyphRenderer\"}],\"title\":{\"id\":\"bb2e1a98-8a6e-4c22-85e8-7e0b6359f010\",\"type\":\"Title\"},\"toolbar\":{\"id\":\"0c53889f-c5d2-4798-a079-3247326daf3f\",\"type\":\"Toolbar\"},\"toolbar_location\":null,\"x_range\":{\"id\":\"9d1d7804-d180-4ea0-ade0-0b3ee7adee93\",\"type\":\"DataRange1d\"},\"x_scale\":{\"id\":\"0ae31983-1c2e-47a6-90a0-2c9d70130445\",\"type\":\"LinearScale\"},\"y_range\":{\"id\":\"47c88726-30db-4725-b5ca-156fac859017\",\"type\":\"DataRange1d\"},\"y_scale\":{\"id\":\"4d8d5bf0-9368-40f1-bc7c-39c9d956c0a6\",\"type\":\"LinearScale\"}},\"id\":\"3841e963-f96f-4807-a1e6-a1a95175f541\",\"subtype\":\"Figure\",\"type\":\"Plot\"},{\"attributes\":{\"plot\":null,\"text\":\"Aspect scale = 2\"},\"id\":\"e85006ee-7590-40e1-8f83-9ccff8c85c27\",\"type\":\"Title\"},{\"attributes\":{\"active_drag\":\"auto\",\"active_inspect\":\"auto\",\"active_scroll\":\"auto\",\"active_tap\":\"auto\",\"tools\":[{\"id\":\"20f29e48-98f9-451e-8c07-207d2bc28d8e\",\"type\":\"PanTool\"},{\"id\":\"61cc025e-4c29-4842-a073-9c5dd3dcac35\",\"type\":\"WheelZoomTool\"},{\"id\":\"cebfb1ec-c70f-4811-bbcd-75ab5f63db9a\",\"type\":\"BoxZoomTool\"},{\"id\":\"0df050a3-7b23-476b-9a0b-849913b52059\",\"type\":\"SaveTool\"},{\"id\":\"145bfe85-70c3-48a6-bd06-f78b4b8416f4\",\"type\":\"ResetTool\"},{\"id\":\"d1bbb407-5b9e-441e-9c6e-22c2faa52b87\",\"type\":\"HelpTool\"}]},\"id\":\"2b7ece21-9882-44d0-8bb7-18fbc03d054d\",\"type\":\"Toolbar\"},{\"attributes\":{\"callback\":null},\"id\":\"3f9e8951-cc11-4e16-849e-20ae78d2e498\",\"type\":\"DataRange1d\"},{\"attributes\":{\"formatter\":{\"id\":\"9108af41-2bca-406c-9368-da0c83d9fd11\",\"type\":\"BasicTickFormatter\"},\"plot\":{\"id\":\"d19425e1-673f-40ec-9ad9-ec21f2b8881f\",\"subtype\":\"Figure\",\"type\":\"Plot\"},\"ticker\":{\"id\":\"f500d517-b9c4-4072-8514-c87066c005d4\",\"type\":\"BasicTicker\"}},\"id\":\"bb08dbaa-305e-41bd-a3e3-0c3ef55f6d35\",\"type\":\"LinearAxis\"},{\"attributes\":{},\"id\":\"aba786f2-13be-451a-b3ef-9e0b709905e4\",\"type\":\"LinearScale\"},{\"attributes\":{},\"id\":\"3a9d5b2f-4157-4d9e-835d-28871ad4119b\",\"type\":\"BasicTickFormatter\"},{\"attributes\":{\"fill_color\":{\"value\":\"grey\"},\"radius\":{\"units\":\"data\",\"value\":10},\"x\":{\"value\":0},\"y\":{\"value\":0}},\"id\":\"e3ea95ff-e7fd-4cb7-9d27-1f8f5a6bf7ea\",\"type\":\"Circle\"},{\"attributes\":{\"dimension\":1,\"plot\":{\"id\":\"e94147f3-c94a-4b07-94e1-fa6c71d386db\",\"subtype\":\"Figure\",\"type\":\"Plot\"},\"ticker\":{\"id\":\"5c61fc08-e86c-4667-a4e5-8fa86de2fe30\",\"type\":\"BasicTicker\"}},\"id\":\"2703a7ca-af51-454d-8e9a-e5dbdc65e09d\",\"type\":\"Grid\"},{\"attributes\":{\"below\":[{\"id\":\"ca4b1e4a-9a7e-4b3b-935f-b6f8db6c9ec4\",\"type\":\"LinearAxis\"}],\"left\":[{\"id\":\"5ccc5985-7cc1-41e4-acf2-c009ee3bb53d\",\"type\":\"LinearAxis\"}],\"match_aspect\":true,\"plot_height\":400,\"plot_width\":100,\"renderers\":[{\"id\":\"ca4b1e4a-9a7e-4b3b-935f-b6f8db6c9ec4\",\"type\":\"LinearAxis\"},{\"id\":\"25ba86f7-c718-461b-982f-11934cb23077\",\"type\":\"Grid\"},{\"id\":\"5ccc5985-7cc1-41e4-acf2-c009ee3bb53d\",\"type\":\"LinearAxis\"},{\"id\":\"72edc398-d819-4203-bc9c-1c2578f36f59\",\"type\":\"Grid\"},{\"id\":\"036678f9-bc37-439d-9137-a1bb883ddd07\",\"type\":\"BoxAnnotation\"},{\"id\":\"5356a7d7-45f9-4596-b359-460711ddfec9\",\"type\":\"GlyphRenderer\"}],\"title\":{\"id\":\"748a2046-153e-4d91-9e8f-d19e2d96b10c\",\"type\":\"Title\"},\"toolbar\":{\"id\":\"600e1f6d-8534-46e3-b2c6-995877283371\",\"type\":\"Toolbar\"},\"toolbar_location\":null,\"x_range\":{\"id\":\"3ea99281-aa1e-4d8c-8c3b-be41d26b7766\",\"type\":\"DataRange1d\"},\"x_scale\":{\"id\":\"7a10b8fb-49d1-4d6c-a2cc-faf6fd61280d\",\"type\":\"LinearScale\"},\"y_range\":{\"id\":\"5fa18842-d0f8-48d3-baa3-7685c8e76d85\",\"type\":\"DataRange1d\"},\"y_scale\":{\"id\":\"15b51c3e-61b7-4db9-9c5f-959b6432c2ec\",\"type\":\"LinearScale\"}},\"id\":\"aec215e0-afe3-433f-9723-6742f0e62133\",\"subtype\":\"Figure\",\"type\":\"Plot\"},{\"attributes\":{\"source\":{\"id\":\"ed92ae97-7c49-499d-993c-5ada46facc12\",\"type\":\"ColumnDataSource\"}},\"id\":\"07d79e7d-a6fe-4bbd-b0d7-d310a695880f\",\"type\":\"CDSView\"},{\"attributes\":{\"formatter\":{\"id\":\"c5ad3ede-642d-415a-9121-953151d76e43\",\"type\":\"BasicTickFormatter\"},\"plot\":{\"id\":\"e94147f3-c94a-4b07-94e1-fa6c71d386db\",\"subtype\":\"Figure\",\"type\":\"Plot\"},\"ticker\":{\"id\":\"7ea9389f-d082-4c24-8099-4d1b8d141a11\",\"type\":\"BasicTicker\"}},\"id\":\"b44fc470-f674-44a7-a454-7cbaa389eb79\",\"type\":\"LinearAxis\"},{\"attributes\":{},\"id\":\"ddc5cf60-a63a-4370-a4aa-5de8882709ae\",\"type\":\"BasicTickFormatter\"},{\"attributes\":{},\"id\":\"4d8d5bf0-9368-40f1-bc7c-39c9d956c0a6\",\"type\":\"LinearScale\"},{\"attributes\":{},\"id\":\"33a41e89-c40b-4d00-9ccf-760e3792dc28\",\"type\":\"BasicTicker\"},{\"attributes\":{},\"id\":\"bece9b50-553d-4be5-aae1-2e5689bd7a28\",\"type\":\"LinearScale\"},{\"attributes\":{},\"id\":\"a24c8d11-eb84-4a39-91aa-14cd04e3c6b4\",\"type\":\"ResetTool\"},{\"attributes\":{\"aspect_scale\":4,\"below\":[{\"id\":\"2a318203-672b-49a8-a1da-f9691e7f13f0\",\"type\":\"LinearAxis\"}],\"left\":[{\"id\":\"ad04d806-0e63-4923-9319-0cb4755a55f6\",\"type\":\"LinearAxis\"}],\"match_aspect\":true,\"plot_height\":300,\"plot_width\":300,\"renderers\":[{\"id\":\"2a318203-672b-49a8-a1da-f9691e7f13f0\",\"type\":\"LinearAxis\"},{\"id\":\"2bf633e1-767a-4130-9d8f-d4cabd523186\",\"type\":\"Grid\"},{\"id\":\"ad04d806-0e63-4923-9319-0cb4755a55f6\",\"type\":\"LinearAxis\"},{\"id\":\"95a2c105-444d-4546-8dbb-3fe0518911aa\",\"type\":\"Grid\"},{\"id\":\"925ce38f-21c1-41d1-b18c-3e4cedbaaf4c\",\"type\":\"BoxAnnotation\"},{\"id\":\"b8e933ed-e486-4459-a5e4-295c13826083\",\"type\":\"GlyphRenderer\"}],\"title\":{\"id\":\"40177030-0fe5-4ece-8f71-d1deb11f11ec\",\"type\":\"Title\"},\"toolbar\":{\"id\":\"0e630c4d-b61b-4f21-84fe-bc9cc915b1d1\",\"type\":\"Toolbar\"},\"toolbar_location\":null,\"x_range\":{\"id\":\"d91e10b1-c7cc-4b0d-bbe4-d763d05ab507\",\"type\":\"DataRange1d\"},\"x_scale\":{\"id\":\"aba786f2-13be-451a-b3ef-9e0b709905e4\",\"type\":\"LinearScale\"},\"y_range\":{\"id\":\"b786a21c-9ff6-473c-8d14-a3e4ac16bd7d\",\"type\":\"DataRange1d\"},\"y_scale\":{\"id\":\"a651a983-599d-4540-99a7-ae67953e3fc2\",\"type\":\"LinearScale\"}},\"id\":\"d3c7b64d-1f09-4f96-aaa4-662dd7435af9\",\"subtype\":\"Figure\",\"type\":\"Plot\"},{\"attributes\":{\"active_drag\":\"auto\",\"active_inspect\":\"auto\",\"active_scroll\":\"auto\",\"active_tap\":\"auto\",\"tools\":[{\"id\":\"a057cd20-0c7b-4725-87f1-7481f99fdf6d\",\"type\":\"PanTool\"},{\"id\":\"f1ca8458-e5e5-4787-b442-f91c1bddc6d8\",\"type\":\"WheelZoomTool\"},{\"id\":\"4cbf0c73-ad86-413d-8593-85cd39bd54b7\",\"type\":\"BoxZoomTool\"},{\"id\":\"a912e037-a3d9-4b64-8cee-7fd46d232626\",\"type\":\"SaveTool\"},{\"id\":\"394af05d-1d52-450c-a0de-9394c0f4ca62\",\"type\":\"ResetTool\"},{\"id\":\"a5719798-d2c3-455a-ae48-fdc7c73305b1\",\"type\":\"HelpTool\"}]},\"id\":\"d2a517ea-c7f5-45da-b2b4-00ddeac55e07\",\"type\":\"Toolbar\"},{\"attributes\":{},\"id\":\"0df050a3-7b23-476b-9a0b-849913b52059\",\"type\":\"SaveTool\"},{\"attributes\":{},\"id\":\"e5a3fd8a-16ac-44df-9760-03a142b0130b\",\"type\":\"WheelZoomTool\"},{\"attributes\":{},\"id\":\"ed193b89-d459-45db-85d1-06d72f8f568d\",\"type\":\"BasicTickFormatter\"},{\"attributes\":{},\"id\":\"5d2bac6c-4b95-43aa-b5b6-0cf7768e4014\",\"type\":\"LinearScale\"},{\"attributes\":{\"overlay\":{\"id\":\"101da0c6-4f08-44c2-8723-617aac496d1e\",\"type\":\"BoxAnnotation\"}},\"id\":\"fa477bc1-41f2-403e-9fb9-4fede494512e\",\"type\":\"BoxZoomTool\"},{\"attributes\":{\"formatter\":{\"id\":\"2e8d1fb1-7b00-40a8-8efb-c928fc684716\",\"type\":\"BasicTickFormatter\"},\"plot\":{\"id\":\"5fb5ab89-2e4c-4e15-a6d1-aa316b7e366a\",\"subtype\":\"Figure\",\"type\":\"Plot\"},\"ticker\":{\"id\":\"c8de6516-0ba9-4a7e-ad71-a8bb8f6bd6a3\",\"type\":\"BasicTicker\"}},\"id\":\"d1b29aa0-3805-465f-966d-945f0b3ef939\",\"type\":\"LinearAxis\"},{\"attributes\":{},\"id\":\"9e7960ba-eec5-4fdf-8716-55359d8b1cba\",\"type\":\"BasicTickFormatter\"},{\"attributes\":{\"fill_alpha\":{\"value\":0.1},\"fill_color\":{\"value\":\"#1f77b4\"},\"line_alpha\":{\"value\":0.1},\"line_color\":{\"value\":\"#1f77b4\"},\"x\":{\"field\":\"x\"},\"y\":{\"field\":\"y\"}},\"id\":\"8e84f0b6-d349-48c4-805b-a832c1f1cf5a\",\"type\":\"Circle\"},{\"attributes\":{\"plot\":{\"id\":\"df9cc2f5-6fde-41ad-a98f-8e523fe11c35\",\"subtype\":\"Figure\",\"type\":\"Plot\"},\"ticker\":{\"id\":\"473ef06f-360f-46e8-baa1-7099ceb062d7\",\"type\":\"BasicTicker\"}},\"id\":\"b12d4e07-876b-4087-9f43-9d75369760a9\",\"type\":\"Grid\"},{\"attributes\":{},\"id\":\"0ae31983-1c2e-47a6-90a0-2c9d70130445\",\"type\":\"LinearScale\"},{\"attributes\":{},\"id\":\"394af05d-1d52-450c-a0de-9394c0f4ca62\",\"type\":\"ResetTool\"},{\"attributes\":{},\"id\":\"b8a2ef2b-d01e-4a22-91f2-5be0f95599b5\",\"type\":\"BasicTickFormatter\"},{\"attributes\":{},\"id\":\"5f72a0b3-08bf-4aa8-adde-70ac7d75becc\",\"type\":\"HelpTool\"},{\"attributes\":{},\"id\":\"473ef06f-360f-46e8-baa1-7099ceb062d7\",\"type\":\"BasicTicker\"},{\"attributes\":{\"overlay\":{\"id\":\"93532469-d0a1-493f-af3f-edb5c252298b\",\"type\":\"BoxAnnotation\"}},\"id\":\"cebfb1ec-c70f-4811-bbcd-75ab5f63db9a\",\"type\":\"BoxZoomTool\"},{\"attributes\":{\"data_source\":{\"id\":\"b550ccca-30dd-459c-bdbd-943b982f0de7\",\"type\":\"ColumnDataSource\"},\"glyph\":{\"id\":\"39d82746-09b2-4259-822c-247a8a096f62\",\"type\":\"Circle\"},\"hover_glyph\":null,\"muted_glyph\":null,\"nonselection_glyph\":{\"id\":\"795e4ae2-d02f-4f7a-9ca2-e3747a96cc3d\",\"type\":\"Circle\"},\"selection_glyph\":null,\"view\":{\"id\":\"4d6dcc72-c9c6-488a-9a55-bdf2902e6cc0\",\"type\":\"CDSView\"}},\"id\":\"9e36277b-0b4a-40d3-af20-a804aaadd235\",\"type\":\"GlyphRenderer\"},{\"attributes\":{\"fill_color\":{\"value\":\"#1f77b4\"},\"line_color\":{\"value\":\"#1f77b4\"},\"x\":{\"field\":\"x\"},\"y\":{\"field\":\"y\"}},\"id\":\"ec3fec58-c566-4d1b-884a-09802e61e8a5\",\"type\":\"Circle\"},{\"attributes\":{\"source\":{\"id\":\"a653e626-4e67-4806-a729-224899cc8177\",\"type\":\"ColumnDataSource\"}},\"id\":\"8bd0362f-5686-4d5c-be2e-6b67dd72606a\",\"type\":\"CDSView\"},{\"attributes\":{\"callback\":null},\"id\":\"5fa18842-d0f8-48d3-baa3-7685c8e76d85\",\"type\":\"DataRange1d\"},{\"attributes\":{},\"id\":\"140c43b0-0c26-4c1d-b449-e841f90d3af4\",\"type\":\"PanTool\"},{\"attributes\":{\"plot\":{\"id\":\"e94147f3-c94a-4b07-94e1-fa6c71d386db\",\"subtype\":\"Figure\",\"type\":\"Plot\"},\"ticker\":{\"id\":\"7ea9389f-d082-4c24-8099-4d1b8d141a11\",\"type\":\"BasicTicker\"}},\"id\":\"f647207f-5391-46be-a0c1-40ab3ce2922b\",\"type\":\"Grid\"},{\"attributes\":{\"formatter\":{\"id\":\"561eb845-cafe-46be-9b2a-fe9136e0c556\",\"type\":\"BasicTickFormatter\"},\"plot\":{\"id\":\"5fb5ab89-2e4c-4e15-a6d1-aa316b7e366a\",\"subtype\":\"Figure\",\"type\":\"Plot\"},\"ticker\":{\"id\":\"300514ea-b5ea-48a5-a9ab-754fd432d671\",\"type\":\"BasicTicker\"}},\"id\":\"58784cb6-7a51-4e65-abff-d47627767db1\",\"type\":\"LinearAxis\"},{\"attributes\":{\"callback\":null,\"column_names\":[\"y\",\"x\"],\"data\":{\"x\":[-1,1,1,-1],\"y\":[-1,-1,1,1]}},\"id\":\"4e5a4b84-5585-47a2-8e17-030bd4d6d58b\",\"type\":\"ColumnDataSource\"},{\"attributes\":{\"below\":[{\"id\":\"3362cd1c-029e-4dbb-92c0-ac0df811dc15\",\"type\":\"LinearAxis\"}],\"left\":[{\"id\":\"d05a4e98-c1e6-47e6-b748-96d1e404cc57\",\"type\":\"LinearAxis\"}],\"match_aspect\":true,\"plot_height\":100,\"plot_width\":400,\"renderers\":[{\"id\":\"3362cd1c-029e-4dbb-92c0-ac0df811dc15\",\"type\":\"LinearAxis\"},{\"id\":\"b12d4e07-876b-4087-9f43-9d75369760a9\",\"type\":\"Grid\"},{\"id\":\"d05a4e98-c1e6-47e6-b748-96d1e404cc57\",\"type\":\"LinearAxis\"},{\"id\":\"0e8988e6-f23b-427c-9789-355cbec3ba00\",\"type\":\"Grid\"},{\"id\":\"8a622e68-9e75-43fa-8199-59bc3d0b3238\",\"type\":\"BoxAnnotation\"},{\"id\":\"9e36277b-0b4a-40d3-af20-a804aaadd235\",\"type\":\"GlyphRenderer\"}],\"title\":{\"id\":\"ff0df460-e374-49c6-b984-e9f8ae73d66f\",\"type\":\"Title\"},\"toolbar\":{\"id\":\"d2a517ea-c7f5-45da-b2b4-00ddeac55e07\",\"type\":\"Toolbar\"},\"toolbar_location\":null,\"x_range\":{\"id\":\"9b992b39-9c31-4f9e-8cfc-55114e80012c\",\"type\":\"DataRange1d\"},\"x_scale\":{\"id\":\"96548660-877f-4283-bb1b-77e8fd2a424e\",\"type\":\"LinearScale\"},\"y_range\":{\"id\":\"3f9e8951-cc11-4e16-849e-20ae78d2e498\",\"type\":\"DataRange1d\"},\"y_scale\":{\"id\":\"2a73ffa4-7f0a-45a6-a5b5-2aa3e4ce0a83\",\"type\":\"LinearScale\"}},\"id\":\"df9cc2f5-6fde-41ad-a98f-8e523fe11c35\",\"subtype\":\"Figure\",\"type\":\"Plot\"},{\"attributes\":{\"callback\":null},\"id\":\"884100b7-a0fd-4224-a337-38c1e46fbcb9\",\"type\":\"DataRange1d\"},{\"attributes\":{\"formatter\":{\"id\":\"9e7960ba-eec5-4fdf-8716-55359d8b1cba\",\"type\":\"BasicTickFormatter\"},\"plot\":{\"id\":\"d3c7b64d-1f09-4f96-aaa4-662dd7435af9\",\"subtype\":\"Figure\",\"type\":\"Plot\"},\"ticker\":{\"id\":\"60b37f91-ea58-44b6-a319-bcd165bc5dd8\",\"type\":\"BasicTicker\"}},\"id\":\"ad04d806-0e63-4923-9319-0cb4755a55f6\",\"type\":\"LinearAxis\"},{\"attributes\":{\"fill_alpha\":{\"value\":0.1},\"fill_color\":{\"value\":\"#1f77b4\"},\"line_alpha\":{\"value\":0.1},\"line_color\":{\"value\":\"#1f77b4\"},\"radius\":{\"units\":\"data\",\"value\":10},\"x\":{\"value\":0},\"y\":{\"value\":0}},\"id\":\"c51fb8ca-0f3b-4640-a0df-08952f6711d9\",\"type\":\"Circle\"},{\"attributes\":{\"callback\":null},\"id\":\"42753a88-5019-4873-861a-5d8b94b3a3ab\",\"type\":\"DataRange1d\"},{\"attributes\":{\"formatter\":{\"id\":\"63adbb8c-a468-4d33-b91e-a4a9d6b7c06d\",\"type\":\"BasicTickFormatter\"},\"plot\":{\"id\":\"3841e963-f96f-4807-a1e6-a1a95175f541\",\"subtype\":\"Figure\",\"type\":\"Plot\"},\"ticker\":{\"id\":\"625cf11f-2157-40c7-a751-6459668f7c08\",\"type\":\"BasicTicker\"}},\"id\":\"4950d76a-5cf3-4751-bd02-9919528e133d\",\"type\":\"LinearAxis\"},{\"attributes\":{},\"id\":\"9fd94444-e397-4213-865e-35c3a786b19f\",\"type\":\"BasicTicker\"},{\"attributes\":{},\"id\":\"3dc8bc3d-7da6-4ede-b1c6-41e0bfda1ebf\",\"type\":\"WheelZoomTool\"},{\"attributes\":{},\"id\":\"274a0f2c-4850-476a-bc22-3a5c59137b06\",\"type\":\"BasicTicker\"},{\"attributes\":{},\"id\":\"aec20518-c7d9-4fd2-a27e-4f29aa3a2627\",\"type\":\"SaveTool\"},{\"attributes\":{\"data_source\":{\"id\":\"ed92ae97-7c49-499d-993c-5ada46facc12\",\"type\":\"ColumnDataSource\"},\"glyph\":{\"id\":\"78fbf094-0280-4b5e-ad86-f74b951495a0\",\"type\":\"Circle\"},\"hover_glyph\":null,\"muted_glyph\":null,\"nonselection_glyph\":{\"id\":\"cd42459c-beb3-44a4-88b9-d2482ccfe7d6\",\"type\":\"Circle\"},\"selection_glyph\":null,\"view\":{\"id\":\"07d79e7d-a6fe-4bbd-b0d7-d310a695880f\",\"type\":\"CDSView\"}},\"id\":\"e5c3b7a5-17a1-454e-b1e5-ccca0ec10070\",\"type\":\"GlyphRenderer\"},{\"attributes\":{},\"id\":\"9108af41-2bca-406c-9368-da0c83d9fd11\",\"type\":\"BasicTickFormatter\"},{\"attributes\":{\"active_drag\":\"auto\",\"active_inspect\":\"auto\",\"active_scroll\":\"auto\",\"active_tap\":\"auto\",\"tools\":[{\"id\":\"fea83d4a-92ed-454d-b024-ef9658e950cf\",\"type\":\"PanTool\"},{\"id\":\"f8d70a0f-3071-42fc-b661-b5ebf79c5be2\",\"type\":\"WheelZoomTool\"},{\"id\":\"d96d88cc-7ff9-447a-80c1-a9fc74b93461\",\"type\":\"BoxZoomTool\"},{\"id\":\"38b1b566-a008-4dd0-abc0-73e408613782\",\"type\":\"SaveTool\"},{\"id\":\"ee33d581-6d65-4b37-8977-1cacb7aeeab1\",\"type\":\"ResetTool\"},{\"id\":\"5238bebe-2bd9-48a0-9a03-bd53eed47044\",\"type\":\"HelpTool\"}]},\"id\":\"05d84220-2ecc-4322-b28d-9b3bae8856f8\",\"type\":\"Toolbar\"},{\"attributes\":{\"bottom_units\":\"screen\",\"fill_alpha\":{\"value\":0.5},\"fill_color\":{\"value\":\"lightgrey\"},\"left_units\":\"screen\",\"level\":\"overlay\",\"line_alpha\":{\"value\":1.0},\"line_color\":{\"value\":\"black\"},\"line_dash\":[4,4],\"line_width\":{\"value\":2},\"plot\":null,\"render_mode\":\"css\",\"right_units\":\"screen\",\"top_units\":\"screen\"},\"id\":\"8a622e68-9e75-43fa-8199-59bc3d0b3238\",\"type\":\"BoxAnnotation\"},{\"attributes\":{\"dimension\":1,\"plot\":{\"id\":\"d3c7b64d-1f09-4f96-aaa4-662dd7435af9\",\"subtype\":\"Figure\",\"type\":\"Plot\"},\"ticker\":{\"id\":\"60b37f91-ea58-44b6-a319-bcd165bc5dd8\",\"type\":\"BasicTicker\"}},\"id\":\"95a2c105-444d-4546-8dbb-3fe0518911aa\",\"type\":\"Grid\"},{\"attributes\":{\"formatter\":{\"id\":\"e57b494e-9ca5-4fa7-a5b6-80d0b8c19e77\",\"type\":\"BasicTickFormatter\"},\"plot\":{\"id\":\"b8ea222f-c229-4b3d-97e7-9b6cc133ac75\",\"subtype\":\"Figure\",\"type\":\"Plot\"},\"ticker\":{\"id\":\"a86971f0-e903-4340-86b9-b4b07a5e8b79\",\"type\":\"BasicTicker\"}},\"id\":\"f2d828a1-db49-4ade-84a4-7362d6887fb4\",\"type\":\"LinearAxis\"},{\"attributes\":{},\"id\":\"300514ea-b5ea-48a5-a9ab-754fd432d671\",\"type\":\"BasicTicker\"},{\"attributes\":{\"fill_color\":{\"value\":\"#1f77b4\"},\"line_color\":{\"value\":\"#1f77b4\"},\"x\":{\"field\":\"x\"},\"y\":{\"field\":\"y\"}},\"id\":\"95642c28-9df0-42aa-80e5-5be55dc6e187\",\"type\":\"Circle\"},{\"attributes\":{},\"id\":\"64d27bb8-a9cf-4877-933f-79736b7458ff\",\"type\":\"SaveTool\"},{\"attributes\":{\"formatter\":{\"id\":\"8ff4e2e2-d226-41ff-bd4b-523bf7deba4b\",\"type\":\"BasicTickFormatter\"},\"plot\":{\"id\":\"e94147f3-c94a-4b07-94e1-fa6c71d386db\",\"subtype\":\"Figure\",\"type\":\"Plot\"},\"ticker\":{\"id\":\"5c61fc08-e86c-4667-a4e5-8fa86de2fe30\",\"type\":\"BasicTicker\"}},\"id\":\"38dca51a-c025-4057-b645-ad0b9ee90ad9\",\"type\":\"LinearAxis\"},{\"attributes\":{\"data_source\":{\"id\":\"ed04e09e-3244-44da-bf0a-afa60c3238c8\",\"type\":\"ColumnDataSource\"},\"glyph\":{\"id\":\"b5cc3533-c4d9-47b6-8266-82bdeedf103f\",\"type\":\"Circle\"},\"hover_glyph\":null,\"muted_glyph\":null,\"nonselection_glyph\":{\"id\":\"a04eec5c-a59b-4e7b-8ba3-478ccd1f896f\",\"type\":\"Circle\"},\"selection_glyph\":null,\"view\":{\"id\":\"7a7e00fb-e024-4c88-b225-234b45117250\",\"type\":\"CDSView\"}},\"id\":\"9695ca4b-6b65-41c9-b319-ff5ea3d19b34\",\"type\":\"GlyphRenderer\"},{\"attributes\":{\"fill_alpha\":{\"value\":0.1},\"fill_color\":{\"value\":\"#1f77b4\"},\"line_alpha\":{\"value\":0.1},\"line_color\":{\"value\":\"#1f77b4\"},\"x\":{\"field\":\"x\"},\"y\":{\"field\":\"y\"}},\"id\":\"cd42459c-beb3-44a4-88b9-d2482ccfe7d6\",\"type\":\"Circle\"},{\"attributes\":{},\"id\":\"1f469518-613c-4833-bbc9-0e6473f64331\",\"type\":\"BasicTicker\"},{\"attributes\":{\"plot\":null,\"text\":\"Aspect scale = 0.25\"},\"id\":\"e0d4ed06-902d-4f70-8cd8-1fe8ce7a1997\",\"type\":\"Title\"},{\"attributes\":{},\"id\":\"e57b494e-9ca5-4fa7-a5b6-80d0b8c19e77\",\"type\":\"BasicTickFormatter\"},{\"attributes\":{\"bottom_units\":\"screen\",\"fill_alpha\":{\"value\":0.5},\"fill_color\":{\"value\":\"lightgrey\"},\"left_units\":\"screen\",\"level\":\"overlay\",\"line_alpha\":{\"value\":1.0},\"line_color\":{\"value\":\"black\"},\"line_dash\":[4,4],\"line_width\":{\"value\":2},\"plot\":null,\"render_mode\":\"css\",\"right_units\":\"screen\",\"top_units\":\"screen\"},\"id\":\"09f74bd7-165f-4af0-aee9-45da505f385b\",\"type\":\"BoxAnnotation\"},{\"attributes\":{\"aspect_scale\":0.5,\"below\":[{\"id\":\"523aa1a5-5b56-4964-8cd5-871d2534d4c1\",\"type\":\"LinearAxis\"}],\"left\":[{\"id\":\"93b07947-499b-488d-9ddd-28ad068fd8cf\",\"type\":\"LinearAxis\"}],\"match_aspect\":true,\"plot_height\":300,\"plot_width\":300,\"renderers\":[{\"id\":\"523aa1a5-5b56-4964-8cd5-871d2534d4c1\",\"type\":\"LinearAxis\"},{\"id\":\"f425ecce-a3a9-47f7-89ca-e25f1b738964\",\"type\":\"Grid\"},{\"id\":\"93b07947-499b-488d-9ddd-28ad068fd8cf\",\"type\":\"LinearAxis\"},{\"id\":\"79a1bb1c-ed02-4249-9639-2922e9c85add\",\"type\":\"Grid\"},{\"id\":\"101da0c6-4f08-44c2-8723-617aac496d1e\",\"type\":\"BoxAnnotation\"},{\"id\":\"71dc3413-53e9-4058-b517-b6a4030b9d95\",\"type\":\"GlyphRenderer\"}],\"title\":{\"id\":\"ff846b07-cbab-4c78-803a-cfbc6d919bc3\",\"type\":\"Title\"},\"toolbar\":{\"id\":\"338df182-1387-4410-8d01-c9c00e19da9f\",\"type\":\"Toolbar\"},\"toolbar_location\":null,\"x_range\":{\"id\":\"5a0d15eb-bc5a-4b49-a283-4af671bea78d\",\"type\":\"DataRange1d\"},\"x_scale\":{\"id\":\"546c5e0b-885b-4c85-a6b7-1c12c506e3d1\",\"type\":\"LinearScale\"},\"y_range\":{\"id\":\"453b73df-0239-46d0-b0d2-aaccc6579039\",\"type\":\"DataRange1d\"},\"y_scale\":{\"id\":\"a76653dc-725d-414d-9004-72e84e2be5d0\",\"type\":\"LinearScale\"}},\"id\":\"ca84418b-d2c3-4c6e-8fe2-6a8aaf9641e8\",\"subtype\":\"Figure\",\"type\":\"Plot\"},{\"attributes\":{\"overlay\":{\"id\":\"b0caac8b-63c3-4b7f-bfd8-07ed134cd6fd\",\"type\":\"BoxAnnotation\"}},\"id\":\"883850d4-3444-41d6-84b8-1d9d8b0a9e2c\",\"type\":\"BoxZoomTool\"},{\"attributes\":{},\"id\":\"8cf2360c-988e-42b2-8034-e5b99d9f1706\",\"type\":\"BasicTicker\"},{\"attributes\":{\"callback\":null,\"column_names\":[\"y\",\"x\"],\"data\":{\"x\":[-1,1,1,-1],\"y\":[-1,-1,1,1]}},\"id\":\"b550ccca-30dd-459c-bdbd-943b982f0de7\",\"type\":\"ColumnDataSource\"},{\"attributes\":{\"dimension\":1,\"plot\":{\"id\":\"2e96c987-9f76-44f0-b1ec-8bc93fc2b33f\",\"subtype\":\"Figure\",\"type\":\"Plot\"},\"ticker\":{\"id\":\"1f469518-613c-4833-bbc9-0e6473f64331\",\"type\":\"BasicTicker\"}},\"id\":\"57d0dfaf-a561-4140-a08b-b3a98b47c760\",\"type\":\"Grid\"},{\"attributes\":{},\"id\":\"a86971f0-e903-4340-86b9-b4b07a5e8b79\",\"type\":\"BasicTicker\"},{\"attributes\":{\"overlay\":{\"id\":\"d8db589d-0834-4fdf-8a50-a9b73b3e8485\",\"type\":\"BoxAnnotation\"}},\"id\":\"d96d88cc-7ff9-447a-80c1-a9fc74b93461\",\"type\":\"BoxZoomTool\"},{\"attributes\":{},\"id\":\"8fda2f8e-4f34-4999-b474-3f1534ce6f4f\",\"type\":\"PanTool\"},{\"attributes\":{\"callback\":null,\"column_names\":[\"y\",\"x\"],\"data\":{\"x\":[-1,1,1,-1],\"y\":[-1,-1,1,1]}},\"id\":\"ed04e09e-3244-44da-bf0a-afa60c3238c8\",\"type\":\"ColumnDataSource\"},{\"attributes\":{},\"id\":\"561eb845-cafe-46be-9b2a-fe9136e0c556\",\"type\":\"BasicTickFormatter\"},{\"attributes\":{\"active_drag\":\"auto\",\"active_inspect\":\"auto\",\"active_scroll\":\"auto\",\"active_tap\":\"auto\",\"tools\":[{\"id\":\"8fda2f8e-4f34-4999-b474-3f1534ce6f4f\",\"type\":\"PanTool\"},{\"id\":\"30dc5ed8-7233-4a76-9315-8c12268ee0de\",\"type\":\"WheelZoomTool\"},{\"id\":\"c5b150a5-c35e-423c-b2da-86a162f7074c\",\"type\":\"BoxZoomTool\"},{\"id\":\"a1d5450f-eef4-4231-9615-3c6e87fa7a96\",\"type\":\"SaveTool\"},{\"id\":\"fcdfe8ba-0887-48a3-be9d-a9f0c666e9f4\",\"type\":\"ResetTool\"},{\"id\":\"4f9175b3-b6a1-4204-af50-073985f97865\",\"type\":\"HelpTool\"}]},\"id\":\"600e1f6d-8534-46e3-b2c6-995877283371\",\"type\":\"Toolbar\"},{\"attributes\":{\"plot\":{\"id\":\"5fb5ab89-2e4c-4e15-a6d1-aa316b7e366a\",\"subtype\":\"Figure\",\"type\":\"Plot\"},\"ticker\":{\"id\":\"300514ea-b5ea-48a5-a9ab-754fd432d671\",\"type\":\"BasicTicker\"}},\"id\":\"e773ea3f-976e-4e2c-aeac-eb13704ff324\",\"type\":\"Grid\"},{\"attributes\":{},\"id\":\"70ba39dc-5c64-4740-9bf2-15c6812e7e96\",\"type\":\"LinearScale\"},{\"attributes\":{},\"id\":\"ea7fea6b-be67-4c27-9a2b-08f73d6e69dc\",\"type\":\"LinearScale\"},{\"attributes\":{\"aspect_scale\":2,\"below\":[{\"id\":\"58784cb6-7a51-4e65-abff-d47627767db1\",\"type\":\"LinearAxis\"}],\"left\":[{\"id\":\"d1b29aa0-3805-465f-966d-945f0b3ef939\",\"type\":\"LinearAxis\"}],\"match_aspect\":true,\"plot_height\":300,\"plot_width\":300,\"renderers\":[{\"id\":\"58784cb6-7a51-4e65-abff-d47627767db1\",\"type\":\"LinearAxis\"},{\"id\":\"e773ea3f-976e-4e2c-aeac-eb13704ff324\",\"type\":\"Grid\"},{\"id\":\"d1b29aa0-3805-465f-966d-945f0b3ef939\",\"type\":\"LinearAxis\"},{\"id\":\"f0064c42-5e00-4b29-9adc-bc1f6ae0740a\",\"type\":\"Grid\"},{\"id\":\"b0caac8b-63c3-4b7f-bfd8-07ed134cd6fd\",\"type\":\"BoxAnnotation\"},{\"id\":\"ceaee3ba-ee37-4d7f-8b25-f946aa63d368\",\"type\":\"GlyphRenderer\"}],\"title\":{\"id\":\"e85006ee-7590-40e1-8f83-9ccff8c85c27\",\"type\":\"Title\"},\"toolbar\":{\"id\":\"0141310f-d1a7-47d3-8dc0-e4c2343b557a\",\"type\":\"Toolbar\"},\"toolbar_location\":null,\"x_range\":{\"id\":\"d1b3589d-bb9a-47de-ba6b-1c7e985d4ab6\",\"type\":\"DataRange1d\"},\"x_scale\":{\"id\":\"662c4c8e-92d2-4a26-a3f5-b7e8b9cf8881\",\"type\":\"LinearScale\"},\"y_range\":{\"id\":\"69367e1e-d2c8-45d5-ac5d-a7c2d8b95a30\",\"type\":\"DataRange1d\"},\"y_scale\":{\"id\":\"ea7fea6b-be67-4c27-9a2b-08f73d6e69dc\",\"type\":\"LinearScale\"}},\"id\":\"5fb5ab89-2e4c-4e15-a6d1-aa316b7e366a\",\"subtype\":\"Figure\",\"type\":\"Plot\"},{\"attributes\":{},\"id\":\"2a73ffa4-7f0a-45a6-a5b5-2aa3e4ce0a83\",\"type\":\"LinearScale\"},{\"attributes\":{\"plot\":null,\"text\":\"Aspect scale = 1\"},\"id\":\"bb2e1a98-8a6e-4c22-85e8-7e0b6359f010\",\"type\":\"Title\"},{\"attributes\":{\"formatter\":{\"id\":\"3a9d5b2f-4157-4d9e-835d-28871ad4119b\",\"type\":\"BasicTickFormatter\"},\"plot\":{\"id\":\"d3c7b64d-1f09-4f96-aaa4-662dd7435af9\",\"subtype\":\"Figure\",\"type\":\"Plot\"},\"ticker\":{\"id\":\"9fd94444-e397-4213-865e-35c3a786b19f\",\"type\":\"BasicTicker\"}},\"id\":\"2a318203-672b-49a8-a1da-f9691e7f13f0\",\"type\":\"LinearAxis\"},{\"attributes\":{},\"id\":\"30dc5ed8-7233-4a76-9315-8c12268ee0de\",\"type\":\"WheelZoomTool\"},{\"attributes\":{\"dimension\":1,\"plot\":{\"id\":\"b8ea222f-c229-4b3d-97e7-9b6cc133ac75\",\"subtype\":\"Figure\",\"type\":\"Plot\"},\"ticker\":{\"id\":\"a86971f0-e903-4340-86b9-b4b07a5e8b79\",\"type\":\"BasicTicker\"}},\"id\":\"9737d791-f251-452f-952d-56063a71ec40\",\"type\":\"Grid\"},{\"attributes\":{\"plot\":null,\"text\":\"Aspect scale = 1\"},\"id\":\"748a2046-153e-4d91-9e8f-d19e2d96b10c\",\"type\":\"Title\"},{\"attributes\":{},\"id\":\"e08fc24d-49c0-473a-83d9-4f60b4c82c88\",\"type\":\"WheelZoomTool\"},{\"attributes\":{\"fill_color\":{\"value\":\"#1f77b4\"},\"line_color\":{\"value\":\"#1f77b4\"},\"x\":{\"field\":\"x\"},\"y\":{\"field\":\"y\"}},\"id\":\"78fbf094-0280-4b5e-ad86-f74b951495a0\",\"type\":\"Circle\"},{\"attributes\":{\"children\":[{\"id\":\"2e96c987-9f76-44f0-b1ec-8bc93fc2b33f\",\"subtype\":\"Figure\",\"type\":\"Plot\"},{\"id\":\"ca84418b-d2c3-4c6e-8fe2-6a8aaf9641e8\",\"subtype\":\"Figure\",\"type\":\"Plot\"},{\"id\":\"3841e963-f96f-4807-a1e6-a1a95175f541\",\"subtype\":\"Figure\",\"type\":\"Plot\"},{\"id\":\"5fb5ab89-2e4c-4e15-a6d1-aa316b7e366a\",\"subtype\":\"Figure\",\"type\":\"Plot\"},{\"id\":\"d3c7b64d-1f09-4f96-aaa4-662dd7435af9\",\"subtype\":\"Figure\",\"type\":\"Plot\"}]},\"id\":\"aece0004-5179-494e-874c-1f22fa3a0cc6\",\"type\":\"Row\"},{\"attributes\":{},\"id\":\"5732ad7b-9bd8-4aeb-9f0e-9c0c840a0228\",\"type\":\"ResetTool\"},{\"attributes\":{},\"id\":\"799adecd-fae1-4167-a4ee-3572e008f19e\",\"type\":\"LinearScale\"},{\"attributes\":{\"source\":{\"id\":\"5b68ccfb-e3c4-4f45-a9df-104b9513c381\",\"type\":\"ColumnDataSource\"}},\"id\":\"6e77721e-d3f6-4f09-b4d9-7af9df0168eb\",\"type\":\"CDSView\"},{\"attributes\":{},\"id\":\"6a5c0383-914e-4c6e-9363-cea2d313edd6\",\"type\":\"BasicTicker\"},{\"attributes\":{\"fill_color\":{\"value\":\"#1f77b4\"},\"line_color\":{\"value\":\"#1f77b4\"},\"x\":{\"field\":\"x\"},\"y\":{\"field\":\"y\"}},\"id\":\"2402220f-e152-4ee2-8523-0c4e0ee78bca\",\"type\":\"Circle\"},{\"attributes\":{\"plot\":null,\"text\":\"Aspect scale = 4\"},\"id\":\"40177030-0fe5-4ece-8f71-d1deb11f11ec\",\"type\":\"Title\"},{\"attributes\":{},\"id\":\"fcdfe8ba-0887-48a3-be9d-a9f0c666e9f4\",\"type\":\"ResetTool\"},{\"attributes\":{\"bottom_units\":\"screen\",\"fill_alpha\":{\"value\":0.5},\"fill_color\":{\"value\":\"lightgrey\"},\"left_units\":\"screen\",\"level\":\"overlay\",\"line_alpha\":{\"value\":1.0},\"line_color\":{\"value\":\"black\"},\"line_dash\":[4,4],\"line_width\":{\"value\":2},\"plot\":null,\"render_mode\":\"css\",\"right_units\":\"screen\",\"top_units\":\"screen\"},\"id\":\"66af64ff-2eb7-4fb0-af99-eb4ece05e136\",\"type\":\"BoxAnnotation\"},{\"attributes\":{\"active_drag\":\"auto\",\"active_inspect\":\"auto\",\"active_scroll\":\"auto\",\"active_tap\":\"auto\",\"tools\":[{\"id\":\"060099fc-24f1-4aa3-ad8b-2804410b0e95\",\"type\":\"PanTool\"},{\"id\":\"e5a3fd8a-16ac-44df-9760-03a142b0130b\",\"type\":\"WheelZoomTool\"},{\"id\":\"58295af7-1364-41aa-832c-58e8e23191e2\",\"type\":\"BoxZoomTool\"},{\"id\":\"aec20518-c7d9-4fd2-a27e-4f29aa3a2627\",\"type\":\"SaveTool\"},{\"id\":\"7bf278b9-bea9-47af-a9bd-45affdf982f6\",\"type\":\"ResetTool\"},{\"id\":\"5f72a0b3-08bf-4aa8-adde-70ac7d75becc\",\"type\":\"HelpTool\"}]},\"id\":\"edc0a2e7-74c3-43f1-ac27-9101d135bcb5\",\"type\":\"Toolbar\"},{\"attributes\":{\"plot\":{\"id\":\"2e96c987-9f76-44f0-b1ec-8bc93fc2b33f\",\"subtype\":\"Figure\",\"type\":\"Plot\"},\"ticker\":{\"id\":\"b1f6bc02-aa48-4f2b-a62f-c9d22b2ff7ce\",\"type\":\"BasicTicker\"}},\"id\":\"9305cc7c-74a9-49c8-96f1-9637fc843df5\",\"type\":\"Grid\"},{\"attributes\":{},\"id\":\"579fdd6a-6c6e-46b9-b387-f7c67dfb3d73\",\"type\":\"HelpTool\"},{\"attributes\":{\"callback\":null},\"id\":\"453b73df-0239-46d0-b0d2-aaccc6579039\",\"type\":\"DataRange1d\"},{\"attributes\":{\"formatter\":{\"id\":\"82e6b0b0-6b03-4b58-ab68-0a2a5b0f1200\",\"type\":\"BasicTickFormatter\"},\"plot\":{\"id\":\"b8ea222f-c229-4b3d-97e7-9b6cc133ac75\",\"subtype\":\"Figure\",\"type\":\"Plot\"},\"ticker\":{\"id\":\"6a5c0383-914e-4c6e-9363-cea2d313edd6\",\"type\":\"BasicTicker\"}},\"id\":\"33dedad6-6ec2-4d55-9f38-6b4751e9d036\",\"type\":\"LinearAxis\"},{\"attributes\":{},\"id\":\"546c5e0b-885b-4c85-a6b7-1c12c506e3d1\",\"type\":\"LinearScale\"},{\"attributes\":{\"callback\":null},\"id\":\"9b992b39-9c31-4f9e-8cfc-55114e80012c\",\"type\":\"DataRange1d\"},{\"attributes\":{\"data_source\":{\"id\":\"2923c961-f565-4d73-902f-57d5df9e013a\",\"type\":\"ColumnDataSource\"},\"glyph\":{\"id\":\"2402220f-e152-4ee2-8523-0c4e0ee78bca\",\"type\":\"Circle\"},\"hover_glyph\":null,\"muted_glyph\":null,\"nonselection_glyph\":{\"id\":\"8e84f0b6-d349-48c4-805b-a832c1f1cf5a\",\"type\":\"Circle\"},\"selection_glyph\":null,\"view\":{\"id\":\"41edbdf1-4776-438a-9a73-788863587732\",\"type\":\"CDSView\"}},\"id\":\"ceaee3ba-ee37-4d7f-8b25-f946aa63d368\",\"type\":\"GlyphRenderer\"},{\"attributes\":{\"formatter\":{\"id\":\"a2a58890-f32e-44fa-b1e1-9867e5fa1bfe\",\"type\":\"BasicTickFormatter\"},\"plot\":{\"id\":\"3841e963-f96f-4807-a1e6-a1a95175f541\",\"subtype\":\"Figure\",\"type\":\"Plot\"},\"ticker\":{\"id\":\"274a0f2c-4850-476a-bc22-3a5c59137b06\",\"type\":\"BasicTicker\"}},\"id\":\"49b748c2-1459-4e2c-a365-55293851cbd8\",\"type\":\"LinearAxis\"},{\"attributes\":{},\"id\":\"f1ca8458-e5e5-4787-b442-f91c1bddc6d8\",\"type\":\"WheelZoomTool\"},{\"attributes\":{\"data_source\":{\"id\":\"fa2b7d45-53d3-43cd-b13d-17b48dd0868c\",\"type\":\"ColumnDataSource\"},\"glyph\":{\"id\":\"ec3fec58-c566-4d1b-884a-09802e61e8a5\",\"type\":\"Circle\"},\"hover_glyph\":null,\"muted_glyph\":null,\"nonselection_glyph\":{\"id\":\"4a8582ac-7230-4525-8e3c-539cc2861e04\",\"type\":\"Circle\"},\"selection_glyph\":null,\"view\":{\"id\":\"a28a39a7-1f13-48bc-9ea9-1c0e65f8d192\",\"type\":\"CDSView\"}},\"id\":\"b8e933ed-e486-4459-a5e4-295c13826083\",\"type\":\"GlyphRenderer\"},{\"attributes\":{},\"id\":\"f8d70a0f-3071-42fc-b661-b5ebf79c5be2\",\"type\":\"WheelZoomTool\"},{\"attributes\":{\"below\":[{\"id\":\"b44fc470-f674-44a7-a454-7cbaa389eb79\",\"type\":\"LinearAxis\"}],\"left\":[{\"id\":\"38dca51a-c025-4057-b645-ad0b9ee90ad9\",\"type\":\"LinearAxis\"}],\"match_aspect\":true,\"plot_height\":400,\"plot_width\":200,\"renderers\":[{\"id\":\"b44fc470-f674-44a7-a454-7cbaa389eb79\",\"type\":\"LinearAxis\"},{\"id\":\"f647207f-5391-46be-a0c1-40ab3ce2922b\",\"type\":\"Grid\"},{\"id\":\"38dca51a-c025-4057-b645-ad0b9ee90ad9\",\"type\":\"LinearAxis\"},{\"id\":\"2703a7ca-af51-454d-8e9a-e5dbdc65e09d\",\"type\":\"Grid\"},{\"id\":\"d8db589d-0834-4fdf-8a50-a9b73b3e8485\",\"type\":\"BoxAnnotation\"},{\"id\":\"d02ab58d-b79a-4735-ac82-d92afb2b48ae\",\"type\":\"GlyphRenderer\"}],\"title\":{\"id\":\"e0af4f58-bcc7-472e-a884-adbfe89400ea\",\"type\":\"Title\"},\"toolbar\":{\"id\":\"05d84220-2ecc-4322-b28d-9b3bae8856f8\",\"type\":\"Toolbar\"},\"toolbar_location\":null,\"x_range\":{\"id\":\"7b0b337f-3c9f-48f5-89c2-7301bea15192\",\"type\":\"DataRange1d\"},\"x_scale\":{\"id\":\"bece9b50-553d-4be5-aae1-2e5689bd7a28\",\"type\":\"LinearScale\"},\"y_range\":{\"id\":\"e0a2edc7-fb2a-4f4b-a1b1-aa5d7bbc2589\",\"type\":\"DataRange1d\"},\"y_scale\":{\"id\":\"5028aab3-fb17-44b5-b2a1-75cd42b64fde\",\"type\":\"LinearScale\"}},\"id\":\"e94147f3-c94a-4b07-94e1-fa6c71d386db\",\"subtype\":\"Figure\",\"type\":\"Plot\"},{\"attributes\":{\"dimension\":1,\"plot\":{\"id\":\"ca84418b-d2c3-4c6e-8fe2-6a8aaf9641e8\",\"subtype\":\"Figure\",\"type\":\"Plot\"},\"ticker\":{\"id\":\"a96fe3fe-aeb4-4494-850a-2e8378eb1730\",\"type\":\"BasicTicker\"}},\"id\":\"79a1bb1c-ed02-4249-9639-2922e9c85add\",\"type\":\"Grid\"},{\"attributes\":{\"data_source\":{\"id\":\"b59dd84a-4b76-40ba-b9a7-b12fb4a2485b\",\"type\":\"ColumnDataSource\"},\"glyph\":{\"id\":\"88554582-1fdd-4da0-9878-afdfb17fddf4\",\"type\":\"Circle\"},\"hover_glyph\":null,\"muted_glyph\":null,\"nonselection_glyph\":{\"id\":\"8cc02564-7030-4004-8b97-a0596ee820bf\",\"type\":\"Circle\"},\"selection_glyph\":null,\"view\":{\"id\":\"eb11aa73-bc07-47a9-a09c-f3bdd59ade4b\",\"type\":\"CDSView\"}},\"id\":\"71dc3413-53e9-4058-b517-b6a4030b9d95\",\"type\":\"GlyphRenderer\"},{\"attributes\":{\"plot\":null,\"text\":\"Aspect scale = 1\"},\"id\":\"546c1926-f3ca-4b98-9dee-542c9081b14d\",\"type\":\"Title\"},{\"attributes\":{},\"id\":\"45ddf327-0c3c-49fe-8b77-47d200a9b32e\",\"type\":\"ResetTool\"},{\"attributes\":{},\"id\":\"d8263192-d284-458d-ab02-f8fc628c3635\",\"type\":\"SaveTool\"},{\"attributes\":{\"active_drag\":\"auto\",\"active_inspect\":\"auto\",\"active_scroll\":\"auto\",\"active_tap\":\"auto\",\"tools\":[{\"id\":\"111cbbfe-aa33-4435-bd43-a455be8d08fb\",\"type\":\"PanTool\"},{\"id\":\"06f6395c-e90e-4a07-aaf0-c41c84fcd6d4\",\"type\":\"WheelZoomTool\"},{\"id\":\"fa477bc1-41f2-403e-9fb9-4fede494512e\",\"type\":\"BoxZoomTool\"},{\"id\":\"64d27bb8-a9cf-4877-933f-79736b7458ff\",\"type\":\"SaveTool\"},{\"id\":\"a24c8d11-eb84-4a39-91aa-14cd04e3c6b4\",\"type\":\"ResetTool\"},{\"id\":\"1abc1bbb-db35-4b2e-8f71-648e8e48eadf\",\"type\":\"HelpTool\"}]},\"id\":\"338df182-1387-4410-8d01-c9c00e19da9f\",\"type\":\"Toolbar\"},{\"attributes\":{\"callback\":null,\"column_names\":[\"y\",\"x\"],\"data\":{\"x\":[-1,1,1,-1],\"y\":[-1,-1,1,1]}},\"id\":\"80d1a6b0-f1bb-475b-868f-9aba3c8d9f5f\",\"type\":\"ColumnDataSource\"},{\"attributes\":{},\"id\":\"111cbbfe-aa33-4435-bd43-a455be8d08fb\",\"type\":\"PanTool\"},{\"attributes\":{\"fill_alpha\":{\"value\":0.1},\"fill_color\":{\"value\":\"#1f77b4\"},\"line_alpha\":{\"value\":0.1},\"line_color\":{\"value\":\"#1f77b4\"},\"x\":{\"field\":\"x\"},\"y\":{\"field\":\"y\"}},\"id\":\"e0bce11f-2bc2-4c00-9c78-e9584f94bea5\",\"type\":\"Circle\"},{\"attributes\":{},\"id\":\"fea83d4a-92ed-454d-b024-ef9658e950cf\",\"type\":\"PanTool\"},{\"attributes\":{\"overlay\":{\"id\":\"66af64ff-2eb7-4fb0-af99-eb4ece05e136\",\"type\":\"BoxAnnotation\"}},\"id\":\"b6c5e637-cc5d-4bdc-b342-1524008739ca\",\"type\":\"BoxZoomTool\"},{\"attributes\":{},\"id\":\"c5ad3ede-642d-415a-9121-953151d76e43\",\"type\":\"BasicTickFormatter\"},{\"attributes\":{\"callback\":null,\"column_names\":[\"y\",\"x\"],\"data\":{\"x\":[-1,1,1,-1],\"y\":[-1,-1,1,1]}},\"id\":\"2923c961-f565-4d73-902f-57d5df9e013a\",\"type\":\"ColumnDataSource\"},{\"attributes\":{},\"id\":\"d1bbb407-5b9e-441e-9c6e-22c2faa52b87\",\"type\":\"HelpTool\"},{\"attributes\":{},\"id\":\"7a10b8fb-49d1-4d6c-a2cc-faf6fd61280d\",\"type\":\"LinearScale\"},{\"attributes\":{\"plot\":{\"id\":\"d19425e1-673f-40ec-9ad9-ec21f2b8881f\",\"subtype\":\"Figure\",\"type\":\"Plot\"},\"ticker\":{\"id\":\"33a41e89-c40b-4d00-9ccf-760e3792dc28\",\"type\":\"BasicTicker\"}},\"id\":\"175c49be-5d7c-41af-8853-0acbf88c7a3b\",\"type\":\"Grid\"},{\"attributes\":{\"bottom_units\":\"screen\",\"fill_alpha\":{\"value\":0.5},\"fill_color\":{\"value\":\"lightgrey\"},\"left_units\":\"screen\",\"level\":\"overlay\",\"line_alpha\":{\"value\":1.0},\"line_color\":{\"value\":\"black\"},\"line_dash\":[4,4],\"line_width\":{\"value\":2},\"plot\":null,\"render_mode\":\"css\",\"right_units\":\"screen\",\"top_units\":\"screen\"},\"id\":\"93532469-d0a1-493f-af3f-edb5c252298b\",\"type\":\"BoxAnnotation\"},{\"attributes\":{},\"id\":\"dd0dd7d0-2179-40ee-a2e6-7c0d77d3ef59\",\"type\":\"LinearScale\"},{\"attributes\":{\"children\":[{\"id\":\"83f2e875-5a5b-440b-af30-f1e5bf69e2ec\",\"type\":\"Row\"},{\"id\":\"aece0004-5179-494e-874c-1f22fa3a0cc6\",\"type\":\"Row\"},{\"id\":\"8ba1abc1-4f69-4ada-b498-f7c4786703b7\",\"type\":\"Row\"}]},\"id\":\"f570e05b-4187-407f-beec-c37137b8b676\",\"type\":\"Column\"},{\"attributes\":{},\"id\":\"e2137942-f71e-44e1-a942-34ad422e4bd6\",\"type\":\"BasicTicker\"},{\"attributes\":{\"plot\":null,\"text\":\"Aspect scale = 1\"},\"id\":\"ff0df460-e374-49c6-b984-e9f8ae73d66f\",\"type\":\"Title\"},{\"attributes\":{},\"id\":\"625cf11f-2157-40c7-a751-6459668f7c08\",\"type\":\"BasicTicker\"},{\"attributes\":{\"source\":{\"id\":\"80d1a6b0-f1bb-475b-868f-9aba3c8d9f5f\",\"type\":\"ColumnDataSource\"}},\"id\":\"e0d7c2af-af84-4716-9ade-3912df66aef1\",\"type\":\"CDSView\"},{\"attributes\":{\"callback\":null},\"id\":\"23c52a3b-f84d-4ceb-b90b-6b75a3262721\",\"type\":\"DataRange1d\"},{\"attributes\":{\"data_source\":{\"id\":\"80d1a6b0-f1bb-475b-868f-9aba3c8d9f5f\",\"type\":\"ColumnDataSource\"},\"glyph\":{\"id\":\"df417ecd-c83e-401e-8ae6-16eb03ab28fa\",\"type\":\"Circle\"},\"hover_glyph\":null,\"muted_glyph\":null,\"nonselection_glyph\":{\"id\":\"2cd21193-ace1-43b8-b75b-cc50571b815e\",\"type\":\"Circle\"},\"selection_glyph\":null,\"view\":{\"id\":\"e0d7c2af-af84-4716-9ade-3912df66aef1\",\"type\":\"CDSView\"}},\"id\":\"48bc0fb8-1a80-499b-97c2-438aab9b9123\",\"type\":\"GlyphRenderer\"},{\"attributes\":{},\"id\":\"3806698c-c2b9-4a75-aa9f-5e9cc9c242c0\",\"type\":\"WheelZoomTool\"},{\"attributes\":{},\"id\":\"a1d5450f-eef4-4231-9615-3c6e87fa7a96\",\"type\":\"SaveTool\"},{\"attributes\":{\"callback\":null,\"data\":{}},\"id\":\"5b68ccfb-e3c4-4f45-a9df-104b9513c381\",\"type\":\"ColumnDataSource\"},{\"attributes\":{\"callback\":null,\"column_names\":[\"y\",\"x\"],\"data\":{\"x\":[-1,1,1,-1],\"y\":[-1,-1,1,1]}},\"id\":\"ed92ae97-7c49-499d-993c-5ada46facc12\",\"type\":\"ColumnDataSource\"},{\"attributes\":{},\"id\":\"a2a58890-f32e-44fa-b1e1-9867e5fa1bfe\",\"type\":\"BasicTickFormatter\"},{\"attributes\":{\"overlay\":{\"id\":\"09f74bd7-165f-4af0-aee9-45da505f385b\",\"type\":\"BoxAnnotation\"}},\"id\":\"bfdbe63a-83ac-402d-8fbc-f3d39344abd0\",\"type\":\"BoxZoomTool\"},{\"attributes\":{\"fill_color\":{\"value\":\"#1f77b4\"},\"line_color\":{\"value\":\"#1f77b4\"},\"x\":{\"field\":\"x\"},\"y\":{\"field\":\"y\"}},\"id\":\"ff25dc9a-56b5-4e62-8555-18e5e1716b50\",\"type\":\"Circle\"},{\"attributes\":{},\"id\":\"0976e004-af79-42ab-a946-f682e9b479c8\",\"type\":\"HelpTool\"},{\"attributes\":{\"fill_color\":{\"value\":\"#1f77b4\"},\"line_color\":{\"value\":\"#1f77b4\"},\"x\":{\"field\":\"x\"},\"y\":{\"field\":\"y\"}},\"id\":\"b5cc3533-c4d9-47b6-8266-82bdeedf103f\",\"type\":\"Circle\"},{\"attributes\":{\"data_source\":{\"id\":\"a653e626-4e67-4806-a729-224899cc8177\",\"type\":\"ColumnDataSource\"},\"glyph\":{\"id\":\"ff25dc9a-56b5-4e62-8555-18e5e1716b50\",\"type\":\"Circle\"},\"hover_glyph\":null,\"muted_glyph\":null,\"nonselection_glyph\":{\"id\":\"e0bce11f-2bc2-4c00-9c78-e9584f94bea5\",\"type\":\"Circle\"},\"selection_glyph\":null,\"view\":{\"id\":\"8bd0362f-5686-4d5c-be2e-6b67dd72606a\",\"type\":\"CDSView\"}},\"id\":\"d02ab58d-b79a-4735-ac82-d92afb2b48ae\",\"type\":\"GlyphRenderer\"},{\"attributes\":{\"dimension\":1,\"plot\":{\"id\":\"5fb5ab89-2e4c-4e15-a6d1-aa316b7e366a\",\"subtype\":\"Figure\",\"type\":\"Plot\"},\"ticker\":{\"id\":\"c8de6516-0ba9-4a7e-ad71-a8bb8f6bd6a3\",\"type\":\"BasicTicker\"}},\"id\":\"f0064c42-5e00-4b29-9adc-bc1f6ae0740a\",\"type\":\"Grid\"},{\"attributes\":{\"fill_alpha\":{\"value\":0.1},\"fill_color\":{\"value\":\"#1f77b4\"},\"line_alpha\":{\"value\":0.1},\"line_color\":{\"value\":\"#1f77b4\"},\"x\":{\"field\":\"x\"},\"y\":{\"field\":\"y\"}},\"id\":\"8cc02564-7030-4004-8b97-a0596ee820bf\",\"type\":\"Circle\"},{\"attributes\":{\"plot\":{\"id\":\"aec215e0-afe3-433f-9723-6742f0e62133\",\"subtype\":\"Figure\",\"type\":\"Plot\"},\"ticker\":{\"id\":\"e2137942-f71e-44e1-a942-34ad422e4bd6\",\"type\":\"BasicTicker\"}},\"id\":\"25ba86f7-c718-461b-982f-11934cb23077\",\"type\":\"Grid\"},{\"attributes\":{\"source\":{\"id\":\"4e5a4b84-5585-47a2-8e17-030bd4d6d58b\",\"type\":\"ColumnDataSource\"}},\"id\":\"9138c06c-fde0-4d7c-aa4c-f094d2c8a791\",\"type\":\"CDSView\"},{\"attributes\":{\"fill_alpha\":{\"value\":0.1},\"fill_color\":{\"value\":\"#1f77b4\"},\"line_alpha\":{\"value\":0.1},\"line_color\":{\"value\":\"#1f77b4\"},\"x\":{\"field\":\"x\"},\"y\":{\"field\":\"y\"}},\"id\":\"2cd21193-ace1-43b8-b75b-cc50571b815e\",\"type\":\"Circle\"},{\"attributes\":{},\"id\":\"ea78ba4f-b0eb-47cd-9524-be52656f4789\",\"type\":\"HelpTool\"},{\"attributes\":{},\"id\":\"7b5d7222-0e35-42f8-bbfd-17c1ab15916e\",\"type\":\"HelpTool\"},{\"attributes\":{\"formatter\":{\"id\":\"d3b4d9c1-7cda-4002-85b7-847940f59e64\",\"type\":\"BasicTickFormatter\"},\"plot\":{\"id\":\"d19425e1-673f-40ec-9ad9-ec21f2b8881f\",\"subtype\":\"Figure\",\"type\":\"Plot\"},\"ticker\":{\"id\":\"33a41e89-c40b-4d00-9ccf-760e3792dc28\",\"type\":\"BasicTicker\"}},\"id\":\"5129e735-85c8-456f-8aaf-3abf26bcfe71\",\"type\":\"LinearAxis\"},{\"attributes\":{},\"id\":\"7ea9389f-d082-4c24-8099-4d1b8d141a11\",\"type\":\"BasicTicker\"},{\"attributes\":{\"bottom_units\":\"screen\",\"fill_alpha\":{\"value\":0.5},\"fill_color\":{\"value\":\"lightgrey\"},\"left_units\":\"screen\",\"level\":\"overlay\",\"line_alpha\":{\"value\":1.0},\"line_color\":{\"value\":\"black\"},\"line_dash\":[4,4],\"line_width\":{\"value\":2},\"plot\":null,\"render_mode\":\"css\",\"right_units\":\"screen\",\"top_units\":\"screen\"},\"id\":\"bbcd7c18-74cc-4e42-b45d-9e49f364a662\",\"type\":\"BoxAnnotation\"},{\"attributes\":{},\"id\":\"060099fc-24f1-4aa3-ad8b-2804410b0e95\",\"type\":\"PanTool\"},{\"attributes\":{\"plot\":{\"id\":\"3841e963-f96f-4807-a1e6-a1a95175f541\",\"subtype\":\"Figure\",\"type\":\"Plot\"},\"ticker\":{\"id\":\"625cf11f-2157-40c7-a751-6459668f7c08\",\"type\":\"BasicTicker\"}},\"id\":\"88d32ace-2919-4521-8c02-7fbfcd01dc5a\",\"type\":\"Grid\"},{\"attributes\":{},\"id\":\"e3da3f46-45a3-43f8-9721-322c1ae04d24\",\"type\":\"SaveTool\"},{\"attributes\":{\"formatter\":{\"id\":\"ddc5cf60-a63a-4370-a4aa-5de8882709ae\",\"type\":\"BasicTickFormatter\"},\"plot\":{\"id\":\"df9cc2f5-6fde-41ad-a98f-8e523fe11c35\",\"subtype\":\"Figure\",\"type\":\"Plot\"},\"ticker\":{\"id\":\"473ef06f-360f-46e8-baa1-7099ceb062d7\",\"type\":\"BasicTicker\"}},\"id\":\"3362cd1c-029e-4dbb-92c0-ac0df811dc15\",\"type\":\"LinearAxis\"},{\"attributes\":{},\"id\":\"5580e707-61f9-41f5-9065-4cacca39234b\",\"type\":\"BasicTickFormatter\"},{\"attributes\":{},\"id\":\"d833f9f2-e294-4ad9-b176-4dc8fa33217d\",\"type\":\"BasicTickFormatter\"},{\"attributes\":{},\"id\":\"1abc1bbb-db35-4b2e-8f71-648e8e48eadf\",\"type\":\"HelpTool\"},{\"attributes\":{},\"id\":\"dd0e68bc-8b7f-4480-b63c-9db1b3575557\",\"type\":\"PanTool\"},{\"attributes\":{\"callback\":null},\"id\":\"69367e1e-d2c8-45d5-ac5d-a7c2d8b95a30\",\"type\":\"DataRange1d\"},{\"attributes\":{\"formatter\":{\"id\":\"d833f9f2-e294-4ad9-b176-4dc8fa33217d\",\"type\":\"BasicTickFormatter\"},\"plot\":{\"id\":\"ca84418b-d2c3-4c6e-8fe2-6a8aaf9641e8\",\"subtype\":\"Figure\",\"type\":\"Plot\"},\"ticker\":{\"id\":\"922cf5a3-3298-41de-a859-6c46792dea56\",\"type\":\"BasicTicker\"}},\"id\":\"523aa1a5-5b56-4964-8cd5-871d2534d4c1\",\"type\":\"LinearAxis\"},{\"attributes\":{\"overlay\":{\"id\":\"925ce38f-21c1-41d1-b18c-3e4cedbaaf4c\",\"type\":\"BoxAnnotation\"}},\"id\":\"5e8a3372-3fef-4e2e-8892-c8f069e96042\",\"type\":\"BoxZoomTool\"},{\"attributes\":{\"callback\":null},\"id\":\"47c88726-30db-4725-b5ca-156fac859017\",\"type\":\"DataRange1d\"},{\"attributes\":{\"plot\":null,\"text\":\"Aspect scale = 0.5\"},\"id\":\"ff846b07-cbab-4c78-803a-cfbc6d919bc3\",\"type\":\"Title\"},{\"attributes\":{\"callback\":null},\"id\":\"7b0b337f-3c9f-48f5-89c2-7301bea15192\",\"type\":\"DataRange1d\"},{\"attributes\":{},\"id\":\"372c1b4d-5d41-4ffa-8046-8a475095c272\",\"type\":\"SaveTool\"},{\"attributes\":{\"formatter\":{\"id\":\"5580e707-61f9-41f5-9065-4cacca39234b\",\"type\":\"BasicTickFormatter\"},\"plot\":{\"id\":\"2e96c987-9f76-44f0-b1ec-8bc93fc2b33f\",\"subtype\":\"Figure\",\"type\":\"Plot\"},\"ticker\":{\"id\":\"b1f6bc02-aa48-4f2b-a62f-c9d22b2ff7ce\",\"type\":\"BasicTicker\"}},\"id\":\"c0d5e770-70db-45c1-b880-4aa7821ffdc5\",\"type\":\"LinearAxis\"},{\"attributes\":{\"callback\":null,\"column_names\":[\"y\",\"x\"],\"data\":{\"x\":[-1,1,1,-1],\"y\":[-1,-1,1,1]}},\"id\":\"a653e626-4e67-4806-a729-224899cc8177\",\"type\":\"ColumnDataSource\"},{\"attributes\":{\"callback\":null},\"id\":\"7b7e2a30-f1bb-4c33-b9ae-aa84ad4859f9\",\"type\":\"DataRange1d\"},{\"attributes\":{\"fill_alpha\":{\"value\":0.1},\"fill_color\":{\"value\":\"#1f77b4\"},\"line_alpha\":{\"value\":0.1},\"line_color\":{\"value\":\"#1f77b4\"},\"x\":{\"field\":\"x\"},\"y\":{\"field\":\"y\"}},\"id\":\"4a8582ac-7230-4525-8e3c-539cc2861e04\",\"type\":\"Circle\"},{\"attributes\":{},\"id\":\"5028aab3-fb17-44b5-b2a1-75cd42b64fde\",\"type\":\"LinearScale\"},{\"attributes\":{\"bottom_units\":\"screen\",\"fill_alpha\":{\"value\":0.5},\"fill_color\":{\"value\":\"lightgrey\"},\"left_units\":\"screen\",\"level\":\"overlay\",\"line_alpha\":{\"value\":1.0},\"line_color\":{\"value\":\"black\"},\"line_dash\":[4,4],\"line_width\":{\"value\":2},\"plot\":null,\"render_mode\":\"css\",\"right_units\":\"screen\",\"top_units\":\"screen\"},\"id\":\"036678f9-bc37-439d-9137-a1bb883ddd07\",\"type\":\"BoxAnnotation\"},{\"attributes\":{\"callback\":null,\"column_names\":[\"y\",\"x\"],\"data\":{\"x\":[-1,1,1,-1],\"y\":[-1,-1,1,1]}},\"id\":\"b59dd84a-4b76-40ba-b9a7-b12fb4a2485b\",\"type\":\"ColumnDataSource\"},{\"attributes\":{},\"id\":\"7f12c3dc-28dd-43c5-80f7-6855c699a073\",\"type\":\"SaveTool\"},{\"attributes\":{\"formatter\":{\"id\":\"b8a2ef2b-d01e-4a22-91f2-5be0f95599b5\",\"type\":\"BasicTickFormatter\"},\"plot\":{\"id\":\"ca84418b-d2c3-4c6e-8fe2-6a8aaf9641e8\",\"subtype\":\"Figure\",\"type\":\"Plot\"},\"ticker\":{\"id\":\"a96fe3fe-aeb4-4494-850a-2e8378eb1730\",\"type\":\"BasicTicker\"}},\"id\":\"93b07947-499b-488d-9ddd-28ad068fd8cf\",\"type\":\"LinearAxis\"},{\"attributes\":{},\"id\":\"20f29e48-98f9-451e-8c07-207d2bc28d8e\",\"type\":\"PanTool\"},{\"attributes\":{\"formatter\":{\"id\":\"9ff33d1e-5093-44ab-930f-eef49c774939\",\"type\":\"BasicTickFormatter\"},\"plot\":{\"id\":\"aec215e0-afe3-433f-9723-6742f0e62133\",\"subtype\":\"Figure\",\"type\":\"Plot\"},\"ticker\":{\"id\":\"e2137942-f71e-44e1-a942-34ad422e4bd6\",\"type\":\"BasicTicker\"}},\"id\":\"ca4b1e4a-9a7e-4b3b-935f-b6f8db6c9ec4\",\"type\":\"LinearAxis\"},{\"attributes\":{},\"id\":\"188e69de-1715-45e2-bcf8-9ed2496df488\",\"type\":\"LinearScale\"},{\"attributes\":{},\"id\":\"f4b97668-d1ea-47f3-999d-92c9b831ab91\",\"type\":\"ResetTool\"},{\"attributes\":{},\"id\":\"61cc025e-4c29-4842-a073-9c5dd3dcac35\",\"type\":\"WheelZoomTool\"},{\"attributes\":{\"fill_alpha\":{\"value\":0.1},\"fill_color\":{\"value\":\"#1f77b4\"},\"line_alpha\":{\"value\":0.1},\"line_color\":{\"value\":\"#1f77b4\"},\"x\":{\"field\":\"x\"},\"y\":{\"field\":\"y\"}},\"id\":\"795e4ae2-d02f-4f7a-9ca2-e3747a96cc3d\",\"type\":\"Circle\"},{\"attributes\":{\"source\":{\"id\":\"ed04e09e-3244-44da-bf0a-afa60c3238c8\",\"type\":\"ColumnDataSource\"}},\"id\":\"7a7e00fb-e024-4c88-b225-234b45117250\",\"type\":\"CDSView\"},{\"attributes\":{\"callback\":null},\"id\":\"f4e72bf6-4247-40fe-a5bd-46cad6a2bd7b\",\"type\":\"DataRange1d\"},{\"attributes\":{\"fill_color\":{\"value\":\"#1f77b4\"},\"line_color\":{\"value\":\"#1f77b4\"},\"x\":{\"field\":\"x\"},\"y\":{\"field\":\"y\"}},\"id\":\"88554582-1fdd-4da0-9878-afdfb17fddf4\",\"type\":\"Circle\"},{\"attributes\":{},\"id\":\"82e6b0b0-6b03-4b58-ab68-0a2a5b0f1200\",\"type\":\"BasicTickFormatter\"},{\"attributes\":{\"plot\":{\"id\":\"d3c7b64d-1f09-4f96-aaa4-662dd7435af9\",\"subtype\":\"Figure\",\"type\":\"Plot\"},\"ticker\":{\"id\":\"9fd94444-e397-4213-865e-35c3a786b19f\",\"type\":\"BasicTicker\"}},\"id\":\"2bf633e1-767a-4130-9d8f-d4cabd523186\",\"type\":\"Grid\"},{\"attributes\":{},\"id\":\"5d47ac1e-d79f-4d27-8aed-03478a484757\",\"type\":\"BasicTickFormatter\"},{\"attributes\":{},\"id\":\"a651a983-599d-4540-99a7-ae67953e3fc2\",\"type\":\"LinearScale\"},{\"attributes\":{},\"id\":\"4f9175b3-b6a1-4204-af50-073985f97865\",\"type\":\"HelpTool\"},{\"attributes\":{},\"id\":\"8ff4e2e2-d226-41ff-bd4b-523bf7deba4b\",\"type\":\"BasicTickFormatter\"},{\"attributes\":{},\"id\":\"145bfe85-70c3-48a6-bd06-f78b4b8416f4\",\"type\":\"ResetTool\"},{\"attributes\":{\"children\":[{\"id\":\"aec215e0-afe3-433f-9723-6742f0e62133\",\"subtype\":\"Figure\",\"type\":\"Plot\"},{\"id\":\"e94147f3-c94a-4b07-94e1-fa6c71d386db\",\"subtype\":\"Figure\",\"type\":\"Plot\"},{\"id\":\"d19425e1-673f-40ec-9ad9-ec21f2b8881f\",\"subtype\":\"Figure\",\"type\":\"Plot\"},{\"id\":\"df9cc2f5-6fde-41ad-a98f-8e523fe11c35\",\"subtype\":\"Figure\",\"type\":\"Plot\"}]},\"id\":\"8ba1abc1-4f69-4ada-b498-f7c4786703b7\",\"type\":\"Row\"},{\"attributes\":{},\"id\":\"f500d517-b9c4-4072-8514-c87066c005d4\",\"type\":\"BasicTicker\"},{\"attributes\":{},\"id\":\"9ff33d1e-5093-44ab-930f-eef49c774939\",\"type\":\"BasicTickFormatter\"},{\"attributes\":{},\"id\":\"c8de6516-0ba9-4a7e-ad71-a8bb8f6bd6a3\",\"type\":\"BasicTicker\"},{\"attributes\":{\"formatter\":{\"id\":\"5d47ac1e-d79f-4d27-8aed-03478a484757\",\"type\":\"BasicTickFormatter\"},\"plot\":{\"id\":\"2e96c987-9f76-44f0-b1ec-8bc93fc2b33f\",\"subtype\":\"Figure\",\"type\":\"Plot\"},\"ticker\":{\"id\":\"1f469518-613c-4833-bbc9-0e6473f64331\",\"type\":\"BasicTicker\"}},\"id\":\"ca821eb0-43b2-4269-96c2-e4f09c6d4362\",\"type\":\"LinearAxis\"},{\"attributes\":{},\"id\":\"a5719798-d2c3-455a-ae48-fdc7c73305b1\",\"type\":\"HelpTool\"},{\"attributes\":{\"callback\":null},\"id\":\"9d1d7804-d180-4ea0-ade0-0b3ee7adee93\",\"type\":\"DataRange1d\"},{\"attributes\":{\"overlay\":{\"id\":\"036678f9-bc37-439d-9137-a1bb883ddd07\",\"type\":\"BoxAnnotation\"}},\"id\":\"c5b150a5-c35e-423c-b2da-86a162f7074c\",\"type\":\"BoxZoomTool\"},{\"attributes\":{\"bottom_units\":\"screen\",\"fill_alpha\":{\"value\":0.5},\"fill_color\":{\"value\":\"lightgrey\"},\"left_units\":\"screen\",\"level\":\"overlay\",\"line_alpha\":{\"value\":1.0},\"line_color\":{\"value\":\"black\"},\"line_dash\":[4,4],\"line_width\":{\"value\":2},\"plot\":null,\"render_mode\":\"css\",\"right_units\":\"screen\",\"top_units\":\"screen\"},\"id\":\"d8db589d-0834-4fdf-8a50-a9b73b3e8485\",\"type\":\"BoxAnnotation\"},{\"attributes\":{\"source\":{\"id\":\"b550ccca-30dd-459c-bdbd-943b982f0de7\",\"type\":\"ColumnDataSource\"}},\"id\":\"4d6dcc72-c9c6-488a-9a55-bdf2902e6cc0\",\"type\":\"CDSView\"},{\"attributes\":{},\"id\":\"662c4c8e-92d2-4a26-a3f5-b7e8b9cf8881\",\"type\":\"LinearScale\"},{\"attributes\":{\"plot\":{\"id\":\"ca84418b-d2c3-4c6e-8fe2-6a8aaf9641e8\",\"subtype\":\"Figure\",\"type\":\"Plot\"},\"ticker\":{\"id\":\"922cf5a3-3298-41de-a859-6c46792dea56\",\"type\":\"BasicTicker\"}},\"id\":\"f425ecce-a3a9-47f7-89ca-e25f1b738964\",\"type\":\"Grid\"},{\"attributes\":{},\"id\":\"96548660-877f-4283-bb1b-77e8fd2a424e\",\"type\":\"LinearScale\"},{\"attributes\":{\"plot\":null,\"text\":\"Aspect scale = 1\"},\"id\":\"e0af4f58-bcc7-472e-a884-adbfe89400ea\",\"type\":\"Title\"},{\"attributes\":{\"callback\":null},\"id\":\"b786a21c-9ff6-473c-8d14-a3e4ac16bd7d\",\"type\":\"DataRange1d\"},{\"attributes\":{\"dimension\":1,\"plot\":{\"id\":\"3841e963-f96f-4807-a1e6-a1a95175f541\",\"subtype\":\"Figure\",\"type\":\"Plot\"},\"ticker\":{\"id\":\"274a0f2c-4850-476a-bc22-3a5c59137b06\",\"type\":\"BasicTicker\"}},\"id\":\"f019d52a-b8d0-4b10-9dd4-d99e515947c0\",\"type\":\"Grid\"},{\"attributes\":{},\"id\":\"5238bebe-2bd9-48a0-9a03-bd53eed47044\",\"type\":\"HelpTool\"},{\"attributes\":{},\"id\":\"fc59bcfa-8ea1-4d53-8903-d9821df2668e\",\"type\":\"LinearScale\"},{\"attributes\":{},\"id\":\"d3b4d9c1-7cda-4002-85b7-847940f59e64\",\"type\":\"BasicTickFormatter\"},{\"attributes\":{},\"id\":\"816bfe13-db75-4156-9731-310e2320e4c7\",\"type\":\"PanTool\"},{\"attributes\":{\"dimension\":1,\"plot\":{\"id\":\"aec215e0-afe3-433f-9723-6742f0e62133\",\"subtype\":\"Figure\",\"type\":\"Plot\"},\"ticker\":{\"id\":\"a8373823-9393-4f65-81bf-244f9dd930ed\",\"type\":\"BasicTicker\"}},\"id\":\"72edc398-d819-4203-bc9c-1c2578f36f59\",\"type\":\"Grid\"},{\"attributes\":{\"dimension\":1,\"plot\":{\"id\":\"d19425e1-673f-40ec-9ad9-ec21f2b8881f\",\"subtype\":\"Figure\",\"type\":\"Plot\"},\"ticker\":{\"id\":\"f500d517-b9c4-4072-8514-c87066c005d4\",\"type\":\"BasicTicker\"}},\"id\":\"753ef019-286b-45d5-874b-840f6436b388\",\"type\":\"Grid\"},{\"attributes\":{\"fill_color\":{\"value\":\"#1f77b4\"},\"line_color\":{\"value\":\"#1f77b4\"},\"x\":{\"field\":\"x\"},\"y\":{\"field\":\"y\"}},\"id\":\"df417ecd-c83e-401e-8ae6-16eb03ab28fa\",\"type\":\"Circle\"},{\"attributes\":{\"formatter\":{\"id\":\"fcbd524d-fc1f-41b8-b6d8-4d2f4cea6e00\",\"type\":\"BasicTickFormatter\"},\"plot\":{\"id\":\"df9cc2f5-6fde-41ad-a98f-8e523fe11c35\",\"subtype\":\"Figure\",\"type\":\"Plot\"},\"ticker\":{\"id\":\"8cf2360c-988e-42b2-8034-e5b99d9f1706\",\"type\":\"BasicTicker\"}},\"id\":\"d05a4e98-c1e6-47e6-b748-96d1e404cc57\",\"type\":\"LinearAxis\"},{\"attributes\":{\"below\":[{\"id\":\"5129e735-85c8-456f-8aaf-3abf26bcfe71\",\"type\":\"LinearAxis\"}],\"left\":[{\"id\":\"bb08dbaa-305e-41bd-a3e3-0c3ef55f6d35\",\"type\":\"LinearAxis\"}],\"match_aspect\":true,\"plot_height\":200,\"plot_width\":400,\"renderers\":[{\"id\":\"5129e735-85c8-456f-8aaf-3abf26bcfe71\",\"type\":\"LinearAxis\"},{\"id\":\"175c49be-5d7c-41af-8853-0acbf88c7a3b\",\"type\":\"Grid\"},{\"id\":\"bb08dbaa-305e-41bd-a3e3-0c3ef55f6d35\",\"type\":\"LinearAxis\"},{\"id\":\"753ef019-286b-45d5-874b-840f6436b388\",\"type\":\"Grid\"},{\"id\":\"09f74bd7-165f-4af0-aee9-45da505f385b\",\"type\":\"BoxAnnotation\"},{\"id\":\"e5c3b7a5-17a1-454e-b1e5-ccca0ec10070\",\"type\":\"GlyphRenderer\"}],\"title\":{\"id\":\"546c1926-f3ca-4b98-9dee-542c9081b14d\",\"type\":\"Title\"},\"toolbar\":{\"id\":\"d9e30c45-03e9-4238-8061-94d509652554\",\"type\":\"Toolbar\"},\"toolbar_location\":null,\"x_range\":{\"id\":\"7b7e2a30-f1bb-4c33-b9ae-aa84ad4859f9\",\"type\":\"DataRange1d\"},\"x_scale\":{\"id\":\"70ba39dc-5c64-4740-9bf2-15c6812e7e96\",\"type\":\"LinearScale\"},\"y_range\":{\"id\":\"42753a88-5019-4873-861a-5d8b94b3a3ab\",\"type\":\"DataRange1d\"},\"y_scale\":{\"id\":\"fc59bcfa-8ea1-4d53-8903-d9821df2668e\",\"type\":\"LinearScale\"}},\"id\":\"d19425e1-673f-40ec-9ad9-ec21f2b8881f\",\"subtype\":\"Figure\",\"type\":\"Plot\"},{\"attributes\":{},\"id\":\"922cf5a3-3298-41de-a859-6c46792dea56\",\"type\":\"BasicTicker\"},{\"attributes\":{\"callback\":null},\"id\":\"3ea99281-aa1e-4d8c-8c3b-be41d26b7766\",\"type\":\"DataRange1d\"},{\"attributes\":{\"bottom_units\":\"screen\",\"fill_alpha\":{\"value\":0.5},\"fill_color\":{\"value\":\"lightgrey\"},\"left_units\":\"screen\",\"level\":\"overlay\",\"line_alpha\":{\"value\":1.0},\"line_color\":{\"value\":\"black\"},\"line_dash\":[4,4],\"line_width\":{\"value\":2},\"plot\":null,\"render_mode\":\"css\",\"right_units\":\"screen\",\"top_units\":\"screen\"},\"id\":\"925ce38f-21c1-41d1-b18c-3e4cedbaaf4c\",\"type\":\"BoxAnnotation\"},{\"attributes\":{\"bottom_units\":\"screen\",\"fill_alpha\":{\"value\":0.5},\"fill_color\":{\"value\":\"lightgrey\"},\"left_units\":\"screen\",\"level\":\"overlay\",\"line_alpha\":{\"value\":1.0},\"line_color\":{\"value\":\"black\"},\"line_dash\":[4,4],\"line_width\":{\"value\":2},\"plot\":null,\"render_mode\":\"css\",\"right_units\":\"screen\",\"top_units\":\"screen\"},\"id\":\"101da0c6-4f08-44c2-8723-617aac496d1e\",\"type\":\"BoxAnnotation\"},{\"attributes\":{\"overlay\":{\"id\":\"8a622e68-9e75-43fa-8199-59bc3d0b3238\",\"type\":\"BoxAnnotation\"}},\"id\":\"4cbf0c73-ad86-413d-8593-85cd39bd54b7\",\"type\":\"BoxZoomTool\"},{\"attributes\":{\"bottom_units\":\"screen\",\"fill_alpha\":{\"value\":0.5},\"fill_color\":{\"value\":\"lightgrey\"},\"left_units\":\"screen\",\"level\":\"overlay\",\"line_alpha\":{\"value\":1.0},\"line_color\":{\"value\":\"black\"},\"line_dash\":[4,4],\"line_width\":{\"value\":2},\"plot\":null,\"render_mode\":\"css\",\"right_units\":\"screen\",\"top_units\":\"screen\"},\"id\":\"b0caac8b-63c3-4b7f-bfd8-07ed134cd6fd\",\"type\":\"BoxAnnotation\"},{\"attributes\":{\"callback\":null,\"column_names\":[\"y\",\"x\"],\"data\":{\"x\":[-1,1,1,-1],\"y\":[-1,-1,1,1]}},\"id\":\"fa2b7d45-53d3-43cd-b13d-17b48dd0868c\",\"type\":\"ColumnDataSource\"},{\"attributes\":{\"plot\":null,\"text\":\"Circle touches all 4 sides of square\"},\"id\":\"83ee5ca6-cb80-47af-a130-b8feb43c7661\",\"type\":\"Title\"},{\"attributes\":{},\"id\":\"a912e037-a3d9-4b64-8cee-7fd46d232626\",\"type\":\"SaveTool\"},{\"attributes\":{\"callback\":null},\"id\":\"5a0d15eb-bc5a-4b49-a283-4af671bea78d\",\"type\":\"DataRange1d\"},{\"attributes\":{\"data_source\":{\"id\":\"4e5a4b84-5585-47a2-8e17-030bd4d6d58b\",\"type\":\"ColumnDataSource\"},\"glyph\":{\"id\":\"95642c28-9df0-42aa-80e5-5be55dc6e187\",\"type\":\"Circle\"},\"hover_glyph\":null,\"muted_glyph\":null,\"nonselection_glyph\":{\"id\":\"e01140ca-3f0d-4eeb-b21d-27f735ab154b\",\"type\":\"Circle\"},\"selection_glyph\":null,\"view\":{\"id\":\"9138c06c-fde0-4d7c-aa4c-f094d2c8a791\",\"type\":\"CDSView\"}},\"id\":\"5356a7d7-45f9-4596-b359-460711ddfec9\",\"type\":\"GlyphRenderer\"},{\"attributes\":{\"active_drag\":\"auto\",\"active_inspect\":\"auto\",\"active_scroll\":\"auto\",\"active_tap\":\"auto\",\"tools\":[{\"id\":\"a78ac202-9033-485a-b3cd-f6527e8ffacb\",\"type\":\"PanTool\"},{\"id\":\"3dc8bc3d-7da6-4ede-b1c6-41e0bfda1ebf\",\"type\":\"WheelZoomTool\"},{\"id\":\"bfdbe63a-83ac-402d-8fbc-f3d39344abd0\",\"type\":\"BoxZoomTool\"},{\"id\":\"7f12c3dc-28dd-43c5-80f7-6855c699a073\",\"type\":\"SaveTool\"},{\"id\":\"45ddf327-0c3c-49fe-8b77-47d200a9b32e\",\"type\":\"ResetTool\"},{\"id\":\"7b5d7222-0e35-42f8-bbfd-17c1ab15916e\",\"type\":\"HelpTool\"}]},\"id\":\"d9e30c45-03e9-4238-8061-94d509652554\",\"type\":\"Toolbar\"},{\"attributes\":{\"source\":{\"id\":\"2923c961-f565-4d73-902f-57d5df9e013a\",\"type\":\"ColumnDataSource\"}},\"id\":\"41edbdf1-4776-438a-9a73-788863587732\",\"type\":\"CDSView\"},{\"attributes\":{\"children\":[{\"id\":\"b8ea222f-c229-4b3d-97e7-9b6cc133ac75\",\"subtype\":\"Figure\",\"type\":\"Plot\"}]},\"id\":\"83f2e875-5a5b-440b-af30-f1e5bf69e2ec\",\"type\":\"Row\"},{\"attributes\":{\"active_drag\":\"auto\",\"active_inspect\":\"auto\",\"active_scroll\":\"auto\",\"active_tap\":\"auto\",\"tools\":[{\"id\":\"dd0e68bc-8b7f-4480-b63c-9db1b3575557\",\"type\":\"PanTool\"},{\"id\":\"97b7c9a4-cfc1-4776-ae0b-42fc0cda0ef7\",\"type\":\"WheelZoomTool\"},{\"id\":\"5e8a3372-3fef-4e2e-8892-c8f069e96042\",\"type\":\"BoxZoomTool\"},{\"id\":\"d8263192-d284-458d-ab02-f8fc628c3635\",\"type\":\"SaveTool\"},{\"id\":\"6faa25c2-a499-4af4-8eae-abd34b135a27\",\"type\":\"ResetTool\"},{\"id\":\"579fdd6a-6c6e-46b9-b387-f7c67dfb3d73\",\"type\":\"HelpTool\"}]},\"id\":\"0e630c4d-b61b-4f21-84fe-bc9cc915b1d1\",\"type\":\"Toolbar\"},{\"attributes\":{\"fill_color\":{\"value\":\"#1f77b4\"},\"line_color\":{\"value\":\"#1f77b4\"},\"x\":{\"field\":\"x\"},\"y\":{\"field\":\"y\"}},\"id\":\"39d82746-09b2-4259-822c-247a8a096f62\",\"type\":\"Circle\"},{\"attributes\":{\"callback\":null},\"id\":\"d1b3589d-bb9a-47de-ba6b-1c7e985d4ab6\",\"type\":\"DataRange1d\"},{\"attributes\":{\"callback\":null},\"id\":\"d91e10b1-c7cc-4b0d-bbe4-d763d05ab507\",\"type\":\"DataRange1d\"},{\"attributes\":{},\"id\":\"fcbd524d-fc1f-41b8-b6d8-4d2f4cea6e00\",\"type\":\"BasicTickFormatter\"},{\"attributes\":{\"formatter\":{\"id\":\"ed193b89-d459-45db-85d1-06d72f8f568d\",\"type\":\"BasicTickFormatter\"},\"plot\":{\"id\":\"aec215e0-afe3-433f-9723-6742f0e62133\",\"subtype\":\"Figure\",\"type\":\"Plot\"},\"ticker\":{\"id\":\"a8373823-9393-4f65-81bf-244f9dd930ed\",\"type\":\"BasicTicker\"}},\"id\":\"5ccc5985-7cc1-41e4-acf2-c009ee3bb53d\",\"type\":\"LinearAxis\"},{\"attributes\":{},\"id\":\"15b51c3e-61b7-4db9-9c5f-959b6432c2ec\",\"type\":\"LinearScale\"}],\"root_ids\":[\"f570e05b-4187-407f-beec-c37137b8b676\"]},\"title\":\"Bokeh Application\",\"version\":\"0.12.10\"}};\n",
       "    var render_items = [{\"docid\":\"64d2ff18-7eed-44c1-a386-97d7d328a7f3\",\"elementid\":\"4bcb865a-e518-422b-a1c4-bcfed863bb9e\",\"modelid\":\"f570e05b-4187-407f-beec-c37137b8b676\"}];\n",
       "\n",
       "    root.Bokeh.embed.embed_items(docs_json, render_items);\n",
       "  }\n",
       "\n",
       "  if (root.Bokeh !== undefined) {\n",
       "    embed_document(root);\n",
       "  } else {\n",
       "    var attempts = 0;\n",
       "    var timer = setInterval(function(root) {\n",
       "      if (root.Bokeh !== undefined) {\n",
       "        embed_document(root);\n",
       "        clearInterval(timer);\n",
       "      }\n",
       "      attempts++;\n",
       "      if (attempts > 100) {\n",
       "        console.log(\"Bokeh: ERROR: Unable to embed document because BokehJS library is missing\")\n",
       "        clearInterval(timer);\n",
       "      }\n",
       "    }, 10, root)\n",
       "  }\n",
       "})(window);"
      ],
      "application/vnd.bokehjs_exec.v0+json": ""
     },
     "metadata": {
      "application/vnd.bokehjs_exec.v0+json": {
       "id": "f570e05b-4187-407f-beec-c37137b8b676"
      }
     },
     "output_type": "display_data"
    }
   ],
   "source": [
    "from bokeh.plotting import figure, output_file, show\n",
    "from bokeh.layouts import layout\n",
    "\n",
    "p1 = figure(match_aspect=True, title=\"Circle touches all 4 sides of square\")\n",
    "#p1.rect(0, 0, 300, 300, line_color='black')\n",
    "p1.circle(x=0, y=0, radius=10, line_color='black', fill_color='grey',\n",
    "          radius_units='data')\n",
    "\n",
    "def draw_test_figure(aspect_scale=1, width=300, height=300):\n",
    "    p = figure(\n",
    "        plot_width=width,\n",
    "        plot_height=height,\n",
    "        match_aspect=True,\n",
    "        aspect_scale=aspect_scale,\n",
    "        title=\"Aspect scale = {0}\".format(aspect_scale),\n",
    "        toolbar_location=None)\n",
    "    p.circle([-1, +1, +1, -1], [-1, -1, +1, +1])\n",
    "    return p\n",
    "\n",
    "aspect_scales = [0.25, 0.5, 1, 2, 4]\n",
    "p2s = [draw_test_figure(aspect_scale=i) for i in aspect_scales]\n",
    "\n",
    "sizes = [(100, 400), (200, 400), (400, 200), (400, 100)]\n",
    "p3s = [draw_test_figure(width=a, height=b) for (a, b) in sizes]\n",
    "\n",
    "layout = layout(children=[[p1], p2s, p3s])\n",
    "\n",
    "output_file(\"aspect.html\")\n",
    "show(layout)"
   ]
  },
  {
   "cell_type": "code",
   "execution_count": null,
   "metadata": {},
   "outputs": [],
   "source": []
  }
 ],
 "metadata": {
  "kernelspec": {
   "display_name": "Python 2",
   "language": "python",
   "name": "python2"
  },
  "language_info": {
   "codemirror_mode": {
    "name": "ipython",
    "version": 2
   },
   "file_extension": ".py",
   "mimetype": "text/x-python",
   "name": "python",
   "nbconvert_exporter": "python",
   "pygments_lexer": "ipython2",
   "version": "2.7.13"
  }
 },
 "nbformat": 4,
 "nbformat_minor": 2
}
