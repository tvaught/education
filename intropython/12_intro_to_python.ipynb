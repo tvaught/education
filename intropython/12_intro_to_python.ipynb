{
 "cells": [
  {
   "cell_type": "markdown",
   "metadata": {},
   "source": [
    "# Introduction to Python"
   ]
  },
  {
   "cell_type": "markdown",
   "metadata": {},
   "source": [
    "## Simple Expressions / Variable Assignment"
   ]
  },
  {
   "cell_type": "markdown",
   "metadata": {},
   "source": [
    "The Python interpreter, which is being used to parse and execute each of these lines, can do math like a calculator:"
   ]
  },
  {
   "cell_type": "code",
   "execution_count": 1,
   "metadata": {},
   "outputs": [
    {
     "data": {
      "text/plain": [
       "4"
      ]
     },
     "execution_count": 1,
     "metadata": {},
     "output_type": "execute_result"
    }
   ],
   "source": [
    "2+2"
   ]
  },
  {
   "cell_type": "markdown",
   "metadata": {},
   "source": [
    "Another several examples: I'll use the \"print\" statement to print out the result for each calculation (if I didn't do this, it would just *output* the result of the last expression):"
   ]
  },
  {
   "cell_type": "code",
   "execution_count": 2,
   "metadata": {},
   "outputs": [
    {
     "name": "stdout",
     "output_type": "stream",
     "text": [
      "6\n",
      "110\n",
      "1.09090909091\n"
     ]
    }
   ],
   "source": [
    "print 2*3\n",
    "print (4+6)*(2+9)  # should calculate to 110\n",
    "print 12.0/11.0"
   ]
  },
  {
   "cell_type": "markdown",
   "metadata": {},
   "source": [
    "One major difference between using a calculator and doing calculations on the computer is that there are a couple of *types* of numbers -- *integers* and *floating point* values.  You can think of *integers* as whole numbers and *floats* (as floating point values are called) as supporting a decimal or fractional part of the value.  This shows up sometimes is odd behavior with division."
   ]
  },
  {
   "cell_type": "code",
   "execution_count": 3,
   "metadata": {},
   "outputs": [
    {
     "name": "stdout",
     "output_type": "stream",
     "text": [
      "1\n",
      "1.66666666667\n",
      "1.66666666667\n",
      "1.66666666667\n"
     ]
    }
   ],
   "source": [
    "print(5/3)     # Integer division gives a 'floor' value (rounding down, basically).\n",
    "print(5.0/3.0) # Dividing floats (usually) gives the expected answer.\n",
    "print(5.0/3)   # The interpreter uses the more complex type to infer the type for the result.\n",
    "print(5/3.0)   # The order for type \"upcasting\" doesn't matter"
   ]
  },
  {
   "cell_type": "markdown",
   "metadata": {},
   "source": [
    "Let's look at another example of *float* math:"
   ]
  },
  {
   "cell_type": "code",
   "execution_count": 4,
   "metadata": {},
   "outputs": [
    {
     "data": {
      "text/plain": [
       "0.30000000000000004"
      ]
     },
     "execution_count": 4,
     "metadata": {},
     "output_type": "execute_result"
    }
   ],
   "source": [
    "0.1 + 0.2"
   ]
  },
  {
   "cell_type": "markdown",
   "metadata": {},
   "source": [
    "**Wat ?!?!** There are occasionally precision issues because of the way floating point values work.  It's actually an interesting abstraction (feel free to study a more detailed explanation of how [IEEE Floats](http://steve.hollasch.net/cgindex/coding/ieeefloat.html) work). This is a good example of how abstractions can 'leak' (more on this later).  A good explanation of how this affects Python is [here](https://docs.python.org/2/tutorial/floatingpoint.html).  For our purposes, this really doesn't matter.  Just a curiosity, so, moving right along..."
   ]
  },
  {
   "cell_type": "code",
   "execution_count": 5,
   "metadata": {
    "collapsed": true
   },
   "outputs": [],
   "source": [
    "a = 5"
   ]
  },
  {
   "cell_type": "code",
   "execution_count": 6,
   "metadata": {},
   "outputs": [
    {
     "name": "stdout",
     "output_type": "stream",
     "text": [
      "5\n"
     ]
    }
   ],
   "source": [
    "print a"
   ]
  },
  {
   "cell_type": "markdown",
   "metadata": {},
   "source": [
    "This may not seem very exciting at first, but variables are an important part of programming.  It's good to know that you can use them in Python."
   ]
  },
  {
   "cell_type": "code",
   "execution_count": 7,
   "metadata": {},
   "outputs": [
    {
     "ename": "NameError",
     "evalue": "name 'x' is not defined",
     "output_type": "error",
     "traceback": [
      "\u001b[0;31m---------------------------------------------------------------------------\u001b[0m",
      "\u001b[0;31mNameError\u001b[0m                                 Traceback (most recent call last)",
      "\u001b[0;32m<ipython-input-7-4e9076e0f7b3>\u001b[0m in \u001b[0;36m<module>\u001b[0;34m()\u001b[0m\n\u001b[0;32m----> 1\u001b[0;31m \u001b[0my\u001b[0m \u001b[0;34m=\u001b[0m \u001b[0mx\u001b[0m\u001b[0;34m**\u001b[0m\u001b[0;36m2\u001b[0m \u001b[0;34m-\u001b[0m \u001b[0;36m3\u001b[0m\u001b[0;34m*\u001b[0m\u001b[0mx\u001b[0m \u001b[0;34m+\u001b[0m \u001b[0;36m12\u001b[0m  \u001b[0;31m# just like in algebra, right?\u001b[0m\u001b[0;34m\u001b[0m\u001b[0m\n\u001b[0m",
      "\u001b[0;31mNameError\u001b[0m: name 'x' is not defined"
     ]
    }
   ],
   "source": [
    "y = x**2 - 3*x + 12  # just like in algebra, right?"
   ]
  },
  {
   "cell_type": "markdown",
   "metadata": {},
   "source": [
    "*I know `x` isn't defined.  Isn't that what a variable is?*  Not exactly...  More on this error stuff later.  Try this:"
   ]
  },
  {
   "cell_type": "code",
   "execution_count": 8,
   "metadata": {},
   "outputs": [
    {
     "name": "stdout",
     "output_type": "stream",
     "text": [
      "82\n"
     ]
    }
   ],
   "source": [
    "x = 10\n",
    "y = x**2 - 3*x + 12\n",
    "print y"
   ]
  },
  {
   "cell_type": "code",
   "execution_count": null,
   "metadata": {
    "collapsed": true
   },
   "outputs": [],
   "source": []
  },
  {
   "cell_type": "markdown",
   "metadata": {},
   "source": [
    "So, the variables on the right side of the *equals* sign have to already be assigned a value.  Otherwise, the interpreter tries to evaluate the right side and assign it to the left side.\n",
    "\n",
    "This might not seem particularly useful until you see how to use looping.  Also, math on arrays of values really shows how cool this is.  Check this out..."
   ]
  },
  {
   "cell_type": "code",
   "execution_count": 9,
   "metadata": {
    "collapsed": true
   },
   "outputs": [],
   "source": [
    "import numpy as np   # the python array-math library\n",
    "x = np.arange(0.0, 2*np.pi, 0.01) # make an array of numbers from 0 to 2π with a number every 0.01.\n",
    "y = np.sin(x)"
   ]
  },
  {
   "cell_type": "code",
   "execution_count": 10,
   "metadata": {},
   "outputs": [
    {
     "name": "stdout",
     "output_type": "stream",
     "text": [
      "The length of x is: 629\n",
      "The length of y is: 629\n",
      "The first 5 values in the x array are:\n",
      "[ 0.    0.01  0.02  0.03  0.04]\n",
      "The first 5 values in the y array are:\n",
      "[ 0.          0.00999983  0.01999867  0.0299955   0.03998933]\n"
     ]
    }
   ],
   "source": [
    "print \"The length of x is: %s\" % (len(x))\n",
    "print \"The length of y is: %s\" % (len(y))\n",
    "print \"The first 5 values in the x array are:\\n%s\" % x[0:5]\n",
    "print \"The first 5 values in the y array are:\\n%s\" % y[0:5]"
   ]
  },
  {
   "cell_type": "code",
   "execution_count": 11,
   "metadata": {},
   "outputs": [
    {
     "data": {
      "text/html": [
       "\n",
       "    <div class=\"bk-root\">\n",
       "        <a href=\"http://bokeh.pydata.org\" target=\"_blank\" class=\"bk-logo bk-logo-small bk-logo-notebook\"></a>\n",
       "        <span id=\"a00667e6-0d1c-4314-83d0-4a4f7c280b75\">Loading BokehJS ...</span>\n",
       "    </div>"
      ]
     },
     "metadata": {},
     "output_type": "display_data"
    },
    {
     "data": {
      "application/javascript": [
       "\n",
       "(function(global) {\n",
       "  function now() {\n",
       "    return new Date();\n",
       "  }\n",
       "\n",
       "  var force = true;\n",
       "\n",
       "  if (typeof (window._bokeh_onload_callbacks) === \"undefined\" || force === true) {\n",
       "    window._bokeh_onload_callbacks = [];\n",
       "    window._bokeh_is_loading = undefined;\n",
       "  }\n",
       "\n",
       "\n",
       "  \n",
       "  if (typeof (window._bokeh_timeout) === \"undefined\" || force === true) {\n",
       "    window._bokeh_timeout = Date.now() + 5000;\n",
       "    window._bokeh_failed_load = false;\n",
       "  }\n",
       "\n",
       "  var NB_LOAD_WARNING = {'data': {'text/html':\n",
       "     \"<div style='background-color: #fdd'>\\n\"+\n",
       "     \"<p>\\n\"+\n",
       "     \"BokehJS does not appear to have successfully loaded. If loading BokehJS from CDN, this \\n\"+\n",
       "     \"may be due to a slow or bad network connection. Possible fixes:\\n\"+\n",
       "     \"</p>\\n\"+\n",
       "     \"<ul>\\n\"+\n",
       "     \"<li>re-rerun `output_notebook()` to attempt to load from CDN again, or</li>\\n\"+\n",
       "     \"<li>use INLINE resources instead, as so:</li>\\n\"+\n",
       "     \"</ul>\\n\"+\n",
       "     \"<code>\\n\"+\n",
       "     \"from bokeh.resources import INLINE\\n\"+\n",
       "     \"output_notebook(resources=INLINE)\\n\"+\n",
       "     \"</code>\\n\"+\n",
       "     \"</div>\"}};\n",
       "\n",
       "  function display_loaded() {\n",
       "    if (window.Bokeh !== undefined) {\n",
       "      var el = document.getElementById(\"a00667e6-0d1c-4314-83d0-4a4f7c280b75\");\n",
       "      el.textContent = \"BokehJS \" + Bokeh.version + \" successfully loaded.\";\n",
       "    } else if (Date.now() < window._bokeh_timeout) {\n",
       "      setTimeout(display_loaded, 100)\n",
       "    }\n",
       "  }\n",
       "\n",
       "  function run_callbacks() {\n",
       "    try {\n",
       "      window._bokeh_onload_callbacks.forEach(function(callback) { callback() });\n",
       "    }\n",
       "    finally {\n",
       "      delete window._bokeh_onload_callbacks\n",
       "    }\n",
       "    console.info(\"Bokeh: all callbacks have finished\");\n",
       "  }\n",
       "\n",
       "  function load_libs(js_urls, callback) {\n",
       "    window._bokeh_onload_callbacks.push(callback);\n",
       "    if (window._bokeh_is_loading > 0) {\n",
       "      console.log(\"Bokeh: BokehJS is being loaded, scheduling callback at\", now());\n",
       "      return null;\n",
       "    }\n",
       "    if (js_urls == null || js_urls.length === 0) {\n",
       "      run_callbacks();\n",
       "      return null;\n",
       "    }\n",
       "    console.log(\"Bokeh: BokehJS not loaded, scheduling load and callback at\", now());\n",
       "    window._bokeh_is_loading = js_urls.length;\n",
       "    for (var i = 0; i < js_urls.length; i++) {\n",
       "      var url = js_urls[i];\n",
       "      var s = document.createElement('script');\n",
       "      s.src = url;\n",
       "      s.async = false;\n",
       "      s.onreadystatechange = s.onload = function() {\n",
       "        window._bokeh_is_loading--;\n",
       "        if (window._bokeh_is_loading === 0) {\n",
       "          console.log(\"Bokeh: all BokehJS libraries loaded\");\n",
       "          run_callbacks()\n",
       "        }\n",
       "      };\n",
       "      s.onerror = function() {\n",
       "        console.warn(\"failed to load library \" + url);\n",
       "      };\n",
       "      console.log(\"Bokeh: injecting script tag for BokehJS library: \", url);\n",
       "      document.getElementsByTagName(\"head\")[0].appendChild(s);\n",
       "    }\n",
       "  };var element = document.getElementById(\"a00667e6-0d1c-4314-83d0-4a4f7c280b75\");\n",
       "  if (element == null) {\n",
       "    console.log(\"Bokeh: ERROR: autoload.js configured with elementid 'a00667e6-0d1c-4314-83d0-4a4f7c280b75' but no matching script tag was found. \")\n",
       "    return false;\n",
       "  }\n",
       "\n",
       "  var js_urls = [\"https://cdn.pydata.org/bokeh/release/bokeh-0.12.6.min.js\", \"https://cdn.pydata.org/bokeh/release/bokeh-widgets-0.12.6.min.js\"];\n",
       "\n",
       "  var inline_js = [\n",
       "    function(Bokeh) {\n",
       "      Bokeh.set_log_level(\"info\");\n",
       "    },\n",
       "    \n",
       "    function(Bokeh) {\n",
       "      \n",
       "    },\n",
       "    \n",
       "    function(Bokeh) {\n",
       "      \n",
       "      document.getElementById(\"a00667e6-0d1c-4314-83d0-4a4f7c280b75\").textContent = \"BokehJS is loading...\";\n",
       "    },\n",
       "    function(Bokeh) {\n",
       "      console.log(\"Bokeh: injecting CSS: https://cdn.pydata.org/bokeh/release/bokeh-0.12.6.min.css\");\n",
       "      Bokeh.embed.inject_css(\"https://cdn.pydata.org/bokeh/release/bokeh-0.12.6.min.css\");\n",
       "      console.log(\"Bokeh: injecting CSS: https://cdn.pydata.org/bokeh/release/bokeh-widgets-0.12.6.min.css\");\n",
       "      Bokeh.embed.inject_css(\"https://cdn.pydata.org/bokeh/release/bokeh-widgets-0.12.6.min.css\");\n",
       "    }\n",
       "  ];\n",
       "\n",
       "  function run_inline_js() {\n",
       "    \n",
       "    if ((window.Bokeh !== undefined) || (force === true)) {\n",
       "      for (var i = 0; i < inline_js.length; i++) {\n",
       "        inline_js[i](window.Bokeh);\n",
       "      }if (force === true) {\n",
       "        display_loaded();\n",
       "      }} else if (Date.now() < window._bokeh_timeout) {\n",
       "      setTimeout(run_inline_js, 100);\n",
       "    } else if (!window._bokeh_failed_load) {\n",
       "      console.log(\"Bokeh: BokehJS failed to load within specified timeout.\");\n",
       "      window._bokeh_failed_load = true;\n",
       "    } else if (force !== true) {\n",
       "      var cell = $(document.getElementById(\"a00667e6-0d1c-4314-83d0-4a4f7c280b75\")).parents('.cell').data().cell;\n",
       "      cell.output_area.append_execute_result(NB_LOAD_WARNING)\n",
       "    }\n",
       "\n",
       "  }\n",
       "\n",
       "  if (window._bokeh_is_loading === 0) {\n",
       "    console.log(\"Bokeh: BokehJS loaded, going straight to plotting\");\n",
       "    run_inline_js();\n",
       "  } else {\n",
       "    load_libs(js_urls, function() {\n",
       "      console.log(\"Bokeh: BokehJS plotting callback run at\", now());\n",
       "      run_inline_js();\n",
       "    });\n",
       "  }\n",
       "}(this));"
      ]
     },
     "metadata": {},
     "output_type": "display_data"
    }
   ],
   "source": [
    "# this imports some plotting stuff we'll use\n",
    "from bokeh.plotting import output_notebook\n",
    "output_notebook()\n",
    "from bokeh.plotting import figure, show"
   ]
  },
  {
   "cell_type": "code",
   "execution_count": 12,
   "metadata": {},
   "outputs": [
    {
     "data": {
      "text/html": [
       "\n",
       "\n",
       "    <div class=\"bk-root\">\n",
       "        <div class=\"bk-plotdiv\" id=\"c5e078e5-d994-487c-ac73-d9031de6748f\"></div>\n",
       "    </div>\n",
       "<script type=\"text/javascript\">\n",
       "  \n",
       "  (function(global) {\n",
       "    function now() {\n",
       "      return new Date();\n",
       "    }\n",
       "  \n",
       "    var force = false;\n",
       "  \n",
       "    if (typeof (window._bokeh_onload_callbacks) === \"undefined\" || force === true) {\n",
       "      window._bokeh_onload_callbacks = [];\n",
       "      window._bokeh_is_loading = undefined;\n",
       "    }\n",
       "  \n",
       "  \n",
       "    \n",
       "    if (typeof (window._bokeh_timeout) === \"undefined\" || force === true) {\n",
       "      window._bokeh_timeout = Date.now() + 0;\n",
       "      window._bokeh_failed_load = false;\n",
       "    }\n",
       "  \n",
       "    var NB_LOAD_WARNING = {'data': {'text/html':\n",
       "       \"<div style='background-color: #fdd'>\\n\"+\n",
       "       \"<p>\\n\"+\n",
       "       \"BokehJS does not appear to have successfully loaded. If loading BokehJS from CDN, this \\n\"+\n",
       "       \"may be due to a slow or bad network connection. Possible fixes:\\n\"+\n",
       "       \"</p>\\n\"+\n",
       "       \"<ul>\\n\"+\n",
       "       \"<li>re-rerun `output_notebook()` to attempt to load from CDN again, or</li>\\n\"+\n",
       "       \"<li>use INLINE resources instead, as so:</li>\\n\"+\n",
       "       \"</ul>\\n\"+\n",
       "       \"<code>\\n\"+\n",
       "       \"from bokeh.resources import INLINE\\n\"+\n",
       "       \"output_notebook(resources=INLINE)\\n\"+\n",
       "       \"</code>\\n\"+\n",
       "       \"</div>\"}};\n",
       "  \n",
       "    function display_loaded() {\n",
       "      if (window.Bokeh !== undefined) {\n",
       "        var el = document.getElementById(\"c5e078e5-d994-487c-ac73-d9031de6748f\");\n",
       "        el.textContent = \"BokehJS \" + Bokeh.version + \" successfully loaded.\";\n",
       "      } else if (Date.now() < window._bokeh_timeout) {\n",
       "        setTimeout(display_loaded, 100)\n",
       "      }\n",
       "    }\n",
       "  \n",
       "    function run_callbacks() {\n",
       "      try {\n",
       "        window._bokeh_onload_callbacks.forEach(function(callback) { callback() });\n",
       "      }\n",
       "      finally {\n",
       "        delete window._bokeh_onload_callbacks\n",
       "      }\n",
       "      console.info(\"Bokeh: all callbacks have finished\");\n",
       "    }\n",
       "  \n",
       "    function load_libs(js_urls, callback) {\n",
       "      window._bokeh_onload_callbacks.push(callback);\n",
       "      if (window._bokeh_is_loading > 0) {\n",
       "        console.log(\"Bokeh: BokehJS is being loaded, scheduling callback at\", now());\n",
       "        return null;\n",
       "      }\n",
       "      if (js_urls == null || js_urls.length === 0) {\n",
       "        run_callbacks();\n",
       "        return null;\n",
       "      }\n",
       "      console.log(\"Bokeh: BokehJS not loaded, scheduling load and callback at\", now());\n",
       "      window._bokeh_is_loading = js_urls.length;\n",
       "      for (var i = 0; i < js_urls.length; i++) {\n",
       "        var url = js_urls[i];\n",
       "        var s = document.createElement('script');\n",
       "        s.src = url;\n",
       "        s.async = false;\n",
       "        s.onreadystatechange = s.onload = function() {\n",
       "          window._bokeh_is_loading--;\n",
       "          if (window._bokeh_is_loading === 0) {\n",
       "            console.log(\"Bokeh: all BokehJS libraries loaded\");\n",
       "            run_callbacks()\n",
       "          }\n",
       "        };\n",
       "        s.onerror = function() {\n",
       "          console.warn(\"failed to load library \" + url);\n",
       "        };\n",
       "        console.log(\"Bokeh: injecting script tag for BokehJS library: \", url);\n",
       "        document.getElementsByTagName(\"head\")[0].appendChild(s);\n",
       "      }\n",
       "    };var element = document.getElementById(\"c5e078e5-d994-487c-ac73-d9031de6748f\");\n",
       "    if (element == null) {\n",
       "      console.log(\"Bokeh: ERROR: autoload.js configured with elementid 'c5e078e5-d994-487c-ac73-d9031de6748f' but no matching script tag was found. \")\n",
       "      return false;\n",
       "    }\n",
       "  \n",
       "    var js_urls = [];\n",
       "  \n",
       "    var inline_js = [\n",
       "      function(Bokeh) {\n",
       "        (function() {\n",
       "          var fn = function() {\n",
       "            var docs_json = {\"a7092239-6ee4-445d-bfc0-8dff2e5e1128\":{\"roots\":{\"references\":[{\"attributes\":{\"dimension\":1,\"plot\":{\"id\":\"47010cb9-1da4-41a3-92fa-ea877923e48a\",\"subtype\":\"Figure\",\"type\":\"Plot\"},\"ticker\":{\"id\":\"64ac2261-66a6-448f-8ea8-8af0a965e237\",\"type\":\"BasicTicker\"}},\"id\":\"bfab2939-80ae-470a-b0b6-5aa129e1b420\",\"type\":\"Grid\"},{\"attributes\":{\"formatter\":{\"id\":\"57b20a7a-b67e-428e-b9f5-0490fa890bae\",\"type\":\"BasicTickFormatter\"},\"plot\":{\"id\":\"47010cb9-1da4-41a3-92fa-ea877923e48a\",\"subtype\":\"Figure\",\"type\":\"Plot\"},\"ticker\":{\"id\":\"64ac2261-66a6-448f-8ea8-8af0a965e237\",\"type\":\"BasicTicker\"}},\"id\":\"ac6c6e72-9e20-465a-bfb9-929079a659dc\",\"type\":\"LinearAxis\"},{\"attributes\":{\"data_source\":{\"id\":\"31043456-ade7-4fe7-9b57-461461a884fe\",\"type\":\"ColumnDataSource\"},\"glyph\":{\"id\":\"25f7a5dc-f122-411d-a53c-ac6e53863e35\",\"type\":\"Line\"},\"hover_glyph\":null,\"muted_glyph\":null,\"nonselection_glyph\":{\"id\":\"126d81ad-89e3-4e55-8703-5c1cdb8047be\",\"type\":\"Line\"},\"selection_glyph\":null},\"id\":\"e5fcd4cc-f3ac-4943-a478-0a05a381bf37\",\"type\":\"GlyphRenderer\"},{\"attributes\":{\"line_alpha\":{\"value\":0.1},\"line_color\":{\"value\":\"#1f77b4\"},\"x\":{\"field\":\"x\"},\"y\":{\"field\":\"y\"}},\"id\":\"126d81ad-89e3-4e55-8703-5c1cdb8047be\",\"type\":\"Line\"},{\"attributes\":{\"plot\":{\"id\":\"47010cb9-1da4-41a3-92fa-ea877923e48a\",\"subtype\":\"Figure\",\"type\":\"Plot\"}},\"id\":\"bc099a11-0686-40a4-9f8b-12a152a4cb59\",\"type\":\"ResetTool\"},{\"attributes\":{},\"id\":\"35499f17-6387-41b9-b4a2-4dab7d284563\",\"type\":\"ToolEvents\"},{\"attributes\":{\"plot\":{\"id\":\"47010cb9-1da4-41a3-92fa-ea877923e48a\",\"subtype\":\"Figure\",\"type\":\"Plot\"}},\"id\":\"7a15b86e-2da3-4ab1-b827-39fd4ec39995\",\"type\":\"HelpTool\"},{\"attributes\":{\"line_color\":{\"value\":\"#1f77b4\"},\"x\":{\"field\":\"x\"},\"y\":{\"field\":\"y\"}},\"id\":\"25f7a5dc-f122-411d-a53c-ac6e53863e35\",\"type\":\"Line\"},{\"attributes\":{\"callback\":null},\"id\":\"50304e06-2021-4f0e-a372-1e7a145dbed6\",\"type\":\"DataRange1d\"},{\"attributes\":{\"active_drag\":\"auto\",\"active_inspect\":\"auto\",\"active_scroll\":\"auto\",\"active_tap\":\"auto\",\"tools\":[{\"id\":\"27c9966b-7b91-4a33-9b21-f8b15104f0cd\",\"type\":\"PanTool\"},{\"id\":\"d8ab9e06-a8ef-425d-a84d-a85859552fc9\",\"type\":\"WheelZoomTool\"},{\"id\":\"2b03622d-d68f-42f9-8c9b-8b6eea4931f4\",\"type\":\"BoxZoomTool\"},{\"id\":\"8553e341-83c0-4ae9-9a44-caaf5a4801f4\",\"type\":\"SaveTool\"},{\"id\":\"bc099a11-0686-40a4-9f8b-12a152a4cb59\",\"type\":\"ResetTool\"},{\"id\":\"7a15b86e-2da3-4ab1-b827-39fd4ec39995\",\"type\":\"HelpTool\"}]},\"id\":\"0d450195-894b-48e5-bbf2-429c7710ea81\",\"type\":\"Toolbar\"},{\"attributes\":{\"bottom_units\":\"screen\",\"fill_alpha\":{\"value\":0.5},\"fill_color\":{\"value\":\"lightgrey\"},\"left_units\":\"screen\",\"level\":\"overlay\",\"line_alpha\":{\"value\":1.0},\"line_color\":{\"value\":\"black\"},\"line_dash\":[4,4],\"line_width\":{\"value\":2},\"plot\":null,\"render_mode\":\"css\",\"right_units\":\"screen\",\"top_units\":\"screen\"},\"id\":\"c142fbb1-d51f-4fa6-8572-7c2cf798e3ac\",\"type\":\"BoxAnnotation\"},{\"attributes\":{},\"id\":\"0af42c75-96c6-4119-82aa-a81fe73d86d2\",\"type\":\"BasicTickFormatter\"},{\"attributes\":{},\"id\":\"17159b12-4382-46e9-bf7f-16797423732b\",\"type\":\"LinearScale\"},{\"attributes\":{\"callback\":null,\"column_names\":[\"y\",\"x\"],\"data\":{\"x\":{\"__ndarray__\":\"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\",\"dtype\":\"float64\",\"shape\":[629]},\"y\":{\"__ndarray__\":\"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\",\"dtype\":\"float64\",\"shape\":[629]}}},\"id\":\"31043456-ade7-4fe7-9b57-461461a884fe\",\"type\":\"ColumnDataSource\"},{\"attributes\":{\"plot\":null,\"text\":\"Sine Example\"},\"id\":\"67433d82-fe2d-45e4-8b1d-5371b3f5f6d4\",\"type\":\"Title\"},{\"attributes\":{\"plot\":{\"id\":\"47010cb9-1da4-41a3-92fa-ea877923e48a\",\"subtype\":\"Figure\",\"type\":\"Plot\"}},\"id\":\"8553e341-83c0-4ae9-9a44-caaf5a4801f4\",\"type\":\"SaveTool\"},{\"attributes\":{\"below\":[{\"id\":\"5e98a8ca-b345-4bae-810b-d102b5f9aab3\",\"type\":\"LinearAxis\"}],\"left\":[{\"id\":\"ac6c6e72-9e20-465a-bfb9-929079a659dc\",\"type\":\"LinearAxis\"}],\"renderers\":[{\"id\":\"5e98a8ca-b345-4bae-810b-d102b5f9aab3\",\"type\":\"LinearAxis\"},{\"id\":\"6e1448af-4d08-4187-856b-d2315f447474\",\"type\":\"Grid\"},{\"id\":\"ac6c6e72-9e20-465a-bfb9-929079a659dc\",\"type\":\"LinearAxis\"},{\"id\":\"bfab2939-80ae-470a-b0b6-5aa129e1b420\",\"type\":\"Grid\"},{\"id\":\"c142fbb1-d51f-4fa6-8572-7c2cf798e3ac\",\"type\":\"BoxAnnotation\"},{\"id\":\"e5fcd4cc-f3ac-4943-a478-0a05a381bf37\",\"type\":\"GlyphRenderer\"}],\"title\":{\"id\":\"67433d82-fe2d-45e4-8b1d-5371b3f5f6d4\",\"type\":\"Title\"},\"tool_events\":{\"id\":\"35499f17-6387-41b9-b4a2-4dab7d284563\",\"type\":\"ToolEvents\"},\"toolbar\":{\"id\":\"0d450195-894b-48e5-bbf2-429c7710ea81\",\"type\":\"Toolbar\"},\"x_range\":{\"id\":\"25ef0174-71d4-453c-868d-fa79aea9312b\",\"type\":\"DataRange1d\"},\"x_scale\":{\"id\":\"5c7c0341-8279-4e5c-b503-578f8262eeb4\",\"type\":\"LinearScale\"},\"y_range\":{\"id\":\"50304e06-2021-4f0e-a372-1e7a145dbed6\",\"type\":\"DataRange1d\"},\"y_scale\":{\"id\":\"17159b12-4382-46e9-bf7f-16797423732b\",\"type\":\"LinearScale\"}},\"id\":\"47010cb9-1da4-41a3-92fa-ea877923e48a\",\"subtype\":\"Figure\",\"type\":\"Plot\"},{\"attributes\":{\"plot\":{\"id\":\"47010cb9-1da4-41a3-92fa-ea877923e48a\",\"subtype\":\"Figure\",\"type\":\"Plot\"},\"ticker\":{\"id\":\"550cf7ab-40ef-471d-9474-e6405079e6a4\",\"type\":\"BasicTicker\"}},\"id\":\"6e1448af-4d08-4187-856b-d2315f447474\",\"type\":\"Grid\"},{\"attributes\":{},\"id\":\"550cf7ab-40ef-471d-9474-e6405079e6a4\",\"type\":\"BasicTicker\"},{\"attributes\":{},\"id\":\"57b20a7a-b67e-428e-b9f5-0490fa890bae\",\"type\":\"BasicTickFormatter\"},{\"attributes\":{\"plot\":{\"id\":\"47010cb9-1da4-41a3-92fa-ea877923e48a\",\"subtype\":\"Figure\",\"type\":\"Plot\"}},\"id\":\"27c9966b-7b91-4a33-9b21-f8b15104f0cd\",\"type\":\"PanTool\"},{\"attributes\":{\"overlay\":{\"id\":\"c142fbb1-d51f-4fa6-8572-7c2cf798e3ac\",\"type\":\"BoxAnnotation\"},\"plot\":{\"id\":\"47010cb9-1da4-41a3-92fa-ea877923e48a\",\"subtype\":\"Figure\",\"type\":\"Plot\"}},\"id\":\"2b03622d-d68f-42f9-8c9b-8b6eea4931f4\",\"type\":\"BoxZoomTool\"},{\"attributes\":{},\"id\":\"64ac2261-66a6-448f-8ea8-8af0a965e237\",\"type\":\"BasicTicker\"},{\"attributes\":{\"callback\":null},\"id\":\"25ef0174-71d4-453c-868d-fa79aea9312b\",\"type\":\"DataRange1d\"},{\"attributes\":{},\"id\":\"5c7c0341-8279-4e5c-b503-578f8262eeb4\",\"type\":\"LinearScale\"},{\"attributes\":{\"plot\":{\"id\":\"47010cb9-1da4-41a3-92fa-ea877923e48a\",\"subtype\":\"Figure\",\"type\":\"Plot\"}},\"id\":\"d8ab9e06-a8ef-425d-a84d-a85859552fc9\",\"type\":\"WheelZoomTool\"},{\"attributes\":{\"formatter\":{\"id\":\"0af42c75-96c6-4119-82aa-a81fe73d86d2\",\"type\":\"BasicTickFormatter\"},\"plot\":{\"id\":\"47010cb9-1da4-41a3-92fa-ea877923e48a\",\"subtype\":\"Figure\",\"type\":\"Plot\"},\"ticker\":{\"id\":\"550cf7ab-40ef-471d-9474-e6405079e6a4\",\"type\":\"BasicTicker\"}},\"id\":\"5e98a8ca-b345-4bae-810b-d102b5f9aab3\",\"type\":\"LinearAxis\"}],\"root_ids\":[\"47010cb9-1da4-41a3-92fa-ea877923e48a\"]},\"title\":\"Bokeh Application\",\"version\":\"0.12.6\"}};\n",
       "            var render_items = [{\"docid\":\"a7092239-6ee4-445d-bfc0-8dff2e5e1128\",\"elementid\":\"c5e078e5-d994-487c-ac73-d9031de6748f\",\"modelid\":\"47010cb9-1da4-41a3-92fa-ea877923e48a\"}];\n",
       "            \n",
       "            Bokeh.embed.embed_items(docs_json, render_items);\n",
       "          };\n",
       "          if (document.readyState != \"loading\") fn();\n",
       "          else document.addEventListener(\"DOMContentLoaded\", fn);\n",
       "        })();\n",
       "      },\n",
       "      function(Bokeh) {\n",
       "      }\n",
       "    ];\n",
       "  \n",
       "    function run_inline_js() {\n",
       "      \n",
       "      if ((window.Bokeh !== undefined) || (force === true)) {\n",
       "        for (var i = 0; i < inline_js.length; i++) {\n",
       "          inline_js[i](window.Bokeh);\n",
       "        }if (force === true) {\n",
       "          display_loaded();\n",
       "        }} else if (Date.now() < window._bokeh_timeout) {\n",
       "        setTimeout(run_inline_js, 100);\n",
       "      } else if (!window._bokeh_failed_load) {\n",
       "        console.log(\"Bokeh: BokehJS failed to load within specified timeout.\");\n",
       "        window._bokeh_failed_load = true;\n",
       "      } else if (force !== true) {\n",
       "        var cell = $(document.getElementById(\"c5e078e5-d994-487c-ac73-d9031de6748f\")).parents('.cell').data().cell;\n",
       "        cell.output_area.append_execute_result(NB_LOAD_WARNING)\n",
       "      }\n",
       "  \n",
       "    }\n",
       "  \n",
       "    if (window._bokeh_is_loading === 0) {\n",
       "      console.log(\"Bokeh: BokehJS loaded, going straight to plotting\");\n",
       "      run_inline_js();\n",
       "    } else {\n",
       "      load_libs(js_urls, function() {\n",
       "        console.log(\"Bokeh: BokehJS plotting callback run at\", now());\n",
       "        run_inline_js();\n",
       "      });\n",
       "    }\n",
       "  }(this));\n",
       "</script>"
      ]
     },
     "metadata": {},
     "output_type": "display_data"
    }
   ],
   "source": [
    "p = figure(title=\"Sine Example\")\n",
    "p.line(x, y)\n",
    "show(p)"
   ]
  },
  {
   "cell_type": "markdown",
   "metadata": {
    "collapsed": true
   },
   "source": [
    "That's cool.  Now let's get back to something we tried earlier.  Remember that expression `y = x**2 - 3*x + 12` ?  In algebra, that's actually a function.  In Python (and just about every other language) we have the concept of functions as well.  The keyword `def` is used the *def*ine a function in Python:"
   ]
  },
  {
   "cell_type": "code",
   "execution_count": 13,
   "metadata": {
    "collapsed": true
   },
   "outputs": [],
   "source": [
    "def f(x):\n",
    "    return x**2 - 3*x + 12"
   ]
  },
  {
   "cell_type": "markdown",
   "metadata": {},
   "source": [
    "So, now you can evaluate the function by handing it a value, or *parameter* (in this case, we've called it `x`)."
   ]
  },
  {
   "cell_type": "code",
   "execution_count": 14,
   "metadata": {},
   "outputs": [
    {
     "data": {
      "text/plain": [
       "12"
      ]
     },
     "execution_count": 14,
     "metadata": {},
     "output_type": "execute_result"
    }
   ],
   "source": [
    "f(3)"
   ]
  },
  {
   "cell_type": "markdown",
   "metadata": {},
   "source": [
    "So earlier, we assigned the value [0.0, 0.01, 0.02 ...] to the symbol `x`.  (I'm starting to use the more official names for things here.)  What happens if we pass that symbol into the function `f`?"
   ]
  },
  {
   "cell_type": "code",
   "execution_count": 15,
   "metadata": {},
   "outputs": [
    {
     "name": "stdout",
     "output_type": "stream",
     "text": [
      "[ 0.    0.01  0.02  0.03  0.04]\n"
     ]
    }
   ],
   "source": [
    "print x[:5]  # just to be clear that in the scope of this notebook, the symbol x is defined"
   ]
  },
  {
   "cell_type": "code",
   "execution_count": 16,
   "metadata": {},
   "outputs": [
    {
     "name": "stdout",
     "output_type": "stream",
     "text": [
      "[ 12.      11.9701  11.9404  11.9109  11.8816]\n"
     ]
    }
   ],
   "source": [
    "print f(x)[:5]  # only show the first 5 entries"
   ]
  },
  {
   "cell_type": "markdown",
   "metadata": {},
   "source": [
    " %% **boom** %%   Mind.  Blown.\n",
    " \n",
    " So, I'm dying to see what this looks like:"
   ]
  },
  {
   "cell_type": "code",
   "execution_count": 17,
   "metadata": {},
   "outputs": [
    {
     "data": {
      "text/html": [
       "\n",
       "\n",
       "    <div class=\"bk-root\">\n",
       "        <div class=\"bk-plotdiv\" id=\"e41f8ce5-99d6-4917-b9b5-299a7fbb6113\"></div>\n",
       "    </div>\n",
       "<script type=\"text/javascript\">\n",
       "  \n",
       "  (function(global) {\n",
       "    function now() {\n",
       "      return new Date();\n",
       "    }\n",
       "  \n",
       "    var force = false;\n",
       "  \n",
       "    if (typeof (window._bokeh_onload_callbacks) === \"undefined\" || force === true) {\n",
       "      window._bokeh_onload_callbacks = [];\n",
       "      window._bokeh_is_loading = undefined;\n",
       "    }\n",
       "  \n",
       "  \n",
       "    \n",
       "    if (typeof (window._bokeh_timeout) === \"undefined\" || force === true) {\n",
       "      window._bokeh_timeout = Date.now() + 0;\n",
       "      window._bokeh_failed_load = false;\n",
       "    }\n",
       "  \n",
       "    var NB_LOAD_WARNING = {'data': {'text/html':\n",
       "       \"<div style='background-color: #fdd'>\\n\"+\n",
       "       \"<p>\\n\"+\n",
       "       \"BokehJS does not appear to have successfully loaded. If loading BokehJS from CDN, this \\n\"+\n",
       "       \"may be due to a slow or bad network connection. Possible fixes:\\n\"+\n",
       "       \"</p>\\n\"+\n",
       "       \"<ul>\\n\"+\n",
       "       \"<li>re-rerun `output_notebook()` to attempt to load from CDN again, or</li>\\n\"+\n",
       "       \"<li>use INLINE resources instead, as so:</li>\\n\"+\n",
       "       \"</ul>\\n\"+\n",
       "       \"<code>\\n\"+\n",
       "       \"from bokeh.resources import INLINE\\n\"+\n",
       "       \"output_notebook(resources=INLINE)\\n\"+\n",
       "       \"</code>\\n\"+\n",
       "       \"</div>\"}};\n",
       "  \n",
       "    function display_loaded() {\n",
       "      if (window.Bokeh !== undefined) {\n",
       "        var el = document.getElementById(\"e41f8ce5-99d6-4917-b9b5-299a7fbb6113\");\n",
       "        el.textContent = \"BokehJS \" + Bokeh.version + \" successfully loaded.\";\n",
       "      } else if (Date.now() < window._bokeh_timeout) {\n",
       "        setTimeout(display_loaded, 100)\n",
       "      }\n",
       "    }\n",
       "  \n",
       "    function run_callbacks() {\n",
       "      try {\n",
       "        window._bokeh_onload_callbacks.forEach(function(callback) { callback() });\n",
       "      }\n",
       "      finally {\n",
       "        delete window._bokeh_onload_callbacks\n",
       "      }\n",
       "      console.info(\"Bokeh: all callbacks have finished\");\n",
       "    }\n",
       "  \n",
       "    function load_libs(js_urls, callback) {\n",
       "      window._bokeh_onload_callbacks.push(callback);\n",
       "      if (window._bokeh_is_loading > 0) {\n",
       "        console.log(\"Bokeh: BokehJS is being loaded, scheduling callback at\", now());\n",
       "        return null;\n",
       "      }\n",
       "      if (js_urls == null || js_urls.length === 0) {\n",
       "        run_callbacks();\n",
       "        return null;\n",
       "      }\n",
       "      console.log(\"Bokeh: BokehJS not loaded, scheduling load and callback at\", now());\n",
       "      window._bokeh_is_loading = js_urls.length;\n",
       "      for (var i = 0; i < js_urls.length; i++) {\n",
       "        var url = js_urls[i];\n",
       "        var s = document.createElement('script');\n",
       "        s.src = url;\n",
       "        s.async = false;\n",
       "        s.onreadystatechange = s.onload = function() {\n",
       "          window._bokeh_is_loading--;\n",
       "          if (window._bokeh_is_loading === 0) {\n",
       "            console.log(\"Bokeh: all BokehJS libraries loaded\");\n",
       "            run_callbacks()\n",
       "          }\n",
       "        };\n",
       "        s.onerror = function() {\n",
       "          console.warn(\"failed to load library \" + url);\n",
       "        };\n",
       "        console.log(\"Bokeh: injecting script tag for BokehJS library: \", url);\n",
       "        document.getElementsByTagName(\"head\")[0].appendChild(s);\n",
       "      }\n",
       "    };var element = document.getElementById(\"e41f8ce5-99d6-4917-b9b5-299a7fbb6113\");\n",
       "    if (element == null) {\n",
       "      console.log(\"Bokeh: ERROR: autoload.js configured with elementid 'e41f8ce5-99d6-4917-b9b5-299a7fbb6113' but no matching script tag was found. \")\n",
       "      return false;\n",
       "    }\n",
       "  \n",
       "    var js_urls = [];\n",
       "  \n",
       "    var inline_js = [\n",
       "      function(Bokeh) {\n",
       "        (function() {\n",
       "          var fn = function() {\n",
       "            var docs_json = {\"0c715094-aa88-4ca4-a262-cd0682f7cafa\":{\"roots\":{\"references\":[{\"attributes\":{\"plot\":{\"id\":\"efbd8861-cfcd-401b-8d62-98089fd3eb8b\",\"subtype\":\"Figure\",\"type\":\"Plot\"}},\"id\":\"949e3775-b4cb-47b1-8528-18609c5e5821\",\"type\":\"SaveTool\"},{\"attributes\":{\"plot\":null,\"text\":\"\"},\"id\":\"886ebf53-b187-40c6-95b9-e1004efddce9\",\"type\":\"Title\"},{\"attributes\":{\"formatter\":{\"id\":\"bdc2f68b-4040-4dfb-a785-e9e6e73be438\",\"type\":\"BasicTickFormatter\"},\"plot\":{\"id\":\"efbd8861-cfcd-401b-8d62-98089fd3eb8b\",\"subtype\":\"Figure\",\"type\":\"Plot\"},\"ticker\":{\"id\":\"28609817-ed17-46d6-890d-067d12603743\",\"type\":\"BasicTicker\"}},\"id\":\"bf6bcf7a-f2a0-400e-b5aa-b7be18094da1\",\"type\":\"LinearAxis\"},{\"attributes\":{\"active_drag\":\"auto\",\"active_inspect\":\"auto\",\"active_scroll\":\"auto\",\"active_tap\":\"auto\",\"tools\":[{\"id\":\"8cf3fe85-87e4-4383-bba4-b5da400383c1\",\"type\":\"PanTool\"},{\"id\":\"fb82125d-77a5-4d5c-b41e-52076c5baad2\",\"type\":\"WheelZoomTool\"},{\"id\":\"c3eec818-5d86-4656-9a72-ceeb2f49f4fa\",\"type\":\"BoxZoomTool\"},{\"id\":\"949e3775-b4cb-47b1-8528-18609c5e5821\",\"type\":\"SaveTool\"},{\"id\":\"2045cf16-e4c9-4ee4-be42-018a741cec50\",\"type\":\"ResetTool\"},{\"id\":\"e7eb2548-ce58-4950-8ee1-6fe736048bfe\",\"type\":\"HelpTool\"}]},\"id\":\"a8a27b1d-38bd-4cbb-9e15-07b0c5244b48\",\"type\":\"Toolbar\"},{\"attributes\":{\"plot\":{\"id\":\"efbd8861-cfcd-401b-8d62-98089fd3eb8b\",\"subtype\":\"Figure\",\"type\":\"Plot\"}},\"id\":\"2045cf16-e4c9-4ee4-be42-018a741cec50\",\"type\":\"ResetTool\"},{\"attributes\":{},\"id\":\"28ec0fdb-d119-4825-ad82-111d82baf310\",\"type\":\"BasicTicker\"},{\"attributes\":{\"plot\":{\"id\":\"efbd8861-cfcd-401b-8d62-98089fd3eb8b\",\"subtype\":\"Figure\",\"type\":\"Plot\"},\"ticker\":{\"id\":\"28609817-ed17-46d6-890d-067d12603743\",\"type\":\"BasicTicker\"}},\"id\":\"0f44ef14-4884-426c-a101-4100717c4b96\",\"type\":\"Grid\"},{\"attributes\":{},\"id\":\"3e8547f9-1598-4ff2-8e9a-5c478e58dd55\",\"type\":\"ToolEvents\"},{\"attributes\":{\"callback\":null},\"id\":\"933fc4cd-d9cb-4496-b8e3-6a134af8d1ec\",\"type\":\"DataRange1d\"},{\"attributes\":{\"below\":[{\"id\":\"bf6bcf7a-f2a0-400e-b5aa-b7be18094da1\",\"type\":\"LinearAxis\"}],\"left\":[{\"id\":\"9e428dc4-8109-412f-8809-4ade06b39587\",\"type\":\"LinearAxis\"}],\"renderers\":[{\"id\":\"bf6bcf7a-f2a0-400e-b5aa-b7be18094da1\",\"type\":\"LinearAxis\"},{\"id\":\"0f44ef14-4884-426c-a101-4100717c4b96\",\"type\":\"Grid\"},{\"id\":\"9e428dc4-8109-412f-8809-4ade06b39587\",\"type\":\"LinearAxis\"},{\"id\":\"1bd65fbc-919a-4cea-8be3-99ca1a69e21e\",\"type\":\"Grid\"},{\"id\":\"cff085a4-db9c-4346-9e2f-95e988661a51\",\"type\":\"BoxAnnotation\"},{\"id\":\"67508e18-72f7-4473-a8dc-25399a564682\",\"type\":\"GlyphRenderer\"}],\"title\":{\"id\":\"886ebf53-b187-40c6-95b9-e1004efddce9\",\"type\":\"Title\"},\"tool_events\":{\"id\":\"3e8547f9-1598-4ff2-8e9a-5c478e58dd55\",\"type\":\"ToolEvents\"},\"toolbar\":{\"id\":\"a8a27b1d-38bd-4cbb-9e15-07b0c5244b48\",\"type\":\"Toolbar\"},\"x_range\":{\"id\":\"933fc4cd-d9cb-4496-b8e3-6a134af8d1ec\",\"type\":\"DataRange1d\"},\"x_scale\":{\"id\":\"09e0424b-6aa0-4c57-998d-c0e9a35cc1aa\",\"type\":\"LinearScale\"},\"y_range\":{\"id\":\"a5ba768d-1fca-4e7e-8889-3190083fd543\",\"type\":\"DataRange1d\"},\"y_scale\":{\"id\":\"6416982d-5c87-432f-b162-81fd6c4a076a\",\"type\":\"LinearScale\"}},\"id\":\"efbd8861-cfcd-401b-8d62-98089fd3eb8b\",\"subtype\":\"Figure\",\"type\":\"Plot\"},{\"attributes\":{\"data_source\":{\"id\":\"8bf9e0fd-4111-469f-9562-1c511314c2be\",\"type\":\"ColumnDataSource\"},\"glyph\":{\"id\":\"93adf0ff-496c-4341-89fe-89c406eaabc7\",\"type\":\"Line\"},\"hover_glyph\":null,\"muted_glyph\":null,\"nonselection_glyph\":{\"id\":\"3a31dac7-bdac-4fe1-bc09-ce597353632d\",\"type\":\"Line\"},\"selection_glyph\":null},\"id\":\"67508e18-72f7-4473-a8dc-25399a564682\",\"type\":\"GlyphRenderer\"},{\"attributes\":{\"callback\":null},\"id\":\"a5ba768d-1fca-4e7e-8889-3190083fd543\",\"type\":\"DataRange1d\"},{\"attributes\":{\"plot\":{\"id\":\"efbd8861-cfcd-401b-8d62-98089fd3eb8b\",\"subtype\":\"Figure\",\"type\":\"Plot\"}},\"id\":\"e7eb2548-ce58-4950-8ee1-6fe736048bfe\",\"type\":\"HelpTool\"},{\"attributes\":{},\"id\":\"6416982d-5c87-432f-b162-81fd6c4a076a\",\"type\":\"LinearScale\"},{\"attributes\":{\"dimension\":1,\"plot\":{\"id\":\"efbd8861-cfcd-401b-8d62-98089fd3eb8b\",\"subtype\":\"Figure\",\"type\":\"Plot\"},\"ticker\":{\"id\":\"28ec0fdb-d119-4825-ad82-111d82baf310\",\"type\":\"BasicTicker\"}},\"id\":\"1bd65fbc-919a-4cea-8be3-99ca1a69e21e\",\"type\":\"Grid\"},{\"attributes\":{\"plot\":{\"id\":\"efbd8861-cfcd-401b-8d62-98089fd3eb8b\",\"subtype\":\"Figure\",\"type\":\"Plot\"}},\"id\":\"fb82125d-77a5-4d5c-b41e-52076c5baad2\",\"type\":\"WheelZoomTool\"},{\"attributes\":{},\"id\":\"55713a60-23bc-4cc8-98f9-5a2a5ee360bf\",\"type\":\"BasicTickFormatter\"},{\"attributes\":{\"line_color\":{\"value\":\"#1f77b4\"},\"x\":{\"field\":\"x\"},\"y\":{\"field\":\"y\"}},\"id\":\"93adf0ff-496c-4341-89fe-89c406eaabc7\",\"type\":\"Line\"},{\"attributes\":{},\"id\":\"28609817-ed17-46d6-890d-067d12603743\",\"type\":\"BasicTicker\"},{\"attributes\":{\"overlay\":{\"id\":\"cff085a4-db9c-4346-9e2f-95e988661a51\",\"type\":\"BoxAnnotation\"},\"plot\":{\"id\":\"efbd8861-cfcd-401b-8d62-98089fd3eb8b\",\"subtype\":\"Figure\",\"type\":\"Plot\"}},\"id\":\"c3eec818-5d86-4656-9a72-ceeb2f49f4fa\",\"type\":\"BoxZoomTool\"},{\"attributes\":{\"line_alpha\":{\"value\":0.1},\"line_color\":{\"value\":\"#1f77b4\"},\"x\":{\"field\":\"x\"},\"y\":{\"field\":\"y\"}},\"id\":\"3a31dac7-bdac-4fe1-bc09-ce597353632d\",\"type\":\"Line\"},{\"attributes\":{\"bottom_units\":\"screen\",\"fill_alpha\":{\"value\":0.5},\"fill_color\":{\"value\":\"lightgrey\"},\"left_units\":\"screen\",\"level\":\"overlay\",\"line_alpha\":{\"value\":1.0},\"line_color\":{\"value\":\"black\"},\"line_dash\":[4,4],\"line_width\":{\"value\":2},\"plot\":null,\"render_mode\":\"css\",\"right_units\":\"screen\",\"top_units\":\"screen\"},\"id\":\"cff085a4-db9c-4346-9e2f-95e988661a51\",\"type\":\"BoxAnnotation\"},{\"attributes\":{\"plot\":{\"id\":\"efbd8861-cfcd-401b-8d62-98089fd3eb8b\",\"subtype\":\"Figure\",\"type\":\"Plot\"}},\"id\":\"8cf3fe85-87e4-4383-bba4-b5da400383c1\",\"type\":\"PanTool\"},{\"attributes\":{},\"id\":\"09e0424b-6aa0-4c57-998d-c0e9a35cc1aa\",\"type\":\"LinearScale\"},{\"attributes\":{},\"id\":\"bdc2f68b-4040-4dfb-a785-e9e6e73be438\",\"type\":\"BasicTickFormatter\"},{\"attributes\":{\"formatter\":{\"id\":\"55713a60-23bc-4cc8-98f9-5a2a5ee360bf\",\"type\":\"BasicTickFormatter\"},\"plot\":{\"id\":\"efbd8861-cfcd-401b-8d62-98089fd3eb8b\",\"subtype\":\"Figure\",\"type\":\"Plot\"},\"ticker\":{\"id\":\"28ec0fdb-d119-4825-ad82-111d82baf310\",\"type\":\"BasicTicker\"}},\"id\":\"9e428dc4-8109-412f-8809-4ade06b39587\",\"type\":\"LinearAxis\"},{\"attributes\":{\"callback\":null,\"column_names\":[\"y\",\"x\"],\"data\":{\"x\":{\"__ndarray__\":\"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\",\"dtype\":\"float64\",\"shape\":[629]},\"y\":{\"__ndarray__\":\"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\",\"dtype\":\"float64\",\"shape\":[629]}}},\"id\":\"8bf9e0fd-4111-469f-9562-1c511314c2be\",\"type\":\"ColumnDataSource\"}],\"root_ids\":[\"efbd8861-cfcd-401b-8d62-98089fd3eb8b\"]},\"title\":\"Bokeh Application\",\"version\":\"0.12.6\"}};\n",
       "            var render_items = [{\"docid\":\"0c715094-aa88-4ca4-a262-cd0682f7cafa\",\"elementid\":\"e41f8ce5-99d6-4917-b9b5-299a7fbb6113\",\"modelid\":\"efbd8861-cfcd-401b-8d62-98089fd3eb8b\"}];\n",
       "            \n",
       "            Bokeh.embed.embed_items(docs_json, render_items);\n",
       "          };\n",
       "          if (document.readyState != \"loading\") fn();\n",
       "          else document.addEventListener(\"DOMContentLoaded\", fn);\n",
       "        })();\n",
       "      },\n",
       "      function(Bokeh) {\n",
       "      }\n",
       "    ];\n",
       "  \n",
       "    function run_inline_js() {\n",
       "      \n",
       "      if ((window.Bokeh !== undefined) || (force === true)) {\n",
       "        for (var i = 0; i < inline_js.length; i++) {\n",
       "          inline_js[i](window.Bokeh);\n",
       "        }if (force === true) {\n",
       "          display_loaded();\n",
       "        }} else if (Date.now() < window._bokeh_timeout) {\n",
       "        setTimeout(run_inline_js, 100);\n",
       "      } else if (!window._bokeh_failed_load) {\n",
       "        console.log(\"Bokeh: BokehJS failed to load within specified timeout.\");\n",
       "        window._bokeh_failed_load = true;\n",
       "      } else if (force !== true) {\n",
       "        var cell = $(document.getElementById(\"e41f8ce5-99d6-4917-b9b5-299a7fbb6113\")).parents('.cell').data().cell;\n",
       "        cell.output_area.append_execute_result(NB_LOAD_WARNING)\n",
       "      }\n",
       "  \n",
       "    }\n",
       "  \n",
       "    if (window._bokeh_is_loading === 0) {\n",
       "      console.log(\"Bokeh: BokehJS loaded, going straight to plotting\");\n",
       "      run_inline_js();\n",
       "    } else {\n",
       "      load_libs(js_urls, function() {\n",
       "        console.log(\"Bokeh: BokehJS plotting callback run at\", now());\n",
       "        run_inline_js();\n",
       "      });\n",
       "    }\n",
       "  }(this));\n",
       "</script>"
      ]
     },
     "metadata": {},
     "output_type": "display_data"
    }
   ],
   "source": [
    "p2 = figure()\n",
    "p2.line(x, f(x))\n",
    "p2_nbh = show(p2)"
   ]
  },
  {
   "cell_type": "markdown",
   "metadata": {},
   "source": [
    "This is pretty math-y, what else can functions do?\n",
    "\n",
    "Well, they can do anything you tell them..."
   ]
  },
  {
   "cell_type": "code",
   "execution_count": 18,
   "metadata": {
    "collapsed": true
   },
   "outputs": [],
   "source": [
    "import random\n",
    "def headache(name, number_of_repeats=5):\n",
    "    \"\"\" a pretty useless function \"\"\"\n",
    "    namelist = list(name)\n",
    "    for i in range(0, number_of_repeats):\n",
    "        random.shuffle(namelist)\n",
    "        for letter in namelist:\n",
    "            print letter, "
   ]
  },
  {
   "cell_type": "code",
   "execution_count": 19,
   "metadata": {},
   "outputs": [
    {
     "name": "stdout",
     "output_type": "stream",
     "text": [
      "s v r i a t r i a s t v t r i v a s v a t s i r s r i a v t i s a t v r i a v t r s t s r a v i v t r s i a s i t r v a r t s v a i i s t r v a t r s i a v a s r i t v a v i s t r a v t r i s r a v t s i i r t s a v a i r v s t v s t a i r i s r t v a r t s v i a r t s a i v i a s v t r t s i r a v v a s t r i i v a t r s s r v t i a v a s t i r v t s a r i v a r i s t s a i v r t v i r t a s i s v t r a a v t s i r s i v a r t a v r i t s s t r a i v a i s t v r s t i a r v\n"
     ]
    }
   ],
   "source": [
    "headache(\"travis\", 40)"
   ]
  },
  {
   "cell_type": "code",
   "execution_count": null,
   "metadata": {
    "collapsed": true
   },
   "outputs": [],
   "source": []
  }
 ],
 "metadata": {
  "kernelspec": {
   "display_name": "Python 3",
   "language": "python",
   "name": "python3"
  },
  "language_info": {
   "codemirror_mode": {
    "name": "ipython",
    "version": 3
   },
   "file_extension": ".py",
   "mimetype": "text/x-python",
   "name": "python",
   "nbconvert_exporter": "python",
   "pygments_lexer": "ipython3",
   "version": "3.6.5"
  }
 },
 "nbformat": 4,
 "nbformat_minor": 1
}
