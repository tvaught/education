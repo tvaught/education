{
 "cells": [
  {
   "cell_type": "markdown",
   "metadata": {},
   "source": [
    "Dance Card Example\n",
    "==================\n",
    "Given a list of gentlemen and ladies, produce a list of partners for 8 dances for each of the dancers.\n"
   ]
  },
  {
   "cell_type": "markdown",
   "metadata": {
    "collapsed": true
   },
   "source": [
    "<img src=\"img/cotillion2014.jpg\">"
   ]
  },
  {
   "cell_type": "markdown",
   "metadata": {},
   "source": [
    "Approach\n",
    "--------\n",
    "Use a simple random assortment, and rotate the list for each of the 8 dances."
   ]
  },
  {
   "cell_type": "code",
   "execution_count": 1,
   "metadata": {},
   "outputs": [],
   "source": [
    "# comments are preceeded by a pound sign (this line is a comment)\n",
    "# a python list is surrounded by backets, [ ], and is separated by commas\n",
    "# manually assign the gentlemen's names:\n",
    "gentlemen = [\n",
    "    \"Barthel, Valen\",\n",
    "    \"Boynton, Seby\",\n",
    "    \"Carr, Walter\",\n",
    "    \"Cloutier, Caleb\",\n",
    "    \"Cone, Walker\",\n",
    "    \"Cooper, Carson\",\n",
    "    \"Crafron, Linden\",\n",
    "    \"Cress, Sam\",\n",
    "    \"Davenport, Parker\",\n",
    "    \"Dennis, Josh\",\n",
    "    \"Donnell, Greyson\",\n",
    "    \"Elizondo, Ford\",\n",
    "    \"Fikes, Esan\",\n",
    "    \"FitzGerald, K.P.\",\n",
    "    \"George, Shawn\",\n",
    "    \"Gordon, Philip\",\n",
    "    \"Landis, Hayden\",\n",
    "    \"LeBorne, John\",\n",
    "    \"Malouf, Tino\",\n",
    "    \"Martin, Jacob\",\n",
    "    \"Menn, Cannon\",\n",
    "    \"Muck, Will\",\n",
    "    \"Nowosiwsky, Nick\",\n",
    "    \"Plesko, Jake\",\n",
    "    \"Rabinowitz, Josh\",\n",
    "    \"Riddle, Caleb\",\n",
    "    \"Roberson, Grant\",\n",
    "    \"Syamken, Stephen\",\n",
    "    \"Taylor, Jack\",\n",
    "    \"Turlan, Bruno\",\n",
    "    \"Valdez, Luke\",\n",
    "    \"Viot, Andrew\",\n",
    "    \"Ward, Sol\",\n",
    "    \"Yarbrough, Christian\"]"
   ]
  },
  {
   "cell_type": "code",
   "execution_count": null,
   "metadata": {},
   "outputs": [],
   "source": []
  },
  {
   "cell_type": "code",
   "execution_count": 2,
   "metadata": {},
   "outputs": [],
   "source": [
    "import random\n",
    "import collections"
   ]
  },
  {
   "cell_type": "code",
   "execution_count": 2,
   "metadata": {},
   "outputs": [],
   "source": [
    "# a list of ladies:\n",
    "ladies = [\n",
    "    \"Bussey,Alexandria\",\n",
    "    \"Cates,Kenzie\",\n",
    "    \"Chisholm,Maggie\",\n",
    "    \"Coultress,Claire\",\n",
    "    \"Coultress,Emily\",\n",
    "    \"Curtis,Cammy\",\n",
    "    \"De Luna,Bethany\",\n",
    "    \"Doran,Alex\",\n",
    "    \"Godoy,Ava\",\n",
    "    \"Griffey,Sofia\",\n",
    "    \"Hammock,Sophia\",\n",
    "    \"Havranek,Alex\",\n",
    "    \"Heinen,Hayle\",\n",
    "    \"Jamison,Macy\",\n",
    "    \"Kaiser,Lilly\",\n",
    "    \"Kirchner,Hailey\",\n",
    "    \"Moreno,Nina\",\n",
    "    \"Morgan,Olivia\",\n",
    "    \"Sisam,Emily\",\n",
    "    \"Sorrells,Ella\",\n",
    "    \"Swientek,Lauren\",\n",
    "    \"Taylor,Murphy Grace\",\n",
    "    \"Travis,Kate\",\n",
    "    \"Lee,Lindsey\",\n",
    "    \"Nilsson,Susanna\",\n",
    "    \"Eggerss,Avery\",\n",
    "    \"Dacy,Sophia\",\n",
    "    \"Turnbow,Sydney\",\n",
    "    \"Flores,Juliana\",\n",
    "    \"Quitadamo,Danie\",\n",
    "    \"Taylor,Carlie\",\n",
    "    \"Arnold,Mattie Sue\",\n",
    "    \"Ledoux,Ellie\",\n",
    "    \"Ayers,Ava\"]"
   ]
  },
  {
   "cell_type": "code",
   "execution_count": 3,
   "metadata": {},
   "outputs": [
    {
     "data": {
      "text/plain": [
       "(34, 34)"
      ]
     },
     "execution_count": 3,
     "metadata": {},
     "output_type": "execute_result"
    }
   ],
   "source": [
    "len(ladies), len(gentlemen) # let's see if they are the same length..."
   ]
  },
  {
   "cell_type": "raw",
   "metadata": {},
   "source": [
    "So, now that we have our lists, let's reverse the last and first names for better alphabetizing ..."
   ]
  },
  {
   "cell_type": "code",
   "execution_count": 4,
   "metadata": {},
   "outputs": [],
   "source": [
    "# Python provides an intuitive way to loop over a list...\n",
    "#gentlemen_last_first = [] # create an empty list\n",
    "#for man in gentlemen:  # A loop ... this is actually an extremely powerful concept\n",
    "#    first, last = man.split(\" \") # indentation indicates a 'code block.' Whitespace is important in Python\n",
    "#    gentlemen_last_first.append(\"{0}, {1}\".format(last, first)) # wait, what's going on here? ... string formatting"
   ]
  },
  {
   "cell_type": "code",
   "execution_count": null,
   "metadata": {
    "collapsed": true
   },
   "outputs": [],
   "source": [
    "# Python provides an intuitive way to loop over a list...\n",
    "#ladies_last_first = [] # create an empty list\n",
    "#for lady in ladies:  # A loop ... this is actually an extremely powerful concept\n",
    "#    first, last = lady.split(\" \") # indentation indicates a 'code block.' Whitespace is important in Python\n",
    "#    ladies_last_first.append(\"{0}, {1}\".format(last, first))"
   ]
  },
  {
   "cell_type": "markdown",
   "metadata": {},
   "source": [
    "**NB:** There is a thourough introduction to string formatting at the excellent [dive into python] page.  Among other things, it explains that in the above string \"{0}, {1}\", the curly brackets and numbers (0 and 1) are just placeholders whose values are replaced by the arguments of the format method that is called on the string.\n",
    "\n",
    "[dive into python]: http://www.diveintopython3.net/strings.html"
   ]
  },
  {
   "cell_type": "code",
   "execution_count": 11,
   "metadata": {},
   "outputs": [],
   "source": [
    "gentlemen_last_first = gentlemen\n",
    "ladies_last_first = [name.replace(\",\", \", \") for name in ladies]"
   ]
  },
  {
   "cell_type": "code",
   "execution_count": 12,
   "metadata": {},
   "outputs": [
    {
     "data": {
      "text/plain": [
       "['Bussey, Alexandria',\n",
       " 'Cates, Kenzie',\n",
       " 'Chisholm, Maggie',\n",
       " 'Coultress, Claire',\n",
       " 'Coultress, Emily',\n",
       " 'Curtis, Cammy',\n",
       " 'De Luna, Bethany',\n",
       " 'Doran, Alex',\n",
       " 'Godoy, Ava',\n",
       " 'Griffey, Sofia',\n",
       " 'Hammock, Sophia',\n",
       " 'Havranek, Alex',\n",
       " 'Heinen, Hayle',\n",
       " 'Jamison, Macy',\n",
       " 'Kaiser, Lilly',\n",
       " 'Kirchner, Hailey',\n",
       " 'Moreno, Nina',\n",
       " 'Morgan, Olivia',\n",
       " 'Sisam, Emily',\n",
       " 'Sorrells, Ella',\n",
       " 'Swientek, Lauren',\n",
       " 'Taylor, Murphy Grace',\n",
       " 'Travis, Kate',\n",
       " 'Lee, Lindsey',\n",
       " 'Nilsson, Susanna',\n",
       " 'Eggerss, Avery',\n",
       " 'Dacy, Sophia',\n",
       " 'Turnbow, Sydney',\n",
       " 'Flores, Juliana',\n",
       " 'Quitadamo, Danie',\n",
       " 'Taylor, Carlie',\n",
       " 'Arnold, Mattie Sue',\n",
       " 'Ledoux, Ellie',\n",
       " 'Ayers, Ava']"
      ]
     },
     "execution_count": 12,
     "metadata": {},
     "output_type": "execute_result"
    }
   ],
   "source": [
    "ladies_last_first"
   ]
  },
  {
   "cell_type": "code",
   "execution_count": 13,
   "metadata": {},
   "outputs": [],
   "source": [
    "gentlemen_last_first.sort()\n",
    "ladies_last_first.sort()"
   ]
  },
  {
   "cell_type": "code",
   "execution_count": null,
   "metadata": {},
   "outputs": [],
   "source": [
    "ladies_last_first"
   ]
  },
  {
   "cell_type": "code",
   "execution_count": 14,
   "metadata": {},
   "outputs": [],
   "source": [
    "import random # let's bring in some code from the random built-in library of python"
   ]
  },
  {
   "cell_type": "code",
   "execution_count": 27,
   "metadata": {},
   "outputs": [],
   "source": [
    "random.shuffle(ladies_last_first)\n",
    "random.shuffle(gentlemen_last_first)"
   ]
  },
  {
   "cell_type": "code",
   "execution_count": 28,
   "metadata": {},
   "outputs": [
    {
     "data": {
      "text/plain": [
       "['Hammock, Sophia',\n",
       " 'Quitadamo, Danie',\n",
       " 'Coultress, Emily',\n",
       " 'Eggerss, Avery',\n",
       " 'Cates, Kenzie',\n",
       " 'Travis, Kate',\n",
       " 'Doran, Alex',\n",
       " 'Taylor, Carlie',\n",
       " 'Arnold, Mattie Sue',\n",
       " 'Jamison, Macy',\n",
       " 'Coultress, Claire',\n",
       " 'Ayers, Ava',\n",
       " 'Ledoux, Ellie',\n",
       " 'Curtis, Cammy',\n",
       " 'Chisholm, Maggie',\n",
       " 'Swientek, Lauren',\n",
       " 'Moreno, Nina',\n",
       " 'Taylor, Murphy Grace',\n",
       " 'Flores, Juliana',\n",
       " 'Kaiser, Lilly',\n",
       " 'Kirchner, Hailey',\n",
       " 'Turnbow, Sydney',\n",
       " 'Godoy, Ava',\n",
       " 'Havranek, Alex',\n",
       " 'Lee, Lindsey',\n",
       " 'Sisam, Emily',\n",
       " 'Bussey, Alexandria',\n",
       " 'De Luna, Bethany',\n",
       " 'Sorrells, Ella',\n",
       " 'Nilsson, Susanna',\n",
       " 'Griffey, Sofia',\n",
       " 'Heinen, Hayle',\n",
       " 'Morgan, Olivia',\n",
       " 'Dacy, Sophia']"
      ]
     },
     "execution_count": 28,
     "metadata": {},
     "output_type": "execute_result"
    }
   ],
   "source": [
    "ladies_last_first"
   ]
  },
  {
   "cell_type": "code",
   "execution_count": 29,
   "metadata": {},
   "outputs": [],
   "source": [
    "dances = [\"mix\", \"mix\", \"mix\", \"mix\", \"mix\", \"mix\", \"mix\"] # the list of dances\n",
    "\n",
    "# initialize data structures\n",
    "gentlemen_dances = {}\n",
    "ladies_dances = {}\n",
    "\n",
    "for man in gentlemen_last_first:\n",
    "    gentlemen_dances[man] = []\n",
    "for lady in ladies_last_first:\n",
    "    ladies_dances[lady] = []\n",
    "\n",
    "for dance in dances:\n",
    "    #print \"#####\", dance, \"########\"\n",
    "    count = 0\n",
    "    for man in gentlemen_last_first:\n",
    "        if dance == \"mix\":\n",
    "            gentlemen_dances[man].append(ladies_last_first[count])\n",
    "            ladies_dances[ladies_last_first[count]].append(man)\n",
    "            \n",
    "        else:\n",
    "            gentlemen_dances[man].append(dance)\n",
    "            ladies_dances[ladies_last_first[count]].append(dance)\n",
    "        count += 1\n",
    "    if dance == \"mix\":\n",
    "        gentlemen_last_first.insert(0, gentlemen_last_first.pop(-1))\n",
    "        "
   ]
  },
  {
   "cell_type": "code",
   "execution_count": 30,
   "metadata": {},
   "outputs": [
    {
     "data": {
      "text/plain": [
       "{'Fikes, Esan': ['Hammock, Sophia',\n",
       "  'Quitadamo, Danie',\n",
       "  'Coultress, Emily',\n",
       "  'Eggerss, Avery',\n",
       "  'Cates, Kenzie',\n",
       "  'Travis, Kate',\n",
       "  'Doran, Alex'],\n",
       " 'Barthel, Valen': ['Quitadamo, Danie',\n",
       "  'Coultress, Emily',\n",
       "  'Eggerss, Avery',\n",
       "  'Cates, Kenzie',\n",
       "  'Travis, Kate',\n",
       "  'Doran, Alex',\n",
       "  'Taylor, Carlie'],\n",
       " 'Landis, Hayden': ['Coultress, Emily',\n",
       "  'Eggerss, Avery',\n",
       "  'Cates, Kenzie',\n",
       "  'Travis, Kate',\n",
       "  'Doran, Alex',\n",
       "  'Taylor, Carlie',\n",
       "  'Arnold, Mattie Sue'],\n",
       " 'Turlan, Bruno': ['Eggerss, Avery',\n",
       "  'Cates, Kenzie',\n",
       "  'Travis, Kate',\n",
       "  'Doran, Alex',\n",
       "  'Taylor, Carlie',\n",
       "  'Arnold, Mattie Sue',\n",
       "  'Jamison, Macy'],\n",
       " 'Ward, Sol': ['Cates, Kenzie',\n",
       "  'Travis, Kate',\n",
       "  'Doran, Alex',\n",
       "  'Taylor, Carlie',\n",
       "  'Arnold, Mattie Sue',\n",
       "  'Jamison, Macy',\n",
       "  'Coultress, Claire'],\n",
       " 'Taylor, Jack': ['Travis, Kate',\n",
       "  'Doran, Alex',\n",
       "  'Taylor, Carlie',\n",
       "  'Arnold, Mattie Sue',\n",
       "  'Jamison, Macy',\n",
       "  'Coultress, Claire',\n",
       "  'Ayers, Ava'],\n",
       " 'Plesko, Jake': ['Doran, Alex',\n",
       "  'Taylor, Carlie',\n",
       "  'Arnold, Mattie Sue',\n",
       "  'Jamison, Macy',\n",
       "  'Coultress, Claire',\n",
       "  'Ayers, Ava',\n",
       "  'Ledoux, Ellie'],\n",
       " 'Syamken, Stephen': ['Taylor, Carlie',\n",
       "  'Arnold, Mattie Sue',\n",
       "  'Jamison, Macy',\n",
       "  'Coultress, Claire',\n",
       "  'Ayers, Ava',\n",
       "  'Ledoux, Ellie',\n",
       "  'Curtis, Cammy'],\n",
       " 'Boynton, Seby': ['Arnold, Mattie Sue',\n",
       "  'Jamison, Macy',\n",
       "  'Coultress, Claire',\n",
       "  'Ayers, Ava',\n",
       "  'Ledoux, Ellie',\n",
       "  'Curtis, Cammy',\n",
       "  'Chisholm, Maggie'],\n",
       " 'Roberson, Grant': ['Jamison, Macy',\n",
       "  'Coultress, Claire',\n",
       "  'Ayers, Ava',\n",
       "  'Ledoux, Ellie',\n",
       "  'Curtis, Cammy',\n",
       "  'Chisholm, Maggie',\n",
       "  'Swientek, Lauren'],\n",
       " 'FitzGerald, K.P.': ['Coultress, Claire',\n",
       "  'Ayers, Ava',\n",
       "  'Ledoux, Ellie',\n",
       "  'Curtis, Cammy',\n",
       "  'Chisholm, Maggie',\n",
       "  'Swientek, Lauren',\n",
       "  'Moreno, Nina'],\n",
       " 'Nowosiwsky, Nick': ['Ayers, Ava',\n",
       "  'Ledoux, Ellie',\n",
       "  'Curtis, Cammy',\n",
       "  'Chisholm, Maggie',\n",
       "  'Swientek, Lauren',\n",
       "  'Moreno, Nina',\n",
       "  'Taylor, Murphy Grace'],\n",
       " 'Viot, Andrew': ['Ledoux, Ellie',\n",
       "  'Curtis, Cammy',\n",
       "  'Chisholm, Maggie',\n",
       "  'Swientek, Lauren',\n",
       "  'Moreno, Nina',\n",
       "  'Taylor, Murphy Grace',\n",
       "  'Flores, Juliana'],\n",
       " 'LeBorne, John': ['Curtis, Cammy',\n",
       "  'Chisholm, Maggie',\n",
       "  'Swientek, Lauren',\n",
       "  'Moreno, Nina',\n",
       "  'Taylor, Murphy Grace',\n",
       "  'Flores, Juliana',\n",
       "  'Kaiser, Lilly'],\n",
       " 'Menn, Cannon': ['Chisholm, Maggie',\n",
       "  'Swientek, Lauren',\n",
       "  'Moreno, Nina',\n",
       "  'Taylor, Murphy Grace',\n",
       "  'Flores, Juliana',\n",
       "  'Kaiser, Lilly',\n",
       "  'Kirchner, Hailey'],\n",
       " 'Cone, Walker': ['Swientek, Lauren',\n",
       "  'Moreno, Nina',\n",
       "  'Taylor, Murphy Grace',\n",
       "  'Flores, Juliana',\n",
       "  'Kaiser, Lilly',\n",
       "  'Kirchner, Hailey',\n",
       "  'Turnbow, Sydney'],\n",
       " 'Cooper, Carson': ['Moreno, Nina',\n",
       "  'Taylor, Murphy Grace',\n",
       "  'Flores, Juliana',\n",
       "  'Kaiser, Lilly',\n",
       "  'Kirchner, Hailey',\n",
       "  'Turnbow, Sydney',\n",
       "  'Godoy, Ava'],\n",
       " 'Malouf, Tino': ['Taylor, Murphy Grace',\n",
       "  'Flores, Juliana',\n",
       "  'Kaiser, Lilly',\n",
       "  'Kirchner, Hailey',\n",
       "  'Turnbow, Sydney',\n",
       "  'Godoy, Ava',\n",
       "  'Havranek, Alex'],\n",
       " 'Yarbrough, Christian': ['Flores, Juliana',\n",
       "  'Kaiser, Lilly',\n",
       "  'Kirchner, Hailey',\n",
       "  'Turnbow, Sydney',\n",
       "  'Godoy, Ava',\n",
       "  'Havranek, Alex',\n",
       "  'Lee, Lindsey'],\n",
       " 'Donnell, Greyson': ['Kaiser, Lilly',\n",
       "  'Kirchner, Hailey',\n",
       "  'Turnbow, Sydney',\n",
       "  'Godoy, Ava',\n",
       "  'Havranek, Alex',\n",
       "  'Lee, Lindsey',\n",
       "  'Sisam, Emily'],\n",
       " 'Rabinowitz, Josh': ['Kirchner, Hailey',\n",
       "  'Turnbow, Sydney',\n",
       "  'Godoy, Ava',\n",
       "  'Havranek, Alex',\n",
       "  'Lee, Lindsey',\n",
       "  'Sisam, Emily',\n",
       "  'Bussey, Alexandria'],\n",
       " 'George, Shawn': ['Turnbow, Sydney',\n",
       "  'Godoy, Ava',\n",
       "  'Havranek, Alex',\n",
       "  'Lee, Lindsey',\n",
       "  'Sisam, Emily',\n",
       "  'Bussey, Alexandria',\n",
       "  'De Luna, Bethany'],\n",
       " 'Gordon, Philip': ['Godoy, Ava',\n",
       "  'Havranek, Alex',\n",
       "  'Lee, Lindsey',\n",
       "  'Sisam, Emily',\n",
       "  'Bussey, Alexandria',\n",
       "  'De Luna, Bethany',\n",
       "  'Sorrells, Ella'],\n",
       " 'Cress, Sam': ['Havranek, Alex',\n",
       "  'Lee, Lindsey',\n",
       "  'Sisam, Emily',\n",
       "  'Bussey, Alexandria',\n",
       "  'De Luna, Bethany',\n",
       "  'Sorrells, Ella',\n",
       "  'Nilsson, Susanna'],\n",
       " 'Martin, Jacob': ['Lee, Lindsey',\n",
       "  'Sisam, Emily',\n",
       "  'Bussey, Alexandria',\n",
       "  'De Luna, Bethany',\n",
       "  'Sorrells, Ella',\n",
       "  'Nilsson, Susanna',\n",
       "  'Griffey, Sofia'],\n",
       " 'Riddle, Caleb': ['Sisam, Emily',\n",
       "  'Bussey, Alexandria',\n",
       "  'De Luna, Bethany',\n",
       "  'Sorrells, Ella',\n",
       "  'Nilsson, Susanna',\n",
       "  'Griffey, Sofia',\n",
       "  'Heinen, Hayle'],\n",
       " 'Davenport, Parker': ['Bussey, Alexandria',\n",
       "  'De Luna, Bethany',\n",
       "  'Sorrells, Ella',\n",
       "  'Nilsson, Susanna',\n",
       "  'Griffey, Sofia',\n",
       "  'Heinen, Hayle',\n",
       "  'Morgan, Olivia'],\n",
       " 'Muck, Will': ['De Luna, Bethany',\n",
       "  'Sorrells, Ella',\n",
       "  'Nilsson, Susanna',\n",
       "  'Griffey, Sofia',\n",
       "  'Heinen, Hayle',\n",
       "  'Morgan, Olivia',\n",
       "  'Dacy, Sophia'],\n",
       " 'Valdez, Luke': ['Sorrells, Ella',\n",
       "  'Nilsson, Susanna',\n",
       "  'Griffey, Sofia',\n",
       "  'Heinen, Hayle',\n",
       "  'Morgan, Olivia',\n",
       "  'Dacy, Sophia',\n",
       "  'Hammock, Sophia'],\n",
       " 'Crafron, Linden': ['Nilsson, Susanna',\n",
       "  'Griffey, Sofia',\n",
       "  'Heinen, Hayle',\n",
       "  'Morgan, Olivia',\n",
       "  'Dacy, Sophia',\n",
       "  'Hammock, Sophia',\n",
       "  'Quitadamo, Danie'],\n",
       " 'Dennis, Josh': ['Griffey, Sofia',\n",
       "  'Heinen, Hayle',\n",
       "  'Morgan, Olivia',\n",
       "  'Dacy, Sophia',\n",
       "  'Hammock, Sophia',\n",
       "  'Quitadamo, Danie',\n",
       "  'Coultress, Emily'],\n",
       " 'Elizondo, Ford': ['Heinen, Hayle',\n",
       "  'Morgan, Olivia',\n",
       "  'Dacy, Sophia',\n",
       "  'Hammock, Sophia',\n",
       "  'Quitadamo, Danie',\n",
       "  'Coultress, Emily',\n",
       "  'Eggerss, Avery'],\n",
       " 'Cloutier, Caleb': ['Morgan, Olivia',\n",
       "  'Dacy, Sophia',\n",
       "  'Hammock, Sophia',\n",
       "  'Quitadamo, Danie',\n",
       "  'Coultress, Emily',\n",
       "  'Eggerss, Avery',\n",
       "  'Cates, Kenzie'],\n",
       " 'Carr, Walter': ['Dacy, Sophia',\n",
       "  'Hammock, Sophia',\n",
       "  'Quitadamo, Danie',\n",
       "  'Coultress, Emily',\n",
       "  'Eggerss, Avery',\n",
       "  'Cates, Kenzie',\n",
       "  'Travis, Kate']}"
      ]
     },
     "execution_count": 30,
     "metadata": {},
     "output_type": "execute_result"
    }
   ],
   "source": [
    "gentlemen_dances"
   ]
  },
  {
   "cell_type": "code",
   "execution_count": 31,
   "metadata": {},
   "outputs": [],
   "source": [
    "#save result for dudes\n",
    "gentlemen_last_first.sort()\n",
    "fh = open(\"./dancecards-gentlemen.txt\", 'w')\n",
    "for man in gentlemen_last_first:\n",
    "    fh.write(\"\".join([\"\\n~\", man, \"~\\n\"]))\n",
    "    d_cnt = 1\n",
    "    for partner in gentlemen_dances[man]:\n",
    "        fh.write(str(d_cnt) + \". \" + partner + \"\\n\")\n",
    "        d_cnt += 1\n",
    "fh.close()"
   ]
  },
  {
   "cell_type": "code",
   "execution_count": 32,
   "metadata": {},
   "outputs": [],
   "source": [
    "#save result for ladies\n",
    "ladies_last_first.sort()\n",
    "fh = open(\"./dancecards-ladies.txt\", 'w')\n",
    "for lady in ladies_last_first:\n",
    "    fh.write(\"\".join([\"\\n~\", lady, \"~\\n\"]))\n",
    "    d_cnt = 1\n",
    "    for partner in ladies_dances[lady]:\n",
    "        fh.write(str(d_cnt) + \". \" + partner + \"\\n\")\n",
    "        d_cnt += 1\n",
    "fh.close()"
   ]
  },
  {
   "cell_type": "code",
   "execution_count": null,
   "metadata": {
    "collapsed": true
   },
   "outputs": [],
   "source": []
  }
 ],
 "metadata": {
  "kernelspec": {
   "display_name": "Python 3",
   "language": "python",
   "name": "python3"
  },
  "language_info": {
   "codemirror_mode": {
    "name": "ipython",
    "version": 3
   },
   "file_extension": ".py",
   "mimetype": "text/x-python",
   "name": "python",
   "nbconvert_exporter": "python",
   "pygments_lexer": "ipython3",
   "version": "3.6.5"
  }
 },
 "nbformat": 4,
 "nbformat_minor": 1
}
